{
 "cells": [
  {
   "cell_type": "code",
   "execution_count": 1,
   "metadata": {
    "collapsed": true
   },
   "outputs": [],
   "source": [
    "import pandas as pd, numpy as np\n",
    "import importlib\n",
    "%matplotlib inline\n",
    "import matplotlib as mpl\n",
    "import matplotlib.pyplot as plt\n",
    "import seaborn as sns\n",
    "mpl.rcParams['figure.figsize'] = (12,8)"
   ]
  },
  {
   "cell_type": "code",
   "execution_count": 17,
   "metadata": {
    "collapsed": true
   },
   "outputs": [],
   "source": [
    "import sys\n",
    "sys.path.append(\"../../\")\n",
    "# Importing my helper module\n",
    "from tennis_predictor import clean_data"
   ]
  },
  {
   "cell_type": "code",
   "execution_count": 3,
   "metadata": {
    "collapsed": true
   },
   "outputs": [],
   "source": [
    "data = pd.read_csv(\"../../independant_observations.csv\", index_col=0, low_memory=False)"
   ]
  },
  {
   "cell_type": "markdown",
   "metadata": {},
   "source": [
    "# 1/ Exploratory Data Analysis Summary"
   ]
  },
  {
   "cell_type": "markdown",
   "metadata": {},
   "source": [
    "## 1.A The baseline\n",
    "The baseline could be to predict that the better ranked player will win the tennis game. This yields an accuracy of **65.68%**"
   ]
  },
  {
   "cell_type": "markdown",
   "metadata": {},
   "source": [
    "## 1.B Adding derived features"
   ]
  },
  {
   "cell_type": "markdown",
   "metadata": {},
   "source": [
    "** As a reminder the features that are provided upfront by the dataset are relatively limited: **"
   ]
  },
  {
   "cell_type": "code",
   "execution_count": 4,
   "metadata": {
    "collapsed": false
   },
   "outputs": [
    {
     "data": {
      "text/html": [
       "<div>\n",
       "<table border=\"1\" class=\"dataframe\">\n",
       "  <thead>\n",
       "    <tr style=\"text-align: right;\">\n",
       "      <th></th>\n",
       "      <th>Location</th>\n",
       "      <th>Tournament</th>\n",
       "      <th>Date</th>\n",
       "      <th>Series</th>\n",
       "      <th>Court</th>\n",
       "      <th>Surface</th>\n",
       "      <th>Round</th>\n",
       "      <th>Best of</th>\n",
       "      <th>P1_Name</th>\n",
       "      <th>P1_Rank</th>\n",
       "      <th>...</th>\n",
       "      <th>P2_Name</th>\n",
       "      <th>P2_Rank</th>\n",
       "      <th>P2_1</th>\n",
       "      <th>P2_2</th>\n",
       "      <th>P2_3</th>\n",
       "      <th>P2_4</th>\n",
       "      <th>P2_5</th>\n",
       "      <th>P2_Sets</th>\n",
       "      <th>Player1Wins</th>\n",
       "      <th>RankDiff</th>\n",
       "    </tr>\n",
       "  </thead>\n",
       "  <tbody>\n",
       "    <tr>\n",
       "      <th>14518</th>\n",
       "      <td>Adelaide</td>\n",
       "      <td>Next Generation Hardcourts</td>\n",
       "      <td>2005-01-03</td>\n",
       "      <td>International</td>\n",
       "      <td>Outdoor</td>\n",
       "      <td>Hard</td>\n",
       "      <td>1st Round</td>\n",
       "      <td>3</td>\n",
       "      <td>Saulnier C.</td>\n",
       "      <td>53.0</td>\n",
       "      <td>...</td>\n",
       "      <td>Baccanello P.</td>\n",
       "      <td>324.0</td>\n",
       "      <td>2.0</td>\n",
       "      <td>6.0</td>\n",
       "      <td>NaN</td>\n",
       "      <td>NaN</td>\n",
       "      <td>NaN</td>\n",
       "      <td>0.0</td>\n",
       "      <td>True</td>\n",
       "      <td>-271.0</td>\n",
       "    </tr>\n",
       "    <tr>\n",
       "      <th>14519</th>\n",
       "      <td>Adelaide</td>\n",
       "      <td>Next Generation Hardcourts</td>\n",
       "      <td>2005-01-03</td>\n",
       "      <td>International</td>\n",
       "      <td>Outdoor</td>\n",
       "      <td>Hard</td>\n",
       "      <td>1st Round</td>\n",
       "      <td>3</td>\n",
       "      <td>Enqvist T.</td>\n",
       "      <td>72.0</td>\n",
       "      <td>...</td>\n",
       "      <td>Sluiter R.</td>\n",
       "      <td>82.0</td>\n",
       "      <td>3.0</td>\n",
       "      <td>1.0</td>\n",
       "      <td>NaN</td>\n",
       "      <td>NaN</td>\n",
       "      <td>NaN</td>\n",
       "      <td>0.0</td>\n",
       "      <td>True</td>\n",
       "      <td>-10.0</td>\n",
       "    </tr>\n",
       "    <tr>\n",
       "      <th>14520</th>\n",
       "      <td>Adelaide</td>\n",
       "      <td>Next Generation Hardcourts</td>\n",
       "      <td>2005-01-03</td>\n",
       "      <td>International</td>\n",
       "      <td>Outdoor</td>\n",
       "      <td>Hard</td>\n",
       "      <td>1st Round</td>\n",
       "      <td>3</td>\n",
       "      <td>Melzer J.</td>\n",
       "      <td>39.0</td>\n",
       "      <td>...</td>\n",
       "      <td>Berdych T.</td>\n",
       "      <td>45.0</td>\n",
       "      <td>4.0</td>\n",
       "      <td>6.0</td>\n",
       "      <td>6.0</td>\n",
       "      <td>NaN</td>\n",
       "      <td>NaN</td>\n",
       "      <td>1.0</td>\n",
       "      <td>True</td>\n",
       "      <td>-6.0</td>\n",
       "    </tr>\n",
       "    <tr>\n",
       "      <th>14521</th>\n",
       "      <td>Adelaide</td>\n",
       "      <td>Next Generation Hardcourts</td>\n",
       "      <td>2005-01-03</td>\n",
       "      <td>International</td>\n",
       "      <td>Outdoor</td>\n",
       "      <td>Hard</td>\n",
       "      <td>1st Round</td>\n",
       "      <td>3</td>\n",
       "      <td>Rochus O.</td>\n",
       "      <td>66.0</td>\n",
       "      <td>...</td>\n",
       "      <td>Dupuis A.</td>\n",
       "      <td>79.0</td>\n",
       "      <td>3.0</td>\n",
       "      <td>6.0</td>\n",
       "      <td>1.0</td>\n",
       "      <td>NaN</td>\n",
       "      <td>NaN</td>\n",
       "      <td>1.0</td>\n",
       "      <td>True</td>\n",
       "      <td>-13.0</td>\n",
       "    </tr>\n",
       "    <tr>\n",
       "      <th>14522</th>\n",
       "      <td>Adelaide</td>\n",
       "      <td>Next Generation Hardcourts</td>\n",
       "      <td>2005-01-03</td>\n",
       "      <td>International</td>\n",
       "      <td>Outdoor</td>\n",
       "      <td>Hard</td>\n",
       "      <td>1st Round</td>\n",
       "      <td>3</td>\n",
       "      <td>Mayer F.</td>\n",
       "      <td>35.0</td>\n",
       "      <td>...</td>\n",
       "      <td>Arthurs W.</td>\n",
       "      <td>101.0</td>\n",
       "      <td>4.0</td>\n",
       "      <td>6.0</td>\n",
       "      <td>5.0</td>\n",
       "      <td>NaN</td>\n",
       "      <td>NaN</td>\n",
       "      <td>1.0</td>\n",
       "      <td>True</td>\n",
       "      <td>-66.0</td>\n",
       "    </tr>\n",
       "  </tbody>\n",
       "</table>\n",
       "<p>5 rows × 26 columns</p>\n",
       "</div>"
      ],
      "text/plain": [
       "       Location                  Tournament        Date         Series  \\\n",
       "14518  Adelaide  Next Generation Hardcourts  2005-01-03  International   \n",
       "14519  Adelaide  Next Generation Hardcourts  2005-01-03  International   \n",
       "14520  Adelaide  Next Generation Hardcourts  2005-01-03  International   \n",
       "14521  Adelaide  Next Generation Hardcourts  2005-01-03  International   \n",
       "14522  Adelaide  Next Generation Hardcourts  2005-01-03  International   \n",
       "\n",
       "         Court Surface      Round  Best of      P1_Name  P1_Rank    ...     \\\n",
       "14518  Outdoor    Hard  1st Round        3  Saulnier C.     53.0    ...      \n",
       "14519  Outdoor    Hard  1st Round        3   Enqvist T.     72.0    ...      \n",
       "14520  Outdoor    Hard  1st Round        3    Melzer J.     39.0    ...      \n",
       "14521  Outdoor    Hard  1st Round        3    Rochus O.     66.0    ...      \n",
       "14522  Outdoor    Hard  1st Round        3     Mayer F.     35.0    ...      \n",
       "\n",
       "             P2_Name  P2_Rank  P2_1  P2_2  P2_3  P2_4 P2_5  P2_Sets  \\\n",
       "14518  Baccanello P.    324.0   2.0   6.0   NaN   NaN  NaN      0.0   \n",
       "14519     Sluiter R.     82.0   3.0   1.0   NaN   NaN  NaN      0.0   \n",
       "14520     Berdych T.     45.0   4.0   6.0   6.0   NaN  NaN      1.0   \n",
       "14521      Dupuis A.     79.0   3.0   6.0   1.0   NaN  NaN      1.0   \n",
       "14522     Arthurs W.    101.0   4.0   6.0   5.0   NaN  NaN      1.0   \n",
       "\n",
       "       Player1Wins  RankDiff  \n",
       "14518         True    -271.0  \n",
       "14519         True     -10.0  \n",
       "14520         True      -6.0  \n",
       "14521         True     -13.0  \n",
       "14522         True     -66.0  \n",
       "\n",
       "[5 rows x 26 columns]"
      ]
     },
     "execution_count": 4,
     "metadata": {},
     "output_type": "execute_result"
    }
   ],
   "source": [
    "data.loc[:, [c for c in data.columns if \"__\" not in c]].head()"
   ]
  },
  {
   "cell_type": "markdown",
   "metadata": {},
   "source": [
    "We basically have the names of the players, their ranks, and various fields about the type of game:\n",
    "* The Series: \"Grand Slam\", \"ATP500\", etc.\n",
    "* The type of surface, if it is indoor or outdoor\n",
    "* Tournament name, location\n",
    "* The Round (Final, 1st Round etc.)\n",
    "I deliberately ignored the in-game statistics (eg. 6-4 6-4 6-4), as well as the various betting odds that were provided"
   ]
  },
  {
   "cell_type": "markdown",
   "metadata": {},
   "source": [
    "** As part of the EDA work, I have added some derived features that basically represent that performance of both players until that point in time **"
   ]
  },
  {
   "cell_type": "code",
   "execution_count": 5,
   "metadata": {
    "collapsed": false
   },
   "outputs": [
    {
     "data": {
      "text/plain": [
       "['P1__TOTAL__Played',\n",
       " 'P1__TOTAL__Won',\n",
       " 'P1__TOTAL__Won_1st Round',\n",
       " 'P1__TOTAL__Won_2nd Round',\n",
       " 'P1__TOTAL__Won_3rd Round',\n",
       " 'P1__TOTAL__Won_4th Round',\n",
       " 'P1__TOTAL__Won_ATP250',\n",
       " 'P1__TOTAL__Won_ATP500',\n",
       " 'P1__TOTAL__Won_Grand Slam',\n",
       " 'P1__TOTAL__Won_International',\n",
       " 'P1__TOTAL__Won_International Gold',\n",
       " 'P1__TOTAL__Won_International Series',\n",
       " 'P1__TOTAL__Won_Masters',\n",
       " 'P1__TOTAL__Won_Masters 1000',\n",
       " 'P1__TOTAL__Won_Masters Cup',\n",
       " 'P1__TOTAL__Won_Quarterfinals',\n",
       " 'P1__TOTAL__Won_Round Robin',\n",
       " 'P1__TOTAL__Won_Semifinals',\n",
       " 'P1__TOTAL__Won_The Final',\n",
       " 'P1__3M__Played',\n",
       " 'P1__3M__Won',\n",
       " 'P1__3M__Won_1st Round',\n",
       " 'P1__3M__Won_2nd Round',\n",
       " 'P1__3M__Won_3rd Round',\n",
       " 'P1__3M__Won_4th Round',\n",
       " 'P1__3M__Won_ATP250',\n",
       " 'P1__3M__Won_ATP500',\n",
       " 'P1__3M__Won_Grand Slam',\n",
       " 'P1__3M__Won_International',\n",
       " 'P1__3M__Won_International Gold',\n",
       " 'P1__3M__Won_International Series',\n",
       " 'P1__3M__Won_Masters',\n",
       " 'P1__3M__Won_Masters 1000',\n",
       " 'P1__3M__Won_Masters Cup',\n",
       " 'P1__3M__Won_Quarterfinals',\n",
       " 'P1__3M__Won_Round Robin',\n",
       " 'P1__3M__Won_Semifinals',\n",
       " 'P1__3M__Won_The Final']"
      ]
     },
     "execution_count": 5,
     "metadata": {},
     "output_type": "execute_result"
    }
   ],
   "source": [
    "P1_custom_columns = [c for c in data.columns if \"__\" in c and \"P1\" in c]\n",
    "P1_custom_columns"
   ]
  },
  {
   "cell_type": "markdown",
   "metadata": {},
   "source": [
    "For each player, we have to total number of games played and won until that point in time (to be exact until just the day before), as well as how many specific types of wins they have:\n",
    "* The number of 1st Round wins, the number of Final wins (win for each type of Round)\n",
    "* The number of Gramd Slam wins (win for each type of ATP Series)\n",
    "\n",
    "On top of the totals, those features are duplicated with an exponential moving average with a 3M half life\n",
    "\n",
    "All of those features have been **normalized** (removed mean and divided by std())"
   ]
  },
  {
   "cell_type": "markdown",
   "metadata": {},
   "source": [
    "# 2/ Choosing what features to derive in preparation for modelling"
   ]
  },
  {
   "cell_type": "markdown",
   "metadata": {},
   "source": [
    "The difficult for this problem is that most of the features used to model are custom engineered features. My first intuition was basically that:\n",
    "* The more a player wins, the more likely he is to win again!\n",
    "* Not all wins are worth the same, a final vs a 1st Round, a Grand Slam vs an ATP250 win\n",
    "\n",
    "To capture those ideas I had derived the TOTAL wins as well as the 3M exponential moving average for the following reasons:\n",
    "* So that I could capture both the performance of the players since the beginning of time\n",
    "* And the *current dynamic* of the players, as hilighted by the graphs in the EDA"
   ]
  },
  {
   "cell_type": "markdown",
   "metadata": {},
   "source": [
    "## 2.A Choosing the half-life ot the exponential moving average"
   ]
  },
  {
   "cell_type": "markdown",
   "metadata": {},
   "source": [
    "I experimented with various values for the the width of the exponential moving average: 1Y, 6M, 3M, 1M etc.\n",
    "**I noticed that the precision of a Logistic Regression model was converging towards 1 as the width of the exponential moving average decreased**\n",
    "This was due to a mistake of mine: When predicting game happing on day D, I was using the performance of both players **until day D inclusive**, and basically relying on the very outcome I'm trying to predict...\n",
    "\n",
    "I have corrected this by basically considering the performance of both players **until D-1** only. Reducing the width of the moving average doesn't make the precision of a Logistic Regresison converge towards 1 anymore"
   ]
  },
  {
   "cell_type": "markdown",
   "metadata": {},
   "source": [
    "Using a basic cross validation technique, (looking at the precision of a basic default logistic regression) I found that 3M gives the best boost in precision so I stuck with that"
   ]
  },
  {
   "cell_type": "markdown",
   "metadata": {},
   "source": [
    "# 3/ Modelling"
   ]
  },
  {
   "cell_type": "markdown",
   "metadata": {},
   "source": [
    "## 3.A First look at a Logistic Regression"
   ]
  },
  {
   "cell_type": "code",
   "execution_count": 6,
   "metadata": {
    "collapsed": true
   },
   "outputs": [],
   "source": [
    "columns = [c for c in data if \"__\" in c]  # All the various engineered features have \"__\" in their names"
   ]
  },
  {
   "cell_type": "code",
   "execution_count": 7,
   "metadata": {
    "collapsed": false
   },
   "outputs": [
    {
     "data": {
      "text/plain": [
       "0.67801104282995917"
      ]
     },
     "execution_count": 7,
     "metadata": {},
     "output_type": "execute_result"
    }
   ],
   "source": [
    "from sklearn.linear_model import LogisticRegression\n",
    "lr = LogisticRegression()\n",
    "X = data[columns]\n",
    "Y = data.Player1Wins\n",
    "\n",
    "lr.fit(X, Y)\n",
    "lr.score(X, Y)"
   ]
  },
  {
   "cell_type": "markdown",
   "metadata": {},
   "source": [
    "As mentioned in the EDA, we beat the precision of the baseline by about 2%\n",
    "\n",
    "Let's look at the various weights (grouped by pair of features e.g P1_3M_Won + P2_3M_Won):"
   ]
  },
  {
   "cell_type": "markdown",
   "metadata": {},
   "source": [
    "### Looking at the coefficients"
   ]
  },
  {
   "cell_type": "code",
   "execution_count": 41,
   "metadata": {
    "collapsed": false,
    "scrolled": true
   },
   "outputs": [
    {
     "data": {
      "text/html": [
       "<div>\n",
       "<table border=\"1\" class=\"dataframe\">\n",
       "  <thead>\n",
       "    <tr style=\"text-align: right;\">\n",
       "      <th></th>\n",
       "      <th>Coef</th>\n",
       "    </tr>\n",
       "    <tr>\n",
       "      <th>Feature</th>\n",
       "      <th></th>\n",
       "    </tr>\n",
       "  </thead>\n",
       "  <tbody>\n",
       "    <tr>\n",
       "      <th>P1__TOTAL__Played</th>\n",
       "      <td>-0.006652</td>\n",
       "    </tr>\n",
       "    <tr>\n",
       "      <th>P1__TOTAL__Won</th>\n",
       "      <td>-0.042451</td>\n",
       "    </tr>\n",
       "    <tr>\n",
       "      <th>P1__TOTAL__Won_1st Round</th>\n",
       "      <td>0.059250</td>\n",
       "    </tr>\n",
       "    <tr>\n",
       "      <th>P1__TOTAL__Won_2nd Round</th>\n",
       "      <td>0.059097</td>\n",
       "    </tr>\n",
       "    <tr>\n",
       "      <th>P1__TOTAL__Won_3rd Round</th>\n",
       "      <td>0.048178</td>\n",
       "    </tr>\n",
       "  </tbody>\n",
       "</table>\n",
       "</div>"
      ],
      "text/plain": [
       "                              Coef\n",
       "Feature                           \n",
       "P1__TOTAL__Played        -0.006652\n",
       "P1__TOTAL__Won           -0.042451\n",
       "P1__TOTAL__Won_1st Round  0.059250\n",
       "P1__TOTAL__Won_2nd Round  0.059097\n",
       "P1__TOTAL__Won_3rd Round  0.048178"
      ]
     },
     "execution_count": 41,
     "metadata": {},
     "output_type": "execute_result"
    }
   ],
   "source": [
    "from tennis_predictor import modelling\n",
    "import importlib\n",
    "importlib.reload(modelling)\n",
    "feature_coefs = modelling.format_feature_coefs(columns, lr.coef_[0])\n",
    "feature_coefs.head()"
   ]
  },
  {
   "cell_type": "markdown",
   "metadata": {},
   "source": [
    "Let's order the coefficients by abs value descending, as the features have been normalised, the absolute value of a feature's coefficient can be interpreted as its importance"
   ]
  },
  {
   "cell_type": "code",
   "execution_count": 47,
   "metadata": {
    "collapsed": false
   },
   "outputs": [
    {
     "data": {
      "text/html": [
       "<div>\n",
       "<table border=\"1\" class=\"dataframe\">\n",
       "  <thead>\n",
       "    <tr style=\"text-align: right;\">\n",
       "      <th></th>\n",
       "      <th>Coef</th>\n",
       "    </tr>\n",
       "    <tr>\n",
       "      <th>Feature</th>\n",
       "      <th></th>\n",
       "    </tr>\n",
       "  </thead>\n",
       "  <tbody>\n",
       "    <tr>\n",
       "      <th>P1__3M__Won</th>\n",
       "      <td>4.673420</td>\n",
       "    </tr>\n",
       "    <tr>\n",
       "      <th>P2__3M__Played</th>\n",
       "      <td>-4.428443</td>\n",
       "    </tr>\n",
       "    <tr>\n",
       "      <th>P2__3M__Won</th>\n",
       "      <td>-3.417793</td>\n",
       "    </tr>\n",
       "    <tr>\n",
       "      <th>P1__3M__Played</th>\n",
       "      <td>3.316959</td>\n",
       "    </tr>\n",
       "    <tr>\n",
       "      <th>P1__3M__Won_Grand Slam</th>\n",
       "      <td>1.319753</td>\n",
       "    </tr>\n",
       "    <tr>\n",
       "      <th>P1__3M__Won_Masters</th>\n",
       "      <td>1.276142</td>\n",
       "    </tr>\n",
       "    <tr>\n",
       "      <th>P1__3M__Won_2nd Round</th>\n",
       "      <td>1.169830</td>\n",
       "    </tr>\n",
       "    <tr>\n",
       "      <th>P1__3M__Won_Masters 1000</th>\n",
       "      <td>1.109175</td>\n",
       "    </tr>\n",
       "    <tr>\n",
       "      <th>P2__3M__Won_1st Round</th>\n",
       "      <td>-1.053951</td>\n",
       "    </tr>\n",
       "    <tr>\n",
       "      <th>P2__3M__Won_2nd Round</th>\n",
       "      <td>-0.927453</td>\n",
       "    </tr>\n",
       "  </tbody>\n",
       "</table>\n",
       "</div>"
      ],
      "text/plain": [
       "                              Coef\n",
       "Feature                           \n",
       "P1__3M__Won               4.673420\n",
       "P2__3M__Played           -4.428443\n",
       "P2__3M__Won              -3.417793\n",
       "P1__3M__Played            3.316959\n",
       "P1__3M__Won_Grand Slam    1.319753\n",
       "P1__3M__Won_Masters       1.276142\n",
       "P1__3M__Won_2nd Round     1.169830\n",
       "P1__3M__Won_Masters 1000  1.109175\n",
       "P2__3M__Won_1st Round    -1.053951\n",
       "P2__3M__Won_2nd Round    -0.927453"
      ]
     },
     "execution_count": 47,
     "metadata": {},
     "output_type": "execute_result"
    }
   ],
   "source": [
    "abs_order = feature_coefs.Coef.abs().sort_values(ascending=False)\n",
    "feature_coefs = feature_coefs.loc[abs_order.index]\n",
    "feature_coefs.head(10)"
   ]
  },
  {
   "cell_type": "markdown",
   "metadata": {},
   "source": [
    "A way to interpret those is that basically, the more `P1` wins over the previous 3 months the more likelye `P1` will win, the more `P2` wins over the last three months the **less** likely `P1` will win, etc.\n",
    "\n",
    "Now if we look at the least important features:"
   ]
  },
  {
   "cell_type": "code",
   "execution_count": 56,
   "metadata": {
    "collapsed": false
   },
   "outputs": [
    {
     "data": {
      "text/html": [
       "<div>\n",
       "<table border=\"1\" class=\"dataframe\">\n",
       "  <thead>\n",
       "    <tr style=\"text-align: right;\">\n",
       "      <th></th>\n",
       "      <th>Coef</th>\n",
       "    </tr>\n",
       "    <tr>\n",
       "      <th>Feature</th>\n",
       "      <th></th>\n",
       "    </tr>\n",
       "  </thead>\n",
       "  <tbody>\n",
       "    <tr>\n",
       "      <th>P1__TOTAL__Won_Masters 1000</th>\n",
       "      <td>0.003936</td>\n",
       "    </tr>\n",
       "    <tr>\n",
       "      <th>P2__TOTAL__Won_International</th>\n",
       "      <td>-0.003402</td>\n",
       "    </tr>\n",
       "    <tr>\n",
       "      <th>P2__TOTAL__Won_2nd Round</th>\n",
       "      <td>0.003317</td>\n",
       "    </tr>\n",
       "    <tr>\n",
       "      <th>P1__TOTAL__Won_International</th>\n",
       "      <td>-0.003098</td>\n",
       "    </tr>\n",
       "    <tr>\n",
       "      <th>P2__TOTAL__Won_International Gold</th>\n",
       "      <td>-0.002321</td>\n",
       "    </tr>\n",
       "    <tr>\n",
       "      <th>P2__TOTAL__Won_ATP250</th>\n",
       "      <td>-0.001989</td>\n",
       "    </tr>\n",
       "    <tr>\n",
       "      <th>P1__TOTAL__Won_Grand Slam</th>\n",
       "      <td>0.001910</td>\n",
       "    </tr>\n",
       "    <tr>\n",
       "      <th>P1__TOTAL__Won_Masters</th>\n",
       "      <td>-0.001763</td>\n",
       "    </tr>\n",
       "    <tr>\n",
       "      <th>P1__TOTAL__Won_ATP500</th>\n",
       "      <td>-0.000978</td>\n",
       "    </tr>\n",
       "    <tr>\n",
       "      <th>P2__TOTAL__Won_ATP500</th>\n",
       "      <td>-0.000729</td>\n",
       "    </tr>\n",
       "  </tbody>\n",
       "</table>\n",
       "</div>"
      ],
      "text/plain": [
       "                                       Coef\n",
       "Feature                                    \n",
       "P1__TOTAL__Won_Masters 1000        0.003936\n",
       "P2__TOTAL__Won_International      -0.003402\n",
       "P2__TOTAL__Won_2nd Round           0.003317\n",
       "P1__TOTAL__Won_International      -0.003098\n",
       "P2__TOTAL__Won_International Gold -0.002321\n",
       "P2__TOTAL__Won_ATP250             -0.001989\n",
       "P1__TOTAL__Won_Grand Slam          0.001910\n",
       "P1__TOTAL__Won_Masters            -0.001763\n",
       "P1__TOTAL__Won_ATP500             -0.000978\n",
       "P2__TOTAL__Won_ATP500             -0.000729"
      ]
     },
     "execution_count": 56,
     "metadata": {},
     "output_type": "execute_result"
    }
   ],
   "source": [
    "feature_coefs.tail(10)"
   ]
  },
  {
   "cell_type": "markdown",
   "metadata": {},
   "source": [
    "We can basically extrapolate that `TOTAL` type of features are basically less useful than their `3M` counterpart"
   ]
  },
  {
   "cell_type": "markdown",
   "metadata": {},
   "source": [
    "## 3.B Cross validation"
   ]
  },
  {
   "cell_type": "markdown",
   "metadata": {},
   "source": [
    "Let's assess some **real** performance, ie the score on data the model hasn't been trained on"
   ]
  },
  {
   "cell_type": "code",
   "execution_count": 61,
   "metadata": {
    "collapsed": false
   },
   "outputs": [
    {
     "ename": "KeyboardInterrupt",
     "evalue": "",
     "output_type": "error",
     "traceback": [
      "\u001b[0;31m---------------------------------------------------------------------------\u001b[0m",
      "\u001b[0;31mKeyboardInterrupt\u001b[0m                         Traceback (most recent call last)",
      "\u001b[0;32m<ipython-input-61-4e00b03275fe>\u001b[0m in \u001b[0;36m<module>\u001b[0;34m()\u001b[0m\n\u001b[1;32m      5\u001b[0m \u001b[0mkf\u001b[0m \u001b[0;34m=\u001b[0m \u001b[0mKFold\u001b[0m\u001b[0;34m(\u001b[0m\u001b[0mn_splits\u001b[0m\u001b[0;34m=\u001b[0m\u001b[0mFOLDS_NB\u001b[0m\u001b[0;34m,\u001b[0m \u001b[0mshuffle\u001b[0m\u001b[0;34m=\u001b[0m\u001b[0;32mTrue\u001b[0m\u001b[0;34m)\u001b[0m\u001b[0;34m\u001b[0m\u001b[0m\n\u001b[1;32m      6\u001b[0m \u001b[0;32mfor\u001b[0m \u001b[0mtrain\u001b[0m\u001b[0;34m,\u001b[0m \u001b[0mtest\u001b[0m \u001b[0;32min\u001b[0m \u001b[0mkf\u001b[0m\u001b[0;34m.\u001b[0m\u001b[0msplit\u001b[0m\u001b[0;34m(\u001b[0m\u001b[0mX\u001b[0m\u001b[0;34m)\u001b[0m\u001b[0;34m:\u001b[0m\u001b[0;34m\u001b[0m\u001b[0m\n\u001b[0;32m----> 7\u001b[0;31m     \u001b[0mlr\u001b[0m\u001b[0;34m.\u001b[0m\u001b[0mfit\u001b[0m\u001b[0;34m(\u001b[0m\u001b[0mX\u001b[0m\u001b[0;34m.\u001b[0m\u001b[0miloc\u001b[0m\u001b[0;34m[\u001b[0m\u001b[0mtrain\u001b[0m\u001b[0;34m]\u001b[0m\u001b[0;34m,\u001b[0m \u001b[0mY\u001b[0m\u001b[0;34m.\u001b[0m\u001b[0miloc\u001b[0m\u001b[0;34m[\u001b[0m\u001b[0mtrain\u001b[0m\u001b[0;34m]\u001b[0m\u001b[0;34m)\u001b[0m\u001b[0;34m\u001b[0m\u001b[0m\n\u001b[0m\u001b[1;32m      8\u001b[0m     \u001b[0mscores\u001b[0m\u001b[0;34m.\u001b[0m\u001b[0mappend\u001b[0m\u001b[0;34m(\u001b[0m\u001b[0mlr\u001b[0m\u001b[0;34m.\u001b[0m\u001b[0mscore\u001b[0m\u001b[0;34m(\u001b[0m\u001b[0mX\u001b[0m\u001b[0;34m.\u001b[0m\u001b[0miloc\u001b[0m\u001b[0;34m[\u001b[0m\u001b[0mtest\u001b[0m\u001b[0;34m]\u001b[0m\u001b[0;34m,\u001b[0m \u001b[0mY\u001b[0m\u001b[0;34m.\u001b[0m\u001b[0miloc\u001b[0m\u001b[0;34m[\u001b[0m\u001b[0mtest\u001b[0m\u001b[0;34m]\u001b[0m\u001b[0;34m)\u001b[0m\u001b[0;34m)\u001b[0m\u001b[0;34m\u001b[0m\u001b[0m\n",
      "\u001b[0;32m/usr/local/lib/python3.5/site-packages/sklearn/linear_model/logistic.py\u001b[0m in \u001b[0;36mfit\u001b[0;34m(self, X, y, sample_weight)\u001b[0m\n\u001b[1;32m   1184\u001b[0m                 \u001b[0mself\u001b[0m\u001b[0;34m.\u001b[0m\u001b[0mclass_weight\u001b[0m\u001b[0;34m,\u001b[0m \u001b[0mself\u001b[0m\u001b[0;34m.\u001b[0m\u001b[0mpenalty\u001b[0m\u001b[0;34m,\u001b[0m \u001b[0mself\u001b[0m\u001b[0;34m.\u001b[0m\u001b[0mdual\u001b[0m\u001b[0;34m,\u001b[0m \u001b[0mself\u001b[0m\u001b[0;34m.\u001b[0m\u001b[0mverbose\u001b[0m\u001b[0;34m,\u001b[0m\u001b[0;34m\u001b[0m\u001b[0m\n\u001b[1;32m   1185\u001b[0m                 \u001b[0mself\u001b[0m\u001b[0;34m.\u001b[0m\u001b[0mmax_iter\u001b[0m\u001b[0;34m,\u001b[0m \u001b[0mself\u001b[0m\u001b[0;34m.\u001b[0m\u001b[0mtol\u001b[0m\u001b[0;34m,\u001b[0m \u001b[0mself\u001b[0m\u001b[0;34m.\u001b[0m\u001b[0mrandom_state\u001b[0m\u001b[0;34m,\u001b[0m\u001b[0;34m\u001b[0m\u001b[0m\n\u001b[0;32m-> 1186\u001b[0;31m                 sample_weight=sample_weight)\n\u001b[0m\u001b[1;32m   1187\u001b[0m             \u001b[0mself\u001b[0m\u001b[0;34m.\u001b[0m\u001b[0mn_iter_\u001b[0m \u001b[0;34m=\u001b[0m \u001b[0mnp\u001b[0m\u001b[0;34m.\u001b[0m\u001b[0marray\u001b[0m\u001b[0;34m(\u001b[0m\u001b[0;34m[\u001b[0m\u001b[0mn_iter_\u001b[0m\u001b[0;34m]\u001b[0m\u001b[0;34m)\u001b[0m\u001b[0;34m\u001b[0m\u001b[0m\n\u001b[1;32m   1188\u001b[0m             \u001b[0;32mreturn\u001b[0m \u001b[0mself\u001b[0m\u001b[0;34m\u001b[0m\u001b[0m\n",
      "\u001b[0;32m/usr/local/lib/python3.5/site-packages/sklearn/svm/base.py\u001b[0m in \u001b[0;36m_fit_liblinear\u001b[0;34m(X, y, C, fit_intercept, intercept_scaling, class_weight, penalty, dual, verbose, max_iter, tol, random_state, multi_class, loss, epsilon, sample_weight)\u001b[0m\n\u001b[1;32m    910\u001b[0m         \u001b[0mX\u001b[0m\u001b[0;34m,\u001b[0m \u001b[0my_ind\u001b[0m\u001b[0;34m,\u001b[0m \u001b[0msp\u001b[0m\u001b[0;34m.\u001b[0m\u001b[0misspmatrix\u001b[0m\u001b[0;34m(\u001b[0m\u001b[0mX\u001b[0m\u001b[0;34m)\u001b[0m\u001b[0;34m,\u001b[0m \u001b[0msolver_type\u001b[0m\u001b[0;34m,\u001b[0m \u001b[0mtol\u001b[0m\u001b[0;34m,\u001b[0m \u001b[0mbias\u001b[0m\u001b[0;34m,\u001b[0m \u001b[0mC\u001b[0m\u001b[0;34m,\u001b[0m\u001b[0;34m\u001b[0m\u001b[0m\n\u001b[1;32m    911\u001b[0m         \u001b[0mclass_weight_\u001b[0m\u001b[0;34m,\u001b[0m \u001b[0mmax_iter\u001b[0m\u001b[0;34m,\u001b[0m \u001b[0mrnd\u001b[0m\u001b[0;34m.\u001b[0m\u001b[0mrandint\u001b[0m\u001b[0;34m(\u001b[0m\u001b[0mnp\u001b[0m\u001b[0;34m.\u001b[0m\u001b[0miinfo\u001b[0m\u001b[0;34m(\u001b[0m\u001b[0;34m'i'\u001b[0m\u001b[0;34m)\u001b[0m\u001b[0;34m.\u001b[0m\u001b[0mmax\u001b[0m\u001b[0;34m)\u001b[0m\u001b[0;34m,\u001b[0m\u001b[0;34m\u001b[0m\u001b[0m\n\u001b[0;32m--> 912\u001b[0;31m         epsilon, sample_weight)\n\u001b[0m\u001b[1;32m    913\u001b[0m     \u001b[0;31m# Regarding rnd.randint(..) in the above signature:\u001b[0m\u001b[0;34m\u001b[0m\u001b[0;34m\u001b[0m\u001b[0m\n\u001b[1;32m    914\u001b[0m     \u001b[0;31m# seed for srand in range [0..INT_MAX); due to limitations in Numpy\u001b[0m\u001b[0;34m\u001b[0m\u001b[0;34m\u001b[0m\u001b[0m\n",
      "\u001b[0;31mKeyboardInterrupt\u001b[0m: "
     ]
    }
   ],
   "source": [
    "FOLDS_NB = 10\n",
    "scores = []\n",
    "\n",
    "from sklearn.model_selection import KFold\n",
    "kf = KFold(n_splits=FOLDS_NB, shuffle=True)\n",
    "for train, test in kf.split(X):\n",
    "    lr.fit(X.iloc[train], Y.iloc[train])\n",
    "    scores.append(lr.score(X.iloc[test], Y.iloc[test]))"
   ]
  },
  {
   "cell_type": "code",
   "execution_count": null,
   "metadata": {
    "collapsed": true
   },
   "outputs": [],
   "source": [
    "print(scores, np.array(scores).mean())"
   ]
  }
 ],
 "metadata": {
  "kernelspec": {
   "display_name": "Python 3",
   "language": "python",
   "name": "python3"
  },
  "language_info": {
   "codemirror_mode": {
    "name": "ipython",
    "version": 3
   },
   "file_extension": ".py",
   "mimetype": "text/x-python",
   "name": "python",
   "nbconvert_exporter": "python",
   "pygments_lexer": "ipython3",
   "version": "3.5.2"
  }
 },
 "nbformat": 4,
 "nbformat_minor": 2
}
