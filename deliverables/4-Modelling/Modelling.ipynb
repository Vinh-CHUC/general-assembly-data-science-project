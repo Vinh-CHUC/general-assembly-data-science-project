{
 "cells": [
  {
   "cell_type": "code",
   "execution_count": 1,
   "metadata": {
    "collapsed": true
   },
   "outputs": [],
   "source": [
    "import pandas as pd, numpy as np\n",
    "import importlib\n",
    "%matplotlib inline\n",
    "import matplotlib as mpl\n",
    "import matplotlib.pyplot as plt\n",
    "import seaborn as sns\n",
    "mpl.rcParams['figure.figsize'] = (12,8)"
   ]
  },
  {
   "cell_type": "code",
   "execution_count": 2,
   "metadata": {
    "collapsed": true
   },
   "outputs": [],
   "source": [
    "import sys\n",
    "sys.path.append(\"../../\")\n",
    "# Importing my helper module\n",
    "from tennis_predictor import clean_data"
   ]
  },
  {
   "cell_type": "code",
   "execution_count": 3,
   "metadata": {},
   "outputs": [
    {
     "data": {
      "text/html": [
       "<div>\n",
       "<table border=\"1\" class=\"dataframe\">\n",
       "  <thead>\n",
       "    <tr style=\"text-align: right;\">\n",
       "      <th></th>\n",
       "      <th>Location</th>\n",
       "      <th>Tournament</th>\n",
       "      <th>Date</th>\n",
       "      <th>Series</th>\n",
       "      <th>Court</th>\n",
       "      <th>Surface</th>\n",
       "      <th>Round</th>\n",
       "      <th>Best of</th>\n",
       "      <th>P1_Name</th>\n",
       "      <th>P1_Rank</th>\n",
       "      <th>...</th>\n",
       "      <th>P2__3M__Won_International</th>\n",
       "      <th>P2__3M__Won_International Gold</th>\n",
       "      <th>P2__3M__Won_International Series</th>\n",
       "      <th>P2__3M__Won_Masters</th>\n",
       "      <th>P2__3M__Won_Masters 1000</th>\n",
       "      <th>P2__3M__Won_Masters Cup</th>\n",
       "      <th>P2__3M__Won_Quarterfinals</th>\n",
       "      <th>P2__3M__Won_Round Robin</th>\n",
       "      <th>P2__3M__Won_Semifinals</th>\n",
       "      <th>P2__3M__Won_The Final</th>\n",
       "    </tr>\n",
       "  </thead>\n",
       "  <tbody>\n",
       "    <tr>\n",
       "      <th>14518</th>\n",
       "      <td>Adelaide</td>\n",
       "      <td>Next Generation Hardcourts</td>\n",
       "      <td>2005-01-03</td>\n",
       "      <td>International</td>\n",
       "      <td>Outdoor</td>\n",
       "      <td>Hard</td>\n",
       "      <td>1st Round</td>\n",
       "      <td>3</td>\n",
       "      <td>Saulnier C.</td>\n",
       "      <td>53.0</td>\n",
       "      <td>...</td>\n",
       "      <td>0.003663</td>\n",
       "      <td>0.000000</td>\n",
       "      <td>0.000000</td>\n",
       "      <td>0.000000</td>\n",
       "      <td>0.0</td>\n",
       "      <td>0.0</td>\n",
       "      <td>0.000000</td>\n",
       "      <td>0.0</td>\n",
       "      <td>0.000000</td>\n",
       "      <td>0.000000</td>\n",
       "    </tr>\n",
       "    <tr>\n",
       "      <th>14551</th>\n",
       "      <td>Chennai</td>\n",
       "      <td>TATA Open</td>\n",
       "      <td>2005-01-03</td>\n",
       "      <td>International</td>\n",
       "      <td>Outdoor</td>\n",
       "      <td>Hard</td>\n",
       "      <td>1st Round</td>\n",
       "      <td>3</td>\n",
       "      <td>Tipsarevic J.</td>\n",
       "      <td>117.0</td>\n",
       "      <td>...</td>\n",
       "      <td>0.023891</td>\n",
       "      <td>0.000443</td>\n",
       "      <td>0.000000</td>\n",
       "      <td>0.000294</td>\n",
       "      <td>0.0</td>\n",
       "      <td>0.0</td>\n",
       "      <td>0.004647</td>\n",
       "      <td>0.0</td>\n",
       "      <td>0.000244</td>\n",
       "      <td>0.000027</td>\n",
       "    </tr>\n",
       "    <tr>\n",
       "      <th>14550</th>\n",
       "      <td>Chennai</td>\n",
       "      <td>TATA Open</td>\n",
       "      <td>2005-01-03</td>\n",
       "      <td>International</td>\n",
       "      <td>Outdoor</td>\n",
       "      <td>Hard</td>\n",
       "      <td>1st Round</td>\n",
       "      <td>3</td>\n",
       "      <td>Gambill J.M.</td>\n",
       "      <td>95.0</td>\n",
       "      <td>...</td>\n",
       "      <td>0.002536</td>\n",
       "      <td>0.003877</td>\n",
       "      <td>0.000000</td>\n",
       "      <td>0.000000</td>\n",
       "      <td>0.0</td>\n",
       "      <td>0.0</td>\n",
       "      <td>0.000038</td>\n",
       "      <td>0.0</td>\n",
       "      <td>0.000000</td>\n",
       "      <td>0.000000</td>\n",
       "    </tr>\n",
       "    <tr>\n",
       "      <th>14549</th>\n",
       "      <td>Chennai</td>\n",
       "      <td>TATA Open</td>\n",
       "      <td>2005-01-03</td>\n",
       "      <td>International</td>\n",
       "      <td>Outdoor</td>\n",
       "      <td>Hard</td>\n",
       "      <td>1st Round</td>\n",
       "      <td>3</td>\n",
       "      <td>Schuettler R.</td>\n",
       "      <td>42.0</td>\n",
       "      <td>...</td>\n",
       "      <td>0.009684</td>\n",
       "      <td>0.002246</td>\n",
       "      <td>0.002009</td>\n",
       "      <td>0.000000</td>\n",
       "      <td>0.0</td>\n",
       "      <td>0.0</td>\n",
       "      <td>0.000000</td>\n",
       "      <td>0.0</td>\n",
       "      <td>0.000000</td>\n",
       "      <td>0.000000</td>\n",
       "    </tr>\n",
       "    <tr>\n",
       "      <th>14554</th>\n",
       "      <td>Chennai</td>\n",
       "      <td>TATA Open</td>\n",
       "      <td>2005-01-03</td>\n",
       "      <td>International</td>\n",
       "      <td>Outdoor</td>\n",
       "      <td>Hard</td>\n",
       "      <td>1st Round</td>\n",
       "      <td>3</td>\n",
       "      <td>Heuberger I.</td>\n",
       "      <td>124.0</td>\n",
       "      <td>...</td>\n",
       "      <td>0.000736</td>\n",
       "      <td>0.000000</td>\n",
       "      <td>0.000000</td>\n",
       "      <td>0.000000</td>\n",
       "      <td>0.0</td>\n",
       "      <td>0.0</td>\n",
       "      <td>0.000000</td>\n",
       "      <td>0.0</td>\n",
       "      <td>0.000000</td>\n",
       "      <td>0.000000</td>\n",
       "    </tr>\n",
       "  </tbody>\n",
       "</table>\n",
       "<p>5 rows × 102 columns</p>\n",
       "</div>"
      ],
      "text/plain": [
       "       Location                  Tournament       Date         Series  \\\n",
       "14518  Adelaide  Next Generation Hardcourts 2005-01-03  International   \n",
       "14551   Chennai                   TATA Open 2005-01-03  International   \n",
       "14550   Chennai                   TATA Open 2005-01-03  International   \n",
       "14549   Chennai                   TATA Open 2005-01-03  International   \n",
       "14554   Chennai                   TATA Open 2005-01-03  International   \n",
       "\n",
       "         Court Surface      Round  Best of        P1_Name  P1_Rank  \\\n",
       "14518  Outdoor    Hard  1st Round        3    Saulnier C.     53.0   \n",
       "14551  Outdoor    Hard  1st Round        3  Tipsarevic J.    117.0   \n",
       "14550  Outdoor    Hard  1st Round        3   Gambill J.M.     95.0   \n",
       "14549  Outdoor    Hard  1st Round        3  Schuettler R.     42.0   \n",
       "14554  Outdoor    Hard  1st Round        3   Heuberger I.    124.0   \n",
       "\n",
       "               ...            P2__3M__Won_International  \\\n",
       "14518          ...                             0.003663   \n",
       "14551          ...                             0.023891   \n",
       "14550          ...                             0.002536   \n",
       "14549          ...                             0.009684   \n",
       "14554          ...                             0.000736   \n",
       "\n",
       "       P2__3M__Won_International Gold  P2__3M__Won_International Series  \\\n",
       "14518                        0.000000                          0.000000   \n",
       "14551                        0.000443                          0.000000   \n",
       "14550                        0.003877                          0.000000   \n",
       "14549                        0.002246                          0.002009   \n",
       "14554                        0.000000                          0.000000   \n",
       "\n",
       "       P2__3M__Won_Masters  P2__3M__Won_Masters 1000  P2__3M__Won_Masters Cup  \\\n",
       "14518             0.000000                       0.0                      0.0   \n",
       "14551             0.000294                       0.0                      0.0   \n",
       "14550             0.000000                       0.0                      0.0   \n",
       "14549             0.000000                       0.0                      0.0   \n",
       "14554             0.000000                       0.0                      0.0   \n",
       "\n",
       "      P2__3M__Won_Quarterfinals  P2__3M__Won_Round Robin  \\\n",
       "14518                  0.000000                      0.0   \n",
       "14551                  0.004647                      0.0   \n",
       "14550                  0.000038                      0.0   \n",
       "14549                  0.000000                      0.0   \n",
       "14554                  0.000000                      0.0   \n",
       "\n",
       "       P2__3M__Won_Semifinals  P2__3M__Won_The Final  \n",
       "14518                0.000000               0.000000  \n",
       "14551                0.000244               0.000027  \n",
       "14550                0.000000               0.000000  \n",
       "14549                0.000000               0.000000  \n",
       "14554                0.000000               0.000000  \n",
       "\n",
       "[5 rows x 102 columns]"
      ]
     },
     "execution_count": 3,
     "metadata": {},
     "output_type": "execute_result"
    }
   ],
   "source": [
    "data = pd.read_csv(\"../../independant_observations.csv\", index_col=0, low_memory=False)\n",
    "data.Date = data.Date.astype(np.datetime64)\n",
    "data = data.sort_values(by=\"Date\")\n",
    "data.head()"
   ]
  },
  {
   "cell_type": "markdown",
   "metadata": {},
   "source": [
    "# 1/ Exploratory Data Analysis Summary"
   ]
  },
  {
   "cell_type": "markdown",
   "metadata": {},
   "source": [
    "## 1.A The baseline\n",
    "The baseline could be to predict that the better ranked player will win the tennis game. This yields an accuracy of **65.68%**"
   ]
  },
  {
   "cell_type": "markdown",
   "metadata": {},
   "source": [
    "## 1.B Adding derived features"
   ]
  },
  {
   "cell_type": "markdown",
   "metadata": {},
   "source": [
    "** As a reminder the features that are provided upfront by the dataset are relatively limited: **"
   ]
  },
  {
   "cell_type": "code",
   "execution_count": 4,
   "metadata": {},
   "outputs": [
    {
     "data": {
      "text/html": [
       "<div>\n",
       "<table border=\"1\" class=\"dataframe\">\n",
       "  <thead>\n",
       "    <tr style=\"text-align: right;\">\n",
       "      <th></th>\n",
       "      <th>Location</th>\n",
       "      <th>Tournament</th>\n",
       "      <th>Date</th>\n",
       "      <th>Series</th>\n",
       "      <th>Court</th>\n",
       "      <th>Surface</th>\n",
       "      <th>Round</th>\n",
       "      <th>Best of</th>\n",
       "      <th>P1_Name</th>\n",
       "      <th>P1_Rank</th>\n",
       "      <th>...</th>\n",
       "      <th>P2_Name</th>\n",
       "      <th>P2_Rank</th>\n",
       "      <th>P2_1</th>\n",
       "      <th>P2_2</th>\n",
       "      <th>P2_3</th>\n",
       "      <th>P2_4</th>\n",
       "      <th>P2_5</th>\n",
       "      <th>P2_Sets</th>\n",
       "      <th>Player1Wins</th>\n",
       "      <th>RankDiff</th>\n",
       "    </tr>\n",
       "  </thead>\n",
       "  <tbody>\n",
       "    <tr>\n",
       "      <th>14518</th>\n",
       "      <td>Adelaide</td>\n",
       "      <td>Next Generation Hardcourts</td>\n",
       "      <td>2005-01-03</td>\n",
       "      <td>International</td>\n",
       "      <td>Outdoor</td>\n",
       "      <td>Hard</td>\n",
       "      <td>1st Round</td>\n",
       "      <td>3</td>\n",
       "      <td>Saulnier C.</td>\n",
       "      <td>53.0</td>\n",
       "      <td>...</td>\n",
       "      <td>Baccanello P.</td>\n",
       "      <td>324.0</td>\n",
       "      <td>2.0</td>\n",
       "      <td>6.0</td>\n",
       "      <td>NaN</td>\n",
       "      <td>NaN</td>\n",
       "      <td>NaN</td>\n",
       "      <td>0.0</td>\n",
       "      <td>True</td>\n",
       "      <td>-271.0</td>\n",
       "    </tr>\n",
       "    <tr>\n",
       "      <th>14551</th>\n",
       "      <td>Chennai</td>\n",
       "      <td>TATA Open</td>\n",
       "      <td>2005-01-03</td>\n",
       "      <td>International</td>\n",
       "      <td>Outdoor</td>\n",
       "      <td>Hard</td>\n",
       "      <td>1st Round</td>\n",
       "      <td>3</td>\n",
       "      <td>Tipsarevic J.</td>\n",
       "      <td>117.0</td>\n",
       "      <td>...</td>\n",
       "      <td>Mathieu P.H.</td>\n",
       "      <td>123.0</td>\n",
       "      <td>6.0</td>\n",
       "      <td>6.0</td>\n",
       "      <td>NaN</td>\n",
       "      <td>NaN</td>\n",
       "      <td>NaN</td>\n",
       "      <td>2.0</td>\n",
       "      <td>False</td>\n",
       "      <td>-6.0</td>\n",
       "    </tr>\n",
       "    <tr>\n",
       "      <th>14550</th>\n",
       "      <td>Chennai</td>\n",
       "      <td>TATA Open</td>\n",
       "      <td>2005-01-03</td>\n",
       "      <td>International</td>\n",
       "      <td>Outdoor</td>\n",
       "      <td>Hard</td>\n",
       "      <td>1st Round</td>\n",
       "      <td>3</td>\n",
       "      <td>Gambill J.M.</td>\n",
       "      <td>95.0</td>\n",
       "      <td>...</td>\n",
       "      <td>Gimelstob J.</td>\n",
       "      <td>162.0</td>\n",
       "      <td>6.0</td>\n",
       "      <td>6.0</td>\n",
       "      <td>NaN</td>\n",
       "      <td>NaN</td>\n",
       "      <td>NaN</td>\n",
       "      <td>2.0</td>\n",
       "      <td>False</td>\n",
       "      <td>-67.0</td>\n",
       "    </tr>\n",
       "    <tr>\n",
       "      <th>14549</th>\n",
       "      <td>Chennai</td>\n",
       "      <td>TATA Open</td>\n",
       "      <td>2005-01-03</td>\n",
       "      <td>International</td>\n",
       "      <td>Outdoor</td>\n",
       "      <td>Hard</td>\n",
       "      <td>1st Round</td>\n",
       "      <td>3</td>\n",
       "      <td>Schuettler R.</td>\n",
       "      <td>42.0</td>\n",
       "      <td>...</td>\n",
       "      <td>Patience O.</td>\n",
       "      <td>119.0</td>\n",
       "      <td>6.0</td>\n",
       "      <td>6.0</td>\n",
       "      <td>NaN</td>\n",
       "      <td>NaN</td>\n",
       "      <td>NaN</td>\n",
       "      <td>2.0</td>\n",
       "      <td>False</td>\n",
       "      <td>-77.0</td>\n",
       "    </tr>\n",
       "    <tr>\n",
       "      <th>14554</th>\n",
       "      <td>Chennai</td>\n",
       "      <td>TATA Open</td>\n",
       "      <td>2005-01-03</td>\n",
       "      <td>International</td>\n",
       "      <td>Outdoor</td>\n",
       "      <td>Hard</td>\n",
       "      <td>1st Round</td>\n",
       "      <td>3</td>\n",
       "      <td>Heuberger I.</td>\n",
       "      <td>124.0</td>\n",
       "      <td>...</td>\n",
       "      <td>Amritraj P.</td>\n",
       "      <td>340.0</td>\n",
       "      <td>4.0</td>\n",
       "      <td>4.0</td>\n",
       "      <td>NaN</td>\n",
       "      <td>NaN</td>\n",
       "      <td>NaN</td>\n",
       "      <td>0.0</td>\n",
       "      <td>True</td>\n",
       "      <td>-216.0</td>\n",
       "    </tr>\n",
       "  </tbody>\n",
       "</table>\n",
       "<p>5 rows × 26 columns</p>\n",
       "</div>"
      ],
      "text/plain": [
       "       Location                  Tournament       Date         Series  \\\n",
       "14518  Adelaide  Next Generation Hardcourts 2005-01-03  International   \n",
       "14551   Chennai                   TATA Open 2005-01-03  International   \n",
       "14550   Chennai                   TATA Open 2005-01-03  International   \n",
       "14549   Chennai                   TATA Open 2005-01-03  International   \n",
       "14554   Chennai                   TATA Open 2005-01-03  International   \n",
       "\n",
       "         Court Surface      Round  Best of        P1_Name  P1_Rank    ...     \\\n",
       "14518  Outdoor    Hard  1st Round        3    Saulnier C.     53.0    ...      \n",
       "14551  Outdoor    Hard  1st Round        3  Tipsarevic J.    117.0    ...      \n",
       "14550  Outdoor    Hard  1st Round        3   Gambill J.M.     95.0    ...      \n",
       "14549  Outdoor    Hard  1st Round        3  Schuettler R.     42.0    ...      \n",
       "14554  Outdoor    Hard  1st Round        3   Heuberger I.    124.0    ...      \n",
       "\n",
       "             P2_Name  P2_Rank  P2_1  P2_2  P2_3  P2_4 P2_5  P2_Sets  \\\n",
       "14518  Baccanello P.    324.0   2.0   6.0   NaN   NaN  NaN      0.0   \n",
       "14551   Mathieu P.H.    123.0   6.0   6.0   NaN   NaN  NaN      2.0   \n",
       "14550   Gimelstob J.    162.0   6.0   6.0   NaN   NaN  NaN      2.0   \n",
       "14549    Patience O.    119.0   6.0   6.0   NaN   NaN  NaN      2.0   \n",
       "14554    Amritraj P.    340.0   4.0   4.0   NaN   NaN  NaN      0.0   \n",
       "\n",
       "       Player1Wins  RankDiff  \n",
       "14518         True    -271.0  \n",
       "14551        False      -6.0  \n",
       "14550        False     -67.0  \n",
       "14549        False     -77.0  \n",
       "14554         True    -216.0  \n",
       "\n",
       "[5 rows x 26 columns]"
      ]
     },
     "execution_count": 4,
     "metadata": {},
     "output_type": "execute_result"
    }
   ],
   "source": [
    "data.loc[:, [c for c in data.columns if \"__\" not in c]].head()"
   ]
  },
  {
   "cell_type": "markdown",
   "metadata": {},
   "source": [
    "We basically have the names of the players, their ranks, and various fields about the type of game:\n",
    "* The Series: \"Grand Slam\", \"ATP500\", etc.\n",
    "* The type of surface, if it is indoor or outdoor\n",
    "* Tournament name, location\n",
    "* The Round (Final, 1st Round etc.)\n",
    "I deliberately ignored the in-game statistics (eg. 6-4 6-4 6-4), as well as the various betting odds that were provided"
   ]
  },
  {
   "cell_type": "markdown",
   "metadata": {},
   "source": [
    "** As part of the EDA work, I have added some derived features that basically represent that performance of both players until that point in time **"
   ]
  },
  {
   "cell_type": "code",
   "execution_count": 40,
   "metadata": {},
   "outputs": [
    {
     "data": {
      "text/plain": [
       "['P1__TOTAL__Played',\n",
       " 'P1__TOTAL__Won',\n",
       " 'P1__TOTAL__Won_1st Round',\n",
       " 'P1__TOTAL__Won_2nd Round',\n",
       " 'P1__TOTAL__Won_3rd Round',\n",
       " 'P1__TOTAL__Won_4th Round',\n",
       " 'P1__TOTAL__Won_ATP250',\n",
       " 'P1__TOTAL__Won_ATP500',\n",
       " 'P1__TOTAL__Won_Grand Slam',\n",
       " 'P1__TOTAL__Won_International']"
      ]
     },
     "execution_count": 40,
     "metadata": {},
     "output_type": "execute_result"
    }
   ],
   "source": [
    "P1_custom_columns = [c for c in data.columns if \"__\" in c and \"P1\" in c]\n",
    "P1_custom_columns[:10]"
   ]
  },
  {
   "cell_type": "markdown",
   "metadata": {},
   "source": [
    "For each player, we have to total number of games played and won until that point in time (to be exact until just the day before), as well as how many specific types of wins they have:\n",
    "* The number of 1st Round wins, the number of Final wins (win for each type of Round)\n",
    "* The number of Gramd Slam wins (win for each type of ATP Series)\n",
    "\n",
    "On top of the totals, those features are duplicated with an exponential moving average with a 3M half life\n",
    "\n",
    "* All of those features have been **normalized** (removed mean and divided by std())\n",
    "* Also I chose to only consider the rows after 2005, so that we have enough history (2000-2005) for the derived features"
   ]
  },
  {
   "cell_type": "markdown",
   "metadata": {},
   "source": [
    "# 2/ Choosing what features to derive in preparation for modelling"
   ]
  },
  {
   "cell_type": "markdown",
   "metadata": {},
   "source": [
    "The difficult for this problem is that most of the features used to model are custom engineered features. My first intuition was basically that:\n",
    "* The more a player wins, the more likely he is to win again!\n",
    "* Not all wins are worth the same, a final vs a 1st Round, a Grand Slam vs an ATP250 win\n",
    "\n",
    "To capture those ideas I had derived the TOTAL wins as well as the 3M exponential moving average for the following reasons:\n",
    "* So that I could capture both the performance of the players since the beginning of time\n",
    "* And the *current dynamic* of the players, as hilighted by the graphs in the EDA"
   ]
  },
  {
   "cell_type": "markdown",
   "metadata": {},
   "source": [
    "## 2.A Choosing the half-life ot the exponential moving average"
   ]
  },
  {
   "cell_type": "markdown",
   "metadata": {},
   "source": [
    "I experimented with various values for the the width of the exponential moving average: 1Y, 6M, 3M, 1M etc.\n",
    "**I noticed that the precision of a Logistic Regression model was converging towards 1 as the width of the exponential moving average decreased**\n",
    "This was due to a mistake of mine: When predicting game happing on day D, I was using the performance of both players **until day D inclusive**, and basically relying on the very outcome I'm trying to predict...\n",
    "\n",
    "I have corrected this by basically considering the performance of both players **until D-1** only. Reducing the width of the moving average doesn't make the precision of a Logistic Regresison converge towards 1 anymore"
   ]
  },
  {
   "cell_type": "markdown",
   "metadata": {},
   "source": [
    "Using a basic cross validation technique, (looking at the precision of a basic default logistic regression) I found that 3M gives the best boost in precision so I stuck with that"
   ]
  },
  {
   "cell_type": "markdown",
   "metadata": {},
   "source": [
    "# 3/ Modelling"
   ]
  },
  {
   "cell_type": "markdown",
   "metadata": {},
   "source": [
    "## 3.A First look at a Logistic Regression"
   ]
  },
  {
   "cell_type": "code",
   "execution_count": 6,
   "metadata": {
    "collapsed": true
   },
   "outputs": [],
   "source": [
    "columns = [c for c in data if \"__\" in c]  # All the various engineered features have \"__\" in their names"
   ]
  },
  {
   "cell_type": "markdown",
   "metadata": {},
   "source": [
    "### Let's look at the accuracy of a Logistic Regression\n",
    "Accuracy is probably the better metric here, what we care about is correctly predicting the winner either P1 or P2, which is equivalent to P1 wins or loses.\n",
    "There is little point, given the way I'm framing the problem to consider a pure precision or recall approach as here the situation is symmetric, P1 and P2 are assigned arbitrarily"
   ]
  },
  {
   "cell_type": "code",
   "execution_count": 7,
   "metadata": {},
   "outputs": [
    {
     "data": {
      "text/plain": [
       "0.67807343169978473"
      ]
     },
     "execution_count": 7,
     "metadata": {},
     "output_type": "execute_result"
    }
   ],
   "source": [
    "from sklearn.linear_model import LogisticRegression\n",
    "lr = LogisticRegression()\n",
    "X = data[columns]\n",
    "Y = data.Player1Wins\n",
    "\n",
    "lr.fit(X, Y)\n",
    "training_set_accuracy = lr.score(X, Y)\n",
    "training_set_accuracy"
   ]
  },
  {
   "cell_type": "markdown",
   "metadata": {},
   "source": [
    "### If we add dummies for all the other columns does it help?"
   ]
  },
  {
   "cell_type": "code",
   "execution_count": 8,
   "metadata": {},
   "outputs": [
    {
     "data": {
      "text/plain": [
       "0.68053779205789688"
      ]
     },
     "execution_count": 8,
     "metadata": {},
     "output_type": "execute_result"
    }
   ],
   "source": [
    "dummies_df = pd.get_dummies(data[[\"Surface\", \"Court\", \"Round\", \"Tournament\", \"Series\"]])\n",
    "data_with_dummies = data.join(dummies_df, how=\"inner\")\n",
    "X2 = data_with_dummies[columns + list(dummies_df.columns) + [\"Best of\"]]\n",
    "\n",
    "lr2 = LogisticRegression()\n",
    "lr2.fit(X2, Y)\n",
    "lr2.score(X2, Y)"
   ]
  },
  {
   "cell_type": "markdown",
   "metadata": {},
   "source": [
    "Hardly .."
   ]
  },
  {
   "cell_type": "markdown",
   "metadata": {},
   "source": [
    "So let's stick to the original columns, for now we beat the baseline by about 2.5%\n",
    "\n",
    "Let's look at the various weights"
   ]
  },
  {
   "cell_type": "markdown",
   "metadata": {},
   "source": [
    "### Looking at the coefficients"
   ]
  },
  {
   "cell_type": "code",
   "execution_count": 9,
   "metadata": {
    "scrolled": true
   },
   "outputs": [
    {
     "data": {
      "text/html": [
       "<div>\n",
       "<table border=\"1\" class=\"dataframe\">\n",
       "  <thead>\n",
       "    <tr style=\"text-align: right;\">\n",
       "      <th></th>\n",
       "      <th>Coef</th>\n",
       "    </tr>\n",
       "    <tr>\n",
       "      <th>Feature</th>\n",
       "      <th></th>\n",
       "    </tr>\n",
       "  </thead>\n",
       "  <tbody>\n",
       "    <tr>\n",
       "      <th>P1__TOTAL__Played</th>\n",
       "      <td>-0.006627</td>\n",
       "    </tr>\n",
       "    <tr>\n",
       "      <th>P1__TOTAL__Won</th>\n",
       "      <td>-0.042024</td>\n",
       "    </tr>\n",
       "    <tr>\n",
       "      <th>P1__TOTAL__Won_1st Round</th>\n",
       "      <td>0.058805</td>\n",
       "    </tr>\n",
       "    <tr>\n",
       "      <th>P1__TOTAL__Won_2nd Round</th>\n",
       "      <td>0.058248</td>\n",
       "    </tr>\n",
       "    <tr>\n",
       "      <th>P1__TOTAL__Won_3rd Round</th>\n",
       "      <td>0.047733</td>\n",
       "    </tr>\n",
       "  </tbody>\n",
       "</table>\n",
       "</div>"
      ],
      "text/plain": [
       "                              Coef\n",
       "Feature                           \n",
       "P1__TOTAL__Played        -0.006627\n",
       "P1__TOTAL__Won           -0.042024\n",
       "P1__TOTAL__Won_1st Round  0.058805\n",
       "P1__TOTAL__Won_2nd Round  0.058248\n",
       "P1__TOTAL__Won_3rd Round  0.047733"
      ]
     },
     "execution_count": 9,
     "metadata": {},
     "output_type": "execute_result"
    }
   ],
   "source": [
    "from tennis_predictor import modelling\n",
    "import importlib\n",
    "importlib.reload(modelling)\n",
    "feature_coefs = modelling.format_feature_coefs(columns, lr.coef_[0])\n",
    "feature_coefs.head()"
   ]
  },
  {
   "cell_type": "markdown",
   "metadata": {},
   "source": [
    "Let's order the coefficients by abs value descending, as the features have been normalised, the absolute value of a feature's coefficient can be interpreted as its relative importance"
   ]
  },
  {
   "cell_type": "code",
   "execution_count": 10,
   "metadata": {},
   "outputs": [
    {
     "data": {
      "text/html": [
       "<div>\n",
       "<table border=\"1\" class=\"dataframe\">\n",
       "  <thead>\n",
       "    <tr style=\"text-align: right;\">\n",
       "      <th></th>\n",
       "      <th>Coef</th>\n",
       "    </tr>\n",
       "    <tr>\n",
       "      <th>Feature</th>\n",
       "      <th></th>\n",
       "    </tr>\n",
       "  </thead>\n",
       "  <tbody>\n",
       "    <tr>\n",
       "      <th>P1__3M__Won</th>\n",
       "      <td>4.643737</td>\n",
       "    </tr>\n",
       "    <tr>\n",
       "      <th>P2__3M__Played</th>\n",
       "      <td>-4.452802</td>\n",
       "    </tr>\n",
       "    <tr>\n",
       "      <th>P2__3M__Won</th>\n",
       "      <td>-3.409523</td>\n",
       "    </tr>\n",
       "    <tr>\n",
       "      <th>P1__3M__Played</th>\n",
       "      <td>3.361079</td>\n",
       "    </tr>\n",
       "    <tr>\n",
       "      <th>P1__3M__Won_Grand Slam</th>\n",
       "      <td>1.301056</td>\n",
       "    </tr>\n",
       "    <tr>\n",
       "      <th>P1__3M__Won_Masters</th>\n",
       "      <td>1.254341</td>\n",
       "    </tr>\n",
       "    <tr>\n",
       "      <th>P1__3M__Won_2nd Round</th>\n",
       "      <td>1.167063</td>\n",
       "    </tr>\n",
       "    <tr>\n",
       "      <th>P1__3M__Won_Masters 1000</th>\n",
       "      <td>1.091233</td>\n",
       "    </tr>\n",
       "    <tr>\n",
       "      <th>P2__3M__Won_1st Round</th>\n",
       "      <td>-1.059204</td>\n",
       "    </tr>\n",
       "    <tr>\n",
       "      <th>P2__3M__Won_2nd Round</th>\n",
       "      <td>-0.929687</td>\n",
       "    </tr>\n",
       "    <tr>\n",
       "      <th>P1__3M__Won_3rd Round</th>\n",
       "      <td>0.844487</td>\n",
       "    </tr>\n",
       "    <tr>\n",
       "      <th>P2__3M__Won_International</th>\n",
       "      <td>-0.753761</td>\n",
       "    </tr>\n",
       "    <tr>\n",
       "      <th>P1__3M__Won_Quarterfinals</th>\n",
       "      <td>0.722575</td>\n",
       "    </tr>\n",
       "    <tr>\n",
       "      <th>P1__3M__Won_Semifinals</th>\n",
       "      <td>0.688957</td>\n",
       "    </tr>\n",
       "    <tr>\n",
       "      <th>P1__3M__Won_The Final</th>\n",
       "      <td>0.605469</td>\n",
       "    </tr>\n",
       "  </tbody>\n",
       "</table>\n",
       "</div>"
      ],
      "text/plain": [
       "                               Coef\n",
       "Feature                            \n",
       "P1__3M__Won                4.643737\n",
       "P2__3M__Played            -4.452802\n",
       "P2__3M__Won               -3.409523\n",
       "P1__3M__Played             3.361079\n",
       "P1__3M__Won_Grand Slam     1.301056\n",
       "P1__3M__Won_Masters        1.254341\n",
       "P1__3M__Won_2nd Round      1.167063\n",
       "P1__3M__Won_Masters 1000   1.091233\n",
       "P2__3M__Won_1st Round     -1.059204\n",
       "P2__3M__Won_2nd Round     -0.929687\n",
       "P1__3M__Won_3rd Round      0.844487\n",
       "P2__3M__Won_International -0.753761\n",
       "P1__3M__Won_Quarterfinals  0.722575\n",
       "P1__3M__Won_Semifinals     0.688957\n",
       "P1__3M__Won_The Final      0.605469"
      ]
     },
     "execution_count": 10,
     "metadata": {},
     "output_type": "execute_result"
    }
   ],
   "source": [
    "feature_coefs = modelling.sort_feature_coefs_by_bas(feature_coefs)\n",
    "feature_coefs.head(15)"
   ]
  },
  {
   "cell_type": "markdown",
   "metadata": {},
   "source": [
    "A way to interpret those is that basically, the more `P1` wins over the previous 3 months the more likelye `P1` will win, the more `P2` wins over the last three months the **less** likely `P1` will win, etc.\n",
    "\n",
    "Now if we look at the least important features:"
   ]
  },
  {
   "cell_type": "code",
   "execution_count": 11,
   "metadata": {},
   "outputs": [
    {
     "data": {
      "text/html": [
       "<div>\n",
       "<table border=\"1\" class=\"dataframe\">\n",
       "  <thead>\n",
       "    <tr style=\"text-align: right;\">\n",
       "      <th></th>\n",
       "      <th>Coef</th>\n",
       "    </tr>\n",
       "    <tr>\n",
       "      <th>Feature</th>\n",
       "      <th></th>\n",
       "    </tr>\n",
       "  </thead>\n",
       "  <tbody>\n",
       "    <tr>\n",
       "      <th>P2__TOTAL__Won_International Series</th>\n",
       "      <td>0.004039</td>\n",
       "    </tr>\n",
       "    <tr>\n",
       "      <th>P2__TOTAL__Won_International</th>\n",
       "      <td>-0.003344</td>\n",
       "    </tr>\n",
       "    <tr>\n",
       "      <th>P2__TOTAL__Won_2nd Round</th>\n",
       "      <td>0.003060</td>\n",
       "    </tr>\n",
       "    <tr>\n",
       "      <th>P1__TOTAL__Won_International</th>\n",
       "      <td>-0.002939</td>\n",
       "    </tr>\n",
       "    <tr>\n",
       "      <th>P2__TOTAL__Won_International Gold</th>\n",
       "      <td>-0.002284</td>\n",
       "    </tr>\n",
       "    <tr>\n",
       "      <th>P1__TOTAL__Won_Grand Slam</th>\n",
       "      <td>0.002081</td>\n",
       "    </tr>\n",
       "    <tr>\n",
       "      <th>P2__TOTAL__Won_ATP250</th>\n",
       "      <td>-0.001904</td>\n",
       "    </tr>\n",
       "    <tr>\n",
       "      <th>P1__TOTAL__Won_Masters</th>\n",
       "      <td>-0.001632</td>\n",
       "    </tr>\n",
       "    <tr>\n",
       "      <th>P1__TOTAL__Won_ATP500</th>\n",
       "      <td>-0.000777</td>\n",
       "    </tr>\n",
       "    <tr>\n",
       "      <th>P2__TOTAL__Won_ATP500</th>\n",
       "      <td>-0.000647</td>\n",
       "    </tr>\n",
       "  </tbody>\n",
       "</table>\n",
       "</div>"
      ],
      "text/plain": [
       "                                         Coef\n",
       "Feature                                      \n",
       "P2__TOTAL__Won_International Series  0.004039\n",
       "P2__TOTAL__Won_International        -0.003344\n",
       "P2__TOTAL__Won_2nd Round             0.003060\n",
       "P1__TOTAL__Won_International        -0.002939\n",
       "P2__TOTAL__Won_International Gold   -0.002284\n",
       "P1__TOTAL__Won_Grand Slam            0.002081\n",
       "P2__TOTAL__Won_ATP250               -0.001904\n",
       "P1__TOTAL__Won_Masters              -0.001632\n",
       "P1__TOTAL__Won_ATP500               -0.000777\n",
       "P2__TOTAL__Won_ATP500               -0.000647"
      ]
     },
     "execution_count": 11,
     "metadata": {},
     "output_type": "execute_result"
    }
   ],
   "source": [
    "feature_coefs.tail(10)"
   ]
  },
  {
   "cell_type": "markdown",
   "metadata": {},
   "source": [
    "We can basically extrapolate that `TOTAL` type of features are basically less useful than their `3M` counterpart"
   ]
  },
  {
   "cell_type": "markdown",
   "metadata": {},
   "source": [
    "## 3.B Cross validation"
   ]
  },
  {
   "cell_type": "markdown",
   "metadata": {},
   "source": [
    "Let's assess some **real** performance, ie the score on data the model hasn't been trained on"
   ]
  },
  {
   "cell_type": "code",
   "execution_count": 12,
   "metadata": {},
   "outputs": [
    {
     "name": "stdout",
     "output_type": "stream",
     "text": [
      "[0.67966313162819714, 0.68293824079850285, 0.671970051474029, 0.68179691155825928, 0.66463890188738106] 0.676201447469\n"
     ]
    }
   ],
   "source": [
    "FOLDS_NB = 5\n",
    "scores = []\n",
    "\n",
    "lr3b = LogisticRegression()\n",
    "\n",
    "from sklearn.model_selection import KFold\n",
    "kf = KFold(n_splits=FOLDS_NB, shuffle=True)\n",
    "for train, test in kf.split(X):\n",
    "    lr3b.fit(X.iloc[train], Y.iloc[train])\n",
    "    scores.append(lr3b.score(X.iloc[test], Y.iloc[test]))\n",
    "print(scores, np.array(scores).mean())"
   ]
  },
  {
   "cell_type": "markdown",
   "metadata": {},
   "source": [
    "The accuracy for a 5-Fold cross validation is very close to the training set performance:"
   ]
  },
  {
   "cell_type": "code",
   "execution_count": 13,
   "metadata": {},
   "outputs": [
    {
     "data": {
      "text/plain": [
       "-0.0018719842305108259"
      ]
     },
     "execution_count": 13,
     "metadata": {},
     "output_type": "execute_result"
    }
   ],
   "source": [
    "np.array(scores).mean() - training_set_accuracy"
   ]
  },
  {
   "cell_type": "markdown",
   "metadata": {},
   "source": [
    "### Time based cross validation\n",
    "It'd be interesting to do a *time based* cross validation here, as in real life, new data will always be more recent\n",
    "So let's train on the 80% earliest observations, and evaluate on the 20% latest:"
   ]
  },
  {
   "cell_type": "code",
   "execution_count": 14,
   "metadata": {},
   "outputs": [
    {
     "data": {
      "text/plain": [
       "0.67654398003742977"
      ]
     },
     "execution_count": 14,
     "metadata": {},
     "output_type": "execute_result"
    }
   ],
   "source": [
    "cutoff = int(X.shape[0] * 0.9)\n",
    "lr3b.fit(X.iloc[:cutoff], Y.iloc[:cutoff])\n",
    "lr3b.score(X.iloc[cutoff:], Y.iloc[cutoff:])"
   ]
  },
  {
   "cell_type": "markdown",
   "metadata": {},
   "source": [
    "Not too bad either!\n",
    "** Conclusion, we can be quite confident that used for new data, the accuracy will be preserved **"
   ]
  },
  {
   "cell_type": "markdown",
   "metadata": {},
   "source": [
    "## 3.C Hyperparameter search (on a subset of the whole data, 10% ~= 3K)"
   ]
  },
  {
   "cell_type": "code",
   "execution_count": 15,
   "metadata": {},
   "outputs": [
    {
     "data": {
      "text/plain": [
       "GridSearchCV(cv=3, error_score='raise',\n",
       "       estimator=LogisticRegression(C=1.0, class_weight=None, dual=False, fit_intercept=True,\n",
       "          intercept_scaling=1, max_iter=100, multi_class='ovr', n_jobs=1,\n",
       "          penalty='l2', random_state=None, solver='liblinear', tol=0.0001,\n",
       "          verbose=0, warm_start=False),\n",
       "       fit_params={}, iid=True, n_jobs=1,\n",
       "       param_grid={'penalty': ['l1', 'l2'], 'C': array([  1.00000e-03,   1.00000e-01,   1.00000e+01,   1.00000e+03])},\n",
       "       pre_dispatch='2*n_jobs', refit=True, return_train_score=True,\n",
       "       scoring=None, verbose=0)"
      ]
     },
     "execution_count": 15,
     "metadata": {},
     "output_type": "execute_result"
    }
   ],
   "source": [
    "from sklearn.model_selection import GridSearchCV\n",
    "random_subset = np.random.choice(np.arange(X.shape[0]), int(X.shape[0] / 20))\n",
    "params = {\n",
    "    \"penalty\": [\"l1\", \"l2\"],\n",
    "    \"C\": np.logspace(-3, 3, base=10, num=4),\n",
    "}\n",
    "gs = GridSearchCV(LogisticRegression(), params, cv=3)\n",
    "gs.fit(X.iloc[random_subset], Y.iloc[random_subset])"
   ]
  },
  {
   "cell_type": "code",
   "execution_count": 16,
   "metadata": {},
   "outputs": [
    {
     "data": {
      "text/plain": [
       "{'C': 0.001, 'penalty': 'l1'}"
      ]
     },
     "execution_count": 16,
     "metadata": {},
     "output_type": "execute_result"
    }
   ],
   "source": [
    "gs.best_params_"
   ]
  },
  {
   "cell_type": "code",
   "execution_count": 17,
   "metadata": {},
   "outputs": [
    {
     "data": {
      "text/plain": [
       "0.65293383270911365"
      ]
     },
     "execution_count": 17,
     "metadata": {},
     "output_type": "execute_result"
    }
   ],
   "source": [
    "gs.best_score_"
   ]
  },
  {
   "cell_type": "code",
   "execution_count": 18,
   "metadata": {},
   "outputs": [
    {
     "data": {
      "text/plain": [
       "{'C': array([  1.00000000e-03,   1.00000000e-01,   1.00000000e+01,\n",
       "          1.00000000e+03]), 'penalty': ['l1', 'l2']}"
      ]
     },
     "execution_count": 18,
     "metadata": {},
     "output_type": "execute_result"
    }
   ],
   "source": [
    "gs.param_grid"
   ]
  },
  {
   "cell_type": "markdown",
   "metadata": {},
   "source": [
    "**Note**:\n",
    "* Running GridSearchCV takes a long time on the whole dataset, so I've run it only on a subset of the whole data (with CV enabled in the GridSearch)\n",
    "* There was quite a lot of variability around the best params/scores..., Ive stuck with lasso penalty and C=0.3"
   ]
  },
  {
   "cell_type": "markdown",
   "metadata": {},
   "source": [
    "## 3.D Cross validation again"
   ]
  },
  {
   "cell_type": "code",
   "execution_count": 30,
   "metadata": {},
   "outputs": [],
   "source": [
    "FOLDS_NB = 5\n",
    "scores = []\n",
    "\n",
    "lr3d = LogisticRegression(penalty=\"l1\", C=0.3)\n",
    "\n",
    "from sklearn.model_selection import KFold\n",
    "kf = KFold(n_splits=FOLDS_NB, shuffle=True)\n",
    "for train, test in kf.split(X):\n",
    "    lr3d.fit(X.iloc[train], Y.iloc[train])\n",
    "    scores.append(lr3d.score(X.iloc[test], Y.iloc[test]))"
   ]
  },
  {
   "cell_type": "code",
   "execution_count": 31,
   "metadata": {},
   "outputs": [
    {
     "name": "stdout",
     "output_type": "stream",
     "text": [
      "[0.67966313162819714, 0.66827822832189643, 0.68725627827172053, 0.67696147246919358, 0.67462174387771023] 0.677356170914\n"
     ]
    }
   ],
   "source": [
    "cross_validation_score = np.array(scores).mean()\n",
    "print(scores, np.array(scores).mean())"
   ]
  },
  {
   "cell_type": "code",
   "execution_count": 32,
   "metadata": {},
   "outputs": [
    {
     "data": {
      "text/html": [
       "<div>\n",
       "<table border=\"1\" class=\"dataframe\">\n",
       "  <thead>\n",
       "    <tr style=\"text-align: right;\">\n",
       "      <th></th>\n",
       "      <th>Coef</th>\n",
       "    </tr>\n",
       "    <tr>\n",
       "      <th>Feature</th>\n",
       "      <th></th>\n",
       "    </tr>\n",
       "  </thead>\n",
       "  <tbody>\n",
       "    <tr>\n",
       "      <th>P1__3M__Won</th>\n",
       "      <td>11.059759</td>\n",
       "    </tr>\n",
       "    <tr>\n",
       "      <th>P2__3M__Won</th>\n",
       "      <td>-7.188933</td>\n",
       "    </tr>\n",
       "    <tr>\n",
       "      <th>P2__3M__Played</th>\n",
       "      <td>-3.290804</td>\n",
       "    </tr>\n",
       "    <tr>\n",
       "      <th>P2__TOTAL__Won_Masters Cup</th>\n",
       "      <td>0.026317</td>\n",
       "    </tr>\n",
       "    <tr>\n",
       "      <th>P2__TOTAL__Won_Masters 1000</th>\n",
       "      <td>-0.018534</td>\n",
       "    </tr>\n",
       "    <tr>\n",
       "      <th>P2__TOTAL__Won_Semifinals</th>\n",
       "      <td>-0.017426</td>\n",
       "    </tr>\n",
       "    <tr>\n",
       "      <th>P2__TOTAL__Won_Grand Slam</th>\n",
       "      <td>-0.013695</td>\n",
       "    </tr>\n",
       "    <tr>\n",
       "      <th>P2__TOTAL__Won_4th Round</th>\n",
       "      <td>0.010711</td>\n",
       "    </tr>\n",
       "    <tr>\n",
       "      <th>P2__TOTAL__Won_Masters</th>\n",
       "      <td>-0.010315</td>\n",
       "    </tr>\n",
       "    <tr>\n",
       "      <th>P2__TOTAL__Won_3rd Round</th>\n",
       "      <td>0.009543</td>\n",
       "    </tr>\n",
       "    <tr>\n",
       "      <th>P2__TOTAL__Won_Quarterfinals</th>\n",
       "      <td>0.009462</td>\n",
       "    </tr>\n",
       "    <tr>\n",
       "      <th>P1__TOTAL__Won_Masters 1000</th>\n",
       "      <td>0.009111</td>\n",
       "    </tr>\n",
       "    <tr>\n",
       "      <th>P2__TOTAL__Won_1st Round</th>\n",
       "      <td>-0.008223</td>\n",
       "    </tr>\n",
       "    <tr>\n",
       "      <th>P2__TOTAL__Won_Round Robin</th>\n",
       "      <td>-0.007517</td>\n",
       "    </tr>\n",
       "    <tr>\n",
       "      <th>P1__TOTAL__Won_1st Round</th>\n",
       "      <td>0.007136</td>\n",
       "    </tr>\n",
       "  </tbody>\n",
       "</table>\n",
       "</div>"
      ],
      "text/plain": [
       "                                   Coef\n",
       "Feature                                \n",
       "P1__3M__Won                   11.059759\n",
       "P2__3M__Won                   -7.188933\n",
       "P2__3M__Played                -3.290804\n",
       "P2__TOTAL__Won_Masters Cup     0.026317\n",
       "P2__TOTAL__Won_Masters 1000   -0.018534\n",
       "P2__TOTAL__Won_Semifinals     -0.017426\n",
       "P2__TOTAL__Won_Grand Slam     -0.013695\n",
       "P2__TOTAL__Won_4th Round       0.010711\n",
       "P2__TOTAL__Won_Masters        -0.010315\n",
       "P2__TOTAL__Won_3rd Round       0.009543\n",
       "P2__TOTAL__Won_Quarterfinals   0.009462\n",
       "P1__TOTAL__Won_Masters 1000    0.009111\n",
       "P2__TOTAL__Won_1st Round      -0.008223\n",
       "P2__TOTAL__Won_Round Robin    -0.007517\n",
       "P1__TOTAL__Won_1st Round       0.007136"
      ]
     },
     "execution_count": 32,
     "metadata": {},
     "output_type": "execute_result"
    }
   ],
   "source": [
    "cv_feature_coefs4d = modelling.format_feature_coefs(columns, lr4d.coef_[0])\n",
    "cv_feature_coefs4d = modelling.sort_feature_coefs_by_bas(cv_feature_coefs4d)\n",
    "cv_feature_coefs4d[cv_feature_coefs4d.Coef != 0].head(15)\n",
    "# Let's look at the most useful features"
   ]
  },
  {
   "cell_type": "code",
   "execution_count": 33,
   "metadata": {},
   "outputs": [
    {
     "data": {
      "text/html": [
       "<div>\n",
       "<table border=\"1\" class=\"dataframe\">\n",
       "  <thead>\n",
       "    <tr style=\"text-align: right;\">\n",
       "      <th></th>\n",
       "      <th>Coef</th>\n",
       "    </tr>\n",
       "    <tr>\n",
       "      <th>Feature</th>\n",
       "      <th></th>\n",
       "    </tr>\n",
       "  </thead>\n",
       "  <tbody>\n",
       "    <tr>\n",
       "      <th>P1__3M__Won_3rd Round</th>\n",
       "      <td>0.0</td>\n",
       "    </tr>\n",
       "    <tr>\n",
       "      <th>P1__3M__Won_ATP250</th>\n",
       "      <td>0.0</td>\n",
       "    </tr>\n",
       "    <tr>\n",
       "      <th>P1__3M__Won_4th Round</th>\n",
       "      <td>0.0</td>\n",
       "    </tr>\n",
       "    <tr>\n",
       "      <th>P1__3M__Won_Grand Slam</th>\n",
       "      <td>0.0</td>\n",
       "    </tr>\n",
       "    <tr>\n",
       "      <th>P1__3M__Won_2nd Round</th>\n",
       "      <td>0.0</td>\n",
       "    </tr>\n",
       "  </tbody>\n",
       "</table>\n",
       "</div>"
      ],
      "text/plain": [
       "                        Coef\n",
       "Feature                     \n",
       "P1__3M__Won_3rd Round    0.0\n",
       "P1__3M__Won_ATP250       0.0\n",
       "P1__3M__Won_4th Round    0.0\n",
       "P1__3M__Won_Grand Slam   0.0\n",
       "P1__3M__Won_2nd Round    0.0"
      ]
     },
     "execution_count": 33,
     "metadata": {},
     "output_type": "execute_result"
    }
   ],
   "source": [
    "# Let's look at the least useful features\n",
    "cv_feature_coefs4d[cv_feature_coefs4d.Coef == 0].head()"
   ]
  },
  {
   "cell_type": "markdown",
   "metadata": {},
   "source": [
    "## 3.E Does incorporating the player's ranks help??"
   ]
  },
  {
   "cell_type": "code",
   "execution_count": 34,
   "metadata": {},
   "outputs": [
    {
     "data": {
      "text/plain": [
       "0.67760551517609258"
      ]
     },
     "execution_count": 34,
     "metadata": {},
     "output_type": "execute_result"
    }
   ],
   "source": [
    "lr_rank = LogisticRegression(penalty=\"l1\", C=0.3)\n",
    "lr_rank.fit(data[columns + [\"P1_Rank\", \"P2_Rank\"]], Y)\n",
    "lr_rank.score(data[columns + [\"P1_Rank\", \"P2_Rank\"]], Y)"
   ]
  },
  {
   "cell_type": "markdown",
   "metadata": {},
   "source": [
    "Not really.. I guess we could say that we kind of find a model that is somewhat redundant with the ATP rankings, and marginally better (+2%)"
   ]
  },
  {
   "cell_type": "markdown",
   "metadata": {},
   "source": [
    "# 4/ Looking at the most important features"
   ]
  },
  {
   "cell_type": "code",
   "execution_count": 35,
   "metadata": {},
   "outputs": [],
   "source": [
    "data = data.assign(\n",
    "    plot_color=np.where(data.Player1Wins, \"blue\", \"red\")\n",
    ")"
   ]
  },
  {
   "cell_type": "code",
   "execution_count": 36,
   "metadata": {},
   "outputs": [
    {
     "data": {
      "text/plain": [
       "<seaborn.axisgrid.FacetGrid at 0x11d511cf8>"
      ]
     },
     "execution_count": 36,
     "metadata": {},
     "output_type": "execute_result"
    },
    {
     "data": {
      "image/png": "[encoded data removed]",
      "text/plain": [
       "<matplotlib.figure.Figure at 0x11c3e80f0>"
      ]
     },
     "metadata": {},
     "output_type": "display_data"
    }
   ],
   "source": [
    "sns.lmplot(\"P1__3M__Won\", \"P2__3M__Won\", data=data, hue=\"plot_color\", fit_reg=False, size=10)"
   ]
  },
  {
   "cell_type": "markdown",
   "metadata": {},
   "source": [
    "* One can see that the blue dots (player 1 wins) tend to be more towards the right and the bottom, which corresponds to higher P1 wins and lower P2 wins.\n",
    "* Also we see that the precision is not great here (lower than 67% as we only use two features) as we can't really cleanly split the dataset in two"
   ]
  },
  {
   "cell_type": "markdown",
   "metadata": {},
   "source": [
    "# 5/ Going further"
   ]
  },
  {
   "cell_type": "markdown",
   "metadata": {},
   "source": [
    "## Let's try another model..\n",
    "I did this project with Logistic Regression in mind but let's try random forest out of curiosity..."
   ]
  },
  {
   "cell_type": "code",
   "execution_count": 37,
   "metadata": {},
   "outputs": [
    {
     "data": {
      "text/plain": [
       "GridSearchCV(cv=None, error_score='raise',\n",
       "       estimator=RandomForestClassifier(bootstrap=True, class_weight=None, criterion='gini',\n",
       "            max_depth=None, max_features='auto', max_leaf_nodes=None,\n",
       "            min_impurity_split=1e-07, min_samples_leaf=1,\n",
       "            min_samples_split=2, min_weight_fraction_leaf=0.0,\n",
       "            n_estimators=10, n_jobs=1, oob_score=False, random_state=None,\n",
       "            verbose=0, warm_start=False),\n",
       "       fit_params={}, iid=True, n_jobs=1,\n",
       "       param_grid={'max_depth': array([2, 3, 4, 5, 6, 7, 8, 9])},\n",
       "       pre_dispatch='2*n_jobs', refit=True, return_train_score=True,\n",
       "       scoring=None, verbose=0)"
      ]
     },
     "execution_count": 37,
     "metadata": {},
     "output_type": "execute_result"
    }
   ],
   "source": [
    "from sklearn.ensemble import RandomForestClassifier\n",
    "gscv5 = GridSearchCV(RandomForestClassifier(), param_grid={\"max_depth\": np.arange(2, 10)})\n",
    "gscv5.fit(X, Y)"
   ]
  },
  {
   "cell_type": "code",
   "execution_count": 38,
   "metadata": {},
   "outputs": [
    {
     "data": {
      "text/plain": [
       "{'max_depth': 7}"
      ]
     },
     "execution_count": 38,
     "metadata": {},
     "output_type": "execute_result"
    }
   ],
   "source": [
    "gscv5.best_params_"
   ]
  },
  {
   "cell_type": "code",
   "execution_count": 39,
   "metadata": {},
   "outputs": [
    {
     "data": {
      "text/plain": [
       "0.67114826714914055"
      ]
     },
     "execution_count": 39,
     "metadata": {},
     "output_type": "execute_result"
    }
   ],
   "source": [
    "gscv5.best_score_"
   ]
  },
  {
   "cell_type": "markdown",
   "metadata": {},
   "source": [
    "**Very interesting** we're getting a very similar number here!!!"
   ]
  },
  {
   "cell_type": "markdown",
   "metadata": {},
   "source": [
    "## Improving the performance\n",
    "**More data?**:\n",
    "There's many different ways one could engineer features, we could like at deriving things which are more complex than 3M rolling exponential rolling averages:\n",
    "* We could try to cluster groups of player together, and then look at how \"good\" or \"bad\" a player is against a player of a given group and use that as a feature. For this clustering, in-game statistics will probably be very useful? (% first serve, served speed etc.)\n",
    "* A somehow related idea would be to look at the history of games between two players\n",
    "* Another idea could be to further refine the existing \"Won\" features by giving them more weight depending on in-game statistics such as the score for example (ie if you win 6-0 6-0 6-0 it's a more impressive win)\n",
    "* We could try to derive how many days of rest you've had so far in a given tournament\n",
    "* etc.\n",
    "\n",
    "**Different models?**\n",
    "I've tried Logistic Regression and Random Forests, maybe more complex models could perform better here? Neural Nets?"
   ]
  },
  {
   "cell_type": "code",
   "execution_count": null,
   "metadata": {
    "collapsed": true
   },
   "outputs": [],
   "source": []
  }
 ],
 "metadata": {
  "kernelspec": {
   "display_name": "Python 3",
   "language": "python",
   "name": "python3"
  },
  "language_info": {
   "codemirror_mode": {
    "name": "ipython",
    "version": 3
   },
   "file_extension": ".py",
   "mimetype": "text/x-python",
   "name": "python",
   "nbconvert_exporter": "python",
   "pygments_lexer": "ipython3",
   "version": "3.6.1"
  }
 },
 "nbformat": 4,
 "nbformat_minor": 2
}
