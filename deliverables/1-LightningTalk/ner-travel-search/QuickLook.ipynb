{
 "cells": [
  {
   "cell_type": "code",
   "execution_count": 2,
   "metadata": {
    "collapsed": true
   },
   "outputs": [],
   "source": [
    "import pickle\n",
    "import gzip\n",
    "import numpy as np, pandas as pd"
   ]
  },
  {
   "cell_type": "code",
   "execution_count": 7,
   "metadata": {},
   "outputs": [
    {
     "data": {
      "text/plain": [
       "['atis.fold0.pkl.gz',\n",
       " 'atis.fold1.pkl.gz',\n",
       " 'atis.fold2.pkl.gz',\n",
       " 'atis.fold3.pkl.gz',\n",
       " 'atis.fold4.pkl.gz']"
      ]
     },
     "execution_count": 7,
     "metadata": {},
     "output_type": "execute_result"
    }
   ],
   "source": [
    "def get_filenames():\n",
    "    files = !ls\n",
    "    files = [f for f in files if 'atis' in f]\n",
    "    return files\n",
    "get_filenames()"
   ]
  },
  {
   "cell_type": "code",
   "execution_count": 15,
   "metadata": {},
   "outputs": [
    {
     "data": {
      "text/html": [
       "<div>\n",
       "<table border=\"1\" class=\"dataframe\">\n",
       "  <thead>\n",
       "    <tr>\n",
       "      <th>first</th>\n",
       "      <th colspan=\"3\" halign=\"left\">Word1</th>\n",
       "      <th colspan=\"3\" halign=\"left\">Word2</th>\n",
       "    </tr>\n",
       "    <tr>\n",
       "      <th>second</th>\n",
       "      <th>word_length</th>\n",
       "      <th>is_uppercase?</th>\n",
       "      <th>prev_token_is_city</th>\n",
       "      <th>word_length</th>\n",
       "      <th>is_uppercase?</th>\n",
       "      <th>prev_token_is_city</th>\n",
       "    </tr>\n",
       "  </thead>\n",
       "  <tbody>\n",
       "    <tr>\n",
       "      <th>A</th>\n",
       "      <td>-0.163653</td>\n",
       "      <td>-0.930804</td>\n",
       "      <td>-0.694448</td>\n",
       "      <td>-0.975145</td>\n",
       "      <td>-0.962460</td>\n",
       "      <td>-0.294057</td>\n",
       "    </tr>\n",
       "    <tr>\n",
       "      <th>B</th>\n",
       "      <td>0.448409</td>\n",
       "      <td>-1.244464</td>\n",
       "      <td>-0.280922</td>\n",
       "      <td>1.292447</td>\n",
       "      <td>1.984015</td>\n",
       "      <td>-1.624580</td>\n",
       "    </tr>\n",
       "    <tr>\n",
       "      <th>C</th>\n",
       "      <td>-0.315218</td>\n",
       "      <td>0.549252</td>\n",
       "      <td>-0.945447</td>\n",
       "      <td>-0.715877</td>\n",
       "      <td>0.665729</td>\n",
       "      <td>0.727129</td>\n",
       "    </tr>\n",
       "  </tbody>\n",
       "</table>\n",
       "</div>"
      ],
      "text/plain": [
       "first        Word1                                        Word2                \\\n",
       "second word_length is_uppercase? prev_token_is_city word_length is_uppercase?   \n",
       "A        -0.163653     -0.930804          -0.694448   -0.975145     -0.962460   \n",
       "B         0.448409     -1.244464          -0.280922    1.292447      1.984015   \n",
       "C        -0.315218      0.549252          -0.945447   -0.715877      0.665729   \n",
       "\n",
       "first                      \n",
       "second prev_token_is_city  \n",
       "A               -0.294057  \n",
       "B               -1.624580  \n",
       "C                0.727129  "
      ]
     },
     "execution_count": 15,
     "metadata": {},
     "output_type": "execute_result"
    }
   ],
   "source": [
    "iterables = [['Word1', 'Word2'], ['word_length', 'is_uppercase?', 'prev_token_is_city']]\n",
    "index = pd.MultiIndex.from_product(iterables, names=['first', 'second'])\n",
    "df = pd.DataFrame(np.random.randn(3, 6), index=['A', 'B', 'C'], columns=index)\n",
    "df.head()"
   ]
  },
  {
   "cell_type": "code",
   "execution_count": null,
   "metadata": {
    "collapsed": true
   },
   "outputs": [],
   "source": []
  },
  {
   "cell_type": "code",
   "execution_count": 6,
   "metadata": {},
   "outputs": [
    {
     "name": "stdout",
     "output_type": "stream",
     "text": [
      "3983\n",
      "[554 194 268  64  62  16   8 234 481  20  40  58 234 415 205]\n",
      "[  0   0   0  18   0   1  52   0   0  76   0   0   0  18 109]\n",
      "[126 126 126  48 126  36  35 126 126  33 126 126 126  78 123]\n"
     ]
    }
   ],
   "source": [
    "def read_file(filename):\n",
    "    f = gzip.open(filename, 'rb')\n",
    "    try:\n",
    "        train_set, valid_set, test_set, dicts = pickle.load(f, encoding='latin1')\n",
    "    except:\n",
    "        train_set, valid_set, test_set, dicts = pickle.load(f)\n",
    "        \n",
    "    return train_set, valid_set, test_set, dicts\n",
    "\n",
    "train_set, _, _, dicts = read_file(get_filenames()[0])\n",
    "print(len(train_set[0]))\n",
    "print(train_set[0][0])\n",
    "print(train_set[1][0])\n",
    "print(train_set[2][0])"
   ]
  },
  {
   "cell_type": "code",
   "execution_count": 5,
   "metadata": {},
   "outputs": [
    {
     "data": {
      "text/plain": [
       "[('what is the abbreviation for canadian airlines international',\n",
       "  'O O O O O B-airline_name I-airline_name I-airline_name'),\n",
       " ('show me the us air flights from atlanta to boston',\n",
       "  'O O O B-airline_name I-airline_name O O B-fromloc.city_name O B-toloc.city_name'),\n",
       " ('show me the cheapest round trips from dallas to baltimore',\n",
       "  'O O O B-cost_relative B-round_trip I-round_trip O B-fromloc.city_name O B-toloc.city_name'),\n",
       " ('explain fare code qx', 'O O O B-fare_basis_code'),\n",
       " ('what does the meal code s stand for', 'O O O B-meal O B-meal_code O O'),\n",
       " ('what are all flights to denver from philadelphia on sunday',\n",
       "  'O O O O O B-toloc.city_name O B-fromloc.city_name O B-depart_date.day_name'),\n",
       " ('what flights are available monday from san francisco to pittsburgh',\n",
       "  'O O O O B-depart_date.day_name O B-fromloc.city_name I-fromloc.city_name O B-toloc.city_name'),\n",
       " ('what airlines have business class', 'O O O B-class_type I-class_type'),\n",
       " ('flights from atlanta to washington dc',\n",
       "  'O O B-fromloc.city_name O B-toloc.city_name B-toloc.state_code'),\n",
       " ('from new york to toronto on thursday morning',\n",
       "  'O B-fromloc.city_name I-fromloc.city_name O B-toloc.city_name O B-depart_date.day_name B-depart_time.period_of_day'),\n",
       " ('show me all the direct flights from atlanta to baltimore',\n",
       "  'O O O O B-connect O O B-fromloc.city_name O B-toloc.city_name'),\n",
       " ('what planes are used by twa', 'O O O O O B-airline_code'),\n",
       " ('show me the flights from baltimore to philadelphia',\n",
       "  'O O O O O B-fromloc.city_name O B-toloc.city_name'),\n",
       " ('show me all flights from boston to denver',\n",
       "  'O O O O O B-fromloc.city_name O B-toloc.city_name'),\n",
       " ('baltimore to philadelphia', 'B-fromloc.city_name O B-toloc.city_name'),\n",
       " ('fares from dallas to baltimore',\n",
       "  'O O B-fromloc.city_name O B-toloc.city_name'),\n",
       " ('what airlines fly from boston to pittsburgh',\n",
       "  'O O O O B-fromloc.city_name O B-toloc.city_name'),\n",
       " ('show me the daily flight schedule between boston and pittsburgh',\n",
       "  'O O O B-flight_days B-flight_time I-flight_time O B-fromloc.city_name O B-toloc.city_name'),\n",
       " ('show me delta flights from dallas to denver',\n",
       "  'O O B-airline_name O O B-fromloc.city_name O B-toloc.city_name'),\n",
       " ('i would like a flight from philadelphia to dallas',\n",
       "  'O O O O O O B-fromloc.city_name O B-toloc.city_name'),\n",
       " ('what kind of ground transportation is there in denver',\n",
       "  'O O O O O O O O B-city_name'),\n",
       " ('show me ground transportation information for pittsburgh',\n",
       "  'O O O O O O B-city_name'),\n",
       " ('which airlines fly between boston and pittsburgh',\n",
       "  'O O O O B-fromloc.city_name O B-toloc.city_name'),\n",
       " ('show me all flights from phoenix to milwaukee next wednesday',\n",
       "  'O O O O O B-fromloc.city_name O B-toloc.city_name B-depart_date.date_relative B-depart_date.day_name'),\n",
       " ('show me the flights from san francisco to boston',\n",
       "  'O O O O O B-fromloc.city_name I-fromloc.city_name O B-toloc.city_name'),\n",
       " ('are there any united airlines flights between boston and dallas',\n",
       "  'O O O B-airline_name I-airline_name O O B-fromloc.city_name O B-toloc.city_name'),\n",
       " ('what ground transportation is available at the baltimore airport',\n",
       "  'O O O O O O O B-airport_name I-airport_name'),\n",
       " ('flights from charlotte to baltimore',\n",
       "  'O O B-fromloc.city_name O B-toloc.city_name'),\n",
       " ('what is the least expensive flight from atlanta to boston',\n",
       "  'O O O B-cost_relative I-cost_relative O O B-fromloc.city_name O B-toloc.city_name'),\n",
       " ('show all flights and fares from denver to san francisco',\n",
       "  'O O O O O O B-fromloc.city_name O B-toloc.city_name I-toloc.city_name'),\n",
       " ('an american airlines flight first class from philadelphia to dallas',\n",
       "  'O B-airline_name I-airline_name O B-class_type I-class_type O B-fromloc.city_name O B-toloc.city_name'),\n",
       " (\"let 's look at baltimore to philadelphia again\",\n",
       "  'O O O O B-fromloc.city_name O B-toloc.city_name O'),\n",
       " ('all flights from baltimore to philadelphia less than DIGITDIGITDIGITDIGIT dollars',\n",
       "  'O O O B-fromloc.city_name O B-toloc.city_name B-cost_relative O B-fare_amount I-fare_amount'),\n",
       " ('is there a flight tomorrow morning from columbus to nashville',\n",
       "  'O O O O B-depart_date.today_relative B-depart_time.period_of_day O B-fromloc.city_name O B-toloc.city_name'),\n",
       " ('show me all flights from baltimore to san francisco',\n",
       "  'O O O O O B-fromloc.city_name O B-toloc.city_name I-toloc.city_name'),\n",
       " ('tell me the flights from baltimore to dallas',\n",
       "  'O O O O O B-fromloc.city_name O B-toloc.city_name'),\n",
       " ('flights from atlanta to washington dc on thursday morning',\n",
       "  'O O B-fromloc.city_name O B-toloc.city_name B-toloc.state_code O B-depart_date.day_name B-depart_time.period_of_day'),\n",
       " ('what ground transportation is available in pittsburgh',\n",
       "  'O O O O O O B-city_name'),\n",
       " ('show me the flights from pittsburgh to baltimore',\n",
       "  'O O O O O B-fromloc.city_name O B-toloc.city_name'),\n",
       " ('show me flights from san francisco to minneapolis',\n",
       "  'O O O O B-fromloc.city_name I-fromloc.city_name O B-toloc.city_name'),\n",
       " ('what is the type of aircraft for united flight DIGITDIGIT',\n",
       "  'O O O O O O O B-airline_name O B-flight_number'),\n",
       " ('does any airline offer dc10 service between denver and boston',\n",
       "  'O O O O B-aircraft_code O O B-fromloc.city_name O B-toloc.city_name'),\n",
       " ('flights from dc to denver', 'O O B-fromloc.state_code O B-toloc.city_name'),\n",
       " ('show me the flights from boston to pittsburgh on wednesday',\n",
       "  'O O O O O B-fromloc.city_name O B-toloc.city_name O B-depart_date.day_name'),\n",
       " ('show me the flights from baltimore to dallas',\n",
       "  'O O O O O B-fromloc.city_name O B-toloc.city_name'),\n",
       " ('how far is downtown from the airport in dallas',\n",
       "  'O O O O O O O O B-fromloc.city_name'),\n",
       " (\"what 's the earliest flight from san jose to houston\",\n",
       "  'O O O B-flight_mod O O B-fromloc.city_name I-fromloc.city_name O B-toloc.city_name'),\n",
       " ('show me the flights from san francisco to dallas',\n",
       "  'O O O O O B-fromloc.city_name I-fromloc.city_name O B-toloc.city_name'),\n",
       " ('flights from dallas to houston in the morning',\n",
       "  'O O B-fromloc.city_name O B-toloc.city_name O O B-depart_time.period_of_day'),\n",
       " ('flights between baltimore and washington dc',\n",
       "  'O O B-fromloc.city_name O B-toloc.city_name B-toloc.state_code')]"
      ]
     },
     "execution_count": 5,
     "metadata": {},
     "output_type": "execute_result"
    }
   ],
   "source": [
    "def get_sample_data(how_many, filename, max_length=None):\n",
    "    words_train_set, _, _, dicts = read_file(filename)\n",
    "    \n",
    "    words2idx = dicts['words2idx']\n",
    "    labels2idx = dicts['labels2idx']\n",
    "    tables2idx = dicts['tables2idx']\n",
    "    \n",
    "    idx2words = {words2idx[k]: k for k in words2idx}\n",
    "    idx2labels = {labels2idx[k]: k for k in labels2idx}\n",
    "    idx2tables = {tables2idx[k]: k for k in tables2idx}\n",
    "    \n",
    "    sample_data = []\n",
    "    for i in range(how_many*5):\n",
    "        if max_length is not None:\n",
    "            if len(train_set[0][i]) > max_length:\n",
    "                continue\n",
    "        sample_data.append(\n",
    "            (\n",
    "                \" \".join([idx2words[idx] for idx in train_set[0][i]]),\n",
    "                \" \".join([idx2labels[idx] for idx in train_set[2][i]])\n",
    "            )\n",
    "        )\n",
    "        \n",
    "    return sample_data[:how_many]\n",
    "\n",
    "get_sample_data(50, get_filenames()[0], 10)"
   ]
  }
 ],
 "metadata": {
  "kernelspec": {
   "display_name": "Python 3",
   "language": "python",
   "name": "python3"
  },
  "language_info": {
   "codemirror_mode": {
    "name": "ipython",
    "version": 3
   },
   "file_extension": ".py",
   "mimetype": "text/x-python",
   "name": "python",
   "nbconvert_exporter": "python",
   "pygments_lexer": "ipython3",
   "version": "3.6.1"
  }
 },
 "nbformat": 4,
 "nbformat_minor": 2
}
