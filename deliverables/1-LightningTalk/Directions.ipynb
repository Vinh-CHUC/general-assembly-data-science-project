{
 "cells": [
  {
   "cell_type": "code",
   "execution_count": null,
   "metadata": {
    "collapsed": true
   },
   "outputs": [],
   "source": []
  },
  {
   "cell_type": "markdown",
   "metadata": {},
   "source": [
    "# ![](https://ga-dash.s3.amazonaws.com/production/assets/logo-9f88ae6c9c3871690e33280fcf557f33.png) Final Project, Part 1: Lightning Talk\n",
    "\n",
    "\n",
    "### PROMPT\n",
    "\n",
    "In the field of data science, projects are practical. A good project is manageable and relates to your working domain; however, it can be hard to filter and scope good ideas when you're new to a field. That's where Part 1 of your final project comes in. \n",
    "\n",
    "One of the best ways to test expectations and get feedback is to share your ideas with others. For part one of your final project, you'll come up with a few different ideas you could potentially solve with data, then present them in small groups to the class.\n",
    "\n",
    "You'll get the opportunity to get immediate feedback and guidance in order to help you choose an awesome final project idea. Keep in mind that it's important to run though this ideation process a few times with different ideas to clarify what your project should focus on. \n",
    "\n",
    "**Goal**: Prepare a one-minute lightning talk that covers 2-3 potential project topics.\n",
    "\n",
    "---\n",
    "\n",
    "### DELIVERABLES\n",
    "\n",
    "#### Lightning Presentation\n",
    "\n",
    "- **Requirements:** You should present from a prepared deck that explains the following:\n",
    "    * ___The Problem___: What's the background and scope of the project idea? What problem are you attempting to address or solve? Who may it matter to?\n",
    "    * ___Data___: What data exists to help solve this problem? Where is it coming from? What does the data look like? What is the observation?\n",
    "    * ___Hypotheses___: Given the problem and data you're aware of, what do you believe is the solution? What does success look like?\n",
    "\n",
    "- **Detailed Breakdown:** Your presentation must:\n",
    "    * Explain two to three potential projects, including: a problem statement, a hypothesis, and potential data sets\n",
    "    * Be 2-3 minutes in duration\n",
    "    * Demonstrate familiarity with the domain of the data\n",
    "    * **Show how the feature matrix would look like**.\n",
    "\n",
    "- **Bonus:**\n",
    "    - High level data points can help show the \"improvement\" scope that's available\n",
    "    - Cite similar/previous work that will better inform your strategy that can be taken\n",
    "\n",
    "- **Submission:**\t\n",
    "    * Present materials in class\n",
    "    * Submit presentation to instructor via email.\n",
    "\n",
    "---\n",
    "\n",
    "### RESOURCES\n",
    "\n",
    "#### Suggestions for Getting Started\n",
    "\n",
    "- Try putting together a three-slide deck for each of your project ideas, in order to stay organized.\n",
    "- Look for example (or real) data to get a feel for what information exists that you can use.\n",
    "- Think about how much time you can dedicate to the project each week, and where you think the largest challenges will lie.\n",
    "- Think about this as an elevator pitch: be prepared, do some light research, but don't go down any \"rabbit holes\".\n",
    "\n",
    "#### Additional Links\n",
    "\n",
    "- For overall project ideas, consider looking at former [General Assembly Data Science Projects](https://gallery.generalassemb.ly/DS?metro=)\n"
   ]
  },
  {
   "cell_type": "markdown",
   "metadata": {},
   "source": [
    "# ![](https://ga-dash.s3.amazonaws.com/production/assets/logo-9f88ae6c9c3871690e33280fcf557f33.png) RUBRIC\n",
    "**Final Project 1 | Data Science** \t \t\t\t\t\t\t\n",
    "\n",
    "Your project will be assessed using the following standards, as defined by the data science workflow:\n",
    "\n",
    "- **Identify & Acquire**\n",
    "\n",
    "Acceptable performance for this standard is based on how well you've applied specific learning goals within your deliverable. To review the full list of data science standards, see the course syllabus.\n",
    "\n",
    "---\n",
    "\n",
    "## IDENTIFY & ACQUIRE\n",
    "**Meets Expectations**: Did you: Demonstrate comprehension of project objectives? Articulate the goals and criteria for success? Create guiding questions to identify data and potential methods of analysis? Application of these learning goals will be assessed using the requirements below:\n",
    "\n",
    "#### Performance Evaluation\n",
    "> Mark boxes with an 'X'\n",
    "\n",
    "| Requirements | Incomplete (0) | Does Not Meet Expectations (1) | Meets Expectations (2) | Exceeds Expectations (3) |\n",
    "|---|---|---|---|---|\n",
    "| Explain three potential projects | | | | |\n",
    "| Each set should include a problem statement, a hypothesis, and potential data sets | | | | |\n",
    "| Be 2-3 minutes in duration | | | | |\n",
    "| Demonstrate familiarity with the domain of the data | | | | |\n",
    "\n",
    "Notes:\n",
    "\n",
    "---\n",
    "\n",
    "## Score:\n",
    "Based on the requirements, you can earn a maximum of  **12**  points on this project. \n"
   ]
  }
 ],
 "metadata": {
  "kernelspec": {
   "display_name": "Python 3",
   "language": "python",
   "name": "python3"
  },
  "language_info": {
   "codemirror_mode": {
    "name": "ipython",
    "version": 3
   },
   "file_extension": ".py",
   "mimetype": "text/x-python",
   "name": "python",
   "nbconvert_exporter": "python",
   "pygments_lexer": "ipython3",
   "version": "3.6.1"
  }
 },
 "nbformat": 4,
 "nbformat_minor": 2
}
