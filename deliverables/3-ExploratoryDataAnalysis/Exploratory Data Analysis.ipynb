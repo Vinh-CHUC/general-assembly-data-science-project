{
 "cells": [
  {
   "cell_type": "markdown",
   "metadata": {},
   "source": [
    "# Context\n",
    "The dataset comes from Kaggle https://inclass.kaggle.com/jordangoblet/atp-tour-20002016, and has been compiled from various sources.\n",
    "\n",
    "It contains relatively high level data about all tennis games on the ATP tour, like the date of the game, names of both players, who won, their ranks, the type of surface, the name of the tournament...\n",
    "\n",
    "There is some other data (which I don't think I\"ll use) such as:\n",
    "* The breakdown of the scores eg 6-4 6-4 6-4\n",
    "* Various betting odds from various betting companies"
   ]
  },
  {
   "cell_type": "markdown",
   "metadata": {},
   "source": [
    "To recap:\n",
    "* we're trying to predict who will win a given tennis match, based on the information available. We will have to compute derived features that represent the user's past performance, as the information available upfront for a given tennis match is relatively limited\n",
    "* A baseline could be based on the current ATP ranking (ie the better ranked player should win)"
   ]
  },
  {
   "cell_type": "markdown",
   "metadata": {
    "collapsed": true
   },
   "source": [
    "# 1/ Basic look at the data + Cleaning data (converting types and removing NAs)"
   ]
  },
  {
   "cell_type": "code",
   "execution_count": 1,
   "metadata": {
    "collapsed": true
   },
   "outputs": [],
   "source": [
    "import pandas as pd, numpy as np\n",
    "import importlib\n",
    "%matplotlib inline\n",
    "import matplotlib as mpl\n",
    "import matplotlib.pyplot as plt\n",
    "import seaborn as sns\n",
    "mpl.rcParams['figure.figsize'] = (12,8)"
   ]
  },
  {
   "cell_type": "code",
   "execution_count": 2,
   "metadata": {
    "collapsed": true
   },
   "outputs": [],
   "source": [
    "import sys\n",
    "sys.path.append(\"../../\")\n",
    "# Importing my helper module\n",
    "from tennis_predictor import clean_data"
   ]
  },
  {
   "cell_type": "code",
   "execution_count": 3,
   "metadata": {
    "collapsed": true
   },
   "outputs": [],
   "source": [
    "df = pd.read_csv(\"../../data.csv\", low_memory=False)\n",
    "COLUMNS = [\n",
    "    \"Location\", \"Tournament\", \"Date\",\n",
    "    \"Series\",\n",
    "    \"Court\", \"Surface\",\n",
    "    \"Round\", \"Best of\",\n",
    "    \"Winner\", \"Loser\", \"WRank\", \"LRank\",\n",
    "]\n",
    "GAME_STATS_COLS = [\n",
    "    \"W1\", \"L1\", \"W2\", \"L2\", \"W3\", \"L3\", \"W4\", \"L4\", \"W5\", \"L5\",\n",
    "    \"Wsets\", \"Lsets\"\n",
    "]\n",
    "df = df[COLUMNS + GAME_STATS_COLS]"
   ]
  },
  {
   "cell_type": "markdown",
   "metadata": {},
   "source": [
    "## 1.A An example record"
   ]
  },
  {
   "cell_type": "code",
   "execution_count": 4,
   "metadata": {},
   "outputs": [
    {
     "data": {
      "text/plain": [
       "Location                 Memphis\n",
       "Tournament       Kroger St. Jude\n",
       "Date                  14/02/2000\n",
       "Series        International Gold\n",
       "Court                     Indoor\n",
       "Surface                     Hard\n",
       "Round                  1st Round\n",
       "Best of                        3\n",
       "Winner                 Mamiit C.\n",
       "Loser                  Jensen L.\n",
       "WRank                        135\n",
       "LRank                         NR\n",
       "W1                             7\n",
       "L1                             5\n",
       "W2                             6\n",
       "L2                             2\n",
       "W3                           NaN\n",
       "L3                           NaN\n",
       "W4                           NaN\n",
       "L4                           NaN\n",
       "W5                           NaN\n",
       "L5                           NaN\n",
       "Wsets                          2\n",
       "Lsets                          0\n",
       "Name: 377, dtype: object"
      ]
     },
     "execution_count": 4,
     "metadata": {},
     "output_type": "execute_result"
    }
   ],
   "source": [
    "# Example record\n",
    "df.iloc[377]"
   ]
  },
  {
   "cell_type": "markdown",
   "metadata": {},
   "source": [
    "## 1.B Converting to the appropriate data types, dropping rows with NAs"
   ]
  },
  {
   "cell_type": "code",
   "execution_count": 5,
   "metadata": {},
   "outputs": [
    {
     "name": "stdout",
     "output_type": "stream",
     "text": [
      "Location       0\n",
      "Tournament     0\n",
      "Date           0\n",
      "Series         0\n",
      "Court          0\n",
      "Surface        0\n",
      "Round          0\n",
      "Best of        0\n",
      "Winner         0\n",
      "Loser          0\n",
      "WRank         16\n",
      "LRank         98\n",
      "dtype: int64\n"
     ]
    }
   ],
   "source": [
    "data = clean_data.convert_to_numeric(df, [\"WRank\", \"LRank\"])\n",
    "data = data.assign(\n",
    "    Date=pd.to_datetime(data.Date, format=\"%d/%m/%Y\")\n",
    ")\n",
    "data = clean_data.drop_nas(data, COLUMNS)  # This will also print a summary of where we had NAs"
   ]
  },
  {
   "cell_type": "code",
   "execution_count": 6,
   "metadata": {
    "collapsed": true
   },
   "outputs": [],
   "source": [
    "# There's some player names duplicated with leading/trailing whitespaces\n",
    "data.loc[:, \"Winner\"] = data.Winner.str.strip()\n",
    "data.loc[:, \"Loser\"] = data.Loser.str.strip()"
   ]
  },
  {
   "cell_type": "markdown",
   "metadata": {},
   "source": [
    "## 1.C Inspecting the data"
   ]
  },
  {
   "cell_type": "code",
   "execution_count": 7,
   "metadata": {},
   "outputs": [
    {
     "data": {
      "text/html": [
       "<div>\n",
       "<table border=\"1\" class=\"dataframe\">\n",
       "  <thead>\n",
       "    <tr style=\"text-align: right;\">\n",
       "      <th></th>\n",
       "      <th>Location</th>\n",
       "      <th>Tournament</th>\n",
       "      <th>Date</th>\n",
       "      <th>Series</th>\n",
       "      <th>Court</th>\n",
       "      <th>Surface</th>\n",
       "      <th>Round</th>\n",
       "      <th>Best of</th>\n",
       "      <th>Winner</th>\n",
       "      <th>Loser</th>\n",
       "      <th>WRank</th>\n",
       "      <th>LRank</th>\n",
       "      <th>W1</th>\n",
       "      <th>L1</th>\n",
       "      <th>W2</th>\n",
       "      <th>L2</th>\n",
       "      <th>W3</th>\n",
       "      <th>L3</th>\n",
       "      <th>W4</th>\n",
       "      <th>L4</th>\n",
       "    </tr>\n",
       "  </thead>\n",
       "  <tbody>\n",
       "    <tr>\n",
       "      <th>46647</th>\n",
       "      <td>St. Petersburg</td>\n",
       "      <td>St. Petersburg Open</td>\n",
       "      <td>2016-09-23</td>\n",
       "      <td>ATP250</td>\n",
       "      <td>Indoor</td>\n",
       "      <td>Hard</td>\n",
       "      <td>Quarterfinals</td>\n",
       "      <td>3</td>\n",
       "      <td>Zverev A.</td>\n",
       "      <td>Youzhny M.</td>\n",
       "      <td>27.0</td>\n",
       "      <td>53.0</td>\n",
       "      <td>6.0</td>\n",
       "      <td>2.0</td>\n",
       "      <td>6.0</td>\n",
       "      <td>2.0</td>\n",
       "      <td>NaN</td>\n",
       "      <td>NaN</td>\n",
       "      <td>NaN</td>\n",
       "      <td>NaN</td>\n",
       "    </tr>\n",
       "    <tr>\n",
       "      <th>46648</th>\n",
       "      <td>St. Petersburg</td>\n",
       "      <td>St. Petersburg Open</td>\n",
       "      <td>2016-09-23</td>\n",
       "      <td>ATP250</td>\n",
       "      <td>Indoor</td>\n",
       "      <td>Hard</td>\n",
       "      <td>Quarterfinals</td>\n",
       "      <td>3</td>\n",
       "      <td>Wawrinka S.</td>\n",
       "      <td>Troicki V.</td>\n",
       "      <td>3.0</td>\n",
       "      <td>33.0</td>\n",
       "      <td>7.0</td>\n",
       "      <td>5.0</td>\n",
       "      <td>6.0</td>\n",
       "      <td>2.0</td>\n",
       "      <td>NaN</td>\n",
       "      <td>NaN</td>\n",
       "      <td>NaN</td>\n",
       "      <td>NaN</td>\n",
       "    </tr>\n",
       "    <tr>\n",
       "      <th>46649</th>\n",
       "      <td>St. Petersburg</td>\n",
       "      <td>St. Petersburg Open</td>\n",
       "      <td>2016-09-24</td>\n",
       "      <td>ATP250</td>\n",
       "      <td>Indoor</td>\n",
       "      <td>Hard</td>\n",
       "      <td>Semifinals</td>\n",
       "      <td>3</td>\n",
       "      <td>Zverev A.</td>\n",
       "      <td>Berdych T.</td>\n",
       "      <td>27.0</td>\n",
       "      <td>9.0</td>\n",
       "      <td>6.0</td>\n",
       "      <td>4.0</td>\n",
       "      <td>6.0</td>\n",
       "      <td>4.0</td>\n",
       "      <td>NaN</td>\n",
       "      <td>NaN</td>\n",
       "      <td>NaN</td>\n",
       "      <td>NaN</td>\n",
       "    </tr>\n",
       "    <tr>\n",
       "      <th>46650</th>\n",
       "      <td>St. Petersburg</td>\n",
       "      <td>St. Petersburg Open</td>\n",
       "      <td>2016-09-24</td>\n",
       "      <td>ATP250</td>\n",
       "      <td>Indoor</td>\n",
       "      <td>Hard</td>\n",
       "      <td>Semifinals</td>\n",
       "      <td>3</td>\n",
       "      <td>Wawrinka S.</td>\n",
       "      <td>Bautista Agut R.</td>\n",
       "      <td>3.0</td>\n",
       "      <td>16.0</td>\n",
       "      <td>7.0</td>\n",
       "      <td>6.0</td>\n",
       "      <td>6.0</td>\n",
       "      <td>2.0</td>\n",
       "      <td>NaN</td>\n",
       "      <td>NaN</td>\n",
       "      <td>NaN</td>\n",
       "      <td>NaN</td>\n",
       "    </tr>\n",
       "    <tr>\n",
       "      <th>46651</th>\n",
       "      <td>St. Petersburg</td>\n",
       "      <td>St. Petersburg Open</td>\n",
       "      <td>2016-09-25</td>\n",
       "      <td>ATP250</td>\n",
       "      <td>Indoor</td>\n",
       "      <td>Hard</td>\n",
       "      <td>The Final</td>\n",
       "      <td>3</td>\n",
       "      <td>Zverev A.</td>\n",
       "      <td>Wawrinka S.</td>\n",
       "      <td>27.0</td>\n",
       "      <td>3.0</td>\n",
       "      <td>6.0</td>\n",
       "      <td>2.0</td>\n",
       "      <td>3.0</td>\n",
       "      <td>6.0</td>\n",
       "      <td>7.0</td>\n",
       "      <td>5.0</td>\n",
       "      <td>NaN</td>\n",
       "      <td>NaN</td>\n",
       "    </tr>\n",
       "  </tbody>\n",
       "</table>\n",
       "</div>"
      ],
      "text/plain": [
       "             Location           Tournament       Date  Series   Court Surface  \\\n",
       "46647  St. Petersburg  St. Petersburg Open 2016-09-23  ATP250  Indoor    Hard   \n",
       "46648  St. Petersburg  St. Petersburg Open 2016-09-23  ATP250  Indoor    Hard   \n",
       "46649  St. Petersburg  St. Petersburg Open 2016-09-24  ATP250  Indoor    Hard   \n",
       "46650  St. Petersburg  St. Petersburg Open 2016-09-24  ATP250  Indoor    Hard   \n",
       "46651  St. Petersburg  St. Petersburg Open 2016-09-25  ATP250  Indoor    Hard   \n",
       "\n",
       "               Round  Best of       Winner             Loser  WRank  LRank  \\\n",
       "46647  Quarterfinals        3    Zverev A.        Youzhny M.   27.0   53.0   \n",
       "46648  Quarterfinals        3  Wawrinka S.        Troicki V.    3.0   33.0   \n",
       "46649     Semifinals        3    Zverev A.        Berdych T.   27.0    9.0   \n",
       "46650     Semifinals        3  Wawrinka S.  Bautista Agut R.    3.0   16.0   \n",
       "46651      The Final        3    Zverev A.       Wawrinka S.   27.0    3.0   \n",
       "\n",
       "        W1   L1   W2   L2   W3   L3  W4  L4  \n",
       "46647  6.0  2.0  6.0  2.0  NaN  NaN NaN NaN  \n",
       "46648  7.0  5.0  6.0  2.0  NaN  NaN NaN NaN  \n",
       "46649  6.0  4.0  6.0  4.0  NaN  NaN NaN NaN  \n",
       "46650  7.0  6.0  6.0  2.0  NaN  NaN NaN NaN  \n",
       "46651  6.0  2.0  3.0  6.0  7.0  5.0 NaN NaN  "
      ]
     },
     "execution_count": 7,
     "metadata": {},
     "output_type": "execute_result"
    }
   ],
   "source": [
    "data.iloc[:,:20].tail()"
   ]
  },
  {
   "cell_type": "code",
   "execution_count": 8,
   "metadata": {},
   "outputs": [
    {
     "data": {
      "text/html": [
       "<div>\n",
       "<table border=\"1\" class=\"dataframe\">\n",
       "  <thead>\n",
       "    <tr style=\"text-align: right;\">\n",
       "      <th></th>\n",
       "      <th>W5</th>\n",
       "      <th>L5</th>\n",
       "      <th>Wsets</th>\n",
       "      <th>Lsets</th>\n",
       "    </tr>\n",
       "  </thead>\n",
       "  <tbody>\n",
       "    <tr>\n",
       "      <th>0</th>\n",
       "      <td>NaN</td>\n",
       "      <td>NaN</td>\n",
       "      <td>2.0</td>\n",
       "      <td>0.0</td>\n",
       "    </tr>\n",
       "    <tr>\n",
       "      <th>1</th>\n",
       "      <td>NaN</td>\n",
       "      <td>NaN</td>\n",
       "      <td>2.0</td>\n",
       "      <td>0.0</td>\n",
       "    </tr>\n",
       "    <tr>\n",
       "      <th>2</th>\n",
       "      <td>NaN</td>\n",
       "      <td>NaN</td>\n",
       "      <td>2.0</td>\n",
       "      <td>1.0</td>\n",
       "    </tr>\n",
       "    <tr>\n",
       "      <th>3</th>\n",
       "      <td>NaN</td>\n",
       "      <td>NaN</td>\n",
       "      <td>2.0</td>\n",
       "      <td>0.0</td>\n",
       "    </tr>\n",
       "    <tr>\n",
       "      <th>4</th>\n",
       "      <td>NaN</td>\n",
       "      <td>NaN</td>\n",
       "      <td>2.0</td>\n",
       "      <td>1.0</td>\n",
       "    </tr>\n",
       "  </tbody>\n",
       "</table>\n",
       "</div>"
      ],
      "text/plain": [
       "   W5  L5  Wsets  Lsets\n",
       "0 NaN NaN    2.0    0.0\n",
       "1 NaN NaN    2.0    0.0\n",
       "2 NaN NaN    2.0    1.0\n",
       "3 NaN NaN    2.0    0.0\n",
       "4 NaN NaN    2.0    1.0"
      ]
     },
     "execution_count": 8,
     "metadata": {},
     "output_type": "execute_result"
    }
   ],
   "source": [
    "data.iloc[:,20:].head()"
   ]
  },
  {
   "cell_type": "code",
   "execution_count": 9,
   "metadata": {
    "scrolled": true
   },
   "outputs": [
    {
     "data": {
      "text/plain": [
       "(Location              object\n",
       " Tournament            object\n",
       " Date          datetime64[ns]\n",
       " Series                object\n",
       " Court                 object\n",
       " Surface               object\n",
       " Round                 object\n",
       " Best of                int64\n",
       " Winner                object\n",
       " Loser                 object\n",
       " WRank                float64\n",
       " LRank                float64\n",
       " W1                   float64\n",
       " L1                   float64\n",
       " W2                   float64\n",
       " L2                   float64\n",
       " W3                   float64\n",
       " L3                   float64\n",
       " W4                   float64\n",
       " L4                   float64\n",
       " W5                   float64\n",
       " L5                   float64\n",
       " Wsets                float64\n",
       " Lsets                float64\n",
       " dtype: object, (46538, 24))"
      ]
     },
     "execution_count": 9,
     "metadata": {},
     "output_type": "execute_result"
    }
   ],
   "source": [
    "data.dtypes, data.shape"
   ]
  },
  {
   "cell_type": "markdown",
   "metadata": {},
   "source": [
    "## 1.D Baseline: Does the better ranked player always win?"
   ]
  },
  {
   "cell_type": "code",
   "execution_count": 10,
   "metadata": {},
   "outputs": [
    {
     "data": {
      "text/plain": [
       "0.6568395719626972"
      ]
     },
     "execution_count": 10,
     "metadata": {},
     "output_type": "execute_result"
    }
   ],
   "source": [
    "matches_where_better_wins = data[data.WRank < data.LRank].shape[0]\n",
    "matches_where_better_wins / data.shape[0]"
   ]
  },
  {
   "cell_type": "markdown",
   "metadata": {},
   "source": [
    "### They do about 65% of the time !!"
   ]
  },
  {
   "cell_type": "markdown",
   "metadata": {},
   "source": [
    "# 2/ Labelling players 1 and 2 (input: data Dataframe)"
   ]
  },
  {
   "cell_type": "markdown",
   "metadata": {},
   "source": [
    "* The player specific columns are basically grouped into two groups: the various columns about the Winner and the various columns about the Loser\n",
    "* We need to somehow pick, for each match a \"Player1\" and a \"Player2\", in a way that Player1 doesn't always win!"
   ]
  },
  {
   "cell_type": "markdown",
   "metadata": {},
   "source": [
    "#### So if we pick the better player as \"Player1\", we know that Player1 only wins 65% of the time. If we try to predict whether Player1 wins, we have 65% of \"True\" and \"35%\" of \"False\""
   ]
  },
  {
   "cell_type": "code",
   "execution_count": 11,
   "metadata": {},
   "outputs": [
    {
     "name": "stdout",
     "output_type": "stream",
     "text": [
      "(46538, 16)\n"
     ]
    },
    {
     "data": {
      "text/html": [
       "<div>\n",
       "<table border=\"1\" class=\"dataframe\">\n",
       "  <thead>\n",
       "    <tr style=\"text-align: right;\">\n",
       "      <th></th>\n",
       "      <th>P1_Name</th>\n",
       "      <th>P1_Rank</th>\n",
       "      <th>P1_1</th>\n",
       "      <th>P1_2</th>\n",
       "      <th>P1_3</th>\n",
       "      <th>P1_4</th>\n",
       "      <th>P1_5</th>\n",
       "      <th>P1_Sets</th>\n",
       "      <th>P2_Name</th>\n",
       "      <th>P2_Rank</th>\n",
       "      <th>P2_1</th>\n",
       "      <th>P2_2</th>\n",
       "      <th>P2_3</th>\n",
       "      <th>P2_4</th>\n",
       "      <th>P2_5</th>\n",
       "      <th>P2_Sets</th>\n",
       "    </tr>\n",
       "  </thead>\n",
       "  <tbody>\n",
       "    <tr>\n",
       "      <th>0</th>\n",
       "      <td>Dosedel S.</td>\n",
       "      <td>63.0</td>\n",
       "      <td>6.0</td>\n",
       "      <td>6.0</td>\n",
       "      <td>NaN</td>\n",
       "      <td>NaN</td>\n",
       "      <td>NaN</td>\n",
       "      <td>2.0</td>\n",
       "      <td>Ljubicic I.</td>\n",
       "      <td>77.0</td>\n",
       "      <td>4.0</td>\n",
       "      <td>2.0</td>\n",
       "      <td>NaN</td>\n",
       "      <td>NaN</td>\n",
       "      <td>NaN</td>\n",
       "      <td>0.0</td>\n",
       "    </tr>\n",
       "    <tr>\n",
       "      <th>1</th>\n",
       "      <td>Enqvist T.</td>\n",
       "      <td>5.0</td>\n",
       "      <td>6.0</td>\n",
       "      <td>6.0</td>\n",
       "      <td>NaN</td>\n",
       "      <td>NaN</td>\n",
       "      <td>NaN</td>\n",
       "      <td>2.0</td>\n",
       "      <td>Clement A.</td>\n",
       "      <td>56.0</td>\n",
       "      <td>3.0</td>\n",
       "      <td>3.0</td>\n",
       "      <td>NaN</td>\n",
       "      <td>NaN</td>\n",
       "      <td>NaN</td>\n",
       "      <td>0.0</td>\n",
       "    </tr>\n",
       "    <tr>\n",
       "      <th>2</th>\n",
       "      <td>Escude N.</td>\n",
       "      <td>40.0</td>\n",
       "      <td>6.0</td>\n",
       "      <td>7.0</td>\n",
       "      <td>6.0</td>\n",
       "      <td>NaN</td>\n",
       "      <td>NaN</td>\n",
       "      <td>2.0</td>\n",
       "      <td>Baccanello P.</td>\n",
       "      <td>655.0</td>\n",
       "      <td>7.0</td>\n",
       "      <td>5.0</td>\n",
       "      <td>3.0</td>\n",
       "      <td>NaN</td>\n",
       "      <td>NaN</td>\n",
       "      <td>1.0</td>\n",
       "    </tr>\n",
       "    <tr>\n",
       "      <th>3</th>\n",
       "      <td>Federer R.</td>\n",
       "      <td>65.0</td>\n",
       "      <td>6.0</td>\n",
       "      <td>6.0</td>\n",
       "      <td>NaN</td>\n",
       "      <td>NaN</td>\n",
       "      <td>NaN</td>\n",
       "      <td>2.0</td>\n",
       "      <td>Knippschild J.</td>\n",
       "      <td>87.0</td>\n",
       "      <td>1.0</td>\n",
       "      <td>4.0</td>\n",
       "      <td>NaN</td>\n",
       "      <td>NaN</td>\n",
       "      <td>NaN</td>\n",
       "      <td>0.0</td>\n",
       "    </tr>\n",
       "    <tr>\n",
       "      <th>4</th>\n",
       "      <td>Fromberg R.</td>\n",
       "      <td>81.0</td>\n",
       "      <td>7.0</td>\n",
       "      <td>5.0</td>\n",
       "      <td>6.0</td>\n",
       "      <td>NaN</td>\n",
       "      <td>NaN</td>\n",
       "      <td>2.0</td>\n",
       "      <td>Woodbridge T.</td>\n",
       "      <td>198.0</td>\n",
       "      <td>6.0</td>\n",
       "      <td>7.0</td>\n",
       "      <td>4.0</td>\n",
       "      <td>NaN</td>\n",
       "      <td>NaN</td>\n",
       "      <td>1.0</td>\n",
       "    </tr>\n",
       "  </tbody>\n",
       "</table>\n",
       "</div>"
      ],
      "text/plain": [
       "       P1_Name  P1_Rank  P1_1  P1_2  P1_3  P1_4  P1_5  P1_Sets  \\\n",
       "0   Dosedel S.     63.0   6.0   6.0   NaN   NaN   NaN      2.0   \n",
       "1   Enqvist T.      5.0   6.0   6.0   NaN   NaN   NaN      2.0   \n",
       "2    Escude N.     40.0   6.0   7.0   6.0   NaN   NaN      2.0   \n",
       "3   Federer R.     65.0   6.0   6.0   NaN   NaN   NaN      2.0   \n",
       "4  Fromberg R.     81.0   7.0   5.0   6.0   NaN   NaN      2.0   \n",
       "\n",
       "          P2_Name  P2_Rank  P2_1  P2_2  P2_3  P2_4  P2_5  P2_Sets  \n",
       "0     Ljubicic I.     77.0   4.0   2.0   NaN   NaN   NaN      0.0  \n",
       "1      Clement A.     56.0   3.0   3.0   NaN   NaN   NaN      0.0  \n",
       "2   Baccanello P.    655.0   7.0   5.0   3.0   NaN   NaN      1.0  \n",
       "3  Knippschild J.     87.0   1.0   4.0   NaN   NaN   NaN      0.0  \n",
       "4   Woodbridge T.    198.0   6.0   7.0   4.0   NaN   NaN      1.0  "
      ]
     },
     "execution_count": 11,
     "metadata": {},
     "output_type": "execute_result"
    }
   ],
   "source": [
    "# Let's basically rename columns, let the better rank player be \"Player1\" and the other one by \"Player2\"\n",
    "from tennis_predictor import transform_data\n",
    "P1_P2 = transform_data.number_players(data, lambda x: x.WRank <= x.LRank)\n",
    "print(P1_P2.shape)\n",
    "P1_P2.head()"
   ]
  },
  {
   "cell_type": "markdown",
   "metadata": {},
   "source": [
    "#### Let's now concatenate those new columns with the other columns that we care about (the first 10 columns in data, we don't care about the rest as we just copied/renamed them)"
   ]
  },
  {
   "cell_type": "code",
   "execution_count": 12,
   "metadata": {},
   "outputs": [
    {
     "name": "stdout",
     "output_type": "stream",
     "text": [
      "(46538, 26)\n"
     ]
    },
    {
     "data": {
      "text/html": [
       "<div>\n",
       "<table border=\"1\" class=\"dataframe\">\n",
       "  <thead>\n",
       "    <tr style=\"text-align: right;\">\n",
       "      <th></th>\n",
       "      <th>Location</th>\n",
       "      <th>Tournament</th>\n",
       "      <th>Date</th>\n",
       "      <th>Series</th>\n",
       "      <th>Court</th>\n",
       "      <th>Surface</th>\n",
       "      <th>Round</th>\n",
       "      <th>Best of</th>\n",
       "      <th>Winner</th>\n",
       "      <th>Loser</th>\n",
       "      <th>...</th>\n",
       "      <th>P1_5</th>\n",
       "      <th>P1_Sets</th>\n",
       "      <th>P2_Name</th>\n",
       "      <th>P2_Rank</th>\n",
       "      <th>P2_1</th>\n",
       "      <th>P2_2</th>\n",
       "      <th>P2_3</th>\n",
       "      <th>P2_4</th>\n",
       "      <th>P2_5</th>\n",
       "      <th>P2_Sets</th>\n",
       "    </tr>\n",
       "  </thead>\n",
       "  <tbody>\n",
       "    <tr>\n",
       "      <th>0</th>\n",
       "      <td>Adelaide</td>\n",
       "      <td>Australian Hardcourt Championships</td>\n",
       "      <td>2000-01-03</td>\n",
       "      <td>International</td>\n",
       "      <td>Outdoor</td>\n",
       "      <td>Hard</td>\n",
       "      <td>1st Round</td>\n",
       "      <td>3</td>\n",
       "      <td>Dosedel S.</td>\n",
       "      <td>Ljubicic I.</td>\n",
       "      <td>...</td>\n",
       "      <td>NaN</td>\n",
       "      <td>2.0</td>\n",
       "      <td>Ljubicic I.</td>\n",
       "      <td>77.0</td>\n",
       "      <td>4.0</td>\n",
       "      <td>2.0</td>\n",
       "      <td>NaN</td>\n",
       "      <td>NaN</td>\n",
       "      <td>NaN</td>\n",
       "      <td>0.0</td>\n",
       "    </tr>\n",
       "    <tr>\n",
       "      <th>1</th>\n",
       "      <td>Adelaide</td>\n",
       "      <td>Australian Hardcourt Championships</td>\n",
       "      <td>2000-01-03</td>\n",
       "      <td>International</td>\n",
       "      <td>Outdoor</td>\n",
       "      <td>Hard</td>\n",
       "      <td>1st Round</td>\n",
       "      <td>3</td>\n",
       "      <td>Enqvist T.</td>\n",
       "      <td>Clement A.</td>\n",
       "      <td>...</td>\n",
       "      <td>NaN</td>\n",
       "      <td>2.0</td>\n",
       "      <td>Clement A.</td>\n",
       "      <td>56.0</td>\n",
       "      <td>3.0</td>\n",
       "      <td>3.0</td>\n",
       "      <td>NaN</td>\n",
       "      <td>NaN</td>\n",
       "      <td>NaN</td>\n",
       "      <td>0.0</td>\n",
       "    </tr>\n",
       "    <tr>\n",
       "      <th>2</th>\n",
       "      <td>Adelaide</td>\n",
       "      <td>Australian Hardcourt Championships</td>\n",
       "      <td>2000-01-03</td>\n",
       "      <td>International</td>\n",
       "      <td>Outdoor</td>\n",
       "      <td>Hard</td>\n",
       "      <td>1st Round</td>\n",
       "      <td>3</td>\n",
       "      <td>Escude N.</td>\n",
       "      <td>Baccanello P.</td>\n",
       "      <td>...</td>\n",
       "      <td>NaN</td>\n",
       "      <td>2.0</td>\n",
       "      <td>Baccanello P.</td>\n",
       "      <td>655.0</td>\n",
       "      <td>7.0</td>\n",
       "      <td>5.0</td>\n",
       "      <td>3.0</td>\n",
       "      <td>NaN</td>\n",
       "      <td>NaN</td>\n",
       "      <td>1.0</td>\n",
       "    </tr>\n",
       "    <tr>\n",
       "      <th>3</th>\n",
       "      <td>Adelaide</td>\n",
       "      <td>Australian Hardcourt Championships</td>\n",
       "      <td>2000-01-03</td>\n",
       "      <td>International</td>\n",
       "      <td>Outdoor</td>\n",
       "      <td>Hard</td>\n",
       "      <td>1st Round</td>\n",
       "      <td>3</td>\n",
       "      <td>Federer R.</td>\n",
       "      <td>Knippschild J.</td>\n",
       "      <td>...</td>\n",
       "      <td>NaN</td>\n",
       "      <td>2.0</td>\n",
       "      <td>Knippschild J.</td>\n",
       "      <td>87.0</td>\n",
       "      <td>1.0</td>\n",
       "      <td>4.0</td>\n",
       "      <td>NaN</td>\n",
       "      <td>NaN</td>\n",
       "      <td>NaN</td>\n",
       "      <td>0.0</td>\n",
       "    </tr>\n",
       "    <tr>\n",
       "      <th>4</th>\n",
       "      <td>Adelaide</td>\n",
       "      <td>Australian Hardcourt Championships</td>\n",
       "      <td>2000-01-03</td>\n",
       "      <td>International</td>\n",
       "      <td>Outdoor</td>\n",
       "      <td>Hard</td>\n",
       "      <td>1st Round</td>\n",
       "      <td>3</td>\n",
       "      <td>Fromberg R.</td>\n",
       "      <td>Woodbridge T.</td>\n",
       "      <td>...</td>\n",
       "      <td>NaN</td>\n",
       "      <td>2.0</td>\n",
       "      <td>Woodbridge T.</td>\n",
       "      <td>198.0</td>\n",
       "      <td>6.0</td>\n",
       "      <td>7.0</td>\n",
       "      <td>4.0</td>\n",
       "      <td>NaN</td>\n",
       "      <td>NaN</td>\n",
       "      <td>1.0</td>\n",
       "    </tr>\n",
       "  </tbody>\n",
       "</table>\n",
       "<p>5 rows × 26 columns</p>\n",
       "</div>"
      ],
      "text/plain": [
       "   Location                          Tournament       Date         Series  \\\n",
       "0  Adelaide  Australian Hardcourt Championships 2000-01-03  International   \n",
       "1  Adelaide  Australian Hardcourt Championships 2000-01-03  International   \n",
       "2  Adelaide  Australian Hardcourt Championships 2000-01-03  International   \n",
       "3  Adelaide  Australian Hardcourt Championships 2000-01-03  International   \n",
       "4  Adelaide  Australian Hardcourt Championships 2000-01-03  International   \n",
       "\n",
       "     Court Surface      Round  Best of       Winner           Loser   ...     \\\n",
       "0  Outdoor    Hard  1st Round        3   Dosedel S.     Ljubicic I.   ...      \n",
       "1  Outdoor    Hard  1st Round        3   Enqvist T.      Clement A.   ...      \n",
       "2  Outdoor    Hard  1st Round        3    Escude N.   Baccanello P.   ...      \n",
       "3  Outdoor    Hard  1st Round        3   Federer R.  Knippschild J.   ...      \n",
       "4  Outdoor    Hard  1st Round        3  Fromberg R.   Woodbridge T.   ...      \n",
       "\n",
       "  P1_5  P1_Sets         P2_Name  P2_Rank  P2_1  P2_2  P2_3  P2_4 P2_5  P2_Sets  \n",
       "0  NaN      2.0     Ljubicic I.     77.0   4.0   2.0   NaN   NaN  NaN      0.0  \n",
       "1  NaN      2.0      Clement A.     56.0   3.0   3.0   NaN   NaN  NaN      0.0  \n",
       "2  NaN      2.0   Baccanello P.    655.0   7.0   5.0   3.0   NaN  NaN      1.0  \n",
       "3  NaN      2.0  Knippschild J.     87.0   1.0   4.0   NaN   NaN  NaN      0.0  \n",
       "4  NaN      2.0   Woodbridge T.    198.0   6.0   7.0   4.0   NaN  NaN      1.0  \n",
       "\n",
       "[5 rows x 26 columns]"
      ]
     },
     "execution_count": 12,
     "metadata": {},
     "output_type": "execute_result"
    }
   ],
   "source": [
    "data_with_P1_P2 = data.iloc[:,:10].join(P1_P2, how=\"inner\")\n",
    "print(data_with_P1_P2.shape)\n",
    "data_with_P1_P2.head()"
   ]
  },
  {
   "cell_type": "markdown",
   "metadata": {},
   "source": [
    "####  Let's add the target"
   ]
  },
  {
   "cell_type": "code",
   "execution_count": 13,
   "metadata": {
    "collapsed": true
   },
   "outputs": [],
   "source": [
    "data_with_P1_P2 = data_with_P1_P2.assign(\n",
    "    Player1Wins=lambda x: x.P1_Name ==  x.Winner\n",
    ")"
   ]
  },
  {
   "cell_type": "code",
   "execution_count": 14,
   "metadata": {},
   "outputs": [
    {
     "name": "stdout",
     "output_type": "stream",
     "text": [
      "Index(['Location', 'Tournament', 'Date', 'Series', 'Court', 'Surface', 'Round',\n",
      "       'Best of', 'P1_Name', 'P1_Rank', 'P1_1', 'P1_2', 'P1_3', 'P1_4', 'P1_5',\n",
      "       'P1_Sets', 'P2_Name', 'P2_Rank', 'P2_1', 'P2_2', 'P2_3', 'P2_4', 'P2_5',\n",
      "       'P2_Sets', 'Player1Wins'],\n",
      "      dtype='object')\n"
     ]
    },
    {
     "data": {
      "text/plain": [
       "0.65686105977910525"
      ]
     },
     "execution_count": 14,
     "metadata": {},
     "output_type": "execute_result"
    }
   ],
   "source": [
    "# Drop those as we won't need them anymore\n",
    "if {\"Winner\", \"Loser\"}.intersection(data_with_P1_P2.columns):  # So that we can rerun this cell :)\n",
    "    data_with_P1_P2 = data_with_P1_P2.drop([\"Winner\", \"Loser\"], axis=1)\n",
    "print(data_with_P1_P2.columns)\n",
    "data_with_P1_P2.Player1Wins.mean()"
   ]
  },
  {
   "cell_type": "code",
   "execution_count": 15,
   "metadata": {},
   "outputs": [
    {
     "data": {
      "text/html": [
       "<div>\n",
       "<table border=\"1\" class=\"dataframe\">\n",
       "  <thead>\n",
       "    <tr style=\"text-align: right;\">\n",
       "      <th></th>\n",
       "      <th>ATP250</th>\n",
       "      <th>ATP500</th>\n",
       "      <th>Grand Slam</th>\n",
       "      <th>International</th>\n",
       "      <th>International Gold</th>\n",
       "      <th>International Series</th>\n",
       "      <th>Masters</th>\n",
       "      <th>Masters 1000</th>\n",
       "      <th>Masters Cup</th>\n",
       "    </tr>\n",
       "    <tr>\n",
       "      <th>Date</th>\n",
       "      <th></th>\n",
       "      <th></th>\n",
       "      <th></th>\n",
       "      <th></th>\n",
       "      <th></th>\n",
       "      <th></th>\n",
       "      <th></th>\n",
       "      <th></th>\n",
       "      <th></th>\n",
       "    </tr>\n",
       "  </thead>\n",
       "  <tbody>\n",
       "    <tr>\n",
       "      <th>2000-12-31</th>\n",
       "      <td>0.0</td>\n",
       "      <td>0.0</td>\n",
       "      <td>508.0</td>\n",
       "      <td>1396.0</td>\n",
       "      <td>468.0</td>\n",
       "      <td>0.0</td>\n",
       "      <td>565.0</td>\n",
       "      <td>0.0</td>\n",
       "      <td>15.0</td>\n",
       "    </tr>\n",
       "    <tr>\n",
       "      <th>2001-12-31</th>\n",
       "      <td>0.0</td>\n",
       "      <td>0.0</td>\n",
       "      <td>508.0</td>\n",
       "      <td>1497.0</td>\n",
       "      <td>459.0</td>\n",
       "      <td>0.0</td>\n",
       "      <td>567.0</td>\n",
       "      <td>0.0</td>\n",
       "      <td>15.0</td>\n",
       "    </tr>\n",
       "    <tr>\n",
       "      <th>2002-12-31</th>\n",
       "      <td>0.0</td>\n",
       "      <td>0.0</td>\n",
       "      <td>508.0</td>\n",
       "      <td>1288.0</td>\n",
       "      <td>422.0</td>\n",
       "      <td>0.0</td>\n",
       "      <td>567.0</td>\n",
       "      <td>0.0</td>\n",
       "      <td>15.0</td>\n",
       "    </tr>\n",
       "    <tr>\n",
       "      <th>2003-12-31</th>\n",
       "      <td>0.0</td>\n",
       "      <td>0.0</td>\n",
       "      <td>508.0</td>\n",
       "      <td>1266.0</td>\n",
       "      <td>395.0</td>\n",
       "      <td>61.0</td>\n",
       "      <td>567.0</td>\n",
       "      <td>0.0</td>\n",
       "      <td>15.0</td>\n",
       "    </tr>\n",
       "    <tr>\n",
       "      <th>2004-12-31</th>\n",
       "      <td>0.0</td>\n",
       "      <td>0.0</td>\n",
       "      <td>508.0</td>\n",
       "      <td>1337.0</td>\n",
       "      <td>351.0</td>\n",
       "      <td>61.0</td>\n",
       "      <td>599.0</td>\n",
       "      <td>0.0</td>\n",
       "      <td>15.0</td>\n",
       "    </tr>\n",
       "    <tr>\n",
       "      <th>2005-12-31</th>\n",
       "      <td>0.0</td>\n",
       "      <td>0.0</td>\n",
       "      <td>506.0</td>\n",
       "      <td>1276.0</td>\n",
       "      <td>444.0</td>\n",
       "      <td>62.0</td>\n",
       "      <td>600.0</td>\n",
       "      <td>0.0</td>\n",
       "      <td>15.0</td>\n",
       "    </tr>\n",
       "    <tr>\n",
       "      <th>2006-12-31</th>\n",
       "      <td>0.0</td>\n",
       "      <td>0.0</td>\n",
       "      <td>508.0</td>\n",
       "      <td>1276.0</td>\n",
       "      <td>443.0</td>\n",
       "      <td>60.0</td>\n",
       "      <td>597.0</td>\n",
       "      <td>0.0</td>\n",
       "      <td>15.0</td>\n",
       "    </tr>\n",
       "    <tr>\n",
       "      <th>2007-12-31</th>\n",
       "      <td>0.0</td>\n",
       "      <td>0.0</td>\n",
       "      <td>508.0</td>\n",
       "      <td>1275.0</td>\n",
       "      <td>398.0</td>\n",
       "      <td>62.0</td>\n",
       "      <td>559.0</td>\n",
       "      <td>0.0</td>\n",
       "      <td>15.0</td>\n",
       "    </tr>\n",
       "    <tr>\n",
       "      <th>2008-12-31</th>\n",
       "      <td>0.0</td>\n",
       "      <td>0.0</td>\n",
       "      <td>508.0</td>\n",
       "      <td>1143.0</td>\n",
       "      <td>364.0</td>\n",
       "      <td>92.0</td>\n",
       "      <td>558.0</td>\n",
       "      <td>0.0</td>\n",
       "      <td>15.0</td>\n",
       "    </tr>\n",
       "    <tr>\n",
       "      <th>2009-12-31</th>\n",
       "      <td>1178.0</td>\n",
       "      <td>365.0</td>\n",
       "      <td>508.0</td>\n",
       "      <td>92.0</td>\n",
       "      <td>0.0</td>\n",
       "      <td>0.0</td>\n",
       "      <td>0.0</td>\n",
       "      <td>567.0</td>\n",
       "      <td>15.0</td>\n",
       "    </tr>\n",
       "    <tr>\n",
       "      <th>2010-12-31</th>\n",
       "      <td>1187.0</td>\n",
       "      <td>397.0</td>\n",
       "      <td>508.0</td>\n",
       "      <td>0.0</td>\n",
       "      <td>0.0</td>\n",
       "      <td>0.0</td>\n",
       "      <td>55.0</td>\n",
       "      <td>512.0</td>\n",
       "      <td>15.0</td>\n",
       "    </tr>\n",
       "    <tr>\n",
       "      <th>2011-12-31</th>\n",
       "      <td>1188.0</td>\n",
       "      <td>397.0</td>\n",
       "      <td>507.0</td>\n",
       "      <td>0.0</td>\n",
       "      <td>0.0</td>\n",
       "      <td>0.0</td>\n",
       "      <td>0.0</td>\n",
       "      <td>567.0</td>\n",
       "      <td>15.0</td>\n",
       "    </tr>\n",
       "    <tr>\n",
       "      <th>2012-12-31</th>\n",
       "      <td>1169.0</td>\n",
       "      <td>425.0</td>\n",
       "      <td>508.0</td>\n",
       "      <td>0.0</td>\n",
       "      <td>0.0</td>\n",
       "      <td>0.0</td>\n",
       "      <td>47.0</td>\n",
       "      <td>512.0</td>\n",
       "      <td>15.0</td>\n",
       "    </tr>\n",
       "    <tr>\n",
       "      <th>2013-12-31</th>\n",
       "      <td>1173.0</td>\n",
       "      <td>326.0</td>\n",
       "      <td>507.0</td>\n",
       "      <td>0.0</td>\n",
       "      <td>0.0</td>\n",
       "      <td>0.0</td>\n",
       "      <td>0.0</td>\n",
       "      <td>566.0</td>\n",
       "      <td>15.0</td>\n",
       "    </tr>\n",
       "    <tr>\n",
       "      <th>2014-12-31</th>\n",
       "      <td>1080.0</td>\n",
       "      <td>389.0</td>\n",
       "      <td>508.0</td>\n",
       "      <td>0.0</td>\n",
       "      <td>0.0</td>\n",
       "      <td>0.0</td>\n",
       "      <td>0.0</td>\n",
       "      <td>567.0</td>\n",
       "      <td>15.0</td>\n",
       "    </tr>\n",
       "    <tr>\n",
       "      <th>2015-12-31</th>\n",
       "      <td>1056.0</td>\n",
       "      <td>478.0</td>\n",
       "      <td>508.0</td>\n",
       "      <td>0.0</td>\n",
       "      <td>0.0</td>\n",
       "      <td>0.0</td>\n",
       "      <td>0.0</td>\n",
       "      <td>564.0</td>\n",
       "      <td>15.0</td>\n",
       "    </tr>\n",
       "    <tr>\n",
       "      <th>2016-12-31</th>\n",
       "      <td>916.0</td>\n",
       "      <td>355.0</td>\n",
       "      <td>506.0</td>\n",
       "      <td>0.0</td>\n",
       "      <td>0.0</td>\n",
       "      <td>0.0</td>\n",
       "      <td>0.0</td>\n",
       "      <td>465.0</td>\n",
       "      <td>0.0</td>\n",
       "    </tr>\n",
       "  </tbody>\n",
       "</table>\n",
       "</div>"
      ],
      "text/plain": [
       "            ATP250  ATP500  Grand Slam  International  International Gold  \\\n",
       "Date                                                                        \n",
       "2000-12-31     0.0     0.0       508.0         1396.0               468.0   \n",
       "2001-12-31     0.0     0.0       508.0         1497.0               459.0   \n",
       "2002-12-31     0.0     0.0       508.0         1288.0               422.0   \n",
       "2003-12-31     0.0     0.0       508.0         1266.0               395.0   \n",
       "2004-12-31     0.0     0.0       508.0         1337.0               351.0   \n",
       "2005-12-31     0.0     0.0       506.0         1276.0               444.0   \n",
       "2006-12-31     0.0     0.0       508.0         1276.0               443.0   \n",
       "2007-12-31     0.0     0.0       508.0         1275.0               398.0   \n",
       "2008-12-31     0.0     0.0       508.0         1143.0               364.0   \n",
       "2009-12-31  1178.0   365.0       508.0           92.0                 0.0   \n",
       "2010-12-31  1187.0   397.0       508.0            0.0                 0.0   \n",
       "2011-12-31  1188.0   397.0       507.0            0.0                 0.0   \n",
       "2012-12-31  1169.0   425.0       508.0            0.0                 0.0   \n",
       "2013-12-31  1173.0   326.0       507.0            0.0                 0.0   \n",
       "2014-12-31  1080.0   389.0       508.0            0.0                 0.0   \n",
       "2015-12-31  1056.0   478.0       508.0            0.0                 0.0   \n",
       "2016-12-31   916.0   355.0       506.0            0.0                 0.0   \n",
       "\n",
       "            International Series  Masters  Masters 1000  Masters Cup  \n",
       "Date                                                                  \n",
       "2000-12-31                   0.0    565.0           0.0         15.0  \n",
       "2001-12-31                   0.0    567.0           0.0         15.0  \n",
       "2002-12-31                   0.0    567.0           0.0         15.0  \n",
       "2003-12-31                  61.0    567.0           0.0         15.0  \n",
       "2004-12-31                  61.0    599.0           0.0         15.0  \n",
       "2005-12-31                  62.0    600.0           0.0         15.0  \n",
       "2006-12-31                  60.0    597.0           0.0         15.0  \n",
       "2007-12-31                  62.0    559.0           0.0         15.0  \n",
       "2008-12-31                  92.0    558.0           0.0         15.0  \n",
       "2009-12-31                   0.0      0.0         567.0         15.0  \n",
       "2010-12-31                   0.0     55.0         512.0         15.0  \n",
       "2011-12-31                   0.0      0.0         567.0         15.0  \n",
       "2012-12-31                   0.0     47.0         512.0         15.0  \n",
       "2013-12-31                   0.0      0.0         566.0         15.0  \n",
       "2014-12-31                   0.0      0.0         567.0         15.0  \n",
       "2015-12-31                   0.0      0.0         564.0         15.0  \n",
       "2016-12-31                   0.0      0.0         465.0          0.0  "
      ]
     },
     "execution_count": 15,
     "metadata": {},
     "output_type": "execute_result"
    }
   ],
   "source": [
    "temp = pd.concat([pd.get_dummies(data.Series), data.Date], axis=1)\n",
    "temp.resample(\"A\", on=\"Date\").sum()"
   ]
  },
  {
   "cell_type": "markdown",
   "metadata": {},
   "source": [
    "# 3/ Basic EDA (input: data_with_P1_P2)"
   ]
  },
  {
   "cell_type": "markdown",
   "metadata": {},
   "source": [
    "At this point I haven't decided which features exactly I'm going to use:\n",
    "* derived features (that would represent the players history up to the day of the match we'd try to predict), **excluding the ranks** (the baseline might be hard to beat so here i'm trying to not use it and rather build my own features from scratch)\n",
    "* the player's ranks augmented with the features above"
   ]
  },
  {
   "cell_type": "markdown",
   "metadata": {},
   "source": [
    "In a first step, we can try to predict the winner using only features we already have at this point"
   ]
  },
  {
   "cell_type": "code",
   "execution_count": 16,
   "metadata": {},
   "outputs": [
    {
     "data": {
      "text/html": [
       "<div>\n",
       "<table border=\"1\" class=\"dataframe\">\n",
       "  <thead>\n",
       "    <tr style=\"text-align: right;\">\n",
       "      <th></th>\n",
       "      <th>Player1Wins</th>\n",
       "      <th>P1_Rank</th>\n",
       "      <th>P2_Rank</th>\n",
       "      <th>RankDiff</th>\n",
       "      <th>Best of</th>\n",
       "    </tr>\n",
       "  </thead>\n",
       "  <tbody>\n",
       "    <tr>\n",
       "      <th>Player1Wins</th>\n",
       "      <td>1.000000</td>\n",
       "      <td>-0.120854</td>\n",
       "      <td>0.052749</td>\n",
       "      <td>-0.088293</td>\n",
       "      <td>0.063289</td>\n",
       "    </tr>\n",
       "    <tr>\n",
       "      <th>P1_Rank</th>\n",
       "      <td>-0.120854</td>\n",
       "      <td>1.000000</td>\n",
       "      <td>0.356869</td>\n",
       "      <td>-0.113219</td>\n",
       "      <td>-0.091759</td>\n",
       "    </tr>\n",
       "    <tr>\n",
       "      <th>P2_Rank</th>\n",
       "      <td>0.052749</td>\n",
       "      <td>0.356869</td>\n",
       "      <td>1.000000</td>\n",
       "      <td>-0.968552</td>\n",
       "      <td>-0.027539</td>\n",
       "    </tr>\n",
       "    <tr>\n",
       "      <th>RankDiff</th>\n",
       "      <td>-0.088293</td>\n",
       "      <td>-0.113219</td>\n",
       "      <td>-0.968552</td>\n",
       "      <td>1.000000</td>\n",
       "      <td>0.004851</td>\n",
       "    </tr>\n",
       "    <tr>\n",
       "      <th>Best of</th>\n",
       "      <td>0.063289</td>\n",
       "      <td>-0.091759</td>\n",
       "      <td>-0.027539</td>\n",
       "      <td>0.004851</td>\n",
       "      <td>1.000000</td>\n",
       "    </tr>\n",
       "  </tbody>\n",
       "</table>\n",
       "</div>"
      ],
      "text/plain": [
       "             Player1Wins   P1_Rank   P2_Rank  RankDiff   Best of\n",
       "Player1Wins     1.000000 -0.120854  0.052749 -0.088293  0.063289\n",
       "P1_Rank        -0.120854  1.000000  0.356869 -0.113219 -0.091759\n",
       "P2_Rank         0.052749  0.356869  1.000000 -0.968552 -0.027539\n",
       "RankDiff       -0.088293 -0.113219 -0.968552  1.000000  0.004851\n",
       "Best of         0.063289 -0.091759 -0.027539  0.004851  1.000000"
      ]
     },
     "execution_count": 16,
     "metadata": {},
     "output_type": "execute_result"
    }
   ],
   "source": [
    "eda_df = data_with_P1_P2.assign(RankDiff= lambda x: x.P1_Rank - x.P2_Rank)\n",
    "corr_cols = [\n",
    "    \"Player1Wins\", \"P1_Rank\", \"P2_Rank\", \"RankDiff\", \"Best of\"\n",
    "]\n",
    "eda_df[corr_cols].corr()"
   ]
  },
  {
   "cell_type": "code",
   "execution_count": 17,
   "metadata": {
    "collapsed": true
   },
   "outputs": [],
   "source": [
    "from sklearn.linear_model import LogisticRegression"
   ]
  },
  {
   "cell_type": "code",
   "execution_count": 18,
   "metadata": {},
   "outputs": [
    {
     "data": {
      "text/plain": [
       "0.655034595384417"
      ]
     },
     "execution_count": 18,
     "metadata": {},
     "output_type": "execute_result"
    }
   ],
   "source": [
    "lr = LogisticRegression()\n",
    "\n",
    "X = eda_df[[\"P1_Rank\", \"P2_Rank\", \"RankDiff\", \"Best of\"]]\n",
    "Y = eda_df.Player1Wins\n",
    "lr.fit(X, Y)\n",
    "lr.score(X, Y)"
   ]
  },
  {
   "cell_type": "markdown",
   "metadata": {},
   "source": [
    "This makes sense, the logistic regression basically learns that P1_Rank > P2_Rank ==> P1 has a higher probability of winning. Note that we have the same precision as computed before"
   ]
  },
  {
   "cell_type": "markdown",
   "metadata": {},
   "source": [
    "# 4/ Adding features derived from past history of the players (input: eda_df)"
   ]
  },
  {
   "cell_type": "markdown",
   "metadata": {},
   "source": [
    "## For every point in time, we want to compute statistics about players **up until that point in time**"
   ]
  },
  {
   "cell_type": "markdown",
   "metadata": {},
   "source": [
    "### Let's get a list of all the players"
   ]
  },
  {
   "cell_type": "code",
   "execution_count": 19,
   "metadata": {},
   "outputs": [
    {
     "data": {
      "text/plain": [
       "(1290,)"
      ]
     },
     "execution_count": 19,
     "metadata": {},
     "output_type": "execute_result"
    }
   ],
   "source": [
    "BIG4 = [\"Nadal R.\", \"Federer R.\", \"Djokovic N.\", \"Murray A.\"]\n",
    "all_players = pd.concat([eda_df.P1_Name, eda_df.P2_Name])\n",
    "\n",
    "# Divide by a bigger number to only compute data for a subset of players, can be useful to speed up things\n",
    "all_players = all_players[:int(len(all_players) / 1)]  \n",
    "all_players = np.unique(all_players)\n",
    "all_players.shape"
   ]
  },
  {
   "cell_type": "code",
   "execution_count": 20,
   "metadata": {},
   "outputs": [
    {
     "data": {
      "text/plain": [
       "<module 'tennis_predictor.features_engineering' from '../../tennis_predictor/features_engineering.py'>"
      ]
     },
     "execution_count": 20,
     "metadata": {},
     "output_type": "execute_result"
    }
   ],
   "source": [
    "from tennis_predictor import features_engineering\n",
    "import importlib\n",
    "importlib.reload(features_engineering)"
   ]
  },
  {
   "cell_type": "markdown",
   "metadata": {},
   "source": [
    "### 4.A - Let's compute basic boolean features (extra columns) using the same index, ie tennis match resolution"
   ]
  },
  {
   "cell_type": "markdown",
   "metadata": {},
   "source": [
    "So basically we're going to compute a set of boolean columns for every player!! That tell whether the player played/won that particular game, if he won what type of win it was (ie 1st Round, a Final?)"
   ]
  },
  {
   "cell_type": "code",
   "execution_count": 21,
   "metadata": {},
   "outputs": [
    {
     "name": "stdout",
     "output_type": "stream",
     "text": [
      "Automatic pdb calling has been turned ON\n",
      "Chunk 0 done\n",
      "Chunk 1 done\n",
      "Chunk 2 done\n",
      "Chunk 3 done\n",
      "Chunk 4 done\n",
      "Chunk 5 done\n",
      "Chunk 6 done\n",
      "Chunk 7 done\n",
      "Chunk 8 done\n",
      "Chunk 9 done\n"
     ]
    }
   ],
   "source": [
    "%pdb\n",
    "batch_size = 10 \n",
    "chunks = []\n",
    "for i in range(batch_size):\n",
    "    f_eng = features_engineering.FeatureEngineer(all_players[i::batch_size])\n",
    "    \n",
    "    # The two lines are the actual logic, we add the extra columns that say if players played/won the match\n",
    "    players_stats = f_eng.compute_games_played_and_won(eda_df)\n",
    "    # Then columns saying what type of game they won if they won\n",
    "    players_stats = f_eng.compute_win_round_type(players_stats, eda_df.Round)\n",
    "    players_stats = f_eng.compute_series_stats(players_stats, eda_df.Series)\n",
    "    \n",
    "    chunks.append(players_stats.copy())\n",
    "    print(\"Chunk {} done\".format(i))\n",
    "players_stats = pd.concat(chunks, axis=1, copy=False).sort_index(axis=1)"
   ]
  },
  {
   "cell_type": "code",
   "execution_count": 22,
   "metadata": {},
   "outputs": [
    {
     "data": {
      "text/html": [
       "<div>\n",
       "<table border=\"1\" class=\"dataframe\">\n",
       "  <thead>\n",
       "    <tr style=\"text-align: right;\">\n",
       "      <th></th>\n",
       "      <th>Played</th>\n",
       "      <th>Won</th>\n",
       "      <th>Won_1st Round</th>\n",
       "      <th>Won_2nd Round</th>\n",
       "      <th>Won_3rd Round</th>\n",
       "      <th>Won_4th Round</th>\n",
       "      <th>Won_ATP250</th>\n",
       "      <th>Won_ATP500</th>\n",
       "      <th>Won_Grand Slam</th>\n",
       "      <th>Won_International</th>\n",
       "      <th>Won_International Gold</th>\n",
       "      <th>Won_International Series</th>\n",
       "      <th>Won_Masters</th>\n",
       "      <th>Won_Masters 1000</th>\n",
       "      <th>Won_Masters Cup</th>\n",
       "      <th>Won_Quarterfinals</th>\n",
       "      <th>Won_Round Robin</th>\n",
       "      <th>Won_Semifinals</th>\n",
       "      <th>Won_The Final</th>\n",
       "      <th>Date</th>\n",
       "    </tr>\n",
       "  </thead>\n",
       "  <tbody>\n",
       "    <tr>\n",
       "      <th>15800</th>\n",
       "      <td>1</td>\n",
       "      <td>1</td>\n",
       "      <td>1</td>\n",
       "      <td>0</td>\n",
       "      <td>0</td>\n",
       "      <td>0</td>\n",
       "      <td>0</td>\n",
       "      <td>0</td>\n",
       "      <td>1</td>\n",
       "      <td>0</td>\n",
       "      <td>0</td>\n",
       "      <td>0</td>\n",
       "      <td>0</td>\n",
       "      <td>0</td>\n",
       "      <td>0</td>\n",
       "      <td>0</td>\n",
       "      <td>0</td>\n",
       "      <td>0</td>\n",
       "      <td>0</td>\n",
       "      <td>2005-05-23</td>\n",
       "    </tr>\n",
       "    <tr>\n",
       "      <th>15868</th>\n",
       "      <td>1</td>\n",
       "      <td>1</td>\n",
       "      <td>0</td>\n",
       "      <td>1</td>\n",
       "      <td>0</td>\n",
       "      <td>0</td>\n",
       "      <td>0</td>\n",
       "      <td>0</td>\n",
       "      <td>1</td>\n",
       "      <td>0</td>\n",
       "      <td>0</td>\n",
       "      <td>0</td>\n",
       "      <td>0</td>\n",
       "      <td>0</td>\n",
       "      <td>0</td>\n",
       "      <td>0</td>\n",
       "      <td>0</td>\n",
       "      <td>0</td>\n",
       "      <td>0</td>\n",
       "      <td>2005-05-25</td>\n",
       "    </tr>\n",
       "    <tr>\n",
       "      <th>15894</th>\n",
       "      <td>1</td>\n",
       "      <td>1</td>\n",
       "      <td>0</td>\n",
       "      <td>0</td>\n",
       "      <td>1</td>\n",
       "      <td>0</td>\n",
       "      <td>0</td>\n",
       "      <td>0</td>\n",
       "      <td>1</td>\n",
       "      <td>0</td>\n",
       "      <td>0</td>\n",
       "      <td>0</td>\n",
       "      <td>0</td>\n",
       "      <td>0</td>\n",
       "      <td>0</td>\n",
       "      <td>0</td>\n",
       "      <td>0</td>\n",
       "      <td>0</td>\n",
       "      <td>0</td>\n",
       "      <td>2005-05-27</td>\n",
       "    </tr>\n",
       "    <tr>\n",
       "      <th>15910</th>\n",
       "      <td>1</td>\n",
       "      <td>1</td>\n",
       "      <td>0</td>\n",
       "      <td>0</td>\n",
       "      <td>0</td>\n",
       "      <td>1</td>\n",
       "      <td>0</td>\n",
       "      <td>0</td>\n",
       "      <td>1</td>\n",
       "      <td>0</td>\n",
       "      <td>0</td>\n",
       "      <td>0</td>\n",
       "      <td>0</td>\n",
       "      <td>0</td>\n",
       "      <td>0</td>\n",
       "      <td>0</td>\n",
       "      <td>0</td>\n",
       "      <td>0</td>\n",
       "      <td>0</td>\n",
       "      <td>2005-05-30</td>\n",
       "    </tr>\n",
       "    <tr>\n",
       "      <th>15913</th>\n",
       "      <td>1</td>\n",
       "      <td>1</td>\n",
       "      <td>0</td>\n",
       "      <td>0</td>\n",
       "      <td>0</td>\n",
       "      <td>0</td>\n",
       "      <td>0</td>\n",
       "      <td>0</td>\n",
       "      <td>1</td>\n",
       "      <td>0</td>\n",
       "      <td>0</td>\n",
       "      <td>0</td>\n",
       "      <td>0</td>\n",
       "      <td>0</td>\n",
       "      <td>0</td>\n",
       "      <td>1</td>\n",
       "      <td>0</td>\n",
       "      <td>0</td>\n",
       "      <td>0</td>\n",
       "      <td>2005-05-31</td>\n",
       "    </tr>\n",
       "    <tr>\n",
       "      <th>15917</th>\n",
       "      <td>1</td>\n",
       "      <td>1</td>\n",
       "      <td>0</td>\n",
       "      <td>0</td>\n",
       "      <td>0</td>\n",
       "      <td>0</td>\n",
       "      <td>0</td>\n",
       "      <td>0</td>\n",
       "      <td>1</td>\n",
       "      <td>0</td>\n",
       "      <td>0</td>\n",
       "      <td>0</td>\n",
       "      <td>0</td>\n",
       "      <td>0</td>\n",
       "      <td>0</td>\n",
       "      <td>0</td>\n",
       "      <td>0</td>\n",
       "      <td>1</td>\n",
       "      <td>0</td>\n",
       "      <td>2005-06-03</td>\n",
       "    </tr>\n",
       "    <tr>\n",
       "      <th>15918</th>\n",
       "      <td>1</td>\n",
       "      <td>1</td>\n",
       "      <td>0</td>\n",
       "      <td>0</td>\n",
       "      <td>0</td>\n",
       "      <td>0</td>\n",
       "      <td>0</td>\n",
       "      <td>0</td>\n",
       "      <td>1</td>\n",
       "      <td>0</td>\n",
       "      <td>0</td>\n",
       "      <td>0</td>\n",
       "      <td>0</td>\n",
       "      <td>0</td>\n",
       "      <td>0</td>\n",
       "      <td>0</td>\n",
       "      <td>0</td>\n",
       "      <td>0</td>\n",
       "      <td>1</td>\n",
       "      <td>2005-06-05</td>\n",
       "    </tr>\n",
       "  </tbody>\n",
       "</table>\n",
       "</div>"
      ],
      "text/plain": [
       "       Played  Won  Won_1st Round  Won_2nd Round  Won_3rd Round  \\\n",
       "15800       1    1              1              0              0   \n",
       "15868       1    1              0              1              0   \n",
       "15894       1    1              0              0              1   \n",
       "15910       1    1              0              0              0   \n",
       "15913       1    1              0              0              0   \n",
       "15917       1    1              0              0              0   \n",
       "15918       1    1              0              0              0   \n",
       "\n",
       "       Won_4th Round  Won_ATP250  Won_ATP500  Won_Grand Slam  \\\n",
       "15800              0           0           0               1   \n",
       "15868              0           0           0               1   \n",
       "15894              0           0           0               1   \n",
       "15910              1           0           0               1   \n",
       "15913              0           0           0               1   \n",
       "15917              0           0           0               1   \n",
       "15918              0           0           0               1   \n",
       "\n",
       "       Won_International  Won_International Gold  Won_International Series  \\\n",
       "15800                  0                       0                         0   \n",
       "15868                  0                       0                         0   \n",
       "15894                  0                       0                         0   \n",
       "15910                  0                       0                         0   \n",
       "15913                  0                       0                         0   \n",
       "15917                  0                       0                         0   \n",
       "15918                  0                       0                         0   \n",
       "\n",
       "       Won_Masters  Won_Masters 1000  Won_Masters Cup  Won_Quarterfinals  \\\n",
       "15800            0                 0                0                  0   \n",
       "15868            0                 0                0                  0   \n",
       "15894            0                 0                0                  0   \n",
       "15910            0                 0                0                  0   \n",
       "15913            0                 0                0                  1   \n",
       "15917            0                 0                0                  0   \n",
       "15918            0                 0                0                  0   \n",
       "\n",
       "       Won_Round Robin  Won_Semifinals  Won_The Final       Date  \n",
       "15800                0               0              0 2005-05-23  \n",
       "15868                0               0              0 2005-05-25  \n",
       "15894                0               0              0 2005-05-27  \n",
       "15910                0               0              0 2005-05-30  \n",
       "15913                0               0              0 2005-05-31  \n",
       "15917                0               1              0 2005-06-03  \n",
       "15918                0               0              1 2005-06-05  "
      ]
     },
     "execution_count": 22,
     "metadata": {},
     "output_type": "execute_result"
    }
   ],
   "source": [
    "nadal_played = players_stats[players_stats[\"Nadal R.\", \"Played\"] == 1][\"Nadal R.\"]  # Filtering where Nadal actually played, then keeping only its columns\n",
    "french_open = eda_df[eda_df.Tournament == \"French Open\"]\n",
    "\n",
    "nadal_stats = nadal_played.join(french_open, how=\"inner\").iloc[:,:19]  # Filtering to get the French Open stats, then reselecting columns\n",
    "nadal_stats = nadal_stats.join(eda_df.Date, how=\"inner\")  # Readding the Date column\n",
    "nadal_stats.head(7)"
   ]
  },
  {
   "cell_type": "code",
   "execution_count": 23,
   "metadata": {},
   "outputs": [
    {
     "data": {
      "text/plain": [
       "Played                      75.0\n",
       "Won                         72.0\n",
       "Won_1st Round               12.0\n",
       "Won_2nd Round               11.0\n",
       "Won_3rd Round               12.0\n",
       "Won_4th Round               10.0\n",
       "Won_ATP250                   0.0\n",
       "Won_ATP500                   0.0\n",
       "Won_Grand Slam              72.0\n",
       "Won_International            0.0\n",
       "Won_International Gold       0.0\n",
       "Won_International Series     0.0\n",
       "Won_Masters                  0.0\n",
       "Won_Masters 1000             0.0\n",
       "Won_Masters Cup              0.0\n",
       "Won_Quarterfinals            9.0\n",
       "Won_Round Robin              0.0\n",
       "Won_Semifinals               9.0\n",
       "Won_The Final                9.0\n",
       "dtype: float64"
      ]
     },
     "execution_count": 23,
     "metadata": {},
     "output_type": "execute_result"
    }
   ],
   "source": [
    "nadal_stats.resample(\"D\", on=\"Date\").sum().sum()\n",
    "## Looks good!! As of this dataset last update, Nadal won the French Open nine times (ie he won 9 finals)"
   ]
  },
  {
   "cell_type": "markdown",
   "metadata": {},
   "source": [
    "### 4.B - Let's resample with daily frequencies"
   ]
  },
  {
   "cell_type": "code",
   "execution_count": 24,
   "metadata": {
    "collapsed": true
   },
   "outputs": [],
   "source": [
    "## Let's first copy the Date column into the players_stats Dataframe\n",
    "players_stats.loc(axis=1)[\"__OTHER__\", \"Date\"] = eda_df.Date  ## Unfortunately I have to keep a two level column name for Date.."
   ]
  },
  {
   "cell_type": "code",
   "execution_count": 25,
   "metadata": {},
   "outputs": [
    {
     "data": {
      "text/html": [
       "<div>\n",
       "<table border=\"1\" class=\"dataframe\">\n",
       "  <thead>\n",
       "    <tr>\n",
       "      <th>Player</th>\n",
       "      <th colspan=\"10\" halign=\"left\">Abdulla M.</th>\n",
       "      <th>...</th>\n",
       "      <th colspan=\"10\" halign=\"left\">van der Meer N.</th>\n",
       "    </tr>\n",
       "    <tr>\n",
       "      <th>Stat</th>\n",
       "      <th>Played</th>\n",
       "      <th>Won</th>\n",
       "      <th>Won_1st Round</th>\n",
       "      <th>Won_2nd Round</th>\n",
       "      <th>Won_3rd Round</th>\n",
       "      <th>Won_4th Round</th>\n",
       "      <th>Won_ATP250</th>\n",
       "      <th>Won_ATP500</th>\n",
       "      <th>Won_Grand Slam</th>\n",
       "      <th>Won_International</th>\n",
       "      <th>...</th>\n",
       "      <th>Won_International</th>\n",
       "      <th>Won_International Gold</th>\n",
       "      <th>Won_International Series</th>\n",
       "      <th>Won_Masters</th>\n",
       "      <th>Won_Masters 1000</th>\n",
       "      <th>Won_Masters Cup</th>\n",
       "      <th>Won_Quarterfinals</th>\n",
       "      <th>Won_Round Robin</th>\n",
       "      <th>Won_Semifinals</th>\n",
       "      <th>Won_The Final</th>\n",
       "    </tr>\n",
       "    <tr>\n",
       "      <th>(__OTHER__, Date)</th>\n",
       "      <th></th>\n",
       "      <th></th>\n",
       "      <th></th>\n",
       "      <th></th>\n",
       "      <th></th>\n",
       "      <th></th>\n",
       "      <th></th>\n",
       "      <th></th>\n",
       "      <th></th>\n",
       "      <th></th>\n",
       "      <th></th>\n",
       "      <th></th>\n",
       "      <th></th>\n",
       "      <th></th>\n",
       "      <th></th>\n",
       "      <th></th>\n",
       "      <th></th>\n",
       "      <th></th>\n",
       "      <th></th>\n",
       "      <th></th>\n",
       "      <th></th>\n",
       "    </tr>\n",
       "  </thead>\n",
       "  <tbody>\n",
       "    <tr>\n",
       "      <th>2000-01-03</th>\n",
       "      <td>0.0</td>\n",
       "      <td>0.0</td>\n",
       "      <td>0.0</td>\n",
       "      <td>0.0</td>\n",
       "      <td>0.0</td>\n",
       "      <td>0.0</td>\n",
       "      <td>0.0</td>\n",
       "      <td>0.0</td>\n",
       "      <td>0.0</td>\n",
       "      <td>0.0</td>\n",
       "      <td>...</td>\n",
       "      <td>0.0</td>\n",
       "      <td>0.0</td>\n",
       "      <td>0.0</td>\n",
       "      <td>0.0</td>\n",
       "      <td>0.0</td>\n",
       "      <td>0.0</td>\n",
       "      <td>0.0</td>\n",
       "      <td>0.0</td>\n",
       "      <td>0.0</td>\n",
       "      <td>0.0</td>\n",
       "    </tr>\n",
       "    <tr>\n",
       "      <th>2000-01-04</th>\n",
       "      <td>NaN</td>\n",
       "      <td>NaN</td>\n",
       "      <td>NaN</td>\n",
       "      <td>NaN</td>\n",
       "      <td>NaN</td>\n",
       "      <td>NaN</td>\n",
       "      <td>NaN</td>\n",
       "      <td>NaN</td>\n",
       "      <td>NaN</td>\n",
       "      <td>NaN</td>\n",
       "      <td>...</td>\n",
       "      <td>NaN</td>\n",
       "      <td>NaN</td>\n",
       "      <td>NaN</td>\n",
       "      <td>NaN</td>\n",
       "      <td>NaN</td>\n",
       "      <td>NaN</td>\n",
       "      <td>NaN</td>\n",
       "      <td>NaN</td>\n",
       "      <td>NaN</td>\n",
       "      <td>NaN</td>\n",
       "    </tr>\n",
       "    <tr>\n",
       "      <th>2000-01-05</th>\n",
       "      <td>NaN</td>\n",
       "      <td>NaN</td>\n",
       "      <td>NaN</td>\n",
       "      <td>NaN</td>\n",
       "      <td>NaN</td>\n",
       "      <td>NaN</td>\n",
       "      <td>NaN</td>\n",
       "      <td>NaN</td>\n",
       "      <td>NaN</td>\n",
       "      <td>NaN</td>\n",
       "      <td>...</td>\n",
       "      <td>NaN</td>\n",
       "      <td>NaN</td>\n",
       "      <td>NaN</td>\n",
       "      <td>NaN</td>\n",
       "      <td>NaN</td>\n",
       "      <td>NaN</td>\n",
       "      <td>NaN</td>\n",
       "      <td>NaN</td>\n",
       "      <td>NaN</td>\n",
       "      <td>NaN</td>\n",
       "    </tr>\n",
       "    <tr>\n",
       "      <th>2000-01-06</th>\n",
       "      <td>NaN</td>\n",
       "      <td>NaN</td>\n",
       "      <td>NaN</td>\n",
       "      <td>NaN</td>\n",
       "      <td>NaN</td>\n",
       "      <td>NaN</td>\n",
       "      <td>NaN</td>\n",
       "      <td>NaN</td>\n",
       "      <td>NaN</td>\n",
       "      <td>NaN</td>\n",
       "      <td>...</td>\n",
       "      <td>NaN</td>\n",
       "      <td>NaN</td>\n",
       "      <td>NaN</td>\n",
       "      <td>NaN</td>\n",
       "      <td>NaN</td>\n",
       "      <td>NaN</td>\n",
       "      <td>NaN</td>\n",
       "      <td>NaN</td>\n",
       "      <td>NaN</td>\n",
       "      <td>NaN</td>\n",
       "    </tr>\n",
       "    <tr>\n",
       "      <th>2000-01-07</th>\n",
       "      <td>NaN</td>\n",
       "      <td>NaN</td>\n",
       "      <td>NaN</td>\n",
       "      <td>NaN</td>\n",
       "      <td>NaN</td>\n",
       "      <td>NaN</td>\n",
       "      <td>NaN</td>\n",
       "      <td>NaN</td>\n",
       "      <td>NaN</td>\n",
       "      <td>NaN</td>\n",
       "      <td>...</td>\n",
       "      <td>NaN</td>\n",
       "      <td>NaN</td>\n",
       "      <td>NaN</td>\n",
       "      <td>NaN</td>\n",
       "      <td>NaN</td>\n",
       "      <td>NaN</td>\n",
       "      <td>NaN</td>\n",
       "      <td>NaN</td>\n",
       "      <td>NaN</td>\n",
       "      <td>NaN</td>\n",
       "    </tr>\n",
       "  </tbody>\n",
       "</table>\n",
       "<p>5 rows × 24510 columns</p>\n",
       "</div>"
      ],
      "text/plain": [
       "Player            Abdulla M.                                                 \\\n",
       "Stat                  Played  Won Won_1st Round Won_2nd Round Won_3rd Round   \n",
       "(__OTHER__, Date)                                                             \n",
       "2000-01-03               0.0  0.0           0.0           0.0           0.0   \n",
       "2000-01-04               NaN  NaN           NaN           NaN           NaN   \n",
       "2000-01-05               NaN  NaN           NaN           NaN           NaN   \n",
       "2000-01-06               NaN  NaN           NaN           NaN           NaN   \n",
       "2000-01-07               NaN  NaN           NaN           NaN           NaN   \n",
       "\n",
       "Player                                                                \\\n",
       "Stat              Won_4th Round Won_ATP250 Won_ATP500 Won_Grand Slam   \n",
       "(__OTHER__, Date)                                                      \n",
       "2000-01-03                  0.0        0.0        0.0            0.0   \n",
       "2000-01-04                  NaN        NaN        NaN            NaN   \n",
       "2000-01-05                  NaN        NaN        NaN            NaN   \n",
       "2000-01-06                  NaN        NaN        NaN            NaN   \n",
       "2000-01-07                  NaN        NaN        NaN            NaN   \n",
       "\n",
       "Player                                   ...        van der Meer N.  \\\n",
       "Stat              Won_International      ...      Won_International   \n",
       "(__OTHER__, Date)                        ...                          \n",
       "2000-01-03                      0.0      ...                    0.0   \n",
       "2000-01-04                      NaN      ...                    NaN   \n",
       "2000-01-05                      NaN      ...                    NaN   \n",
       "2000-01-06                      NaN      ...                    NaN   \n",
       "2000-01-07                      NaN      ...                    NaN   \n",
       "\n",
       "Player                                                                         \\\n",
       "Stat              Won_International Gold Won_International Series Won_Masters   \n",
       "(__OTHER__, Date)                                                               \n",
       "2000-01-03                           0.0                      0.0         0.0   \n",
       "2000-01-04                           NaN                      NaN         NaN   \n",
       "2000-01-05                           NaN                      NaN         NaN   \n",
       "2000-01-06                           NaN                      NaN         NaN   \n",
       "2000-01-07                           NaN                      NaN         NaN   \n",
       "\n",
       "Player                                                                \\\n",
       "Stat              Won_Masters 1000 Won_Masters Cup Won_Quarterfinals   \n",
       "(__OTHER__, Date)                                                      \n",
       "2000-01-03                     0.0             0.0               0.0   \n",
       "2000-01-04                     NaN             NaN               NaN   \n",
       "2000-01-05                     NaN             NaN               NaN   \n",
       "2000-01-06                     NaN             NaN               NaN   \n",
       "2000-01-07                     NaN             NaN               NaN   \n",
       "\n",
       "Player                                                          \n",
       "Stat              Won_Round Robin Won_Semifinals Won_The Final  \n",
       "(__OTHER__, Date)                                               \n",
       "2000-01-03                    0.0            0.0           0.0  \n",
       "2000-01-04                    NaN            NaN           NaN  \n",
       "2000-01-05                    NaN            NaN           NaN  \n",
       "2000-01-06                    NaN            NaN           NaN  \n",
       "2000-01-07                    NaN            NaN           NaN  \n",
       "\n",
       "[5 rows x 24510 columns]"
      ]
     },
     "execution_count": 25,
     "metadata": {},
     "output_type": "execute_result"
    }
   ],
   "source": [
    "## Takes about 2 minutes\n",
    "resampled_stats = players_stats.resample(\"D\", on=(\"__OTHER__\", \"Date\")).sum()\n",
    "resampled_stats.head()"
   ]
  },
  {
   "cell_type": "code",
   "execution_count": 26,
   "metadata": {
    "collapsed": true
   },
   "outputs": [],
   "source": [
    "## Let's fill the NAs with 0s, we have NAs as there aren't games for every single day of the year\n",
    "resampled_stats = resampled_stats.fillna(0)"
   ]
  },
  {
   "cell_type": "markdown",
   "metadata": {},
   "source": [
    "#### Looking at the totals of tournament wins since the beginning of time"
   ]
  },
  {
   "cell_type": "code",
   "execution_count": 27,
   "metadata": {
    "collapsed": true
   },
   "outputs": [],
   "source": [
    "rolling_dfs = {}"
   ]
  },
  {
   "cell_type": "code",
   "execution_count": 28,
   "metadata": {},
   "outputs": [
    {
     "data": {
      "text/plain": [
       "<matplotlib.axes._subplots.AxesSubplot at 0x11319e978>"
      ]
     },
     "execution_count": 28,
     "metadata": {},
     "output_type": "execute_result"
    },
    {
     "data": {
      "image/png": "[encoded data removed]",
      "text/plain": [
       "<matplotlib.figure.Figure at 0x114b00a20>"
      ]
     },
     "metadata": {},
     "output_type": "display_data"
    }
   ],
   "source": [
    "rolling_dfs[\"TOTAL\"] = resampled_stats.expanding().sum()\n",
    "rolling_dfs[\"TOTAL\"].sort_index(axis=1, inplace=True)\n",
    "rolling_dfs[\"TOTAL\"].index.rename(\"Date\", inplace=True)\n",
    "\n",
    "rolling_dfs[\"TOTAL\"].loc(axis=1)[BIG4, [\"Won_The Final\"]].plot()"
   ]
  },
  {
   "cell_type": "markdown",
   "metadata": {},
   "source": [
    "#### Looking at the \"dynamic\" (1M half life exponential weighted average)"
   ]
  },
  {
   "cell_type": "code",
   "execution_count": 29,
   "metadata": {},
   "outputs": [
    {
     "data": {
      "text/plain": [
       "<matplotlib.axes._subplots.AxesSubplot at 0x116bdffd0>"
      ]
     },
     "execution_count": 29,
     "metadata": {},
     "output_type": "execute_result"
    },
    {
     "data": {
      "image/png": "[encoded data removed]",
      "text/plain": [
       "<matplotlib.figure.Figure at 0x116bf79e8>"
      ]
     },
     "metadata": {},
     "output_type": "display_data"
    }
   ],
   "source": [
    "rolling_dfs[\"3M\"] = resampled_stats.ewm(halflife=90).mean()\n",
    "rolling_dfs[\"3M\"].sort_index(axis=1, inplace=True)\n",
    "rolling_dfs[\"3M\"].index.rename(\"Date\", inplace=True)\n",
    "\n",
    "rolling_dfs[\"3M\"].loc(axis=1)[BIG4, [\"Won_The Final\"]].plot()"
   ]
  },
  {
   "cell_type": "markdown",
   "metadata": {},
   "source": [
    "* We can clearly see that Federer has won more tournaments than any other player of the big four, but that the dynamic in the recent couple years is in favour of Djokovic\n",
    "* Also we can clearly see (in both graphs) when those players started to win tournaments"
   ]
  },
  {
   "cell_type": "markdown",
   "metadata": {},
   "source": [
    "## 4.C Joining that data onto the initial dataframe"
   ]
  },
  {
   "cell_type": "markdown",
   "metadata": {},
   "source": [
    "Recap:\n",
    "* eda_df is the initial processed dataframe (with Player1 and Player2)\n",
    "* expanding_stats has the cumulative sum since the beginning of time (2000) for games played, won, 1st Round played, won etc.\n",
    "* rolling_1Y_stats does an exponential moving average with a 1Y half life, looking at the \"recent dynamics\" of the players"
   ]
  },
  {
   "cell_type": "markdown",
   "metadata": {},
   "source": [
    "### First step let's melt the expanding stats and rolling_1Y_stats"
   ]
  },
  {
   "cell_type": "code",
   "execution_count": 30,
   "metadata": {
    "collapsed": true
   },
   "outputs": [],
   "source": [
    "unstacked_rolling_dfs = {\n",
    "    k: v.stack(level=0) for k, v in rolling_dfs.items()\n",
    "}"
   ]
  },
  {
   "cell_type": "code",
   "execution_count": 31,
   "metadata": {},
   "outputs": [
    {
     "data": {
      "text/html": [
       "<div>\n",
       "<table border=\"1\" class=\"dataframe\">\n",
       "  <thead>\n",
       "    <tr style=\"text-align: right;\">\n",
       "      <th></th>\n",
       "      <th>Stat</th>\n",
       "      <th>Played</th>\n",
       "      <th>Won</th>\n",
       "      <th>Won_1st Round</th>\n",
       "      <th>Won_2nd Round</th>\n",
       "      <th>Won_3rd Round</th>\n",
       "      <th>Won_4th Round</th>\n",
       "      <th>Won_ATP250</th>\n",
       "      <th>Won_ATP500</th>\n",
       "      <th>Won_Grand Slam</th>\n",
       "      <th>Won_International</th>\n",
       "      <th>Won_International Gold</th>\n",
       "      <th>Won_International Series</th>\n",
       "      <th>Won_Masters</th>\n",
       "      <th>Won_Masters 1000</th>\n",
       "      <th>Won_Masters Cup</th>\n",
       "      <th>Won_Quarterfinals</th>\n",
       "      <th>Won_Round Robin</th>\n",
       "      <th>Won_Semifinals</th>\n",
       "      <th>Won_The Final</th>\n",
       "    </tr>\n",
       "    <tr>\n",
       "      <th>Date</th>\n",
       "      <th>Player</th>\n",
       "      <th></th>\n",
       "      <th></th>\n",
       "      <th></th>\n",
       "      <th></th>\n",
       "      <th></th>\n",
       "      <th></th>\n",
       "      <th></th>\n",
       "      <th></th>\n",
       "      <th></th>\n",
       "      <th></th>\n",
       "      <th></th>\n",
       "      <th></th>\n",
       "      <th></th>\n",
       "      <th></th>\n",
       "      <th></th>\n",
       "      <th></th>\n",
       "      <th></th>\n",
       "      <th></th>\n",
       "      <th></th>\n",
       "    </tr>\n",
       "  </thead>\n",
       "  <tbody>\n",
       "    <tr>\n",
       "      <th rowspan=\"5\" valign=\"top\">2000-01-03</th>\n",
       "      <th>Abdulla M.</th>\n",
       "      <td>0.0</td>\n",
       "      <td>0.0</td>\n",
       "      <td>0.0</td>\n",
       "      <td>0.0</td>\n",
       "      <td>0.0</td>\n",
       "      <td>0.0</td>\n",
       "      <td>0.0</td>\n",
       "      <td>0.0</td>\n",
       "      <td>0.0</td>\n",
       "      <td>0.0</td>\n",
       "      <td>0.0</td>\n",
       "      <td>0.0</td>\n",
       "      <td>0.0</td>\n",
       "      <td>0.0</td>\n",
       "      <td>0.0</td>\n",
       "      <td>0.0</td>\n",
       "      <td>0.0</td>\n",
       "      <td>0.0</td>\n",
       "      <td>0.0</td>\n",
       "    </tr>\n",
       "    <tr>\n",
       "      <th>Abel M.</th>\n",
       "      <td>0.0</td>\n",
       "      <td>0.0</td>\n",
       "      <td>0.0</td>\n",
       "      <td>0.0</td>\n",
       "      <td>0.0</td>\n",
       "      <td>0.0</td>\n",
       "      <td>0.0</td>\n",
       "      <td>0.0</td>\n",
       "      <td>0.0</td>\n",
       "      <td>0.0</td>\n",
       "      <td>0.0</td>\n",
       "      <td>0.0</td>\n",
       "      <td>0.0</td>\n",
       "      <td>0.0</td>\n",
       "      <td>0.0</td>\n",
       "      <td>0.0</td>\n",
       "      <td>0.0</td>\n",
       "      <td>0.0</td>\n",
       "      <td>0.0</td>\n",
       "    </tr>\n",
       "    <tr>\n",
       "      <th>Acasuso J.</th>\n",
       "      <td>0.0</td>\n",
       "      <td>0.0</td>\n",
       "      <td>0.0</td>\n",
       "      <td>0.0</td>\n",
       "      <td>0.0</td>\n",
       "      <td>0.0</td>\n",
       "      <td>0.0</td>\n",
       "      <td>0.0</td>\n",
       "      <td>0.0</td>\n",
       "      <td>0.0</td>\n",
       "      <td>0.0</td>\n",
       "      <td>0.0</td>\n",
       "      <td>0.0</td>\n",
       "      <td>0.0</td>\n",
       "      <td>0.0</td>\n",
       "      <td>0.0</td>\n",
       "      <td>0.0</td>\n",
       "      <td>0.0</td>\n",
       "      <td>0.0</td>\n",
       "    </tr>\n",
       "    <tr>\n",
       "      <th>Adaktusson J.</th>\n",
       "      <td>0.0</td>\n",
       "      <td>0.0</td>\n",
       "      <td>0.0</td>\n",
       "      <td>0.0</td>\n",
       "      <td>0.0</td>\n",
       "      <td>0.0</td>\n",
       "      <td>0.0</td>\n",
       "      <td>0.0</td>\n",
       "      <td>0.0</td>\n",
       "      <td>0.0</td>\n",
       "      <td>0.0</td>\n",
       "      <td>0.0</td>\n",
       "      <td>0.0</td>\n",
       "      <td>0.0</td>\n",
       "      <td>0.0</td>\n",
       "      <td>0.0</td>\n",
       "      <td>0.0</td>\n",
       "      <td>0.0</td>\n",
       "      <td>0.0</td>\n",
       "    </tr>\n",
       "    <tr>\n",
       "      <th>Agaev E.</th>\n",
       "      <td>0.0</td>\n",
       "      <td>0.0</td>\n",
       "      <td>0.0</td>\n",
       "      <td>0.0</td>\n",
       "      <td>0.0</td>\n",
       "      <td>0.0</td>\n",
       "      <td>0.0</td>\n",
       "      <td>0.0</td>\n",
       "      <td>0.0</td>\n",
       "      <td>0.0</td>\n",
       "      <td>0.0</td>\n",
       "      <td>0.0</td>\n",
       "      <td>0.0</td>\n",
       "      <td>0.0</td>\n",
       "      <td>0.0</td>\n",
       "      <td>0.0</td>\n",
       "      <td>0.0</td>\n",
       "      <td>0.0</td>\n",
       "      <td>0.0</td>\n",
       "    </tr>\n",
       "  </tbody>\n",
       "</table>\n",
       "</div>"
      ],
      "text/plain": [
       "Stat                      Played  Won  Won_1st Round  Won_2nd Round  \\\n",
       "Date       Player                                                     \n",
       "2000-01-03 Abdulla M.        0.0  0.0            0.0            0.0   \n",
       "           Abel M.           0.0  0.0            0.0            0.0   \n",
       "           Acasuso J.        0.0  0.0            0.0            0.0   \n",
       "           Adaktusson J.     0.0  0.0            0.0            0.0   \n",
       "           Agaev E.          0.0  0.0            0.0            0.0   \n",
       "\n",
       "Stat                      Won_3rd Round  Won_4th Round  Won_ATP250  \\\n",
       "Date       Player                                                    \n",
       "2000-01-03 Abdulla M.               0.0            0.0         0.0   \n",
       "           Abel M.                  0.0            0.0         0.0   \n",
       "           Acasuso J.               0.0            0.0         0.0   \n",
       "           Adaktusson J.            0.0            0.0         0.0   \n",
       "           Agaev E.                 0.0            0.0         0.0   \n",
       "\n",
       "Stat                      Won_ATP500  Won_Grand Slam  Won_International  \\\n",
       "Date       Player                                                         \n",
       "2000-01-03 Abdulla M.            0.0             0.0                0.0   \n",
       "           Abel M.               0.0             0.0                0.0   \n",
       "           Acasuso J.            0.0             0.0                0.0   \n",
       "           Adaktusson J.         0.0             0.0                0.0   \n",
       "           Agaev E.              0.0             0.0                0.0   \n",
       "\n",
       "Stat                      Won_International Gold  Won_International Series  \\\n",
       "Date       Player                                                            \n",
       "2000-01-03 Abdulla M.                        0.0                       0.0   \n",
       "           Abel M.                           0.0                       0.0   \n",
       "           Acasuso J.                        0.0                       0.0   \n",
       "           Adaktusson J.                     0.0                       0.0   \n",
       "           Agaev E.                          0.0                       0.0   \n",
       "\n",
       "Stat                      Won_Masters  Won_Masters 1000  Won_Masters Cup  \\\n",
       "Date       Player                                                          \n",
       "2000-01-03 Abdulla M.             0.0               0.0              0.0   \n",
       "           Abel M.                0.0               0.0              0.0   \n",
       "           Acasuso J.             0.0               0.0              0.0   \n",
       "           Adaktusson J.          0.0               0.0              0.0   \n",
       "           Agaev E.               0.0               0.0              0.0   \n",
       "\n",
       "Stat                      Won_Quarterfinals  Won_Round Robin  Won_Semifinals  \\\n",
       "Date       Player                                                              \n",
       "2000-01-03 Abdulla M.                   0.0              0.0             0.0   \n",
       "           Abel M.                      0.0              0.0             0.0   \n",
       "           Acasuso J.                   0.0              0.0             0.0   \n",
       "           Adaktusson J.                0.0              0.0             0.0   \n",
       "           Agaev E.                     0.0              0.0             0.0   \n",
       "\n",
       "Stat                      Won_The Final  \n",
       "Date       Player                        \n",
       "2000-01-03 Abdulla M.               0.0  \n",
       "           Abel M.                  0.0  \n",
       "           Acasuso J.               0.0  \n",
       "           Adaktusson J.            0.0  \n",
       "           Agaev E.                 0.0  "
      ]
     },
     "execution_count": 31,
     "metadata": {},
     "output_type": "execute_result"
    }
   ],
   "source": [
    "unstacked_rolling_dfs[\"TOTAL\"].head()"
   ]
  },
  {
   "cell_type": "code",
   "execution_count": 32,
   "metadata": {},
   "outputs": [
    {
     "data": {
      "text/plain": [
       "Stat\n",
       "Played                      950.0\n",
       "Won                         779.0\n",
       "Won_1st Round               102.0\n",
       "Won_2nd Round               191.0\n",
       "Won_3rd Round               128.0\n",
       "Won_4th Round                47.0\n",
       "Won_ATP250                   43.0\n",
       "Won_ATP500                   81.0\n",
       "Won_Grand Slam              203.0\n",
       "Won_International            66.0\n",
       "Won_International Gold       46.0\n",
       "Won_International Series      2.0\n",
       "Won_Masters                 127.0\n",
       "Won_Masters 1000            195.0\n",
       "Won_Masters Cup              16.0\n",
       "Won_Quarterfinals           129.0\n",
       "Won_Round Robin              14.0\n",
       "Won_Semifinals              100.0\n",
       "Won_The Final                68.0\n",
       "Name: (2016-09-25 00:00:00, Nadal R.), dtype: float64"
      ]
     },
     "execution_count": 32,
     "metadata": {},
     "output_type": "execute_result"
    }
   ],
   "source": [
    "# Quick check to see if the data is correct\n",
    "unstacked_rolling_dfs[\"TOTAL\"].loc[\"2016-09-25\", \"Nadal R.\"]\n",
    "# Yes! At the end of the dataset Nadal definitely won ATP tournaments"
   ]
  },
  {
   "cell_type": "code",
   "execution_count": 33,
   "metadata": {},
   "outputs": [
    {
     "data": {
      "text/plain": [
       "(0.020734334196569303, 0.0015930273603729441)"
      ]
     },
     "execution_count": 33,
     "metadata": {},
     "output_type": "execute_result"
    }
   ],
   "source": [
    "unstacked_rolling_dfs[\"3M\"].loc[\"2016-09-25\", \"Djokovic N.\"][\"Won_The Final\"], unstacked_rolling_dfs[\"3M\"].loc[\"2016-09-25\", \"Federer R.\"][\"Won_The Final\"]\n",
    "# Yes! Djokovic performs better than Federer recently"
   ]
  },
  {
   "cell_type": "markdown",
   "metadata": {},
   "source": [
    "### Finally... we can prepare the final dataframe with independant rows"
   ]
  },
  {
   "cell_type": "code",
   "execution_count": 34,
   "metadata": {
    "collapsed": true
   },
   "outputs": [],
   "source": [
    "# Let's make copies of the dataframes with renamed columns in preparation for merge\n",
    "from itertools import product\n",
    "merge_dfs = {}\n",
    "for (player_name, horizon) in product([\"P1_Name\", \"P2_Name\"], unstacked_rolling_dfs.keys()):\n",
    "    stat_df = unstacked_rolling_dfs[horizon].copy()\n",
    "    stat_df.columns = stat_df.columns.map(lambda x: player_name[:2] + \"__\" + horizon + \"__\" + x)\n",
    "    merge_dfs[(player_name, horizon)] = stat_df"
   ]
  },
  {
   "cell_type": "markdown",
   "metadata": {},
   "source": [
    "### Super important, the Dataframes in merge_dfs, have the statistics of players until **and including** the day in the index\n",
    "So if we join the date of a tennis game to the date in the dataframe in merge_dfs, we're cheating as we're using the outcome of the match that we're trying to predict!!!!\n",
    "**We should merge to the previous day, ie we're only supposed to be aware of what happened in the past, ie before the date of the game we're predicting**"
   ]
  },
  {
   "cell_type": "code",
   "execution_count": 35,
   "metadata": {},
   "outputs": [
    {
     "data": {
      "text/plain": [
       "Index(['Location', 'Tournament', 'Date', 'Series', 'Court', 'Surface', 'Round',\n",
       "       'Best of', 'P1_Name', 'P1_Rank',\n",
       "       ...\n",
       "       'P2__3M__Won_International', 'P2__3M__Won_International Gold',\n",
       "       'P2__3M__Won_International Series', 'P2__3M__Won_Masters',\n",
       "       'P2__3M__Won_Masters 1000', 'P2__3M__Won_Masters Cup',\n",
       "       'P2__3M__Won_Quarterfinals', 'P2__3M__Won_Round Robin',\n",
       "       'P2__3M__Won_Semifinals', 'P2__3M__Won_The Final'],\n",
       "      dtype='object', length=102)"
      ]
     },
     "execution_count": 35,
     "metadata": {},
     "output_type": "execute_result"
    }
   ],
   "source": [
    "from datetime import timedelta\n",
    "independant_df = eda_df.copy()\n",
    "independant_df.Date = independant_df.Date - timedelta(days=1)  # Now the Date will the day before the game\n",
    "\n",
    "for (player_name, _), df_to_merge_with in merge_dfs.items():\n",
    "    # So that when joining we're getting data only up until the previous day, if it was until today we'd be using the outcome to predict the outcome!!!\n",
    "    independant_df = independant_df.merge(\n",
    "        df_to_merge_with, left_on=[\"Date\", player_name], right_index=True, how=\"inner\"\n",
    "    )\n",
    "    \n",
    "# Restoring the date to its correct value\n",
    "independant_df.Date = independant_df.Date + timedelta(days=1)\n",
    "independant_df.sort_index(axis=0, inplace=True)\n",
    "independant_df.columns"
   ]
  },
  {
   "cell_type": "code",
   "execution_count": 36,
   "metadata": {},
   "outputs": [
    {
     "data": {
      "text/plain": [
       "68.0"
      ]
     },
     "execution_count": 36,
     "metadata": {},
     "output_type": "execute_result"
    }
   ],
   "source": [
    "## Let's check the data: Finals won by Nadal as of his last game\n",
    "independant_df[\n",
    "    (independant_df.P1_Name == \"Nadal R.\") |\n",
    "    (independant_df.P2_Name == \"Nadal R.\")\n",
    "].iloc[-1][\"P1__TOTAL__Won_The Final\"]"
   ]
  },
  {
   "cell_type": "code",
   "execution_count": 37,
   "metadata": {},
   "outputs": [
    {
     "data": {
      "text/plain": [
       "36.0"
      ]
     },
     "execution_count": 37,
     "metadata": {},
     "output_type": "execute_result"
    }
   ],
   "source": [
    "## Let's check the data: Finals won by Nadal as of his 500th game\n",
    "independant_df[\n",
    "    (independant_df.P1_Name == \"Nadal R.\") |\n",
    "    (independant_df.P2_Name == \"Nadal R.\")\n",
    "].iloc[500][\"P1__TOTAL__Won_The Final\"]"
   ]
  },
  {
   "cell_type": "code",
   "execution_count": 38,
   "metadata": {},
   "outputs": [
    {
     "data": {
      "text/plain": [
       "88.0"
      ]
     },
     "execution_count": 38,
     "metadata": {},
     "output_type": "execute_result"
    }
   ],
   "source": [
    "independant_df[\n",
    "    independant_df.P1_Name == \"Federer R.\"\n",
    "].iloc[-1][\"P1__TOTAL__Won_The Final\"]"
   ]
  },
  {
   "cell_type": "markdown",
   "metadata": {},
   "source": [
    "# 5/ Doing EDA on the independant_df"
   ]
  },
  {
   "cell_type": "markdown",
   "metadata": {},
   "source": [
    "Normalizing the data"
   ]
  },
  {
   "cell_type": "code",
   "execution_count": 39,
   "metadata": {
    "collapsed": true
   },
   "outputs": [],
   "source": [
    "columns_to_normalize = [c for c in independant_df if \"__\" in c]\n",
    "data_to_normalize = independant_df.loc[:, columns_to_normalize]\n",
    "\n",
    "data_to_normalize =  (data_to_normalize - data_to_normalize.mean()) / (data_to_normalize.max() - data_to_normalize.min())"
   ]
  },
  {
   "cell_type": "code",
   "execution_count": 40,
   "metadata": {},
   "outputs": [
    {
     "data": {
      "text/html": [
       "<div>\n",
       "<table border=\"1\" class=\"dataframe\">\n",
       "  <thead>\n",
       "    <tr style=\"text-align: right;\">\n",
       "      <th></th>\n",
       "      <th>Location</th>\n",
       "      <th>Tournament</th>\n",
       "      <th>Date</th>\n",
       "      <th>Series</th>\n",
       "      <th>Court</th>\n",
       "      <th>Surface</th>\n",
       "      <th>Round</th>\n",
       "      <th>Best of</th>\n",
       "      <th>P1_Name</th>\n",
       "      <th>P1_Rank</th>\n",
       "      <th>...</th>\n",
       "      <th>P2__3M__Won_International</th>\n",
       "      <th>P2__3M__Won_International Gold</th>\n",
       "      <th>P2__3M__Won_International Series</th>\n",
       "      <th>P2__3M__Won_Masters</th>\n",
       "      <th>P2__3M__Won_Masters 1000</th>\n",
       "      <th>P2__3M__Won_Masters Cup</th>\n",
       "      <th>P2__3M__Won_Quarterfinals</th>\n",
       "      <th>P2__3M__Won_Round Robin</th>\n",
       "      <th>P2__3M__Won_Semifinals</th>\n",
       "      <th>P2__3M__Won_The Final</th>\n",
       "    </tr>\n",
       "  </thead>\n",
       "  <tbody>\n",
       "    <tr>\n",
       "      <th>46647</th>\n",
       "      <td>St. Petersburg</td>\n",
       "      <td>St. Petersburg Open</td>\n",
       "      <td>2016-09-23</td>\n",
       "      <td>ATP250</td>\n",
       "      <td>Indoor</td>\n",
       "      <td>Hard</td>\n",
       "      <td>Quarterfinals</td>\n",
       "      <td>3</td>\n",
       "      <td>Zverev A.</td>\n",
       "      <td>27.0</td>\n",
       "      <td>...</td>\n",
       "      <td>7.974953e-12</td>\n",
       "      <td>1.536933e-12</td>\n",
       "      <td>0.0</td>\n",
       "      <td>7.013360e-08</td>\n",
       "      <td>0.015171</td>\n",
       "      <td>0.0</td>\n",
       "      <td>0.000020</td>\n",
       "      <td>0.0</td>\n",
       "      <td>0.000004</td>\n",
       "      <td>0.000003</td>\n",
       "    </tr>\n",
       "    <tr>\n",
       "      <th>46648</th>\n",
       "      <td>St. Petersburg</td>\n",
       "      <td>St. Petersburg Open</td>\n",
       "      <td>2016-09-23</td>\n",
       "      <td>ATP250</td>\n",
       "      <td>Indoor</td>\n",
       "      <td>Hard</td>\n",
       "      <td>Quarterfinals</td>\n",
       "      <td>3</td>\n",
       "      <td>Wawrinka S.</td>\n",
       "      <td>3.0</td>\n",
       "      <td>...</td>\n",
       "      <td>7.353011e-12</td>\n",
       "      <td>7.610373e-12</td>\n",
       "      <td>0.0</td>\n",
       "      <td>6.959745e-08</td>\n",
       "      <td>0.006964</td>\n",
       "      <td>0.0</td>\n",
       "      <td>0.009176</td>\n",
       "      <td>0.0</td>\n",
       "      <td>0.002703</td>\n",
       "      <td>0.001187</td>\n",
       "    </tr>\n",
       "    <tr>\n",
       "      <th>46649</th>\n",
       "      <td>St. Petersburg</td>\n",
       "      <td>St. Petersburg Open</td>\n",
       "      <td>2016-09-24</td>\n",
       "      <td>ATP250</td>\n",
       "      <td>Indoor</td>\n",
       "      <td>Hard</td>\n",
       "      <td>Semifinals</td>\n",
       "      <td>3</td>\n",
       "      <td>Berdych T.</td>\n",
       "      <td>9.0</td>\n",
       "      <td>...</td>\n",
       "      <td>0.000000e+00</td>\n",
       "      <td>0.000000e+00</td>\n",
       "      <td>0.0</td>\n",
       "      <td>0.000000e+00</td>\n",
       "      <td>0.011964</td>\n",
       "      <td>0.0</td>\n",
       "      <td>0.022994</td>\n",
       "      <td>0.0</td>\n",
       "      <td>0.006542</td>\n",
       "      <td>0.000000</td>\n",
       "    </tr>\n",
       "    <tr>\n",
       "      <th>46650</th>\n",
       "      <td>St. Petersburg</td>\n",
       "      <td>St. Petersburg Open</td>\n",
       "      <td>2016-09-24</td>\n",
       "      <td>ATP250</td>\n",
       "      <td>Indoor</td>\n",
       "      <td>Hard</td>\n",
       "      <td>Semifinals</td>\n",
       "      <td>3</td>\n",
       "      <td>Wawrinka S.</td>\n",
       "      <td>3.0</td>\n",
       "      <td>...</td>\n",
       "      <td>0.000000e+00</td>\n",
       "      <td>0.000000e+00</td>\n",
       "      <td>0.0</td>\n",
       "      <td>0.000000e+00</td>\n",
       "      <td>0.012135</td>\n",
       "      <td>0.0</td>\n",
       "      <td>0.013808</td>\n",
       "      <td>0.0</td>\n",
       "      <td>0.006184</td>\n",
       "      <td>0.000000</td>\n",
       "    </tr>\n",
       "    <tr>\n",
       "      <th>46651</th>\n",
       "      <td>St. Petersburg</td>\n",
       "      <td>St. Petersburg Open</td>\n",
       "      <td>2016-09-25</td>\n",
       "      <td>ATP250</td>\n",
       "      <td>Indoor</td>\n",
       "      <td>Hard</td>\n",
       "      <td>The Final</td>\n",
       "      <td>3</td>\n",
       "      <td>Wawrinka S.</td>\n",
       "      <td>3.0</td>\n",
       "      <td>...</td>\n",
       "      <td>0.000000e+00</td>\n",
       "      <td>0.000000e+00</td>\n",
       "      <td>0.0</td>\n",
       "      <td>0.000000e+00</td>\n",
       "      <td>0.011872</td>\n",
       "      <td>0.0</td>\n",
       "      <td>0.022817</td>\n",
       "      <td>0.0</td>\n",
       "      <td>0.014164</td>\n",
       "      <td>0.000000</td>\n",
       "    </tr>\n",
       "  </tbody>\n",
       "</table>\n",
       "<p>5 rows × 102 columns</p>\n",
       "</div>"
      ],
      "text/plain": [
       "             Location           Tournament       Date  Series   Court Surface  \\\n",
       "46647  St. Petersburg  St. Petersburg Open 2016-09-23  ATP250  Indoor    Hard   \n",
       "46648  St. Petersburg  St. Petersburg Open 2016-09-23  ATP250  Indoor    Hard   \n",
       "46649  St. Petersburg  St. Petersburg Open 2016-09-24  ATP250  Indoor    Hard   \n",
       "46650  St. Petersburg  St. Petersburg Open 2016-09-24  ATP250  Indoor    Hard   \n",
       "46651  St. Petersburg  St. Petersburg Open 2016-09-25  ATP250  Indoor    Hard   \n",
       "\n",
       "               Round  Best of      P1_Name  P1_Rank          ...            \\\n",
       "46647  Quarterfinals        3    Zverev A.     27.0          ...             \n",
       "46648  Quarterfinals        3  Wawrinka S.      3.0          ...             \n",
       "46649     Semifinals        3   Berdych T.      9.0          ...             \n",
       "46650     Semifinals        3  Wawrinka S.      3.0          ...             \n",
       "46651      The Final        3  Wawrinka S.      3.0          ...             \n",
       "\n",
       "       P2__3M__Won_International  P2__3M__Won_International Gold  \\\n",
       "46647               7.974953e-12                    1.536933e-12   \n",
       "46648               7.353011e-12                    7.610373e-12   \n",
       "46649               0.000000e+00                    0.000000e+00   \n",
       "46650               0.000000e+00                    0.000000e+00   \n",
       "46651               0.000000e+00                    0.000000e+00   \n",
       "\n",
       "       P2__3M__Won_International Series  P2__3M__Won_Masters  \\\n",
       "46647                               0.0         7.013360e-08   \n",
       "46648                               0.0         6.959745e-08   \n",
       "46649                               0.0         0.000000e+00   \n",
       "46650                               0.0         0.000000e+00   \n",
       "46651                               0.0         0.000000e+00   \n",
       "\n",
       "       P2__3M__Won_Masters 1000  P2__3M__Won_Masters Cup  \\\n",
       "46647                  0.015171                      0.0   \n",
       "46648                  0.006964                      0.0   \n",
       "46649                  0.011964                      0.0   \n",
       "46650                  0.012135                      0.0   \n",
       "46651                  0.011872                      0.0   \n",
       "\n",
       "      P2__3M__Won_Quarterfinals  P2__3M__Won_Round Robin  \\\n",
       "46647                  0.000020                      0.0   \n",
       "46648                  0.009176                      0.0   \n",
       "46649                  0.022994                      0.0   \n",
       "46650                  0.013808                      0.0   \n",
       "46651                  0.022817                      0.0   \n",
       "\n",
       "       P2__3M__Won_Semifinals  P2__3M__Won_The Final  \n",
       "46647                0.000004               0.000003  \n",
       "46648                0.002703               0.001187  \n",
       "46649                0.006542               0.000000  \n",
       "46650                0.006184               0.000000  \n",
       "46651                0.014164               0.000000  \n",
       "\n",
       "[5 rows x 102 columns]"
      ]
     },
     "execution_count": 40,
     "metadata": {},
     "output_type": "execute_result"
    }
   ],
   "source": [
    "independant_df.tail()"
   ]
  },
  {
   "cell_type": "markdown",
   "metadata": {},
   "source": [
    "## 5.A Correlations between the various features"
   ]
  },
  {
   "cell_type": "code",
   "execution_count": 41,
   "metadata": {},
   "outputs": [
    {
     "data": {
      "text/html": [
       "<div>\n",
       "<table border=\"1\" class=\"dataframe\">\n",
       "  <thead>\n",
       "    <tr style=\"text-align: right;\">\n",
       "      <th></th>\n",
       "      <th>P1__3M__Won</th>\n",
       "      <th>P1__3M__Won_1st Round</th>\n",
       "      <th>P1__3M__Won_2nd Round</th>\n",
       "      <th>P1__3M__Won_3rd Round</th>\n",
       "      <th>P1__3M__Won_4th Round</th>\n",
       "      <th>P1__3M__Won_ATP250</th>\n",
       "      <th>P1__3M__Won_ATP500</th>\n",
       "      <th>P1__3M__Won_Grand Slam</th>\n",
       "      <th>P1__3M__Won_International</th>\n",
       "      <th>P1__3M__Won_International Gold</th>\n",
       "    </tr>\n",
       "  </thead>\n",
       "  <tbody>\n",
       "    <tr>\n",
       "      <th>P1__TOTAL__Played</th>\n",
       "      <td>0.437188</td>\n",
       "      <td>-0.055598</td>\n",
       "      <td>0.457599</td>\n",
       "      <td>0.453327</td>\n",
       "      <td>0.440227</td>\n",
       "      <td>0.348249</td>\n",
       "      <td>0.500072</td>\n",
       "      <td>0.443990</td>\n",
       "      <td>-0.240432</td>\n",
       "      <td>-0.153123</td>\n",
       "    </tr>\n",
       "    <tr>\n",
       "      <th>P1__TOTAL__Won</th>\n",
       "      <td>0.504755</td>\n",
       "      <td>-0.091146</td>\n",
       "      <td>0.487017</td>\n",
       "      <td>0.537639</td>\n",
       "      <td>0.539364</td>\n",
       "      <td>0.270723</td>\n",
       "      <td>0.494625</td>\n",
       "      <td>0.523502</td>\n",
       "      <td>-0.199189</td>\n",
       "      <td>-0.118721</td>\n",
       "    </tr>\n",
       "    <tr>\n",
       "      <th>P1__TOTAL__Won_1st Round</th>\n",
       "      <td>0.314237</td>\n",
       "      <td>0.061285</td>\n",
       "      <td>0.382640</td>\n",
       "      <td>0.278442</td>\n",
       "      <td>0.241063</td>\n",
       "      <td>0.411853</td>\n",
       "      <td>0.418190</td>\n",
       "      <td>0.289793</td>\n",
       "      <td>-0.236126</td>\n",
       "      <td>-0.148419</td>\n",
       "    </tr>\n",
       "    <tr>\n",
       "      <th>P1__TOTAL__Won_2nd Round</th>\n",
       "      <td>0.482671</td>\n",
       "      <td>-0.070664</td>\n",
       "      <td>0.513283</td>\n",
       "      <td>0.512346</td>\n",
       "      <td>0.486609</td>\n",
       "      <td>0.316055</td>\n",
       "      <td>0.511233</td>\n",
       "      <td>0.490550</td>\n",
       "      <td>-0.213747</td>\n",
       "      <td>-0.129145</td>\n",
       "    </tr>\n",
       "    <tr>\n",
       "      <th>P1__TOTAL__Won_3rd Round</th>\n",
       "      <td>0.525699</td>\n",
       "      <td>-0.158552</td>\n",
       "      <td>0.478864</td>\n",
       "      <td>0.617299</td>\n",
       "      <td>0.612578</td>\n",
       "      <td>0.160961</td>\n",
       "      <td>0.468446</td>\n",
       "      <td>0.572885</td>\n",
       "      <td>-0.164663</td>\n",
       "      <td>-0.090823</td>\n",
       "    </tr>\n",
       "    <tr>\n",
       "      <th>P1__TOTAL__Won_4th Round</th>\n",
       "      <td>0.490807</td>\n",
       "      <td>-0.194446</td>\n",
       "      <td>0.389453</td>\n",
       "      <td>0.573812</td>\n",
       "      <td>0.655568</td>\n",
       "      <td>0.074908</td>\n",
       "      <td>0.405348</td>\n",
       "      <td>0.568056</td>\n",
       "      <td>-0.136349</td>\n",
       "      <td>-0.089491</td>\n",
       "    </tr>\n",
       "    <tr>\n",
       "      <th>P1__TOTAL__Won_ATP250</th>\n",
       "      <td>0.085303</td>\n",
       "      <td>-0.055479</td>\n",
       "      <td>0.196913</td>\n",
       "      <td>0.065674</td>\n",
       "      <td>0.043643</td>\n",
       "      <td>0.685725</td>\n",
       "      <td>0.529121</td>\n",
       "      <td>0.081454</td>\n",
       "      <td>-0.472202</td>\n",
       "      <td>-0.379054</td>\n",
       "    </tr>\n",
       "    <tr>\n",
       "      <th>P1__TOTAL__Won_ATP500</th>\n",
       "      <td>0.303164</td>\n",
       "      <td>-0.154270</td>\n",
       "      <td>0.340389</td>\n",
       "      <td>0.344907</td>\n",
       "      <td>0.342649</td>\n",
       "      <td>0.435322</td>\n",
       "      <td>0.697134</td>\n",
       "      <td>0.319714</td>\n",
       "      <td>-0.386123</td>\n",
       "      <td>-0.310141</td>\n",
       "    </tr>\n",
       "    <tr>\n",
       "      <th>P1__TOTAL__Won_Grand Slam</th>\n",
       "      <td>0.495380</td>\n",
       "      <td>-0.142843</td>\n",
       "      <td>0.442730</td>\n",
       "      <td>0.559921</td>\n",
       "      <td>0.593671</td>\n",
       "      <td>0.192324</td>\n",
       "      <td>0.463589</td>\n",
       "      <td>0.579013</td>\n",
       "      <td>-0.195201</td>\n",
       "      <td>-0.130360</td>\n",
       "    </tr>\n",
       "    <tr>\n",
       "      <th>P1__TOTAL__Won_International</th>\n",
       "      <td>0.381133</td>\n",
       "      <td>0.080565</td>\n",
       "      <td>0.378716</td>\n",
       "      <td>0.341879</td>\n",
       "      <td>0.320681</td>\n",
       "      <td>0.029054</td>\n",
       "      <td>0.134560</td>\n",
       "      <td>0.330832</td>\n",
       "      <td>0.108957</td>\n",
       "      <td>0.089087</td>\n",
       "    </tr>\n",
       "  </tbody>\n",
       "</table>\n",
       "</div>"
      ],
      "text/plain": [
       "                              P1__3M__Won  P1__3M__Won_1st Round  \\\n",
       "P1__TOTAL__Played                0.437188              -0.055598   \n",
       "P1__TOTAL__Won                   0.504755              -0.091146   \n",
       "P1__TOTAL__Won_1st Round         0.314237               0.061285   \n",
       "P1__TOTAL__Won_2nd Round         0.482671              -0.070664   \n",
       "P1__TOTAL__Won_3rd Round         0.525699              -0.158552   \n",
       "P1__TOTAL__Won_4th Round         0.490807              -0.194446   \n",
       "P1__TOTAL__Won_ATP250            0.085303              -0.055479   \n",
       "P1__TOTAL__Won_ATP500            0.303164              -0.154270   \n",
       "P1__TOTAL__Won_Grand Slam        0.495380              -0.142843   \n",
       "P1__TOTAL__Won_International     0.381133               0.080565   \n",
       "\n",
       "                              P1__3M__Won_2nd Round  P1__3M__Won_3rd Round  \\\n",
       "P1__TOTAL__Played                          0.457599               0.453327   \n",
       "P1__TOTAL__Won                             0.487017               0.537639   \n",
       "P1__TOTAL__Won_1st Round                   0.382640               0.278442   \n",
       "P1__TOTAL__Won_2nd Round                   0.513283               0.512346   \n",
       "P1__TOTAL__Won_3rd Round                   0.478864               0.617299   \n",
       "P1__TOTAL__Won_4th Round                   0.389453               0.573812   \n",
       "P1__TOTAL__Won_ATP250                      0.196913               0.065674   \n",
       "P1__TOTAL__Won_ATP500                      0.340389               0.344907   \n",
       "P1__TOTAL__Won_Grand Slam                  0.442730               0.559921   \n",
       "P1__TOTAL__Won_International               0.378716               0.341879   \n",
       "\n",
       "                              P1__3M__Won_4th Round  P1__3M__Won_ATP250  \\\n",
       "P1__TOTAL__Played                          0.440227            0.348249   \n",
       "P1__TOTAL__Won                             0.539364            0.270723   \n",
       "P1__TOTAL__Won_1st Round                   0.241063            0.411853   \n",
       "P1__TOTAL__Won_2nd Round                   0.486609            0.316055   \n",
       "P1__TOTAL__Won_3rd Round                   0.612578            0.160961   \n",
       "P1__TOTAL__Won_4th Round                   0.655568            0.074908   \n",
       "P1__TOTAL__Won_ATP250                      0.043643            0.685725   \n",
       "P1__TOTAL__Won_ATP500                      0.342649            0.435322   \n",
       "P1__TOTAL__Won_Grand Slam                  0.593671            0.192324   \n",
       "P1__TOTAL__Won_International               0.320681            0.029054   \n",
       "\n",
       "                              P1__3M__Won_ATP500  P1__3M__Won_Grand Slam  \\\n",
       "P1__TOTAL__Played                       0.500072                0.443990   \n",
       "P1__TOTAL__Won                          0.494625                0.523502   \n",
       "P1__TOTAL__Won_1st Round                0.418190                0.289793   \n",
       "P1__TOTAL__Won_2nd Round                0.511233                0.490550   \n",
       "P1__TOTAL__Won_3rd Round                0.468446                0.572885   \n",
       "P1__TOTAL__Won_4th Round                0.405348                0.568056   \n",
       "P1__TOTAL__Won_ATP250                   0.529121                0.081454   \n",
       "P1__TOTAL__Won_ATP500                   0.697134                0.319714   \n",
       "P1__TOTAL__Won_Grand Slam               0.463589                0.579013   \n",
       "P1__TOTAL__Won_International            0.134560                0.330832   \n",
       "\n",
       "                              P1__3M__Won_International  \\\n",
       "P1__TOTAL__Played                             -0.240432   \n",
       "P1__TOTAL__Won                                -0.199189   \n",
       "P1__TOTAL__Won_1st Round                      -0.236126   \n",
       "P1__TOTAL__Won_2nd Round                      -0.213747   \n",
       "P1__TOTAL__Won_3rd Round                      -0.164663   \n",
       "P1__TOTAL__Won_4th Round                      -0.136349   \n",
       "P1__TOTAL__Won_ATP250                         -0.472202   \n",
       "P1__TOTAL__Won_ATP500                         -0.386123   \n",
       "P1__TOTAL__Won_Grand Slam                     -0.195201   \n",
       "P1__TOTAL__Won_International                   0.108957   \n",
       "\n",
       "                              P1__3M__Won_International Gold  \n",
       "P1__TOTAL__Played                                  -0.153123  \n",
       "P1__TOTAL__Won                                     -0.118721  \n",
       "P1__TOTAL__Won_1st Round                           -0.148419  \n",
       "P1__TOTAL__Won_2nd Round                           -0.129145  \n",
       "P1__TOTAL__Won_3rd Round                           -0.090823  \n",
       "P1__TOTAL__Won_4th Round                           -0.089491  \n",
       "P1__TOTAL__Won_ATP250                              -0.379054  \n",
       "P1__TOTAL__Won_ATP500                              -0.310141  \n",
       "P1__TOTAL__Won_Grand Slam                          -0.130360  \n",
       "P1__TOTAL__Won_International                        0.089087  "
      ]
     },
     "execution_count": 41,
     "metadata": {},
     "output_type": "execute_result"
    }
   ],
   "source": [
    "columns = [c for c in independant_df.columns if \"__\" in c]\n",
    "independant_df[columns + [\"Date\"]].corr().iloc[:10, 20:30]"
   ]
  },
  {
   "cell_type": "code",
   "execution_count": 42,
   "metadata": {},
   "outputs": [
    {
     "data": {
      "text/plain": [
       "<matplotlib.axes._subplots.AxesSubplot at 0x116c5a0b8>"
      ]
     },
     "execution_count": 42,
     "metadata": {},
     "output_type": "execute_result"
    },
    {
     "data": {
      "image/png": "[encoded data removed]",
      "text/plain": [
       "<matplotlib.figure.Figure at 0x116c1a780>"
      ]
     },
     "metadata": {},
     "output_type": "display_data"
    }
   ],
   "source": [
    "sns.heatmap(independant_df[columns + [\"Player1Wins\"]].corr())"
   ]
  },
  {
   "cell_type": "markdown",
   "metadata": {},
   "source": [
    "Interesting things to note here:\n",
    "* The `TOTAL__WON *` columns are quite correlated with one another (which does make sense)\n",
    "* The `1Y__WON *` columns are far less correlated with one another, I guess a way to interpret this is that, as the period time we're considering is shorter, players are less likely to be consistent at winning for the various rounds?\n",
    "\n",
    "If we look at the correlation between the players columns it's interesting to see that:\n",
    "* The `P1__TOTAL *` or `P2__TOTAL *` are more correlated than the `P1__1Y * ` `P2__1Y *` columns, meaning if we look at a shorter horizon past performance then there will be more discrepancy between the performance of players that play against each other?"
   ]
  },
  {
   "cell_type": "markdown",
   "metadata": {},
   "source": [
    "Also the target seems to be more correlated with the `Player1` columns rather than player2, is this a consequence of the fact that we picked the better ranked player as player 1? If we had randomly picked Player1 and 2, maybe it'd be more evenly correlated to the Player1 and Player2 columns\n",
    "On the other hand this correlation is between a boolean vector and vectors with many different values, so maybe the correlations between `Player1Wins` and other columns isn't that meaningful"
   ]
  },
  {
   "cell_type": "markdown",
   "metadata": {},
   "source": [
    "## 5.B Distributions"
   ]
  },
  {
   "cell_type": "code",
   "execution_count": 43,
   "metadata": {},
   "outputs": [
    {
     "data": {
      "text/plain": [
       "<matplotlib.axes._subplots.AxesSubplot at 0x125999630>"
      ]
     },
     "execution_count": 43,
     "metadata": {},
     "output_type": "execute_result"
    },
    {
     "data": {
      "image/png": "[encoded data removed]",
      "text/plain": [
       "<matplotlib.figure.Figure at 0x3c8b9cf98>"
      ]
     },
     "metadata": {},
     "output_type": "display_data"
    }
   ],
   "source": [
    "_, axes = plt.subplots(2, 2)\n",
    "axes[0][0].set_title(\"Total 4th Round\")\n",
    "axes[1][0].set_title(\"3M 4th Round\")\n",
    "axes[0][1].set_title(\"Total Won\")\n",
    "axes[1][1].set_title(\"3M Won\")\n",
    "np.log10(independant_df[\"P1__TOTAL__Won_4th Round\"] * 100 + 1).hist(ax=axes[0][0])\n",
    "np.log10(independant_df[\"P1__3M__Won_4th Round\"] * 100 + 1).hist(ax=axes[1][0])\n",
    "np.log10(independant_df[\"P1__TOTAL__Won\"] * 100 + 1).hist(ax=axes[0][1])\n",
    "np.log10(independant_df[\"P1__3M__Won\"] * 100 + 1).hist(ax=axes[1][1])"
   ]
  },
  {
   "cell_type": "markdown",
   "metadata": {},
   "source": [
    "This is quite interesting:\n",
    "* The 4th Round matches won statistics tend to have most of their mass around 0, and tail on the right: Only a relatively small subset of players make it to the 4th Round. This is even more pronounced if we look at the 1Y exp moving average\n",
    "* The total numer of games won is slightly more normal, as everyone gets a change to win a match"
   ]
  },
  {
   "cell_type": "markdown",
   "metadata": {},
   "source": [
    "## 5.C First go at modelling"
   ]
  },
  {
   "cell_type": "code",
   "execution_count": 44,
   "metadata": {
    "collapsed": true
   },
   "outputs": [],
   "source": [
    "independant_df = independant_df[independant_df.Date > \"2005-01-01\"]"
   ]
  },
  {
   "cell_type": "code",
   "execution_count": 45,
   "metadata": {},
   "outputs": [
    {
     "data": {
      "text/plain": [
       "LogisticRegression(C=1.0, class_weight=None, dual=False, fit_intercept=True,\n",
       "          intercept_scaling=1, max_iter=100, multi_class='ovr', n_jobs=1,\n",
       "          penalty='l1', random_state=None, solver='liblinear', tol=0.0001,\n",
       "          verbose=0, warm_start=False)"
      ]
     },
     "execution_count": 45,
     "metadata": {},
     "output_type": "execute_result"
    }
   ],
   "source": [
    "lr = LogisticRegression(penalty=\"l1\")\n",
    "lr.fit(independant_df[columns], independant_df.Player1Wins)\n"
   ]
  },
  {
   "cell_type": "code",
   "execution_count": 46,
   "metadata": {},
   "outputs": [
    {
     "data": {
      "text/plain": [
       "0.68016345883894314"
      ]
     },
     "execution_count": 46,
     "metadata": {},
     "output_type": "execute_result"
    }
   ],
   "source": [
    "lr.score(independant_df[columns], independant_df.Player1Wins)"
   ]
  },
  {
   "cell_type": "code",
   "execution_count": 47,
   "metadata": {},
   "outputs": [
    {
     "data": {
      "text/plain": [
       "[(-0.0042621305870354717, 'P1__TOTAL__Played'),\n",
       " (0.0023493747262925547, 'P1__TOTAL__Won'),\n",
       " (0.0044183687473212394, 'P1__TOTAL__Won_1st Round'),\n",
       " (0.0054391239397879468, 'P1__TOTAL__Won_2nd Round'),\n",
       " (-0.0036797112980410333, 'P1__TOTAL__Won_3rd Round'),\n",
       " (-0.0028780308878172678, 'P1__TOTAL__Won_4th Round'),\n",
       " (-0.0006501492362316957, 'P1__TOTAL__Won_ATP250'),\n",
       " (0.0023591968120739485, 'P1__TOTAL__Won_ATP500'),\n",
       " (0.0070044362968051666, 'P1__TOTAL__Won_Grand Slam'),\n",
       " (0.0020882884300412493, 'P1__TOTAL__Won_International'),\n",
       " (-0.002094410694174893, 'P1__TOTAL__Won_International Gold'),\n",
       " (-0.0080811584552214436, 'P1__TOTAL__Won_International Series'),\n",
       " (0.0026921707799860027, 'P1__TOTAL__Won_Masters'),\n",
       " (0.0074342310775965528, 'P1__TOTAL__Won_Masters 1000'),\n",
       " (-0.0028863952525975357, 'P1__TOTAL__Won_Masters Cup'),\n",
       " (0.0016075575240376185, 'P1__TOTAL__Won_Quarterfinals'),\n",
       " (0.00050374829816764025, 'P1__TOTAL__Won_Round Robin'),\n",
       " (-0.0066301583212621208, 'P1__TOTAL__Won_Semifinals'),\n",
       " (0.0021378910217325323, 'P1__TOTAL__Won_The Final'),\n",
       " (-3.0495996040129767, 'P1__3M__Played'),\n",
       " (14.62288922322314, 'P1__3M__Won'),\n",
       " (0.0, 'P1__3M__Won_1st Round'),\n",
       " (0.0, 'P1__3M__Won_2nd Round'),\n",
       " (0.0, 'P1__3M__Won_3rd Round'),\n",
       " (0.0, 'P1__3M__Won_4th Round'),\n",
       " (-1.4181627243912269, 'P1__3M__Won_ATP250'),\n",
       " (0.0, 'P1__3M__Won_ATP500'),\n",
       " (1.330666336221318, 'P1__3M__Won_Grand Slam'),\n",
       " (-1.1557818062833745, 'P1__3M__Won_International'),\n",
       " (0.0, 'P1__3M__Won_International Gold'),\n",
       " (0.0, 'P1__3M__Won_International Series'),\n",
       " (3.4257001536694904, 'P1__3M__Won_Masters'),\n",
       " (2.6914821127912041, 'P1__3M__Won_Masters 1000'),\n",
       " (0.0, 'P1__3M__Won_Masters Cup'),\n",
       " (0.0, 'P1__3M__Won_Quarterfinals'),\n",
       " (0.0, 'P1__3M__Won_Round Robin'),\n",
       " (0.0, 'P1__3M__Won_Semifinals'),\n",
       " (0.0, 'P1__3M__Won_The Final'),\n",
       " (0.005160525113829883, 'P2__TOTAL__Played'),\n",
       " (-0.0011434884157137148, 'P2__TOTAL__Won'),\n",
       " (-0.0092242311489505492, 'P2__TOTAL__Won_1st Round'),\n",
       " (-0.00044157419208213072, 'P2__TOTAL__Won_2nd Round'),\n",
       " (0.0061854654895036835, 'P2__TOTAL__Won_3rd Round'),\n",
       " (0.0070304182565191081, 'P2__TOTAL__Won_4th Round'),\n",
       " (-0.0017495987967109453, 'P2__TOTAL__Won_ATP250'),\n",
       " (-1.9732350931150821e-05, 'P2__TOTAL__Won_ATP500'),\n",
       " (-0.01459638588193898, 'P2__TOTAL__Won_Grand Slam'),\n",
       " (-0.0028588654980878569, 'P2__TOTAL__Won_International'),\n",
       " (-0.0017584900006080374, 'P2__TOTAL__Won_International Gold'),\n",
       " (0.0050617130421589974, 'P2__TOTAL__Won_International Series'),\n",
       " (-0.006870826608632895, 'P2__TOTAL__Won_Masters'),\n",
       " (-0.016764331213123859, 'P2__TOTAL__Won_Masters 1000'),\n",
       " (0.033343463573906863, 'P2__TOTAL__Won_Masters Cup'),\n",
       " (0.012385323754408014, 'P2__TOTAL__Won_Quarterfinals'),\n",
       " (-0.018919470288251236, 'P2__TOTAL__Won_Round Robin'),\n",
       " (-0.016849698876594363, 'P2__TOTAL__Won_Semifinals'),\n",
       " (0.0078512896701599839, 'P2__TOTAL__Won_The Final'),\n",
       " (-1.3607600848527244, 'P2__3M__Played'),\n",
       " (-10.973799860185151, 'P2__3M__Won'),\n",
       " (0.0, 'P2__3M__Won_1st Round'),\n",
       " (0.0, 'P2__3M__Won_2nd Round'),\n",
       " (0.0, 'P2__3M__Won_3rd Round'),\n",
       " (0.0, 'P2__3M__Won_4th Round'),\n",
       " (1.0337371656395358, 'P2__3M__Won_ATP250'),\n",
       " (0.0, 'P2__3M__Won_ATP500'),\n",
       " (0.0, 'P2__3M__Won_Grand Slam'),\n",
       " (0.0, 'P2__3M__Won_International'),\n",
       " (0.0, 'P2__3M__Won_International Gold'),\n",
       " (0.0, 'P2__3M__Won_International Series'),\n",
       " (-2.0267035123389805, 'P2__3M__Won_Masters'),\n",
       " (0.0, 'P2__3M__Won_Masters 1000'),\n",
       " (0.0, 'P2__3M__Won_Masters Cup'),\n",
       " (0.0, 'P2__3M__Won_Quarterfinals'),\n",
       " (0.0, 'P2__3M__Won_Round Robin'),\n",
       " (0.0, 'P2__3M__Won_Semifinals'),\n",
       " (0.0, 'P2__3M__Won_The Final')]"
      ]
     },
     "execution_count": 47,
     "metadata": {},
     "output_type": "execute_result"
    }
   ],
   "source": [
    "list(zip(lr.coef_[0], columns))"
   ]
  },
  {
   "cell_type": "markdown",
   "metadata": {},
   "source": [
    "**We managed to beat the baseline!!!!!**"
   ]
  },
  {
   "cell_type": "code",
   "execution_count": 49,
   "metadata": {
    "collapsed": true
   },
   "outputs": [],
   "source": [
    "independant_df.to_csv(\"independant_observations.csv\")"
   ]
  }
 ],
 "metadata": {
  "kernelspec": {
   "display_name": "Python 3",
   "language": "python",
   "name": "python3"
  },
  "language_info": {
   "codemirror_mode": {
    "name": "ipython",
    "version": 3
   },
   "file_extension": ".py",
   "mimetype": "text/x-python",
   "name": "python",
   "nbconvert_exporter": "python",
   "pygments_lexer": "ipython3",
   "version": "3.6.1"
  }
 },
 "nbformat": 4,
 "nbformat_minor": 2
}
