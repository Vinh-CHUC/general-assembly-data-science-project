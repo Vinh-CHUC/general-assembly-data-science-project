{
 "cells": [
  {
   "cell_type": "markdown",
   "metadata": {},
   "source": [
    "# Context\n",
    "The dataset comes from Kaggle https://inclass.kaggle.com/jordangoblet/atp-tour-20002016, and has been compiled from various sources.\n",
    "\n",
    "It contains relatively high level data about all tennis games on the ATP tour, like the date of the game, names of both players, who won, their ranks, the type of surface, the name of the tournament...\n",
    "\n",
    "There is some other data (which I don't think I\"ll use) such as:\n",
    "* The breakdown of the scores eg 6-4 6-4 6-4\n",
    "* Various betting odds from various betting companies"
   ]
  },
  {
   "cell_type": "markdown",
   "metadata": {},
   "source": [
    "To recap:\n",
    "* we're trying to predict who will win a given tennis match, based on the information available. We will have to compute derived features that represent the user's past performance, as the information available upfront for a given tennis match is relatively limited\n",
    "* A baseline could be based on the current ATP ranking (ie the better ranked player should win)"
   ]
  },
  {
   "cell_type": "markdown",
   "metadata": {
    "collapsed": true
   },
   "source": [
    "# 1/ Basic look at the data + Cleaning data (converting types and removing NAs)"
   ]
  },
  {
   "cell_type": "code",
   "execution_count": 1,
   "metadata": {
    "collapsed": true
   },
   "outputs": [],
   "source": [
    "import pandas as pd, numpy as np\n",
    "import importlib\n",
    "%matplotlib inline\n",
    "import matplotlib as mpl\n",
    "import matplotlib.pyplot as plt\n",
    "import seaborn as sns\n",
    "mpl.rcParams['figure.figsize'] = (12,8)"
   ]
  },
  {
   "cell_type": "code",
   "execution_count": 2,
   "metadata": {
    "collapsed": true
   },
   "outputs": [],
   "source": [
    "import sys\n",
    "sys.path.append(\"../../\")\n",
    "# Importing my helper module\n",
    "from tennis_predictor import clean_data"
   ]
  },
  {
   "cell_type": "code",
   "execution_count": 3,
   "metadata": {
    "collapsed": true
   },
   "outputs": [],
   "source": [
    "df = pd.read_csv(\"../../data.csv\", low_memory=False)\n",
    "COLUMNS = [\n",
    "    \"Location\", \"Tournament\", \"Date\",\n",
    "    \"Series\",\n",
    "    \"Court\", \"Surface\",\n",
    "    \"Round\", \"Best of\",\n",
    "    \"Winner\", \"Loser\", \"WRank\", \"LRank\",\n",
    "]\n",
    "GAME_STATS_COLS = [\n",
    "    \"W1\", \"L1\", \"W2\", \"L2\", \"W3\", \"L3\", \"W4\", \"L4\", \"W5\", \"L5\",\n",
    "    \"Wsets\", \"Lsets\"\n",
    "]\n",
    "df = df[COLUMNS + GAME_STATS_COLS]"
   ]
  },
  {
   "cell_type": "markdown",
   "metadata": {},
   "source": [
    "## 1.A An example record"
   ]
  },
  {
   "cell_type": "code",
   "execution_count": 4,
   "metadata": {},
   "outputs": [
    {
     "data": {
      "text/plain": [
       "Location                 Memphis\n",
       "Tournament       Kroger St. Jude\n",
       "Date                  14/02/2000\n",
       "Series        International Gold\n",
       "Court                     Indoor\n",
       "Surface                     Hard\n",
       "Round                  1st Round\n",
       "Best of                        3\n",
       "Winner                 Mamiit C.\n",
       "Loser                  Jensen L.\n",
       "WRank                        135\n",
       "LRank                         NR\n",
       "W1                             7\n",
       "L1                             5\n",
       "W2                             6\n",
       "L2                             2\n",
       "W3                           NaN\n",
       "L3                           NaN\n",
       "W4                           NaN\n",
       "L4                           NaN\n",
       "W5                           NaN\n",
       "L5                           NaN\n",
       "Wsets                          2\n",
       "Lsets                          0\n",
       "Name: 377, dtype: object"
      ]
     },
     "execution_count": 4,
     "metadata": {},
     "output_type": "execute_result"
    }
   ],
   "source": [
    "# Example record\n",
    "df.iloc[377]"
   ]
  },
  {
   "cell_type": "markdown",
   "metadata": {},
   "source": [
    "## 1.B Converting to the appropriate data types, dropping rows with NAs"
   ]
  },
  {
   "cell_type": "code",
   "execution_count": 5,
   "metadata": {},
   "outputs": [
    {
     "name": "stdout",
     "output_type": "stream",
     "text": [
      "Location       0\n",
      "Tournament     0\n",
      "Date           0\n",
      "Series         0\n",
      "Court          0\n",
      "Surface        0\n",
      "Round          0\n",
      "Best of        0\n",
      "Winner         0\n",
      "Loser          0\n",
      "WRank         16\n",
      "LRank         98\n",
      "dtype: int64\n"
     ]
    }
   ],
   "source": [
    "data = clean_data.convert_to_numeric(df, [\"WRank\", \"LRank\"])\n",
    "data = data.assign(\n",
    "    Date=pd.to_datetime(data.Date, format=\"%d/%m/%Y\")\n",
    ")\n",
    "data = clean_data.drop_nas(data, COLUMNS)  # This will also print a summary of where we had NAs"
   ]
  },
  {
   "cell_type": "markdown",
   "metadata": {},
   "source": [
    "## 1.C Inspecting the data"
   ]
  },
  {
   "cell_type": "code",
   "execution_count": 6,
   "metadata": {},
   "outputs": [
    {
     "data": {
      "text/plain": [
       "International           11846\n",
       "ATP250                   8947\n",
       "Grand Slam               8630\n",
       "Masters                  5281\n",
       "Masters 1000             4320\n",
       "International Gold       3744\n",
       "ATP500                   3132\n",
       "International Series      398\n",
       "Masters Cup               240\n",
       "Name: Series, dtype: int64"
      ]
     },
     "execution_count": 6,
     "metadata": {},
     "output_type": "execute_result"
    }
   ],
   "source": [
    "data.Series.value_counts()"
   ]
  },
  {
   "cell_type": "code",
   "execution_count": 7,
   "metadata": {},
   "outputs": [
    {
     "data": {
      "text/html": [
       "<div>\n",
       "<table border=\"1\" class=\"dataframe\">\n",
       "  <thead>\n",
       "    <tr style=\"text-align: right;\">\n",
       "      <th></th>\n",
       "      <th>Location</th>\n",
       "      <th>Tournament</th>\n",
       "      <th>Date</th>\n",
       "      <th>Series</th>\n",
       "      <th>Court</th>\n",
       "      <th>Surface</th>\n",
       "      <th>Round</th>\n",
       "      <th>Best of</th>\n",
       "      <th>Winner</th>\n",
       "      <th>Loser</th>\n",
       "      <th>WRank</th>\n",
       "      <th>LRank</th>\n",
       "      <th>W1</th>\n",
       "      <th>L1</th>\n",
       "      <th>W2</th>\n",
       "      <th>L2</th>\n",
       "      <th>W3</th>\n",
       "      <th>L3</th>\n",
       "      <th>W4</th>\n",
       "      <th>L4</th>\n",
       "    </tr>\n",
       "  </thead>\n",
       "  <tbody>\n",
       "    <tr>\n",
       "      <th>46647</th>\n",
       "      <td>St. Petersburg</td>\n",
       "      <td>St. Petersburg Open</td>\n",
       "      <td>2016-09-23</td>\n",
       "      <td>ATP250</td>\n",
       "      <td>Indoor</td>\n",
       "      <td>Hard</td>\n",
       "      <td>Quarterfinals</td>\n",
       "      <td>3</td>\n",
       "      <td>Zverev A.</td>\n",
       "      <td>Youzhny M.</td>\n",
       "      <td>27.0</td>\n",
       "      <td>53.0</td>\n",
       "      <td>6.0</td>\n",
       "      <td>2.0</td>\n",
       "      <td>6.0</td>\n",
       "      <td>2.0</td>\n",
       "      <td>NaN</td>\n",
       "      <td>NaN</td>\n",
       "      <td>NaN</td>\n",
       "      <td>NaN</td>\n",
       "    </tr>\n",
       "    <tr>\n",
       "      <th>46648</th>\n",
       "      <td>St. Petersburg</td>\n",
       "      <td>St. Petersburg Open</td>\n",
       "      <td>2016-09-23</td>\n",
       "      <td>ATP250</td>\n",
       "      <td>Indoor</td>\n",
       "      <td>Hard</td>\n",
       "      <td>Quarterfinals</td>\n",
       "      <td>3</td>\n",
       "      <td>Wawrinka S.</td>\n",
       "      <td>Troicki V.</td>\n",
       "      <td>3.0</td>\n",
       "      <td>33.0</td>\n",
       "      <td>7.0</td>\n",
       "      <td>5.0</td>\n",
       "      <td>6.0</td>\n",
       "      <td>2.0</td>\n",
       "      <td>NaN</td>\n",
       "      <td>NaN</td>\n",
       "      <td>NaN</td>\n",
       "      <td>NaN</td>\n",
       "    </tr>\n",
       "    <tr>\n",
       "      <th>46649</th>\n",
       "      <td>St. Petersburg</td>\n",
       "      <td>St. Petersburg Open</td>\n",
       "      <td>2016-09-24</td>\n",
       "      <td>ATP250</td>\n",
       "      <td>Indoor</td>\n",
       "      <td>Hard</td>\n",
       "      <td>Semifinals</td>\n",
       "      <td>3</td>\n",
       "      <td>Zverev A.</td>\n",
       "      <td>Berdych T.</td>\n",
       "      <td>27.0</td>\n",
       "      <td>9.0</td>\n",
       "      <td>6.0</td>\n",
       "      <td>4.0</td>\n",
       "      <td>6.0</td>\n",
       "      <td>4.0</td>\n",
       "      <td>NaN</td>\n",
       "      <td>NaN</td>\n",
       "      <td>NaN</td>\n",
       "      <td>NaN</td>\n",
       "    </tr>\n",
       "    <tr>\n",
       "      <th>46650</th>\n",
       "      <td>St. Petersburg</td>\n",
       "      <td>St. Petersburg Open</td>\n",
       "      <td>2016-09-24</td>\n",
       "      <td>ATP250</td>\n",
       "      <td>Indoor</td>\n",
       "      <td>Hard</td>\n",
       "      <td>Semifinals</td>\n",
       "      <td>3</td>\n",
       "      <td>Wawrinka S.</td>\n",
       "      <td>Bautista Agut R.</td>\n",
       "      <td>3.0</td>\n",
       "      <td>16.0</td>\n",
       "      <td>7.0</td>\n",
       "      <td>6.0</td>\n",
       "      <td>6.0</td>\n",
       "      <td>2.0</td>\n",
       "      <td>NaN</td>\n",
       "      <td>NaN</td>\n",
       "      <td>NaN</td>\n",
       "      <td>NaN</td>\n",
       "    </tr>\n",
       "    <tr>\n",
       "      <th>46651</th>\n",
       "      <td>St. Petersburg</td>\n",
       "      <td>St. Petersburg Open</td>\n",
       "      <td>2016-09-25</td>\n",
       "      <td>ATP250</td>\n",
       "      <td>Indoor</td>\n",
       "      <td>Hard</td>\n",
       "      <td>The Final</td>\n",
       "      <td>3</td>\n",
       "      <td>Zverev A.</td>\n",
       "      <td>Wawrinka S.</td>\n",
       "      <td>27.0</td>\n",
       "      <td>3.0</td>\n",
       "      <td>6.0</td>\n",
       "      <td>2.0</td>\n",
       "      <td>3.0</td>\n",
       "      <td>6.0</td>\n",
       "      <td>7.0</td>\n",
       "      <td>5.0</td>\n",
       "      <td>NaN</td>\n",
       "      <td>NaN</td>\n",
       "    </tr>\n",
       "  </tbody>\n",
       "</table>\n",
       "</div>"
      ],
      "text/plain": [
       "             Location           Tournament       Date  Series   Court Surface  \\\n",
       "46647  St. Petersburg  St. Petersburg Open 2016-09-23  ATP250  Indoor    Hard   \n",
       "46648  St. Petersburg  St. Petersburg Open 2016-09-23  ATP250  Indoor    Hard   \n",
       "46649  St. Petersburg  St. Petersburg Open 2016-09-24  ATP250  Indoor    Hard   \n",
       "46650  St. Petersburg  St. Petersburg Open 2016-09-24  ATP250  Indoor    Hard   \n",
       "46651  St. Petersburg  St. Petersburg Open 2016-09-25  ATP250  Indoor    Hard   \n",
       "\n",
       "               Round  Best of       Winner             Loser  WRank  LRank  \\\n",
       "46647  Quarterfinals        3    Zverev A.        Youzhny M.   27.0   53.0   \n",
       "46648  Quarterfinals        3  Wawrinka S.        Troicki V.    3.0   33.0   \n",
       "46649     Semifinals        3    Zverev A.        Berdych T.   27.0    9.0   \n",
       "46650     Semifinals        3  Wawrinka S.  Bautista Agut R.    3.0   16.0   \n",
       "46651      The Final        3    Zverev A.       Wawrinka S.   27.0    3.0   \n",
       "\n",
       "        W1   L1   W2   L2   W3   L3  W4  L4  \n",
       "46647  6.0  2.0  6.0  2.0  NaN  NaN NaN NaN  \n",
       "46648  7.0  5.0  6.0  2.0  NaN  NaN NaN NaN  \n",
       "46649  6.0  4.0  6.0  4.0  NaN  NaN NaN NaN  \n",
       "46650  7.0  6.0  6.0  2.0  NaN  NaN NaN NaN  \n",
       "46651  6.0  2.0  3.0  6.0  7.0  5.0 NaN NaN  "
      ]
     },
     "execution_count": 7,
     "metadata": {},
     "output_type": "execute_result"
    }
   ],
   "source": [
    "data.iloc[:,:20].tail()"
   ]
  },
  {
   "cell_type": "code",
   "execution_count": 8,
   "metadata": {},
   "outputs": [
    {
     "data": {
      "text/html": [
       "<div>\n",
       "<table border=\"1\" class=\"dataframe\">\n",
       "  <thead>\n",
       "    <tr style=\"text-align: right;\">\n",
       "      <th></th>\n",
       "      <th>W5</th>\n",
       "      <th>L5</th>\n",
       "      <th>Wsets</th>\n",
       "      <th>Lsets</th>\n",
       "    </tr>\n",
       "  </thead>\n",
       "  <tbody>\n",
       "    <tr>\n",
       "      <th>0</th>\n",
       "      <td>NaN</td>\n",
       "      <td>NaN</td>\n",
       "      <td>2.0</td>\n",
       "      <td>0.0</td>\n",
       "    </tr>\n",
       "    <tr>\n",
       "      <th>1</th>\n",
       "      <td>NaN</td>\n",
       "      <td>NaN</td>\n",
       "      <td>2.0</td>\n",
       "      <td>0.0</td>\n",
       "    </tr>\n",
       "    <tr>\n",
       "      <th>2</th>\n",
       "      <td>NaN</td>\n",
       "      <td>NaN</td>\n",
       "      <td>2.0</td>\n",
       "      <td>1.0</td>\n",
       "    </tr>\n",
       "    <tr>\n",
       "      <th>3</th>\n",
       "      <td>NaN</td>\n",
       "      <td>NaN</td>\n",
       "      <td>2.0</td>\n",
       "      <td>0.0</td>\n",
       "    </tr>\n",
       "    <tr>\n",
       "      <th>4</th>\n",
       "      <td>NaN</td>\n",
       "      <td>NaN</td>\n",
       "      <td>2.0</td>\n",
       "      <td>1.0</td>\n",
       "    </tr>\n",
       "  </tbody>\n",
       "</table>\n",
       "</div>"
      ],
      "text/plain": [
       "   W5  L5  Wsets  Lsets\n",
       "0 NaN NaN    2.0    0.0\n",
       "1 NaN NaN    2.0    0.0\n",
       "2 NaN NaN    2.0    1.0\n",
       "3 NaN NaN    2.0    0.0\n",
       "4 NaN NaN    2.0    1.0"
      ]
     },
     "execution_count": 8,
     "metadata": {},
     "output_type": "execute_result"
    }
   ],
   "source": [
    "data.iloc[:,20:].head()"
   ]
  },
  {
   "cell_type": "code",
   "execution_count": 9,
   "metadata": {},
   "outputs": [
    {
     "data": {
      "text/plain": [
       "(Location              object\n",
       " Tournament            object\n",
       " Date          datetime64[ns]\n",
       " Series                object\n",
       " Court                 object\n",
       " Surface               object\n",
       " Round                 object\n",
       " Best of                int64\n",
       " Winner                object\n",
       " Loser                 object\n",
       " WRank                float64\n",
       " LRank                float64\n",
       " W1                   float64\n",
       " L1                   float64\n",
       " W2                   float64\n",
       " L2                   float64\n",
       " W3                   float64\n",
       " L3                   float64\n",
       " W4                   float64\n",
       " L4                   float64\n",
       " W5                   float64\n",
       " L5                   float64\n",
       " Wsets                float64\n",
       " Lsets                float64\n",
       " dtype: object, (46538, 24))"
      ]
     },
     "execution_count": 9,
     "metadata": {},
     "output_type": "execute_result"
    }
   ],
   "source": [
    "data.dtypes, data.shape"
   ]
  },
  {
   "cell_type": "markdown",
   "metadata": {},
   "source": [
    "## 1.D Baseline: Does the better ranked player always win?"
   ]
  },
  {
   "cell_type": "code",
   "execution_count": 10,
   "metadata": {},
   "outputs": [
    {
     "data": {
      "text/plain": [
       "0.6568395719626972"
      ]
     },
     "execution_count": 10,
     "metadata": {},
     "output_type": "execute_result"
    }
   ],
   "source": [
    "matches_where_better_wins = data[data.WRank < data.LRank].shape[0]\n",
    "matches_where_better_wins / data.shape[0]"
   ]
  },
  {
   "cell_type": "markdown",
   "metadata": {},
   "source": [
    "### They do about 65% of the time !!"
   ]
  },
  {
   "cell_type": "markdown",
   "metadata": {},
   "source": [
    "# 2/ Labelling players 1 and 2 (input: data Dataframe)"
   ]
  },
  {
   "cell_type": "markdown",
   "metadata": {},
   "source": [
    "* The player specific columns are basically grouped into two groups: the various columns about the Winner and the various columns about the Loser\n",
    "* We need to somehow pick, for each match a \"Player1\" and a \"Player2\", in a way that Player1 doesn't always win!"
   ]
  },
  {
   "cell_type": "markdown",
   "metadata": {},
   "source": [
    "#### So if we pick the better player as \"Player1\", we know that Player1 only wins 65% of the time. If we try to predict whether Player1 wins, we have 65% of \"True\" and \"35%\" of \"False\""
   ]
  },
  {
   "cell_type": "code",
   "execution_count": 11,
   "metadata": {},
   "outputs": [
    {
     "name": "stdout",
     "output_type": "stream",
     "text": [
      "(46538, 16)\n"
     ]
    },
    {
     "data": {
      "text/html": [
       "<div>\n",
       "<table border=\"1\" class=\"dataframe\">\n",
       "  <thead>\n",
       "    <tr style=\"text-align: right;\">\n",
       "      <th></th>\n",
       "      <th>P1_Name</th>\n",
       "      <th>P1_Rank</th>\n",
       "      <th>P1_1</th>\n",
       "      <th>P1_2</th>\n",
       "      <th>P1_3</th>\n",
       "      <th>P1_4</th>\n",
       "      <th>P1_5</th>\n",
       "      <th>P1_Sets</th>\n",
       "      <th>P2_Name</th>\n",
       "      <th>P2_Rank</th>\n",
       "      <th>P2_1</th>\n",
       "      <th>P2_2</th>\n",
       "      <th>P2_3</th>\n",
       "      <th>P2_4</th>\n",
       "      <th>P2_5</th>\n",
       "      <th>P2_Sets</th>\n",
       "    </tr>\n",
       "  </thead>\n",
       "  <tbody>\n",
       "    <tr>\n",
       "      <th>0</th>\n",
       "      <td>Dosedel S.</td>\n",
       "      <td>63.0</td>\n",
       "      <td>6.0</td>\n",
       "      <td>6.0</td>\n",
       "      <td>NaN</td>\n",
       "      <td>NaN</td>\n",
       "      <td>NaN</td>\n",
       "      <td>2.0</td>\n",
       "      <td>Ljubicic I.</td>\n",
       "      <td>77.0</td>\n",
       "      <td>4.0</td>\n",
       "      <td>2.0</td>\n",
       "      <td>NaN</td>\n",
       "      <td>NaN</td>\n",
       "      <td>NaN</td>\n",
       "      <td>0.0</td>\n",
       "    </tr>\n",
       "    <tr>\n",
       "      <th>1</th>\n",
       "      <td>Enqvist T.</td>\n",
       "      <td>5.0</td>\n",
       "      <td>6.0</td>\n",
       "      <td>6.0</td>\n",
       "      <td>NaN</td>\n",
       "      <td>NaN</td>\n",
       "      <td>NaN</td>\n",
       "      <td>2.0</td>\n",
       "      <td>Clement A.</td>\n",
       "      <td>56.0</td>\n",
       "      <td>3.0</td>\n",
       "      <td>3.0</td>\n",
       "      <td>NaN</td>\n",
       "      <td>NaN</td>\n",
       "      <td>NaN</td>\n",
       "      <td>0.0</td>\n",
       "    </tr>\n",
       "    <tr>\n",
       "      <th>2</th>\n",
       "      <td>Escude N.</td>\n",
       "      <td>40.0</td>\n",
       "      <td>6.0</td>\n",
       "      <td>7.0</td>\n",
       "      <td>6.0</td>\n",
       "      <td>NaN</td>\n",
       "      <td>NaN</td>\n",
       "      <td>2.0</td>\n",
       "      <td>Baccanello P.</td>\n",
       "      <td>655.0</td>\n",
       "      <td>7.0</td>\n",
       "      <td>5.0</td>\n",
       "      <td>3.0</td>\n",
       "      <td>NaN</td>\n",
       "      <td>NaN</td>\n",
       "      <td>1.0</td>\n",
       "    </tr>\n",
       "    <tr>\n",
       "      <th>3</th>\n",
       "      <td>Federer R.</td>\n",
       "      <td>65.0</td>\n",
       "      <td>6.0</td>\n",
       "      <td>6.0</td>\n",
       "      <td>NaN</td>\n",
       "      <td>NaN</td>\n",
       "      <td>NaN</td>\n",
       "      <td>2.0</td>\n",
       "      <td>Knippschild J.</td>\n",
       "      <td>87.0</td>\n",
       "      <td>1.0</td>\n",
       "      <td>4.0</td>\n",
       "      <td>NaN</td>\n",
       "      <td>NaN</td>\n",
       "      <td>NaN</td>\n",
       "      <td>0.0</td>\n",
       "    </tr>\n",
       "    <tr>\n",
       "      <th>4</th>\n",
       "      <td>Fromberg R.</td>\n",
       "      <td>81.0</td>\n",
       "      <td>7.0</td>\n",
       "      <td>5.0</td>\n",
       "      <td>6.0</td>\n",
       "      <td>NaN</td>\n",
       "      <td>NaN</td>\n",
       "      <td>2.0</td>\n",
       "      <td>Woodbridge T.</td>\n",
       "      <td>198.0</td>\n",
       "      <td>6.0</td>\n",
       "      <td>7.0</td>\n",
       "      <td>4.0</td>\n",
       "      <td>NaN</td>\n",
       "      <td>NaN</td>\n",
       "      <td>1.0</td>\n",
       "    </tr>\n",
       "  </tbody>\n",
       "</table>\n",
       "</div>"
      ],
      "text/plain": [
       "       P1_Name  P1_Rank  P1_1  P1_2  P1_3  P1_4  P1_5  P1_Sets  \\\n",
       "0   Dosedel S.     63.0   6.0   6.0   NaN   NaN   NaN      2.0   \n",
       "1   Enqvist T.      5.0   6.0   6.0   NaN   NaN   NaN      2.0   \n",
       "2    Escude N.     40.0   6.0   7.0   6.0   NaN   NaN      2.0   \n",
       "3   Federer R.     65.0   6.0   6.0   NaN   NaN   NaN      2.0   \n",
       "4  Fromberg R.     81.0   7.0   5.0   6.0   NaN   NaN      2.0   \n",
       "\n",
       "          P2_Name  P2_Rank  P2_1  P2_2  P2_3  P2_4  P2_5  P2_Sets  \n",
       "0     Ljubicic I.     77.0   4.0   2.0   NaN   NaN   NaN      0.0  \n",
       "1      Clement A.     56.0   3.0   3.0   NaN   NaN   NaN      0.0  \n",
       "2   Baccanello P.    655.0   7.0   5.0   3.0   NaN   NaN      1.0  \n",
       "3  Knippschild J.     87.0   1.0   4.0   NaN   NaN   NaN      0.0  \n",
       "4   Woodbridge T.    198.0   6.0   7.0   4.0   NaN   NaN      1.0  "
      ]
     },
     "execution_count": 11,
     "metadata": {},
     "output_type": "execute_result"
    }
   ],
   "source": [
    "# Let's basically rename columns, let the better rank player be \"Player1\" and the other one by \"Player2\"\n",
    "from tennis_predictor import transform_data\n",
    "P1_P2 = transform_data.number_players(data, lambda x: x.WRank < x.LRank)\n",
    "print(P1_P2.shape)\n",
    "P1_P2.head()"
   ]
  },
  {
   "cell_type": "markdown",
   "metadata": {},
   "source": [
    "#### Let's now concatenate those new columns with the other columns that we care about (the first 10 columns in data, we don't care about the rest as we just copied/renamed them)"
   ]
  },
  {
   "cell_type": "code",
   "execution_count": 12,
   "metadata": {},
   "outputs": [
    {
     "name": "stdout",
     "output_type": "stream",
     "text": [
      "(46538, 26)\n"
     ]
    },
    {
     "data": {
      "text/html": [
       "<div>\n",
       "<table border=\"1\" class=\"dataframe\">\n",
       "  <thead>\n",
       "    <tr style=\"text-align: right;\">\n",
       "      <th></th>\n",
       "      <th>Location</th>\n",
       "      <th>Tournament</th>\n",
       "      <th>Date</th>\n",
       "      <th>Series</th>\n",
       "      <th>Court</th>\n",
       "      <th>Surface</th>\n",
       "      <th>Round</th>\n",
       "      <th>Best of</th>\n",
       "      <th>Winner</th>\n",
       "      <th>Loser</th>\n",
       "      <th>...</th>\n",
       "      <th>P1_5</th>\n",
       "      <th>P1_Sets</th>\n",
       "      <th>P2_Name</th>\n",
       "      <th>P2_Rank</th>\n",
       "      <th>P2_1</th>\n",
       "      <th>P2_2</th>\n",
       "      <th>P2_3</th>\n",
       "      <th>P2_4</th>\n",
       "      <th>P2_5</th>\n",
       "      <th>P2_Sets</th>\n",
       "    </tr>\n",
       "  </thead>\n",
       "  <tbody>\n",
       "    <tr>\n",
       "      <th>0</th>\n",
       "      <td>Adelaide</td>\n",
       "      <td>Australian Hardcourt Championships</td>\n",
       "      <td>2000-01-03</td>\n",
       "      <td>International</td>\n",
       "      <td>Outdoor</td>\n",
       "      <td>Hard</td>\n",
       "      <td>1st Round</td>\n",
       "      <td>3</td>\n",
       "      <td>Dosedel S.</td>\n",
       "      <td>Ljubicic I.</td>\n",
       "      <td>...</td>\n",
       "      <td>NaN</td>\n",
       "      <td>2.0</td>\n",
       "      <td>Ljubicic I.</td>\n",
       "      <td>77.0</td>\n",
       "      <td>4.0</td>\n",
       "      <td>2.0</td>\n",
       "      <td>NaN</td>\n",
       "      <td>NaN</td>\n",
       "      <td>NaN</td>\n",
       "      <td>0.0</td>\n",
       "    </tr>\n",
       "    <tr>\n",
       "      <th>1</th>\n",
       "      <td>Adelaide</td>\n",
       "      <td>Australian Hardcourt Championships</td>\n",
       "      <td>2000-01-03</td>\n",
       "      <td>International</td>\n",
       "      <td>Outdoor</td>\n",
       "      <td>Hard</td>\n",
       "      <td>1st Round</td>\n",
       "      <td>3</td>\n",
       "      <td>Enqvist T.</td>\n",
       "      <td>Clement A.</td>\n",
       "      <td>...</td>\n",
       "      <td>NaN</td>\n",
       "      <td>2.0</td>\n",
       "      <td>Clement A.</td>\n",
       "      <td>56.0</td>\n",
       "      <td>3.0</td>\n",
       "      <td>3.0</td>\n",
       "      <td>NaN</td>\n",
       "      <td>NaN</td>\n",
       "      <td>NaN</td>\n",
       "      <td>0.0</td>\n",
       "    </tr>\n",
       "    <tr>\n",
       "      <th>2</th>\n",
       "      <td>Adelaide</td>\n",
       "      <td>Australian Hardcourt Championships</td>\n",
       "      <td>2000-01-03</td>\n",
       "      <td>International</td>\n",
       "      <td>Outdoor</td>\n",
       "      <td>Hard</td>\n",
       "      <td>1st Round</td>\n",
       "      <td>3</td>\n",
       "      <td>Escude N.</td>\n",
       "      <td>Baccanello P.</td>\n",
       "      <td>...</td>\n",
       "      <td>NaN</td>\n",
       "      <td>2.0</td>\n",
       "      <td>Baccanello P.</td>\n",
       "      <td>655.0</td>\n",
       "      <td>7.0</td>\n",
       "      <td>5.0</td>\n",
       "      <td>3.0</td>\n",
       "      <td>NaN</td>\n",
       "      <td>NaN</td>\n",
       "      <td>1.0</td>\n",
       "    </tr>\n",
       "    <tr>\n",
       "      <th>3</th>\n",
       "      <td>Adelaide</td>\n",
       "      <td>Australian Hardcourt Championships</td>\n",
       "      <td>2000-01-03</td>\n",
       "      <td>International</td>\n",
       "      <td>Outdoor</td>\n",
       "      <td>Hard</td>\n",
       "      <td>1st Round</td>\n",
       "      <td>3</td>\n",
       "      <td>Federer R.</td>\n",
       "      <td>Knippschild J.</td>\n",
       "      <td>...</td>\n",
       "      <td>NaN</td>\n",
       "      <td>2.0</td>\n",
       "      <td>Knippschild J.</td>\n",
       "      <td>87.0</td>\n",
       "      <td>1.0</td>\n",
       "      <td>4.0</td>\n",
       "      <td>NaN</td>\n",
       "      <td>NaN</td>\n",
       "      <td>NaN</td>\n",
       "      <td>0.0</td>\n",
       "    </tr>\n",
       "    <tr>\n",
       "      <th>4</th>\n",
       "      <td>Adelaide</td>\n",
       "      <td>Australian Hardcourt Championships</td>\n",
       "      <td>2000-01-03</td>\n",
       "      <td>International</td>\n",
       "      <td>Outdoor</td>\n",
       "      <td>Hard</td>\n",
       "      <td>1st Round</td>\n",
       "      <td>3</td>\n",
       "      <td>Fromberg R.</td>\n",
       "      <td>Woodbridge T.</td>\n",
       "      <td>...</td>\n",
       "      <td>NaN</td>\n",
       "      <td>2.0</td>\n",
       "      <td>Woodbridge T.</td>\n",
       "      <td>198.0</td>\n",
       "      <td>6.0</td>\n",
       "      <td>7.0</td>\n",
       "      <td>4.0</td>\n",
       "      <td>NaN</td>\n",
       "      <td>NaN</td>\n",
       "      <td>1.0</td>\n",
       "    </tr>\n",
       "  </tbody>\n",
       "</table>\n",
       "<p>5 rows × 26 columns</p>\n",
       "</div>"
      ],
      "text/plain": [
       "   Location                          Tournament       Date         Series  \\\n",
       "0  Adelaide  Australian Hardcourt Championships 2000-01-03  International   \n",
       "1  Adelaide  Australian Hardcourt Championships 2000-01-03  International   \n",
       "2  Adelaide  Australian Hardcourt Championships 2000-01-03  International   \n",
       "3  Adelaide  Australian Hardcourt Championships 2000-01-03  International   \n",
       "4  Adelaide  Australian Hardcourt Championships 2000-01-03  International   \n",
       "\n",
       "     Court Surface      Round  Best of       Winner           Loser   ...     \\\n",
       "0  Outdoor    Hard  1st Round        3   Dosedel S.     Ljubicic I.   ...      \n",
       "1  Outdoor    Hard  1st Round        3   Enqvist T.      Clement A.   ...      \n",
       "2  Outdoor    Hard  1st Round        3    Escude N.   Baccanello P.   ...      \n",
       "3  Outdoor    Hard  1st Round        3   Federer R.  Knippschild J.   ...      \n",
       "4  Outdoor    Hard  1st Round        3  Fromberg R.   Woodbridge T.   ...      \n",
       "\n",
       "  P1_5  P1_Sets         P2_Name  P2_Rank  P2_1  P2_2  P2_3  P2_4 P2_5  P2_Sets  \n",
       "0  NaN      2.0     Ljubicic I.     77.0   4.0   2.0   NaN   NaN  NaN      0.0  \n",
       "1  NaN      2.0      Clement A.     56.0   3.0   3.0   NaN   NaN  NaN      0.0  \n",
       "2  NaN      2.0   Baccanello P.    655.0   7.0   5.0   3.0   NaN  NaN      1.0  \n",
       "3  NaN      2.0  Knippschild J.     87.0   1.0   4.0   NaN   NaN  NaN      0.0  \n",
       "4  NaN      2.0   Woodbridge T.    198.0   6.0   7.0   4.0   NaN  NaN      1.0  \n",
       "\n",
       "[5 rows x 26 columns]"
      ]
     },
     "execution_count": 12,
     "metadata": {},
     "output_type": "execute_result"
    }
   ],
   "source": [
    "data_with_P1_P2 = data.iloc[:,:10].join(P1_P2, how=\"inner\")\n",
    "print(data_with_P1_P2.shape)\n",
    "data_with_P1_P2.head()"
   ]
  },
  {
   "cell_type": "markdown",
   "metadata": {},
   "source": [
    "####  Let's add the target"
   ]
  },
  {
   "cell_type": "code",
   "execution_count": 13,
   "metadata": {
    "collapsed": true
   },
   "outputs": [],
   "source": [
    "data_with_P1_P2 = data_with_P1_P2.assign(\n",
    "    Player1Wins=lambda x: x.P1_Name ==  x.Winner\n",
    ")"
   ]
  },
  {
   "cell_type": "code",
   "execution_count": 14,
   "metadata": {},
   "outputs": [
    {
     "name": "stdout",
     "output_type": "stream",
     "text": [
      "Index(['Location', 'Tournament', 'Date', 'Series', 'Court', 'Surface', 'Round',\n",
      "       'Best of', 'P1_Name', 'P1_Rank', 'P1_1', 'P1_2', 'P1_3', 'P1_4', 'P1_5',\n",
      "       'P1_Sets', 'P2_Name', 'P2_Rank', 'P2_1', 'P2_2', 'P2_3', 'P2_4', 'P2_5',\n",
      "       'P2_Sets', 'Player1Wins'],\n",
      "      dtype='object')\n"
     ]
    },
    {
     "data": {
      "text/plain": [
       "0.65683957196269716"
      ]
     },
     "execution_count": 14,
     "metadata": {},
     "output_type": "execute_result"
    }
   ],
   "source": [
    "# Drop those as we won't need them anymore\n",
    "if {\"Winner\", \"Loser\"}.intersection(data_with_P1_P2.columns):  # So that we can rerun this cell :)\n",
    "    data_with_P1_P2 = data_with_P1_P2.drop([\"Winner\", \"Loser\"], axis=1)\n",
    "print(data_with_P1_P2.columns)\n",
    "data_with_P1_P2.Player1Wins.mean()"
   ]
  },
  {
   "cell_type": "markdown",
   "metadata": {},
   "source": [
    "# 3/ Basic EDA (input: data_with_P1_P2)"
   ]
  },
  {
   "cell_type": "markdown",
   "metadata": {},
   "source": [
    "At this point I haven't decided which features exactly I'm going to use:\n",
    "* derived features (that would represent the players history up to the day of the match we'd try to predict), **excluding the ranks** (the baseline might be hard to beat so here i'm trying to not use it and rather build my own features from scratch)\n",
    "* the player's ranks augmented with the features above"
   ]
  },
  {
   "cell_type": "markdown",
   "metadata": {},
   "source": [
    "In a first step, we can try to predict the winner using only features we already have at this point"
   ]
  },
  {
   "cell_type": "code",
   "execution_count": 15,
   "metadata": {},
   "outputs": [
    {
     "data": {
      "text/html": [
       "<div>\n",
       "<table border=\"1\" class=\"dataframe\">\n",
       "  <thead>\n",
       "    <tr style=\"text-align: right;\">\n",
       "      <th></th>\n",
       "      <th>Player1Wins</th>\n",
       "      <th>P1_Rank</th>\n",
       "      <th>P2_Rank</th>\n",
       "      <th>RankDiff</th>\n",
       "      <th>Best of</th>\n",
       "    </tr>\n",
       "  </thead>\n",
       "  <tbody>\n",
       "    <tr>\n",
       "      <th>Player1Wins</th>\n",
       "      <td>1.000000</td>\n",
       "      <td>-0.120933</td>\n",
       "      <td>0.052750</td>\n",
       "      <td>0.088316</td>\n",
       "      <td>0.063309</td>\n",
       "    </tr>\n",
       "    <tr>\n",
       "      <th>P1_Rank</th>\n",
       "      <td>-0.120933</td>\n",
       "      <td>1.000000</td>\n",
       "      <td>0.356869</td>\n",
       "      <td>0.113219</td>\n",
       "      <td>-0.091759</td>\n",
       "    </tr>\n",
       "    <tr>\n",
       "      <th>P2_Rank</th>\n",
       "      <td>0.052750</td>\n",
       "      <td>0.356869</td>\n",
       "      <td>1.000000</td>\n",
       "      <td>0.968552</td>\n",
       "      <td>-0.027539</td>\n",
       "    </tr>\n",
       "    <tr>\n",
       "      <th>RankDiff</th>\n",
       "      <td>0.088316</td>\n",
       "      <td>0.113219</td>\n",
       "      <td>0.968552</td>\n",
       "      <td>1.000000</td>\n",
       "      <td>-0.004851</td>\n",
       "    </tr>\n",
       "    <tr>\n",
       "      <th>Best of</th>\n",
       "      <td>0.063309</td>\n",
       "      <td>-0.091759</td>\n",
       "      <td>-0.027539</td>\n",
       "      <td>-0.004851</td>\n",
       "      <td>1.000000</td>\n",
       "    </tr>\n",
       "  </tbody>\n",
       "</table>\n",
       "</div>"
      ],
      "text/plain": [
       "             Player1Wins   P1_Rank   P2_Rank  RankDiff   Best of\n",
       "Player1Wins     1.000000 -0.120933  0.052750  0.088316  0.063309\n",
       "P1_Rank        -0.120933  1.000000  0.356869  0.113219 -0.091759\n",
       "P2_Rank         0.052750  0.356869  1.000000  0.968552 -0.027539\n",
       "RankDiff        0.088316  0.113219  0.968552  1.000000 -0.004851\n",
       "Best of         0.063309 -0.091759 -0.027539 -0.004851  1.000000"
      ]
     },
     "execution_count": 15,
     "metadata": {},
     "output_type": "execute_result"
    }
   ],
   "source": [
    "eda_df = data_with_P1_P2.assign(RankDiff= lambda x: x.P2_Rank - x.P1_Rank)\n",
    "corr_cols = [\n",
    "    \"Player1Wins\", \"P1_Rank\", \"P2_Rank\", \"RankDiff\", \"Best of\"\n",
    "]\n",
    "eda_df[corr_cols].corr()"
   ]
  },
  {
   "cell_type": "code",
   "execution_count": 16,
   "metadata": {
    "collapsed": true
   },
   "outputs": [],
   "source": [
    "from sklearn.linear_model import LogisticRegression"
   ]
  },
  {
   "cell_type": "code",
   "execution_count": 17,
   "metadata": {},
   "outputs": [
    {
     "data": {
      "text/plain": [
       "0.65505608320082509"
      ]
     },
     "execution_count": 17,
     "metadata": {},
     "output_type": "execute_result"
    }
   ],
   "source": [
    "lr = LogisticRegression()\n",
    "\n",
    "X = eda_df[[\"P1_Rank\", \"P2_Rank\", \"RankDiff\", \"Best of\"]]\n",
    "Y = eda_df.Player1Wins\n",
    "lr.fit(X, Y)\n",
    "lr.score(X, Y)"
   ]
  },
  {
   "cell_type": "markdown",
   "metadata": {},
   "source": [
    "This makes sense, the logistic regression basically learns that P1_Rank > P2_Rank ==> P1 has a higher probability of winning. Note that we have the same precision as computed before"
   ]
  },
  {
   "cell_type": "markdown",
   "metadata": {},
   "source": [
    "# 4/ Adding features derived from past history of the players (input: eda_df)"
   ]
  },
  {
   "cell_type": "markdown",
   "metadata": {},
   "source": [
    "## For every point in time, we want to compute statistics about players **up until that point in time**"
   ]
  },
  {
   "cell_type": "markdown",
   "metadata": {},
   "source": [
    "### Let's get a list of all the players"
   ]
  },
  {
   "cell_type": "code",
   "execution_count": 18,
   "metadata": {},
   "outputs": [
    {
     "data": {
      "text/plain": [
       "(1355,)"
      ]
     },
     "execution_count": 18,
     "metadata": {},
     "output_type": "execute_result"
    }
   ],
   "source": [
    "all_players = pd.concat([eda_df.P1_Name, eda_df.P2_Name])\n",
    "\n",
    "# Divide by a bigger number to only compute data for a subset of players, can be useful to speed up things\n",
    "all_players = all_players[:int(len(all_players) / 1)]  \n",
    "all_players = np.append(all_players, [\"Federer R.\", \"Nadal R.\", \"Djokovic N.\", \"Murray A.\"])\n",
    "all_players = np.unique(all_players)\n",
    "all_players.shape"
   ]
  },
  {
   "cell_type": "code",
   "execution_count": 19,
   "metadata": {},
   "outputs": [
    {
     "data": {
      "text/plain": [
       "<module 'tennis_predictor.features_engineering' from '../../tennis_predictor/features_engineering.py'>"
      ]
     },
     "execution_count": 19,
     "metadata": {},
     "output_type": "execute_result"
    }
   ],
   "source": [
    "from tennis_predictor import features_engineering\n",
    "import importlib\n",
    "importlib.reload(features_engineering)"
   ]
  },
  {
   "cell_type": "markdown",
   "metadata": {},
   "source": [
    "### 4.A - Let's compute basic boolean features (extra columns) using the same index, ie tennis match resolution"
   ]
  },
  {
   "cell_type": "markdown",
   "metadata": {},
   "source": [
    "So basically we're going to compute a set of boolean columns for every player!! That tell whether the player played/won that particular game, if he won what type of win it was (ie 1st Round, a Final?)"
   ]
  },
  {
   "cell_type": "code",
   "execution_count": 20,
   "metadata": {},
   "outputs": [
    {
     "name": "stdout",
     "output_type": "stream",
     "text": [
      "Chunk 0 done\n",
      "Chunk 1 done\n",
      "Chunk 2 done\n",
      "Chunk 3 done\n",
      "Chunk 4 done\n",
      "Chunk 5 done\n",
      "Chunk 6 done\n",
      "Chunk 7 done\n",
      "Chunk 8 done\n",
      "Chunk 9 done\n"
     ]
    }
   ],
   "source": [
    "# Computing the columns for subsets of players at a time, to make it more manageable computation wise, and see the progress printed\n",
    "# Takes about 1 minute on my Corei7 macbook from 2014\n",
    "batch_size = 10 \n",
    "chunks = []\n",
    "for i in range(batch_size):\n",
    "    players_batch = all_players[i::batch_size]\n",
    "    \n",
    "    # The two lines are the actual logic, we add the extra columns that say if players played/won the match\n",
    "    players_stats = features_engineering.compute_games_played_and_won__fast(eda_df, players_batch)\n",
    "    # Then columns saying what type of game they won if they won\n",
    "    players_stats = features_engineering.compute_win_round_type__fast(players_stats, eda_df.Round, players_batch)\n",
    "    \n",
    "    chunks.append(players_stats.copy())\n",
    "    print(\"Chunk {} done\".format(i))\n",
    "players_stats = pd.concat(chunks, axis=1, copy=False).sort_index(axis=1)"
   ]
  },
  {
   "cell_type": "code",
   "execution_count": 21,
   "metadata": {},
   "outputs": [
    {
     "data": {
      "text/html": [
       "<div>\n",
       "<table border=\"1\" class=\"dataframe\">\n",
       "  <thead>\n",
       "    <tr>\n",
       "      <th>Player</th>\n",
       "      <th colspan=\"10\" halign=\"left\">Hajek J.</th>\n",
       "      <th>...</th>\n",
       "      <th colspan=\"10\" halign=\"left\">van der Meer N.</th>\n",
       "    </tr>\n",
       "    <tr>\n",
       "      <th>Stat</th>\n",
       "      <th>Played</th>\n",
       "      <th>Won</th>\n",
       "      <th>Won_1st Round</th>\n",
       "      <th>Won_2nd Round</th>\n",
       "      <th>Won_3rd Round</th>\n",
       "      <th>Won_4th Round</th>\n",
       "      <th>Won_Quarterfinals</th>\n",
       "      <th>Won_Round Robin</th>\n",
       "      <th>Won_Semifinals</th>\n",
       "      <th>Won_The Final</th>\n",
       "      <th>...</th>\n",
       "      <th>Played</th>\n",
       "      <th>Won</th>\n",
       "      <th>Won_1st Round</th>\n",
       "      <th>Won_2nd Round</th>\n",
       "      <th>Won_3rd Round</th>\n",
       "      <th>Won_4th Round</th>\n",
       "      <th>Won_Quarterfinals</th>\n",
       "      <th>Won_Round Robin</th>\n",
       "      <th>Won_Semifinals</th>\n",
       "      <th>Won_The Final</th>\n",
       "    </tr>\n",
       "  </thead>\n",
       "  <tbody>\n",
       "    <tr>\n",
       "      <th>0</th>\n",
       "      <td>0</td>\n",
       "      <td>0</td>\n",
       "      <td>0</td>\n",
       "      <td>0</td>\n",
       "      <td>0</td>\n",
       "      <td>0</td>\n",
       "      <td>0</td>\n",
       "      <td>0</td>\n",
       "      <td>0</td>\n",
       "      <td>0</td>\n",
       "      <td>...</td>\n",
       "      <td>0</td>\n",
       "      <td>0</td>\n",
       "      <td>0</td>\n",
       "      <td>0</td>\n",
       "      <td>0</td>\n",
       "      <td>0</td>\n",
       "      <td>0</td>\n",
       "      <td>0</td>\n",
       "      <td>0</td>\n",
       "      <td>0</td>\n",
       "    </tr>\n",
       "    <tr>\n",
       "      <th>1</th>\n",
       "      <td>0</td>\n",
       "      <td>0</td>\n",
       "      <td>0</td>\n",
       "      <td>0</td>\n",
       "      <td>0</td>\n",
       "      <td>0</td>\n",
       "      <td>0</td>\n",
       "      <td>0</td>\n",
       "      <td>0</td>\n",
       "      <td>0</td>\n",
       "      <td>...</td>\n",
       "      <td>0</td>\n",
       "      <td>0</td>\n",
       "      <td>0</td>\n",
       "      <td>0</td>\n",
       "      <td>0</td>\n",
       "      <td>0</td>\n",
       "      <td>0</td>\n",
       "      <td>0</td>\n",
       "      <td>0</td>\n",
       "      <td>0</td>\n",
       "    </tr>\n",
       "    <tr>\n",
       "      <th>2</th>\n",
       "      <td>0</td>\n",
       "      <td>0</td>\n",
       "      <td>0</td>\n",
       "      <td>0</td>\n",
       "      <td>0</td>\n",
       "      <td>0</td>\n",
       "      <td>0</td>\n",
       "      <td>0</td>\n",
       "      <td>0</td>\n",
       "      <td>0</td>\n",
       "      <td>...</td>\n",
       "      <td>0</td>\n",
       "      <td>0</td>\n",
       "      <td>0</td>\n",
       "      <td>0</td>\n",
       "      <td>0</td>\n",
       "      <td>0</td>\n",
       "      <td>0</td>\n",
       "      <td>0</td>\n",
       "      <td>0</td>\n",
       "      <td>0</td>\n",
       "    </tr>\n",
       "    <tr>\n",
       "      <th>3</th>\n",
       "      <td>0</td>\n",
       "      <td>0</td>\n",
       "      <td>0</td>\n",
       "      <td>0</td>\n",
       "      <td>0</td>\n",
       "      <td>0</td>\n",
       "      <td>0</td>\n",
       "      <td>0</td>\n",
       "      <td>0</td>\n",
       "      <td>0</td>\n",
       "      <td>...</td>\n",
       "      <td>0</td>\n",
       "      <td>0</td>\n",
       "      <td>0</td>\n",
       "      <td>0</td>\n",
       "      <td>0</td>\n",
       "      <td>0</td>\n",
       "      <td>0</td>\n",
       "      <td>0</td>\n",
       "      <td>0</td>\n",
       "      <td>0</td>\n",
       "    </tr>\n",
       "    <tr>\n",
       "      <th>4</th>\n",
       "      <td>0</td>\n",
       "      <td>0</td>\n",
       "      <td>0</td>\n",
       "      <td>0</td>\n",
       "      <td>0</td>\n",
       "      <td>0</td>\n",
       "      <td>0</td>\n",
       "      <td>0</td>\n",
       "      <td>0</td>\n",
       "      <td>0</td>\n",
       "      <td>...</td>\n",
       "      <td>0</td>\n",
       "      <td>0</td>\n",
       "      <td>0</td>\n",
       "      <td>0</td>\n",
       "      <td>0</td>\n",
       "      <td>0</td>\n",
       "      <td>0</td>\n",
       "      <td>0</td>\n",
       "      <td>0</td>\n",
       "      <td>0</td>\n",
       "    </tr>\n",
       "  </tbody>\n",
       "</table>\n",
       "<p>5 rows × 13550 columns</p>\n",
       "</div>"
      ],
      "text/plain": [
       "Player  Hajek J.                                                              \\\n",
       "Stat      Played Won Won_1st Round Won_2nd Round Won_3rd Round Won_4th Round   \n",
       "0              0   0             0             0             0             0   \n",
       "1              0   0             0             0             0             0   \n",
       "2              0   0             0             0             0             0   \n",
       "3              0   0             0             0             0             0   \n",
       "4              0   0             0             0             0             0   \n",
       "\n",
       "Player                                                                 \\\n",
       "Stat   Won_Quarterfinals Won_Round Robin Won_Semifinals Won_The Final   \n",
       "0                      0               0              0             0   \n",
       "1                      0               0              0             0   \n",
       "2                      0               0              0             0   \n",
       "3                      0               0              0             0   \n",
       "4                      0               0              0             0   \n",
       "\n",
       "Player      ...      van der Meer N.                                  \\\n",
       "Stat        ...               Played Won Won_1st Round Won_2nd Round   \n",
       "0           ...                    0   0             0             0   \n",
       "1           ...                    0   0             0             0   \n",
       "2           ...                    0   0             0             0   \n",
       "3           ...                    0   0             0             0   \n",
       "4           ...                    0   0             0             0   \n",
       "\n",
       "Player                                                                \\\n",
       "Stat   Won_3rd Round Won_4th Round Won_Quarterfinals Won_Round Robin   \n",
       "0                  0             0                 0               0   \n",
       "1                  0             0                 0               0   \n",
       "2                  0             0                 0               0   \n",
       "3                  0             0                 0               0   \n",
       "4                  0             0                 0               0   \n",
       "\n",
       "Player                               \n",
       "Stat   Won_Semifinals Won_The Final  \n",
       "0                   0             0  \n",
       "1                   0             0  \n",
       "2                   0             0  \n",
       "3                   0             0  \n",
       "4                   0             0  \n",
       "\n",
       "[5 rows x 13550 columns]"
      ]
     },
     "execution_count": 21,
     "metadata": {},
     "output_type": "execute_result"
    }
   ],
   "source": [
    "players_stats.head()"
   ]
  },
  {
   "cell_type": "code",
   "execution_count": 22,
   "metadata": {},
   "outputs": [
    {
     "data": {
      "text/html": [
       "<div>\n",
       "<table border=\"1\" class=\"dataframe\">\n",
       "  <thead>\n",
       "    <tr style=\"text-align: right;\">\n",
       "      <th></th>\n",
       "      <th>Played</th>\n",
       "      <th>Won</th>\n",
       "      <th>Won_1st Round</th>\n",
       "      <th>Won_2nd Round</th>\n",
       "      <th>Won_3rd Round</th>\n",
       "      <th>Won_4th Round</th>\n",
       "      <th>Won_Quarterfinals</th>\n",
       "      <th>Won_Round Robin</th>\n",
       "      <th>Won_Semifinals</th>\n",
       "      <th>Won_The Final</th>\n",
       "      <th>Date</th>\n",
       "    </tr>\n",
       "  </thead>\n",
       "  <tbody>\n",
       "    <tr>\n",
       "      <th>15800</th>\n",
       "      <td>1</td>\n",
       "      <td>1</td>\n",
       "      <td>1</td>\n",
       "      <td>0</td>\n",
       "      <td>0</td>\n",
       "      <td>0</td>\n",
       "      <td>0</td>\n",
       "      <td>0</td>\n",
       "      <td>0</td>\n",
       "      <td>0</td>\n",
       "      <td>2005-05-23</td>\n",
       "    </tr>\n",
       "    <tr>\n",
       "      <th>15868</th>\n",
       "      <td>1</td>\n",
       "      <td>1</td>\n",
       "      <td>0</td>\n",
       "      <td>1</td>\n",
       "      <td>0</td>\n",
       "      <td>0</td>\n",
       "      <td>0</td>\n",
       "      <td>0</td>\n",
       "      <td>0</td>\n",
       "      <td>0</td>\n",
       "      <td>2005-05-25</td>\n",
       "    </tr>\n",
       "    <tr>\n",
       "      <th>15894</th>\n",
       "      <td>1</td>\n",
       "      <td>1</td>\n",
       "      <td>0</td>\n",
       "      <td>0</td>\n",
       "      <td>1</td>\n",
       "      <td>0</td>\n",
       "      <td>0</td>\n",
       "      <td>0</td>\n",
       "      <td>0</td>\n",
       "      <td>0</td>\n",
       "      <td>2005-05-27</td>\n",
       "    </tr>\n",
       "    <tr>\n",
       "      <th>15910</th>\n",
       "      <td>1</td>\n",
       "      <td>1</td>\n",
       "      <td>0</td>\n",
       "      <td>0</td>\n",
       "      <td>0</td>\n",
       "      <td>1</td>\n",
       "      <td>0</td>\n",
       "      <td>0</td>\n",
       "      <td>0</td>\n",
       "      <td>0</td>\n",
       "      <td>2005-05-30</td>\n",
       "    </tr>\n",
       "    <tr>\n",
       "      <th>15913</th>\n",
       "      <td>1</td>\n",
       "      <td>1</td>\n",
       "      <td>0</td>\n",
       "      <td>0</td>\n",
       "      <td>0</td>\n",
       "      <td>0</td>\n",
       "      <td>1</td>\n",
       "      <td>0</td>\n",
       "      <td>0</td>\n",
       "      <td>0</td>\n",
       "      <td>2005-05-31</td>\n",
       "    </tr>\n",
       "    <tr>\n",
       "      <th>15917</th>\n",
       "      <td>1</td>\n",
       "      <td>1</td>\n",
       "      <td>0</td>\n",
       "      <td>0</td>\n",
       "      <td>0</td>\n",
       "      <td>0</td>\n",
       "      <td>0</td>\n",
       "      <td>0</td>\n",
       "      <td>1</td>\n",
       "      <td>0</td>\n",
       "      <td>2005-06-03</td>\n",
       "    </tr>\n",
       "    <tr>\n",
       "      <th>15918</th>\n",
       "      <td>1</td>\n",
       "      <td>1</td>\n",
       "      <td>0</td>\n",
       "      <td>0</td>\n",
       "      <td>0</td>\n",
       "      <td>0</td>\n",
       "      <td>0</td>\n",
       "      <td>0</td>\n",
       "      <td>0</td>\n",
       "      <td>1</td>\n",
       "      <td>2005-06-05</td>\n",
       "    </tr>\n",
       "  </tbody>\n",
       "</table>\n",
       "</div>"
      ],
      "text/plain": [
       "       Played  Won  Won_1st Round  Won_2nd Round  Won_3rd Round  \\\n",
       "15800       1    1              1              0              0   \n",
       "15868       1    1              0              1              0   \n",
       "15894       1    1              0              0              1   \n",
       "15910       1    1              0              0              0   \n",
       "15913       1    1              0              0              0   \n",
       "15917       1    1              0              0              0   \n",
       "15918       1    1              0              0              0   \n",
       "\n",
       "       Won_4th Round  Won_Quarterfinals  Won_Round Robin  Won_Semifinals  \\\n",
       "15800              0                  0                0               0   \n",
       "15868              0                  0                0               0   \n",
       "15894              0                  0                0               0   \n",
       "15910              1                  0                0               0   \n",
       "15913              0                  1                0               0   \n",
       "15917              0                  0                0               1   \n",
       "15918              0                  0                0               0   \n",
       "\n",
       "       Won_The Final       Date  \n",
       "15800              0 2005-05-23  \n",
       "15868              0 2005-05-25  \n",
       "15894              0 2005-05-27  \n",
       "15910              0 2005-05-30  \n",
       "15913              0 2005-05-31  \n",
       "15917              0 2005-06-03  \n",
       "15918              1 2005-06-05  "
      ]
     },
     "execution_count": 22,
     "metadata": {},
     "output_type": "execute_result"
    }
   ],
   "source": [
    "nadal_played = players_stats[players_stats[\"Nadal R.\", \"Played\"] == 1][\"Nadal R.\"]  # Filtering where Nadal actually played, then keeping only its columns\n",
    "french_open = eda_df[eda_df.Tournament == \"French Open\"]\n",
    "\n",
    "nadal_stats = nadal_played.join(french_open, how=\"inner\").iloc[:,:10]  # Filtering to get the French Open stats, then reselecting columns\n",
    "nadal_stats = nadal_stats.join(eda_df.Date, how=\"inner\")  # Readding the Date column\n",
    "nadal_stats.head(7)"
   ]
  },
  {
   "cell_type": "code",
   "execution_count": 23,
   "metadata": {},
   "outputs": [
    {
     "data": {
      "text/plain": [
       "Played               75.0\n",
       "Won                  72.0\n",
       "Won_1st Round        12.0\n",
       "Won_2nd Round        11.0\n",
       "Won_3rd Round        12.0\n",
       "Won_4th Round        10.0\n",
       "Won_Quarterfinals     9.0\n",
       "Won_Round Robin       0.0\n",
       "Won_Semifinals        9.0\n",
       "Won_The Final         9.0\n",
       "dtype: float64"
      ]
     },
     "execution_count": 23,
     "metadata": {},
     "output_type": "execute_result"
    }
   ],
   "source": [
    "nadal_stats.resample(\"D\", on=\"Date\").sum().sum()\n",
    "## Looks good!! As of this dataset last update, Nadal won the French Open nine times (ie he won 9 finals)"
   ]
  },
  {
   "cell_type": "markdown",
   "metadata": {},
   "source": [
    "### 4.B - Let's resample with daily frequencies"
   ]
  },
  {
   "cell_type": "code",
   "execution_count": 24,
   "metadata": {
    "collapsed": true
   },
   "outputs": [],
   "source": [
    "## Let's first copy the Date column into the players_stats Dataframe\n",
    "players_stats.loc(axis=1)[\"__OTHER__\", \"Date\"] = eda_df.Date  ## Unfortunately I have to keep a two level column name for Date.."
   ]
  },
  {
   "cell_type": "code",
   "execution_count": 25,
   "metadata": {},
   "outputs": [
    {
     "data": {
      "text/html": [
       "<div>\n",
       "<table border=\"1\" class=\"dataframe\">\n",
       "  <thead>\n",
       "    <tr>\n",
       "      <th>Player</th>\n",
       "      <th colspan=\"10\" halign=\"left\">Hajek J.</th>\n",
       "      <th>...</th>\n",
       "      <th colspan=\"10\" halign=\"left\">van der Meer N.</th>\n",
       "    </tr>\n",
       "    <tr>\n",
       "      <th>Stat</th>\n",
       "      <th>Played</th>\n",
       "      <th>Won</th>\n",
       "      <th>Won_1st Round</th>\n",
       "      <th>Won_2nd Round</th>\n",
       "      <th>Won_3rd Round</th>\n",
       "      <th>Won_4th Round</th>\n",
       "      <th>Won_Quarterfinals</th>\n",
       "      <th>Won_Round Robin</th>\n",
       "      <th>Won_Semifinals</th>\n",
       "      <th>Won_The Final</th>\n",
       "      <th>...</th>\n",
       "      <th>Played</th>\n",
       "      <th>Won</th>\n",
       "      <th>Won_1st Round</th>\n",
       "      <th>Won_2nd Round</th>\n",
       "      <th>Won_3rd Round</th>\n",
       "      <th>Won_4th Round</th>\n",
       "      <th>Won_Quarterfinals</th>\n",
       "      <th>Won_Round Robin</th>\n",
       "      <th>Won_Semifinals</th>\n",
       "      <th>Won_The Final</th>\n",
       "    </tr>\n",
       "    <tr>\n",
       "      <th>(__OTHER__, Date)</th>\n",
       "      <th></th>\n",
       "      <th></th>\n",
       "      <th></th>\n",
       "      <th></th>\n",
       "      <th></th>\n",
       "      <th></th>\n",
       "      <th></th>\n",
       "      <th></th>\n",
       "      <th></th>\n",
       "      <th></th>\n",
       "      <th></th>\n",
       "      <th></th>\n",
       "      <th></th>\n",
       "      <th></th>\n",
       "      <th></th>\n",
       "      <th></th>\n",
       "      <th></th>\n",
       "      <th></th>\n",
       "      <th></th>\n",
       "      <th></th>\n",
       "      <th></th>\n",
       "    </tr>\n",
       "  </thead>\n",
       "  <tbody>\n",
       "    <tr>\n",
       "      <th>2000-01-03</th>\n",
       "      <td>0.0</td>\n",
       "      <td>0.0</td>\n",
       "      <td>0.0</td>\n",
       "      <td>0.0</td>\n",
       "      <td>0.0</td>\n",
       "      <td>0.0</td>\n",
       "      <td>0.0</td>\n",
       "      <td>0.0</td>\n",
       "      <td>0.0</td>\n",
       "      <td>0.0</td>\n",
       "      <td>...</td>\n",
       "      <td>0.0</td>\n",
       "      <td>0.0</td>\n",
       "      <td>0.0</td>\n",
       "      <td>0.0</td>\n",
       "      <td>0.0</td>\n",
       "      <td>0.0</td>\n",
       "      <td>0.0</td>\n",
       "      <td>0.0</td>\n",
       "      <td>0.0</td>\n",
       "      <td>0.0</td>\n",
       "    </tr>\n",
       "    <tr>\n",
       "      <th>2000-01-04</th>\n",
       "      <td>NaN</td>\n",
       "      <td>NaN</td>\n",
       "      <td>NaN</td>\n",
       "      <td>NaN</td>\n",
       "      <td>NaN</td>\n",
       "      <td>NaN</td>\n",
       "      <td>NaN</td>\n",
       "      <td>NaN</td>\n",
       "      <td>NaN</td>\n",
       "      <td>NaN</td>\n",
       "      <td>...</td>\n",
       "      <td>NaN</td>\n",
       "      <td>NaN</td>\n",
       "      <td>NaN</td>\n",
       "      <td>NaN</td>\n",
       "      <td>NaN</td>\n",
       "      <td>NaN</td>\n",
       "      <td>NaN</td>\n",
       "      <td>NaN</td>\n",
       "      <td>NaN</td>\n",
       "      <td>NaN</td>\n",
       "    </tr>\n",
       "    <tr>\n",
       "      <th>2000-01-05</th>\n",
       "      <td>NaN</td>\n",
       "      <td>NaN</td>\n",
       "      <td>NaN</td>\n",
       "      <td>NaN</td>\n",
       "      <td>NaN</td>\n",
       "      <td>NaN</td>\n",
       "      <td>NaN</td>\n",
       "      <td>NaN</td>\n",
       "      <td>NaN</td>\n",
       "      <td>NaN</td>\n",
       "      <td>...</td>\n",
       "      <td>NaN</td>\n",
       "      <td>NaN</td>\n",
       "      <td>NaN</td>\n",
       "      <td>NaN</td>\n",
       "      <td>NaN</td>\n",
       "      <td>NaN</td>\n",
       "      <td>NaN</td>\n",
       "      <td>NaN</td>\n",
       "      <td>NaN</td>\n",
       "      <td>NaN</td>\n",
       "    </tr>\n",
       "    <tr>\n",
       "      <th>2000-01-06</th>\n",
       "      <td>NaN</td>\n",
       "      <td>NaN</td>\n",
       "      <td>NaN</td>\n",
       "      <td>NaN</td>\n",
       "      <td>NaN</td>\n",
       "      <td>NaN</td>\n",
       "      <td>NaN</td>\n",
       "      <td>NaN</td>\n",
       "      <td>NaN</td>\n",
       "      <td>NaN</td>\n",
       "      <td>...</td>\n",
       "      <td>NaN</td>\n",
       "      <td>NaN</td>\n",
       "      <td>NaN</td>\n",
       "      <td>NaN</td>\n",
       "      <td>NaN</td>\n",
       "      <td>NaN</td>\n",
       "      <td>NaN</td>\n",
       "      <td>NaN</td>\n",
       "      <td>NaN</td>\n",
       "      <td>NaN</td>\n",
       "    </tr>\n",
       "    <tr>\n",
       "      <th>2000-01-07</th>\n",
       "      <td>NaN</td>\n",
       "      <td>NaN</td>\n",
       "      <td>NaN</td>\n",
       "      <td>NaN</td>\n",
       "      <td>NaN</td>\n",
       "      <td>NaN</td>\n",
       "      <td>NaN</td>\n",
       "      <td>NaN</td>\n",
       "      <td>NaN</td>\n",
       "      <td>NaN</td>\n",
       "      <td>...</td>\n",
       "      <td>NaN</td>\n",
       "      <td>NaN</td>\n",
       "      <td>NaN</td>\n",
       "      <td>NaN</td>\n",
       "      <td>NaN</td>\n",
       "      <td>NaN</td>\n",
       "      <td>NaN</td>\n",
       "      <td>NaN</td>\n",
       "      <td>NaN</td>\n",
       "      <td>NaN</td>\n",
       "    </tr>\n",
       "  </tbody>\n",
       "</table>\n",
       "<p>5 rows × 13550 columns</p>\n",
       "</div>"
      ],
      "text/plain": [
       "Player             Hajek J.                                                 \\\n",
       "Stat                 Played  Won Won_1st Round Won_2nd Round Won_3rd Round   \n",
       "(__OTHER__, Date)                                                            \n",
       "2000-01-03              0.0  0.0           0.0           0.0           0.0   \n",
       "2000-01-04              NaN  NaN           NaN           NaN           NaN   \n",
       "2000-01-05              NaN  NaN           NaN           NaN           NaN   \n",
       "2000-01-06              NaN  NaN           NaN           NaN           NaN   \n",
       "2000-01-07              NaN  NaN           NaN           NaN           NaN   \n",
       "\n",
       "Player                                                             \\\n",
       "Stat              Won_4th Round Won_Quarterfinals Won_Round Robin   \n",
       "(__OTHER__, Date)                                                   \n",
       "2000-01-03                  0.0               0.0             0.0   \n",
       "2000-01-04                  NaN               NaN             NaN   \n",
       "2000-01-05                  NaN               NaN             NaN   \n",
       "2000-01-06                  NaN               NaN             NaN   \n",
       "2000-01-07                  NaN               NaN             NaN   \n",
       "\n",
       "Player                                              ...      van der Meer N.  \\\n",
       "Stat              Won_Semifinals Won_The Final      ...               Played   \n",
       "(__OTHER__, Date)                                   ...                        \n",
       "2000-01-03                   0.0           0.0      ...                  0.0   \n",
       "2000-01-04                   NaN           NaN      ...                  NaN   \n",
       "2000-01-05                   NaN           NaN      ...                  NaN   \n",
       "2000-01-06                   NaN           NaN      ...                  NaN   \n",
       "2000-01-07                   NaN           NaN      ...                  NaN   \n",
       "\n",
       "Player                                                            \\\n",
       "Stat               Won Won_1st Round Won_2nd Round Won_3rd Round   \n",
       "(__OTHER__, Date)                                                  \n",
       "2000-01-03         0.0           0.0           0.0           0.0   \n",
       "2000-01-04         NaN           NaN           NaN           NaN   \n",
       "2000-01-05         NaN           NaN           NaN           NaN   \n",
       "2000-01-06         NaN           NaN           NaN           NaN   \n",
       "2000-01-07         NaN           NaN           NaN           NaN   \n",
       "\n",
       "Player                                                             \\\n",
       "Stat              Won_4th Round Won_Quarterfinals Won_Round Robin   \n",
       "(__OTHER__, Date)                                                   \n",
       "2000-01-03                  0.0               0.0             0.0   \n",
       "2000-01-04                  NaN               NaN             NaN   \n",
       "2000-01-05                  NaN               NaN             NaN   \n",
       "2000-01-06                  NaN               NaN             NaN   \n",
       "2000-01-07                  NaN               NaN             NaN   \n",
       "\n",
       "Player                                          \n",
       "Stat              Won_Semifinals Won_The Final  \n",
       "(__OTHER__, Date)                               \n",
       "2000-01-03                   0.0           0.0  \n",
       "2000-01-04                   NaN           NaN  \n",
       "2000-01-05                   NaN           NaN  \n",
       "2000-01-06                   NaN           NaN  \n",
       "2000-01-07                   NaN           NaN  \n",
       "\n",
       "[5 rows x 13550 columns]"
      ]
     },
     "execution_count": 25,
     "metadata": {},
     "output_type": "execute_result"
    }
   ],
   "source": [
    "## Takes about 2 minutes\n",
    "resampled_stats = players_stats.resample(\"D\", on=(\"__OTHER__\", \"Date\")).sum()\n",
    "resampled_stats.head()"
   ]
  },
  {
   "cell_type": "code",
   "execution_count": 26,
   "metadata": {
    "collapsed": true
   },
   "outputs": [],
   "source": [
    "## Let's fill the NAs with 0s, we have NAs as there aren't games for every single day of the year\n",
    "resampled_stats = resampled_stats.fillna(0)"
   ]
  },
  {
   "cell_type": "markdown",
   "metadata": {},
   "source": [
    "#### Looking at the totals of tournament wins since the beginning of time"
   ]
  },
  {
   "cell_type": "code",
   "execution_count": 27,
   "metadata": {},
   "outputs": [
    {
     "data": {
      "text/plain": [
       "<matplotlib.axes._subplots.AxesSubplot at 0x111da9f60>"
      ]
     },
     "execution_count": 27,
     "metadata": {},
     "output_type": "execute_result"
    },
    {
     "data": {
      "image/png": "[encoded data removed]",
      "text/plain": [
       "<matplotlib.figure.Figure at 0x111da9710>"
      ]
     },
     "metadata": {},
     "output_type": "display_data"
    }
   ],
   "source": [
    "expanding_stats = resampled_stats.expanding().sum()\n",
    "\n",
    "expanding_stats.sort_index(axis=1, inplace=True)\n",
    "expanding_stats.index.rename(\"Date\", inplace=True)\n",
    "\n",
    "big4 = [\"Nadal R.\", \"Federer R.\", \"Djokovic N.\", \"Murray A.\"]\n",
    "expanding_stats.loc(axis=1)[big4, [\"Won_The Final\"]].plot()"
   ]
  },
  {
   "cell_type": "markdown",
   "metadata": {},
   "source": [
    "#### Looking at the \"dynamic\" (1Y half life exponential weighted average)"
   ]
  },
  {
   "cell_type": "code",
   "execution_count": 28,
   "metadata": {},
   "outputs": [
    {
     "data": {
      "text/plain": [
       "<matplotlib.axes._subplots.AxesSubplot at 0x115722c50>"
      ]
     },
     "execution_count": 28,
     "metadata": {},
     "output_type": "execute_result"
    },
    {
     "data": {
      "image/png": "[encoded data removed]",
      "text/plain": [
       "<matplotlib.figure.Figure at 0x1157b9f60>"
      ]
     },
     "metadata": {},
     "output_type": "display_data"
    }
   ],
   "source": [
    "rolling_1Y_stats = resampled_stats.ewm(halflife=365).mean()\n",
    "\n",
    "rolling_1Y_stats.sort_index(axis=1, inplace=True)\n",
    "rolling_1Y_stats.index.rename(\"Date\")\n",
    "\n",
    "rolling_1Y_stats.loc(axis=1)[big4, [\"Won_The Final\"]].plot()"
   ]
  },
  {
   "cell_type": "markdown",
   "metadata": {},
   "source": [
    "* We can clearly see that Federer has won more tournaments than any other player of the big four, but that the dynamic in the recent couple years is in favour of Djokovic\n",
    "* Also we can clearly see (in both graphs) when those players started to win tournaments"
   ]
  },
  {
   "cell_type": "markdown",
   "metadata": {},
   "source": [
    "## 4.C Joining that data onto the initial dataframe"
   ]
  },
  {
   "cell_type": "markdown",
   "metadata": {},
   "source": [
    "Recap:\n",
    "* eda_df is the initial processed dataframe (with Player1 and Player2)\n",
    "* expanding_stats has the cumulative sum since the beginning of time (2000) for games played, won, 1st Round played, won etc.\n",
    "* rolling_1Y_stats does an exponential moving average with a 1Y half life, looking at the \"recent dynamics\" of the players"
   ]
  },
  {
   "cell_type": "markdown",
   "metadata": {},
   "source": [
    "### First step let's melt the expanding stats and rolling_1Y_stats"
   ]
  },
  {
   "cell_type": "code",
   "execution_count": 29,
   "metadata": {},
   "outputs": [
    {
     "data": {
      "text/html": [
       "<div>\n",
       "<table border=\"1\" class=\"dataframe\">\n",
       "  <thead>\n",
       "    <tr style=\"text-align: right;\">\n",
       "      <th></th>\n",
       "      <th>Stat</th>\n",
       "      <th>Played</th>\n",
       "      <th>Won</th>\n",
       "      <th>Won_1st Round</th>\n",
       "      <th>Won_2nd Round</th>\n",
       "      <th>Won_3rd Round</th>\n",
       "      <th>Won_4th Round</th>\n",
       "      <th>Won_Quarterfinals</th>\n",
       "      <th>Won_Round Robin</th>\n",
       "      <th>Won_Semifinals</th>\n",
       "      <th>Won_The Final</th>\n",
       "    </tr>\n",
       "    <tr>\n",
       "      <th>Date</th>\n",
       "      <th>Player</th>\n",
       "      <th></th>\n",
       "      <th></th>\n",
       "      <th></th>\n",
       "      <th></th>\n",
       "      <th></th>\n",
       "      <th></th>\n",
       "      <th></th>\n",
       "      <th></th>\n",
       "      <th></th>\n",
       "      <th></th>\n",
       "    </tr>\n",
       "  </thead>\n",
       "  <tbody>\n",
       "    <tr>\n",
       "      <th rowspan=\"5\" valign=\"top\">2000-01-03</th>\n",
       "      <th>Hajek J.</th>\n",
       "      <td>0.0</td>\n",
       "      <td>0.0</td>\n",
       "      <td>0.0</td>\n",
       "      <td>0.0</td>\n",
       "      <td>0.0</td>\n",
       "      <td>0.0</td>\n",
       "      <td>0.0</td>\n",
       "      <td>0.0</td>\n",
       "      <td>0.0</td>\n",
       "      <td>0.0</td>\n",
       "    </tr>\n",
       "    <tr>\n",
       "      <th>Abdulla M.</th>\n",
       "      <td>0.0</td>\n",
       "      <td>0.0</td>\n",
       "      <td>0.0</td>\n",
       "      <td>0.0</td>\n",
       "      <td>0.0</td>\n",
       "      <td>0.0</td>\n",
       "      <td>0.0</td>\n",
       "      <td>0.0</td>\n",
       "      <td>0.0</td>\n",
       "      <td>0.0</td>\n",
       "    </tr>\n",
       "    <tr>\n",
       "      <th>Abel M.</th>\n",
       "      <td>0.0</td>\n",
       "      <td>0.0</td>\n",
       "      <td>0.0</td>\n",
       "      <td>0.0</td>\n",
       "      <td>0.0</td>\n",
       "      <td>0.0</td>\n",
       "      <td>0.0</td>\n",
       "      <td>0.0</td>\n",
       "      <td>0.0</td>\n",
       "      <td>0.0</td>\n",
       "    </tr>\n",
       "    <tr>\n",
       "      <th>Acasuso J.</th>\n",
       "      <td>0.0</td>\n",
       "      <td>0.0</td>\n",
       "      <td>0.0</td>\n",
       "      <td>0.0</td>\n",
       "      <td>0.0</td>\n",
       "      <td>0.0</td>\n",
       "      <td>0.0</td>\n",
       "      <td>0.0</td>\n",
       "      <td>0.0</td>\n",
       "      <td>0.0</td>\n",
       "    </tr>\n",
       "    <tr>\n",
       "      <th>Adaktusson J.</th>\n",
       "      <td>0.0</td>\n",
       "      <td>0.0</td>\n",
       "      <td>0.0</td>\n",
       "      <td>0.0</td>\n",
       "      <td>0.0</td>\n",
       "      <td>0.0</td>\n",
       "      <td>0.0</td>\n",
       "      <td>0.0</td>\n",
       "      <td>0.0</td>\n",
       "      <td>0.0</td>\n",
       "    </tr>\n",
       "  </tbody>\n",
       "</table>\n",
       "</div>"
      ],
      "text/plain": [
       "Stat                      Played  Won  Won_1st Round  Won_2nd Round  \\\n",
       "Date       Player                                                     \n",
       "2000-01-03  Hajek J.         0.0  0.0            0.0            0.0   \n",
       "           Abdulla M.        0.0  0.0            0.0            0.0   \n",
       "           Abel M.           0.0  0.0            0.0            0.0   \n",
       "           Acasuso J.        0.0  0.0            0.0            0.0   \n",
       "           Adaktusson J.     0.0  0.0            0.0            0.0   \n",
       "\n",
       "Stat                      Won_3rd Round  Won_4th Round  Won_Quarterfinals  \\\n",
       "Date       Player                                                           \n",
       "2000-01-03  Hajek J.                0.0            0.0                0.0   \n",
       "           Abdulla M.               0.0            0.0                0.0   \n",
       "           Abel M.                  0.0            0.0                0.0   \n",
       "           Acasuso J.               0.0            0.0                0.0   \n",
       "           Adaktusson J.            0.0            0.0                0.0   \n",
       "\n",
       "Stat                      Won_Round Robin  Won_Semifinals  Won_The Final  \n",
       "Date       Player                                                         \n",
       "2000-01-03  Hajek J.                  0.0             0.0            0.0  \n",
       "           Abdulla M.                 0.0             0.0            0.0  \n",
       "           Abel M.                    0.0             0.0            0.0  \n",
       "           Acasuso J.                 0.0             0.0            0.0  \n",
       "           Adaktusson J.              0.0             0.0            0.0  "
      ]
     },
     "execution_count": 29,
     "metadata": {},
     "output_type": "execute_result"
    }
   ],
   "source": [
    "date_player_to_expanding_stats = expanding_stats.stack(level=0)\n",
    "date_player_to_expanding_stats.head()"
   ]
  },
  {
   "cell_type": "code",
   "execution_count": 30,
   "metadata": {},
   "outputs": [
    {
     "data": {
      "text/html": [
       "<div>\n",
       "<table border=\"1\" class=\"dataframe\">\n",
       "  <thead>\n",
       "    <tr style=\"text-align: right;\">\n",
       "      <th></th>\n",
       "      <th>Stat</th>\n",
       "      <th>Played</th>\n",
       "      <th>Won</th>\n",
       "      <th>Won_1st Round</th>\n",
       "      <th>Won_2nd Round</th>\n",
       "      <th>Won_3rd Round</th>\n",
       "      <th>Won_4th Round</th>\n",
       "      <th>Won_Quarterfinals</th>\n",
       "      <th>Won_Round Robin</th>\n",
       "      <th>Won_Semifinals</th>\n",
       "      <th>Won_The Final</th>\n",
       "    </tr>\n",
       "    <tr>\n",
       "      <th>Date</th>\n",
       "      <th>Player</th>\n",
       "      <th></th>\n",
       "      <th></th>\n",
       "      <th></th>\n",
       "      <th></th>\n",
       "      <th></th>\n",
       "      <th></th>\n",
       "      <th></th>\n",
       "      <th></th>\n",
       "      <th></th>\n",
       "      <th></th>\n",
       "    </tr>\n",
       "  </thead>\n",
       "  <tbody>\n",
       "    <tr>\n",
       "      <th rowspan=\"5\" valign=\"top\">2000-01-03</th>\n",
       "      <th>Hajek J.</th>\n",
       "      <td>0.0</td>\n",
       "      <td>0.0</td>\n",
       "      <td>0.0</td>\n",
       "      <td>0.0</td>\n",
       "      <td>0.0</td>\n",
       "      <td>0.0</td>\n",
       "      <td>0.0</td>\n",
       "      <td>0.0</td>\n",
       "      <td>0.0</td>\n",
       "      <td>0.0</td>\n",
       "    </tr>\n",
       "    <tr>\n",
       "      <th>Abdulla M.</th>\n",
       "      <td>0.0</td>\n",
       "      <td>0.0</td>\n",
       "      <td>0.0</td>\n",
       "      <td>0.0</td>\n",
       "      <td>0.0</td>\n",
       "      <td>0.0</td>\n",
       "      <td>0.0</td>\n",
       "      <td>0.0</td>\n",
       "      <td>0.0</td>\n",
       "      <td>0.0</td>\n",
       "    </tr>\n",
       "    <tr>\n",
       "      <th>Abel M.</th>\n",
       "      <td>0.0</td>\n",
       "      <td>0.0</td>\n",
       "      <td>0.0</td>\n",
       "      <td>0.0</td>\n",
       "      <td>0.0</td>\n",
       "      <td>0.0</td>\n",
       "      <td>0.0</td>\n",
       "      <td>0.0</td>\n",
       "      <td>0.0</td>\n",
       "      <td>0.0</td>\n",
       "    </tr>\n",
       "    <tr>\n",
       "      <th>Acasuso J.</th>\n",
       "      <td>0.0</td>\n",
       "      <td>0.0</td>\n",
       "      <td>0.0</td>\n",
       "      <td>0.0</td>\n",
       "      <td>0.0</td>\n",
       "      <td>0.0</td>\n",
       "      <td>0.0</td>\n",
       "      <td>0.0</td>\n",
       "      <td>0.0</td>\n",
       "      <td>0.0</td>\n",
       "    </tr>\n",
       "    <tr>\n",
       "      <th>Adaktusson J.</th>\n",
       "      <td>0.0</td>\n",
       "      <td>0.0</td>\n",
       "      <td>0.0</td>\n",
       "      <td>0.0</td>\n",
       "      <td>0.0</td>\n",
       "      <td>0.0</td>\n",
       "      <td>0.0</td>\n",
       "      <td>0.0</td>\n",
       "      <td>0.0</td>\n",
       "      <td>0.0</td>\n",
       "    </tr>\n",
       "  </tbody>\n",
       "</table>\n",
       "</div>"
      ],
      "text/plain": [
       "Stat                      Played  Won  Won_1st Round  Won_2nd Round  \\\n",
       "Date       Player                                                     \n",
       "2000-01-03  Hajek J.         0.0  0.0            0.0            0.0   \n",
       "           Abdulla M.        0.0  0.0            0.0            0.0   \n",
       "           Abel M.           0.0  0.0            0.0            0.0   \n",
       "           Acasuso J.        0.0  0.0            0.0            0.0   \n",
       "           Adaktusson J.     0.0  0.0            0.0            0.0   \n",
       "\n",
       "Stat                      Won_3rd Round  Won_4th Round  Won_Quarterfinals  \\\n",
       "Date       Player                                                           \n",
       "2000-01-03  Hajek J.                0.0            0.0                0.0   \n",
       "           Abdulla M.               0.0            0.0                0.0   \n",
       "           Abel M.                  0.0            0.0                0.0   \n",
       "           Acasuso J.               0.0            0.0                0.0   \n",
       "           Adaktusson J.            0.0            0.0                0.0   \n",
       "\n",
       "Stat                      Won_Round Robin  Won_Semifinals  Won_The Final  \n",
       "Date       Player                                                         \n",
       "2000-01-03  Hajek J.                  0.0             0.0            0.0  \n",
       "           Abdulla M.                 0.0             0.0            0.0  \n",
       "           Abel M.                    0.0             0.0            0.0  \n",
       "           Acasuso J.                 0.0             0.0            0.0  \n",
       "           Adaktusson J.              0.0             0.0            0.0  "
      ]
     },
     "execution_count": 30,
     "metadata": {},
     "output_type": "execute_result"
    }
   ],
   "source": [
    "date_player_to_1Y_stats = rolling_1Y_stats.stack(level=0)\n",
    "date_player_to_1Y_stats.head()"
   ]
  },
  {
   "cell_type": "code",
   "execution_count": 31,
   "metadata": {},
   "outputs": [
    {
     "data": {
      "text/plain": [
       "Stat\n",
       "Played               950.0\n",
       "Won                  779.0\n",
       "Won_1st Round        102.0\n",
       "Won_2nd Round        191.0\n",
       "Won_3rd Round        128.0\n",
       "Won_4th Round         47.0\n",
       "Won_Quarterfinals    129.0\n",
       "Won_Round Robin       14.0\n",
       "Won_Semifinals       100.0\n",
       "Won_The Final         68.0\n",
       "Name: (2016-09-25 00:00:00, Nadal R.), dtype: float64"
      ]
     },
     "execution_count": 31,
     "metadata": {},
     "output_type": "execute_result"
    }
   ],
   "source": [
    "# Quick check to see if the data is correct\n",
    "date_player_to_expanding_stats.loc[\"2016-09-25\", \"Nadal R.\"]\n",
    "# Yes! At the end of the dataset Nadal definitely won ATP tournaments"
   ]
  },
  {
   "cell_type": "code",
   "execution_count": 32,
   "metadata": {},
   "outputs": [
    {
     "data": {
      "text/plain": [
       "(0.024497957782611386, 0.0080204619215499401)"
      ]
     },
     "execution_count": 32,
     "metadata": {},
     "output_type": "execute_result"
    }
   ],
   "source": [
    "date_player_to_1Y_stats.loc[\"2016-09-25\", \"Djokovic N.\"][\"Won_The Final\"], date_player_to_1Y_stats.loc[\"2016-09-25\", \"Federer R.\"][\"Won_The Final\"]\n",
    "# Yes! Djokovic performs better than Federer recently"
   ]
  },
  {
   "cell_type": "markdown",
   "metadata": {},
   "source": [
    "### Finally... we can prepare the final dataframe with independant rows"
   ]
  },
  {
   "cell_type": "code",
   "execution_count": 33,
   "metadata": {
    "collapsed": true
   },
   "outputs": [],
   "source": [
    "# Let's make copies of the dataframes with renamed columns in preparation for merge\n",
    "from itertools import product\n",
    "merge_dfs = {}\n",
    "for (player_name, horizon) in product([\"P1_Name\", \"P2_Name\"], [\"TOTAL\", \"1Y\"]):\n",
    "    stat_df = date_player_to_expanding_stats.copy() if horizon == \"TOTAL\" else date_player_to_1Y_stats.copy()\n",
    "    stat_df.columns = stat_df.columns.map(lambda x: player_name[:2] + \"__\" + horizon + \"__\" + x)\n",
    "    merge_dfs[(player_name, horizon)] = stat_df"
   ]
  },
  {
   "cell_type": "code",
   "execution_count": 34,
   "metadata": {},
   "outputs": [
    {
     "data": {
      "text/html": [
       "<div>\n",
       "<table border=\"1\" class=\"dataframe\">\n",
       "  <thead>\n",
       "    <tr style=\"text-align: right;\">\n",
       "      <th></th>\n",
       "      <th></th>\n",
       "      <th>P1__TOTAL__Played</th>\n",
       "      <th>P1__TOTAL__Won</th>\n",
       "      <th>P1__TOTAL__Won_1st Round</th>\n",
       "      <th>P1__TOTAL__Won_2nd Round</th>\n",
       "      <th>P1__TOTAL__Won_3rd Round</th>\n",
       "      <th>P1__TOTAL__Won_4th Round</th>\n",
       "      <th>P1__TOTAL__Won_Quarterfinals</th>\n",
       "      <th>P1__TOTAL__Won_Round Robin</th>\n",
       "      <th>P1__TOTAL__Won_Semifinals</th>\n",
       "      <th>P1__TOTAL__Won_The Final</th>\n",
       "    </tr>\n",
       "    <tr>\n",
       "      <th>Date</th>\n",
       "      <th>Player</th>\n",
       "      <th></th>\n",
       "      <th></th>\n",
       "      <th></th>\n",
       "      <th></th>\n",
       "      <th></th>\n",
       "      <th></th>\n",
       "      <th></th>\n",
       "      <th></th>\n",
       "      <th></th>\n",
       "      <th></th>\n",
       "    </tr>\n",
       "  </thead>\n",
       "  <tbody>\n",
       "    <tr>\n",
       "      <th rowspan=\"5\" valign=\"top\">2000-01-03</th>\n",
       "      <th>Hajek J.</th>\n",
       "      <td>0.0</td>\n",
       "      <td>0.0</td>\n",
       "      <td>0.0</td>\n",
       "      <td>0.0</td>\n",
       "      <td>0.0</td>\n",
       "      <td>0.0</td>\n",
       "      <td>0.0</td>\n",
       "      <td>0.0</td>\n",
       "      <td>0.0</td>\n",
       "      <td>0.0</td>\n",
       "    </tr>\n",
       "    <tr>\n",
       "      <th>Abdulla M.</th>\n",
       "      <td>0.0</td>\n",
       "      <td>0.0</td>\n",
       "      <td>0.0</td>\n",
       "      <td>0.0</td>\n",
       "      <td>0.0</td>\n",
       "      <td>0.0</td>\n",
       "      <td>0.0</td>\n",
       "      <td>0.0</td>\n",
       "      <td>0.0</td>\n",
       "      <td>0.0</td>\n",
       "    </tr>\n",
       "    <tr>\n",
       "      <th>Abel M.</th>\n",
       "      <td>0.0</td>\n",
       "      <td>0.0</td>\n",
       "      <td>0.0</td>\n",
       "      <td>0.0</td>\n",
       "      <td>0.0</td>\n",
       "      <td>0.0</td>\n",
       "      <td>0.0</td>\n",
       "      <td>0.0</td>\n",
       "      <td>0.0</td>\n",
       "      <td>0.0</td>\n",
       "    </tr>\n",
       "    <tr>\n",
       "      <th>Acasuso J.</th>\n",
       "      <td>0.0</td>\n",
       "      <td>0.0</td>\n",
       "      <td>0.0</td>\n",
       "      <td>0.0</td>\n",
       "      <td>0.0</td>\n",
       "      <td>0.0</td>\n",
       "      <td>0.0</td>\n",
       "      <td>0.0</td>\n",
       "      <td>0.0</td>\n",
       "      <td>0.0</td>\n",
       "    </tr>\n",
       "    <tr>\n",
       "      <th>Adaktusson J.</th>\n",
       "      <td>0.0</td>\n",
       "      <td>0.0</td>\n",
       "      <td>0.0</td>\n",
       "      <td>0.0</td>\n",
       "      <td>0.0</td>\n",
       "      <td>0.0</td>\n",
       "      <td>0.0</td>\n",
       "      <td>0.0</td>\n",
       "      <td>0.0</td>\n",
       "      <td>0.0</td>\n",
       "    </tr>\n",
       "  </tbody>\n",
       "</table>\n",
       "</div>"
      ],
      "text/plain": [
       "                          P1__TOTAL__Played  P1__TOTAL__Won  \\\n",
       "Date       Player                                             \n",
       "2000-01-03  Hajek J.                    0.0             0.0   \n",
       "           Abdulla M.                   0.0             0.0   \n",
       "           Abel M.                      0.0             0.0   \n",
       "           Acasuso J.                   0.0             0.0   \n",
       "           Adaktusson J.                0.0             0.0   \n",
       "\n",
       "                          P1__TOTAL__Won_1st Round  P1__TOTAL__Won_2nd Round  \\\n",
       "Date       Player                                                              \n",
       "2000-01-03  Hajek J.                           0.0                       0.0   \n",
       "           Abdulla M.                          0.0                       0.0   \n",
       "           Abel M.                             0.0                       0.0   \n",
       "           Acasuso J.                          0.0                       0.0   \n",
       "           Adaktusson J.                       0.0                       0.0   \n",
       "\n",
       "                          P1__TOTAL__Won_3rd Round  P1__TOTAL__Won_4th Round  \\\n",
       "Date       Player                                                              \n",
       "2000-01-03  Hajek J.                           0.0                       0.0   \n",
       "           Abdulla M.                          0.0                       0.0   \n",
       "           Abel M.                             0.0                       0.0   \n",
       "           Acasuso J.                          0.0                       0.0   \n",
       "           Adaktusson J.                       0.0                       0.0   \n",
       "\n",
       "                          P1__TOTAL__Won_Quarterfinals  \\\n",
       "Date       Player                                        \n",
       "2000-01-03  Hajek J.                               0.0   \n",
       "           Abdulla M.                              0.0   \n",
       "           Abel M.                                 0.0   \n",
       "           Acasuso J.                              0.0   \n",
       "           Adaktusson J.                           0.0   \n",
       "\n",
       "                          P1__TOTAL__Won_Round Robin  \\\n",
       "Date       Player                                      \n",
       "2000-01-03  Hajek J.                             0.0   \n",
       "           Abdulla M.                            0.0   \n",
       "           Abel M.                               0.0   \n",
       "           Acasuso J.                            0.0   \n",
       "           Adaktusson J.                         0.0   \n",
       "\n",
       "                          P1__TOTAL__Won_Semifinals  P1__TOTAL__Won_The Final  \n",
       "Date       Player                                                              \n",
       "2000-01-03  Hajek J.                            0.0                       0.0  \n",
       "           Abdulla M.                           0.0                       0.0  \n",
       "           Abel M.                              0.0                       0.0  \n",
       "           Acasuso J.                           0.0                       0.0  \n",
       "           Adaktusson J.                        0.0                       0.0  "
      ]
     },
     "execution_count": 34,
     "metadata": {},
     "output_type": "execute_result"
    }
   ],
   "source": [
    "merge_dfs[(\"P1_Name\", \"TOTAL\")].head()"
   ]
  },
  {
   "cell_type": "code",
   "execution_count": 35,
   "metadata": {},
   "outputs": [
    {
     "data": {
      "text/plain": [
       "Index(['Location', 'Tournament', 'Date', 'Series', 'Court', 'Surface', 'Round',\n",
       "       'Best of', 'P1_Name', 'P1_Rank', 'P1_1', 'P1_2', 'P1_3', 'P1_4', 'P1_5',\n",
       "       'P1_Sets', 'P2_Name', 'P2_Rank', 'P2_1', 'P2_2', 'P2_3', 'P2_4', 'P2_5',\n",
       "       'P2_Sets', 'Player1Wins', 'RankDiff', 'P1__TOTAL__Played',\n",
       "       'P1__TOTAL__Won', 'P1__TOTAL__Won_1st Round',\n",
       "       'P1__TOTAL__Won_2nd Round', 'P1__TOTAL__Won_3rd Round',\n",
       "       'P1__TOTAL__Won_4th Round', 'P1__TOTAL__Won_Quarterfinals',\n",
       "       'P1__TOTAL__Won_Round Robin', 'P1__TOTAL__Won_Semifinals',\n",
       "       'P1__TOTAL__Won_The Final', 'P1__1Y__Played', 'P1__1Y__Won',\n",
       "       'P1__1Y__Won_1st Round', 'P1__1Y__Won_2nd Round',\n",
       "       'P1__1Y__Won_3rd Round', 'P1__1Y__Won_4th Round',\n",
       "       'P1__1Y__Won_Quarterfinals', 'P1__1Y__Won_Round Robin',\n",
       "       'P1__1Y__Won_Semifinals', 'P1__1Y__Won_The Final', 'P2__TOTAL__Played',\n",
       "       'P2__TOTAL__Won', 'P2__TOTAL__Won_1st Round',\n",
       "       'P2__TOTAL__Won_2nd Round', 'P2__TOTAL__Won_3rd Round',\n",
       "       'P2__TOTAL__Won_4th Round', 'P2__TOTAL__Won_Quarterfinals',\n",
       "       'P2__TOTAL__Won_Round Robin', 'P2__TOTAL__Won_Semifinals',\n",
       "       'P2__TOTAL__Won_The Final', 'P2__1Y__Played', 'P2__1Y__Won',\n",
       "       'P2__1Y__Won_1st Round', 'P2__1Y__Won_2nd Round',\n",
       "       'P2__1Y__Won_3rd Round', 'P2__1Y__Won_4th Round',\n",
       "       'P2__1Y__Won_Quarterfinals', 'P2__1Y__Won_Round Robin',\n",
       "       'P2__1Y__Won_Semifinals', 'P2__1Y__Won_The Final'],\n",
       "      dtype='object')"
      ]
     },
     "execution_count": 35,
     "metadata": {},
     "output_type": "execute_result"
    }
   ],
   "source": [
    "independant_df = eda_df.copy()\n",
    "\n",
    "for (player_name, _), df_to_merge_with in merge_dfs.items():\n",
    "    independant_df = independant_df.merge(\n",
    "        df_to_merge_with, left_on=[\"Date\", player_name], right_index=True, how=\"left\"\n",
    "    )\n",
    "independant_df.columns"
   ]
  },
  {
   "cell_type": "code",
   "execution_count": 36,
   "metadata": {},
   "outputs": [
    {
     "data": {
      "text/plain": [
       "68.0"
      ]
     },
     "execution_count": 36,
     "metadata": {},
     "output_type": "execute_result"
    }
   ],
   "source": [
    "## Let's check the data: Finals won by Nadal as of his last game\n",
    "independant_df[\n",
    "    (independant_df.P1_Name == \"Nadal R.\") |\n",
    "    (independant_df.P2_Name == \"Nadal R.\")\n",
    "].iloc[-1][\"P1__TOTAL__Won_The Final\"]"
   ]
  },
  {
   "cell_type": "code",
   "execution_count": 37,
   "metadata": {},
   "outputs": [
    {
     "data": {
      "text/plain": [
       "36.0"
      ]
     },
     "execution_count": 37,
     "metadata": {},
     "output_type": "execute_result"
    }
   ],
   "source": [
    "## Let's check the data: Finals won by Nadal as of his 500th game\n",
    "independant_df[\n",
    "    (independant_df.P1_Name == \"Nadal R.\") |\n",
    "    (independant_df.P2_Name == \"Nadal R.\")\n",
    "].iloc[500][\"P1__TOTAL__Won_The Final\"]"
   ]
  },
  {
   "cell_type": "code",
   "execution_count": 38,
   "metadata": {},
   "outputs": [
    {
     "data": {
      "text/plain": [
       "88.0"
      ]
     },
     "execution_count": 38,
     "metadata": {},
     "output_type": "execute_result"
    }
   ],
   "source": [
    "independant_df[\n",
    "    independant_df.P1_Name == \"Federer R.\"\n",
    "].iloc[-1][\"P1__TOTAL__Won_The Final\"]"
   ]
  },
  {
   "cell_type": "markdown",
   "metadata": {},
   "source": [
    "# 5/ Doing EDA on the independant_df"
   ]
  },
  {
   "cell_type": "code",
   "execution_count": 39,
   "metadata": {},
   "outputs": [
    {
     "data": {
      "text/html": [
       "<div>\n",
       "<table border=\"1\" class=\"dataframe\">\n",
       "  <thead>\n",
       "    <tr style=\"text-align: right;\">\n",
       "      <th></th>\n",
       "      <th>Location</th>\n",
       "      <th>Tournament</th>\n",
       "      <th>Date</th>\n",
       "      <th>Series</th>\n",
       "      <th>Court</th>\n",
       "      <th>Surface</th>\n",
       "      <th>Round</th>\n",
       "      <th>Best of</th>\n",
       "      <th>P1_Name</th>\n",
       "      <th>P1_Rank</th>\n",
       "      <th>...</th>\n",
       "      <th>P2__1Y__Played</th>\n",
       "      <th>P2__1Y__Won</th>\n",
       "      <th>P2__1Y__Won_1st Round</th>\n",
       "      <th>P2__1Y__Won_2nd Round</th>\n",
       "      <th>P2__1Y__Won_3rd Round</th>\n",
       "      <th>P2__1Y__Won_4th Round</th>\n",
       "      <th>P2__1Y__Won_Quarterfinals</th>\n",
       "      <th>P2__1Y__Won_Round Robin</th>\n",
       "      <th>P2__1Y__Won_Semifinals</th>\n",
       "      <th>P2__1Y__Won_The Final</th>\n",
       "    </tr>\n",
       "  </thead>\n",
       "  <tbody>\n",
       "    <tr>\n",
       "      <th>0</th>\n",
       "      <td>Adelaide</td>\n",
       "      <td>Australian Hardcourt Championships</td>\n",
       "      <td>2000-01-03</td>\n",
       "      <td>International</td>\n",
       "      <td>Outdoor</td>\n",
       "      <td>Hard</td>\n",
       "      <td>1st Round</td>\n",
       "      <td>3</td>\n",
       "      <td>Dosedel S.</td>\n",
       "      <td>63.0</td>\n",
       "      <td>...</td>\n",
       "      <td>1.0</td>\n",
       "      <td>0.0</td>\n",
       "      <td>0.0</td>\n",
       "      <td>0.0</td>\n",
       "      <td>0.0</td>\n",
       "      <td>0.0</td>\n",
       "      <td>0.0</td>\n",
       "      <td>0.0</td>\n",
       "      <td>0.0</td>\n",
       "      <td>0.0</td>\n",
       "    </tr>\n",
       "    <tr>\n",
       "      <th>1</th>\n",
       "      <td>Adelaide</td>\n",
       "      <td>Australian Hardcourt Championships</td>\n",
       "      <td>2000-01-03</td>\n",
       "      <td>International</td>\n",
       "      <td>Outdoor</td>\n",
       "      <td>Hard</td>\n",
       "      <td>1st Round</td>\n",
       "      <td>3</td>\n",
       "      <td>Enqvist T.</td>\n",
       "      <td>5.0</td>\n",
       "      <td>...</td>\n",
       "      <td>1.0</td>\n",
       "      <td>0.0</td>\n",
       "      <td>0.0</td>\n",
       "      <td>0.0</td>\n",
       "      <td>0.0</td>\n",
       "      <td>0.0</td>\n",
       "      <td>0.0</td>\n",
       "      <td>0.0</td>\n",
       "      <td>0.0</td>\n",
       "      <td>0.0</td>\n",
       "    </tr>\n",
       "    <tr>\n",
       "      <th>2</th>\n",
       "      <td>Adelaide</td>\n",
       "      <td>Australian Hardcourt Championships</td>\n",
       "      <td>2000-01-03</td>\n",
       "      <td>International</td>\n",
       "      <td>Outdoor</td>\n",
       "      <td>Hard</td>\n",
       "      <td>1st Round</td>\n",
       "      <td>3</td>\n",
       "      <td>Escude N.</td>\n",
       "      <td>40.0</td>\n",
       "      <td>...</td>\n",
       "      <td>1.0</td>\n",
       "      <td>0.0</td>\n",
       "      <td>0.0</td>\n",
       "      <td>0.0</td>\n",
       "      <td>0.0</td>\n",
       "      <td>0.0</td>\n",
       "      <td>0.0</td>\n",
       "      <td>0.0</td>\n",
       "      <td>0.0</td>\n",
       "      <td>0.0</td>\n",
       "    </tr>\n",
       "    <tr>\n",
       "      <th>3</th>\n",
       "      <td>Adelaide</td>\n",
       "      <td>Australian Hardcourt Championships</td>\n",
       "      <td>2000-01-03</td>\n",
       "      <td>International</td>\n",
       "      <td>Outdoor</td>\n",
       "      <td>Hard</td>\n",
       "      <td>1st Round</td>\n",
       "      <td>3</td>\n",
       "      <td>Federer R.</td>\n",
       "      <td>65.0</td>\n",
       "      <td>...</td>\n",
       "      <td>1.0</td>\n",
       "      <td>0.0</td>\n",
       "      <td>0.0</td>\n",
       "      <td>0.0</td>\n",
       "      <td>0.0</td>\n",
       "      <td>0.0</td>\n",
       "      <td>0.0</td>\n",
       "      <td>0.0</td>\n",
       "      <td>0.0</td>\n",
       "      <td>0.0</td>\n",
       "    </tr>\n",
       "    <tr>\n",
       "      <th>4</th>\n",
       "      <td>Adelaide</td>\n",
       "      <td>Australian Hardcourt Championships</td>\n",
       "      <td>2000-01-03</td>\n",
       "      <td>International</td>\n",
       "      <td>Outdoor</td>\n",
       "      <td>Hard</td>\n",
       "      <td>1st Round</td>\n",
       "      <td>3</td>\n",
       "      <td>Fromberg R.</td>\n",
       "      <td>81.0</td>\n",
       "      <td>...</td>\n",
       "      <td>1.0</td>\n",
       "      <td>0.0</td>\n",
       "      <td>0.0</td>\n",
       "      <td>0.0</td>\n",
       "      <td>0.0</td>\n",
       "      <td>0.0</td>\n",
       "      <td>0.0</td>\n",
       "      <td>0.0</td>\n",
       "      <td>0.0</td>\n",
       "      <td>0.0</td>\n",
       "    </tr>\n",
       "  </tbody>\n",
       "</table>\n",
       "<p>5 rows × 66 columns</p>\n",
       "</div>"
      ],
      "text/plain": [
       "   Location                          Tournament       Date         Series  \\\n",
       "0  Adelaide  Australian Hardcourt Championships 2000-01-03  International   \n",
       "1  Adelaide  Australian Hardcourt Championships 2000-01-03  International   \n",
       "2  Adelaide  Australian Hardcourt Championships 2000-01-03  International   \n",
       "3  Adelaide  Australian Hardcourt Championships 2000-01-03  International   \n",
       "4  Adelaide  Australian Hardcourt Championships 2000-01-03  International   \n",
       "\n",
       "     Court Surface      Round  Best of      P1_Name  P1_Rank  \\\n",
       "0  Outdoor    Hard  1st Round        3   Dosedel S.     63.0   \n",
       "1  Outdoor    Hard  1st Round        3   Enqvist T.      5.0   \n",
       "2  Outdoor    Hard  1st Round        3    Escude N.     40.0   \n",
       "3  Outdoor    Hard  1st Round        3   Federer R.     65.0   \n",
       "4  Outdoor    Hard  1st Round        3  Fromberg R.     81.0   \n",
       "\n",
       "           ...            P2__1Y__Played  P2__1Y__Won  P2__1Y__Won_1st Round  \\\n",
       "0          ...                       1.0          0.0                    0.0   \n",
       "1          ...                       1.0          0.0                    0.0   \n",
       "2          ...                       1.0          0.0                    0.0   \n",
       "3          ...                       1.0          0.0                    0.0   \n",
       "4          ...                       1.0          0.0                    0.0   \n",
       "\n",
       "   P2__1Y__Won_2nd Round  P2__1Y__Won_3rd Round  P2__1Y__Won_4th Round  \\\n",
       "0                    0.0                    0.0                    0.0   \n",
       "1                    0.0                    0.0                    0.0   \n",
       "2                    0.0                    0.0                    0.0   \n",
       "3                    0.0                    0.0                    0.0   \n",
       "4                    0.0                    0.0                    0.0   \n",
       "\n",
       "  P2__1Y__Won_Quarterfinals  P2__1Y__Won_Round Robin  P2__1Y__Won_Semifinals  \\\n",
       "0                       0.0                      0.0                     0.0   \n",
       "1                       0.0                      0.0                     0.0   \n",
       "2                       0.0                      0.0                     0.0   \n",
       "3                       0.0                      0.0                     0.0   \n",
       "4                       0.0                      0.0                     0.0   \n",
       "\n",
       "   P2__1Y__Won_The Final  \n",
       "0                    0.0  \n",
       "1                    0.0  \n",
       "2                    0.0  \n",
       "3                    0.0  \n",
       "4                    0.0  \n",
       "\n",
       "[5 rows x 66 columns]"
      ]
     },
     "execution_count": 39,
     "metadata": {},
     "output_type": "execute_result"
    }
   ],
   "source": [
    "independant_df.head()"
   ]
  },
  {
   "cell_type": "markdown",
   "metadata": {},
   "source": [
    "## 5.A Correlations between the various features"
   ]
  },
  {
   "cell_type": "code",
   "execution_count": 40,
   "metadata": {},
   "outputs": [
    {
     "data": {
      "text/html": [
       "<div>\n",
       "<table border=\"1\" class=\"dataframe\">\n",
       "  <thead>\n",
       "    <tr style=\"text-align: right;\">\n",
       "      <th></th>\n",
       "      <th>P2__TOTAL__Played</th>\n",
       "      <th>P2__TOTAL__Won</th>\n",
       "      <th>P2__TOTAL__Won_1st Round</th>\n",
       "      <th>P2__TOTAL__Won_2nd Round</th>\n",
       "      <th>P2__TOTAL__Won_3rd Round</th>\n",
       "      <th>P2__TOTAL__Won_4th Round</th>\n",
       "      <th>P2__TOTAL__Won_Quarterfinals</th>\n",
       "      <th>P2__TOTAL__Won_Round Robin</th>\n",
       "      <th>P2__TOTAL__Won_Semifinals</th>\n",
       "      <th>P2__TOTAL__Won_The Final</th>\n",
       "    </tr>\n",
       "  </thead>\n",
       "  <tbody>\n",
       "    <tr>\n",
       "      <th>P1__TOTAL__Played</th>\n",
       "      <td>0.370264</td>\n",
       "      <td>0.357646</td>\n",
       "      <td>0.357835</td>\n",
       "      <td>0.355401</td>\n",
       "      <td>0.299282</td>\n",
       "      <td>0.237424</td>\n",
       "      <td>0.324753</td>\n",
       "      <td>0.198447</td>\n",
       "      <td>0.287995</td>\n",
       "      <td>0.250018</td>\n",
       "    </tr>\n",
       "    <tr>\n",
       "      <th>P1__TOTAL__Won</th>\n",
       "      <td>0.373467</td>\n",
       "      <td>0.371672</td>\n",
       "      <td>0.351461</td>\n",
       "      <td>0.370885</td>\n",
       "      <td>0.331094</td>\n",
       "      <td>0.274522</td>\n",
       "      <td>0.349836</td>\n",
       "      <td>0.218733</td>\n",
       "      <td>0.317007</td>\n",
       "      <td>0.280366</td>\n",
       "    </tr>\n",
       "    <tr>\n",
       "      <th>P1__TOTAL__Won_1st Round</th>\n",
       "      <td>0.311440</td>\n",
       "      <td>0.283885</td>\n",
       "      <td>0.317906</td>\n",
       "      <td>0.278870</td>\n",
       "      <td>0.205284</td>\n",
       "      <td>0.142130</td>\n",
       "      <td>0.238032</td>\n",
       "      <td>0.137268</td>\n",
       "      <td>0.199244</td>\n",
       "      <td>0.164069</td>\n",
       "    </tr>\n",
       "    <tr>\n",
       "      <th>P1__TOTAL__Won_2nd Round</th>\n",
       "      <td>0.372162</td>\n",
       "      <td>0.363445</td>\n",
       "      <td>0.357518</td>\n",
       "      <td>0.363509</td>\n",
       "      <td>0.309385</td>\n",
       "      <td>0.245452</td>\n",
       "      <td>0.333570</td>\n",
       "      <td>0.197698</td>\n",
       "      <td>0.296792</td>\n",
       "      <td>0.258028</td>\n",
       "    </tr>\n",
       "    <tr>\n",
       "      <th>P1__TOTAL__Won_3rd Round</th>\n",
       "      <td>0.356052</td>\n",
       "      <td>0.366692</td>\n",
       "      <td>0.323112</td>\n",
       "      <td>0.368698</td>\n",
       "      <td>0.349116</td>\n",
       "      <td>0.301728</td>\n",
       "      <td>0.358613</td>\n",
       "      <td>0.228865</td>\n",
       "      <td>0.332986</td>\n",
       "      <td>0.300072</td>\n",
       "    </tr>\n",
       "    <tr>\n",
       "      <th>P1__TOTAL__Won_4th Round</th>\n",
       "      <td>0.320303</td>\n",
       "      <td>0.341304</td>\n",
       "      <td>0.278254</td>\n",
       "      <td>0.342987</td>\n",
       "      <td>0.347879</td>\n",
       "      <td>0.316534</td>\n",
       "      <td>0.347240</td>\n",
       "      <td>0.233438</td>\n",
       "      <td>0.330588</td>\n",
       "      <td>0.304656</td>\n",
       "    </tr>\n",
       "    <tr>\n",
       "      <th>P1__TOTAL__Won_Quarterfinals</th>\n",
       "      <td>0.359432</td>\n",
       "      <td>0.368120</td>\n",
       "      <td>0.328390</td>\n",
       "      <td>0.368563</td>\n",
       "      <td>0.347151</td>\n",
       "      <td>0.300057</td>\n",
       "      <td>0.358268</td>\n",
       "      <td>0.229685</td>\n",
       "      <td>0.331401</td>\n",
       "      <td>0.298274</td>\n",
       "    </tr>\n",
       "    <tr>\n",
       "      <th>P1__TOTAL__Won_Round Robin</th>\n",
       "      <td>0.279943</td>\n",
       "      <td>0.298628</td>\n",
       "      <td>0.243370</td>\n",
       "      <td>0.298487</td>\n",
       "      <td>0.304985</td>\n",
       "      <td>0.279275</td>\n",
       "      <td>0.304665</td>\n",
       "      <td>0.215644</td>\n",
       "      <td>0.289941</td>\n",
       "      <td>0.267088</td>\n",
       "    </tr>\n",
       "    <tr>\n",
       "      <th>P1__TOTAL__Won_Semifinals</th>\n",
       "      <td>0.330325</td>\n",
       "      <td>0.345996</td>\n",
       "      <td>0.294130</td>\n",
       "      <td>0.346377</td>\n",
       "      <td>0.340933</td>\n",
       "      <td>0.304284</td>\n",
       "      <td>0.345798</td>\n",
       "      <td>0.229952</td>\n",
       "      <td>0.324635</td>\n",
       "      <td>0.296181</td>\n",
       "    </tr>\n",
       "    <tr>\n",
       "      <th>P1__TOTAL__Won_The Final</th>\n",
       "      <td>0.307385</td>\n",
       "      <td>0.327104</td>\n",
       "      <td>0.268931</td>\n",
       "      <td>0.327229</td>\n",
       "      <td>0.331607</td>\n",
       "      <td>0.301879</td>\n",
       "      <td>0.332689</td>\n",
       "      <td>0.225860</td>\n",
       "      <td>0.315783</td>\n",
       "      <td>0.290013</td>\n",
       "    </tr>\n",
       "  </tbody>\n",
       "</table>\n",
       "</div>"
      ],
      "text/plain": [
       "                              P2__TOTAL__Played  P2__TOTAL__Won  \\\n",
       "P1__TOTAL__Played                      0.370264        0.357646   \n",
       "P1__TOTAL__Won                         0.373467        0.371672   \n",
       "P1__TOTAL__Won_1st Round               0.311440        0.283885   \n",
       "P1__TOTAL__Won_2nd Round               0.372162        0.363445   \n",
       "P1__TOTAL__Won_3rd Round               0.356052        0.366692   \n",
       "P1__TOTAL__Won_4th Round               0.320303        0.341304   \n",
       "P1__TOTAL__Won_Quarterfinals           0.359432        0.368120   \n",
       "P1__TOTAL__Won_Round Robin             0.279943        0.298628   \n",
       "P1__TOTAL__Won_Semifinals              0.330325        0.345996   \n",
       "P1__TOTAL__Won_The Final               0.307385        0.327104   \n",
       "\n",
       "                              P2__TOTAL__Won_1st Round  \\\n",
       "P1__TOTAL__Played                             0.357835   \n",
       "P1__TOTAL__Won                                0.351461   \n",
       "P1__TOTAL__Won_1st Round                      0.317906   \n",
       "P1__TOTAL__Won_2nd Round                      0.357518   \n",
       "P1__TOTAL__Won_3rd Round                      0.323112   \n",
       "P1__TOTAL__Won_4th Round                      0.278254   \n",
       "P1__TOTAL__Won_Quarterfinals                  0.328390   \n",
       "P1__TOTAL__Won_Round Robin                    0.243370   \n",
       "P1__TOTAL__Won_Semifinals                     0.294130   \n",
       "P1__TOTAL__Won_The Final                      0.268931   \n",
       "\n",
       "                              P2__TOTAL__Won_2nd Round  \\\n",
       "P1__TOTAL__Played                             0.355401   \n",
       "P1__TOTAL__Won                                0.370885   \n",
       "P1__TOTAL__Won_1st Round                      0.278870   \n",
       "P1__TOTAL__Won_2nd Round                      0.363509   \n",
       "P1__TOTAL__Won_3rd Round                      0.368698   \n",
       "P1__TOTAL__Won_4th Round                      0.342987   \n",
       "P1__TOTAL__Won_Quarterfinals                  0.368563   \n",
       "P1__TOTAL__Won_Round Robin                    0.298487   \n",
       "P1__TOTAL__Won_Semifinals                     0.346377   \n",
       "P1__TOTAL__Won_The Final                      0.327229   \n",
       "\n",
       "                              P2__TOTAL__Won_3rd Round  \\\n",
       "P1__TOTAL__Played                             0.299282   \n",
       "P1__TOTAL__Won                                0.331094   \n",
       "P1__TOTAL__Won_1st Round                      0.205284   \n",
       "P1__TOTAL__Won_2nd Round                      0.309385   \n",
       "P1__TOTAL__Won_3rd Round                      0.349116   \n",
       "P1__TOTAL__Won_4th Round                      0.347879   \n",
       "P1__TOTAL__Won_Quarterfinals                  0.347151   \n",
       "P1__TOTAL__Won_Round Robin                    0.304985   \n",
       "P1__TOTAL__Won_Semifinals                     0.340933   \n",
       "P1__TOTAL__Won_The Final                      0.331607   \n",
       "\n",
       "                              P2__TOTAL__Won_4th Round  \\\n",
       "P1__TOTAL__Played                             0.237424   \n",
       "P1__TOTAL__Won                                0.274522   \n",
       "P1__TOTAL__Won_1st Round                      0.142130   \n",
       "P1__TOTAL__Won_2nd Round                      0.245452   \n",
       "P1__TOTAL__Won_3rd Round                      0.301728   \n",
       "P1__TOTAL__Won_4th Round                      0.316534   \n",
       "P1__TOTAL__Won_Quarterfinals                  0.300057   \n",
       "P1__TOTAL__Won_Round Robin                    0.279275   \n",
       "P1__TOTAL__Won_Semifinals                     0.304284   \n",
       "P1__TOTAL__Won_The Final                      0.301879   \n",
       "\n",
       "                              P2__TOTAL__Won_Quarterfinals  \\\n",
       "P1__TOTAL__Played                                 0.324753   \n",
       "P1__TOTAL__Won                                    0.349836   \n",
       "P1__TOTAL__Won_1st Round                          0.238032   \n",
       "P1__TOTAL__Won_2nd Round                          0.333570   \n",
       "P1__TOTAL__Won_3rd Round                          0.358613   \n",
       "P1__TOTAL__Won_4th Round                          0.347240   \n",
       "P1__TOTAL__Won_Quarterfinals                      0.358268   \n",
       "P1__TOTAL__Won_Round Robin                        0.304665   \n",
       "P1__TOTAL__Won_Semifinals                         0.345798   \n",
       "P1__TOTAL__Won_The Final                          0.332689   \n",
       "\n",
       "                              P2__TOTAL__Won_Round Robin  \\\n",
       "P1__TOTAL__Played                               0.198447   \n",
       "P1__TOTAL__Won                                  0.218733   \n",
       "P1__TOTAL__Won_1st Round                        0.137268   \n",
       "P1__TOTAL__Won_2nd Round                        0.197698   \n",
       "P1__TOTAL__Won_3rd Round                        0.228865   \n",
       "P1__TOTAL__Won_4th Round                        0.233438   \n",
       "P1__TOTAL__Won_Quarterfinals                    0.229685   \n",
       "P1__TOTAL__Won_Round Robin                      0.215644   \n",
       "P1__TOTAL__Won_Semifinals                       0.229952   \n",
       "P1__TOTAL__Won_The Final                        0.225860   \n",
       "\n",
       "                              P2__TOTAL__Won_Semifinals  \\\n",
       "P1__TOTAL__Played                              0.287995   \n",
       "P1__TOTAL__Won                                 0.317007   \n",
       "P1__TOTAL__Won_1st Round                       0.199244   \n",
       "P1__TOTAL__Won_2nd Round                       0.296792   \n",
       "P1__TOTAL__Won_3rd Round                       0.332986   \n",
       "P1__TOTAL__Won_4th Round                       0.330588   \n",
       "P1__TOTAL__Won_Quarterfinals                   0.331401   \n",
       "P1__TOTAL__Won_Round Robin                     0.289941   \n",
       "P1__TOTAL__Won_Semifinals                      0.324635   \n",
       "P1__TOTAL__Won_The Final                       0.315783   \n",
       "\n",
       "                              P2__TOTAL__Won_The Final  \n",
       "P1__TOTAL__Played                             0.250018  \n",
       "P1__TOTAL__Won                                0.280366  \n",
       "P1__TOTAL__Won_1st Round                      0.164069  \n",
       "P1__TOTAL__Won_2nd Round                      0.258028  \n",
       "P1__TOTAL__Won_3rd Round                      0.300072  \n",
       "P1__TOTAL__Won_4th Round                      0.304656  \n",
       "P1__TOTAL__Won_Quarterfinals                  0.298274  \n",
       "P1__TOTAL__Won_Round Robin                    0.267088  \n",
       "P1__TOTAL__Won_Semifinals                     0.296181  \n",
       "P1__TOTAL__Won_The Final                      0.290013  "
      ]
     },
     "execution_count": 40,
     "metadata": {},
     "output_type": "execute_result"
    }
   ],
   "source": [
    "columns = [c for c in independant_df.columns if \"__\" in c]\n",
    "independant_df[columns + [\"Date\"]].corr().iloc[:10, 20:30]"
   ]
  },
  {
   "cell_type": "code",
   "execution_count": 41,
   "metadata": {},
   "outputs": [
    {
     "data": {
      "text/plain": [
       "<matplotlib.axes._subplots.AxesSubplot at 0x11574f9b0>"
      ]
     },
     "execution_count": 41,
     "metadata": {},
     "output_type": "execute_result"
    },
    {
     "data": {
      "image/png": "[encoded data removed]",
      "text/plain": [
       "<matplotlib.figure.Figure at 0x115bee9b0>"
      ]
     },
     "metadata": {},
     "output_type": "display_data"
    }
   ],
   "source": [
    "sns.heatmap(independant_df[columns + [\"Player1Wins\"]].corr())"
   ]
  },
  {
   "cell_type": "markdown",
   "metadata": {},
   "source": [
    "Interesting things to note here:\n",
    "* The `TOTAL__WON *` columns are quite correlated with one another (which does make sense)\n",
    "* The `1Y__WON *` columns are far less correlated with one another, I guess a way to interpret this is that, as the period time we're considering is shorter, players are less likely to be consistent at winning for the various rounds?\n",
    "\n",
    "If we look at the correlation between the players columns it's interesting to see that:\n",
    "* The `P1__TOTAL *` or `P2__TOTAL *` are more correlated than the `P1__1Y * ` `P2__1Y *` columns, meaning if we look at a shorter horizon past performance then there will be more discrepancy between the performance of players that play against each other?"
   ]
  },
  {
   "cell_type": "markdown",
   "metadata": {},
   "source": [
    "Also the target seems to be more correlated with the `Player1` columns rather than player2, is this a consequence of the fact that we picked the better ranked player as player 1? If we had randomly picked Player1 and 2, maybe it'd be more evenly correlated to the Player1 and Player2 columns\n",
    "On the other hand this correlation is between a boolean vector and vectors with many different values, so maybe the correlations between `Player1Wins` and other columns isn't that meaningful"
   ]
  },
  {
   "cell_type": "markdown",
   "metadata": {},
   "source": [
    "## 5.B Distributions"
   ]
  },
  {
   "cell_type": "code",
   "execution_count": 42,
   "metadata": {},
   "outputs": [
    {
     "data": {
      "text/plain": [
       "<matplotlib.axes._subplots.AxesSubplot at 0x1271feef0>"
      ]
     },
     "execution_count": 42,
     "metadata": {},
     "output_type": "execute_result"
    },
    {
     "data": {
      "image/png": "[encoded data removed]",
      "text/plain": [
       "<matplotlib.figure.Figure at 0x1272ca4a8>"
      ]
     },
     "metadata": {},
     "output_type": "display_data"
    }
   ],
   "source": [
    "_, axes = plt.subplots(2, 2)\n",
    "axes[0][0].set_title(\"Total 4th Round\")\n",
    "axes[1][0].set_title(\"1Y 4th Round\")\n",
    "axes[0][1].set_title(\"Total Won\")\n",
    "axes[1][1].set_title(\"1Y Won\")\n",
    "np.log10(independant_df[\"P1__TOTAL__Won_4th Round\"] * 100 + 1).hist(ax=axes[0][0])\n",
    "np.log10(independant_df[\"P1__1Y__Won_4th Round\"] * 100 + 1).hist(ax=axes[1][0])\n",
    "np.log10(independant_df[\"P1__TOTAL__Won\"] * 100 + 1).hist(ax=axes[0][1])\n",
    "np.log10(independant_df[\"P1__1Y__Won\"] * 100 + 1).hist(ax=axes[1][1])"
   ]
  },
  {
   "cell_type": "markdown",
   "metadata": {},
   "source": [
    "This is quite interesting:\n",
    "* The 4th Round matches won statistics tend to have most of their mass around 0, and tail on the right: Only a relatively small subset of players make it to the 4th Round. This is even more pronounced if we look at the 1Y exp moving average\n",
    "* The total numer of games won is slightly more normal, as everyone gets a change to win a match"
   ]
  },
  {
   "cell_type": "markdown",
   "metadata": {},
   "source": [
    "## 5.C First go at modelling"
   ]
  },
  {
   "cell_type": "code",
   "execution_count": 43,
   "metadata": {},
   "outputs": [
    {
     "data": {
      "text/plain": [
       "LogisticRegression(C=1.0, class_weight=None, dual=False, fit_intercept=True,\n",
       "          intercept_scaling=1, max_iter=100, multi_class='ovr', n_jobs=1,\n",
       "          penalty='l2', random_state=None, solver='liblinear', tol=0.0001,\n",
       "          verbose=0, warm_start=False)"
      ]
     },
     "execution_count": 43,
     "metadata": {},
     "output_type": "execute_result"
    }
   ],
   "source": [
    "lr = LogisticRegression()\n",
    "lr.fit(independant_df[columns], independant_df.Player1Wins)\n"
   ]
  },
  {
   "cell_type": "code",
   "execution_count": 44,
   "metadata": {},
   "outputs": [
    {
     "data": {
      "text/plain": [
       "0.69261678628217804"
      ]
     },
     "execution_count": 44,
     "metadata": {},
     "output_type": "execute_result"
    }
   ],
   "source": [
    "lr.score(independant_df[columns], independant_df.Player1Wins)"
   ]
  },
  {
   "cell_type": "markdown",
   "metadata": {},
   "source": [
    "**We managed to beat the baseline!!!!!**"
   ]
  }
 ],
 "metadata": {
  "kernelspec": {
   "display_name": "Python 3",
   "language": "python",
   "name": "python3"
  },
  "language_info": {
   "codemirror_mode": {
    "name": "ipython",
    "version": 3
   },
   "file_extension": ".py",
   "mimetype": "text/x-python",
   "name": "python",
   "nbconvert_exporter": "python",
   "pygments_lexer": "ipython3",
   "version": "3.6.1"
  }
 },
 "nbformat": 4,
 "nbformat_minor": 2
}
