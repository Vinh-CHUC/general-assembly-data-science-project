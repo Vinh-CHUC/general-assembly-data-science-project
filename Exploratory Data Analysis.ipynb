{
 "cells": [
  {
   "cell_type": "code",
   "execution_count": 1,
   "metadata": {
    "collapsed": true
   },
   "outputs": [],
   "source": [
    "QUICK_MODE = True  # Only model for a subset of the players (for quicker computations)"
   ]
  },
  {
   "cell_type": "markdown",
   "metadata": {
    "collapsed": true
   },
   "source": [
    "# 1/ Cleaning data (converting types and removing NAs)"
   ]
  },
  {
   "cell_type": "code",
   "execution_count": 38,
   "metadata": {
    "collapsed": true
   },
   "outputs": [],
   "source": [
    "import pandas as pd, numpy as np\n",
    "import importlib\n",
    "from tennis_predictor import clean_data\n",
    "%matplotlib inline"
   ]
  },
  {
   "cell_type": "code",
   "execution_count": 3,
   "metadata": {
    "collapsed": true
   },
   "outputs": [],
   "source": [
    "df = pd.read_csv(\"data.csv\", low_memory=False)\n",
    "COLUMNS = [\n",
    "    \"Location\", \"Tournament\", \"Date\",\n",
    "    \"Series\",\n",
    "    \"Court\", \"Surface\",\n",
    "    \"Round\", \"Best of\",\n",
    "    \"Winner\", \"Loser\", \"WRank\", \"LRank\",\n",
    "]\n",
    "GAME_STATS_COLS = [\n",
    "    \"W1\", \"L1\", \"W2\", \"L2\", \"W3\", \"L3\", \"W4\", \"L4\", \"W5\", \"L5\",\n",
    "    \"Wsets\", \"Lsets\"\n",
    "]\n",
    "df = df[COLUMNS + GAME_STATS_COLS]"
   ]
  },
  {
   "cell_type": "code",
   "execution_count": 4,
   "metadata": {},
   "outputs": [
    {
     "data": {
      "text/plain": [
       "Location                 Memphis\n",
       "Tournament       Kroger St. Jude\n",
       "Date                  14/02/2000\n",
       "Series        International Gold\n",
       "Court                     Indoor\n",
       "Surface                     Hard\n",
       "Round                  1st Round\n",
       "Best of                        3\n",
       "Winner                 Mamiit C.\n",
       "Loser                  Jensen L.\n",
       "WRank                        135\n",
       "LRank                         NR\n",
       "W1                             7\n",
       "L1                             5\n",
       "W2                             6\n",
       "L2                             2\n",
       "W3                           NaN\n",
       "L3                           NaN\n",
       "W4                           NaN\n",
       "L4                           NaN\n",
       "W5                           NaN\n",
       "L5                           NaN\n",
       "Wsets                          2\n",
       "Lsets                          0\n",
       "Name: 377, dtype: object"
      ]
     },
     "execution_count": 4,
     "metadata": {},
     "output_type": "execute_result"
    }
   ],
   "source": [
    "df.iloc[377]"
   ]
  },
  {
   "cell_type": "code",
   "execution_count": 5,
   "metadata": {},
   "outputs": [
    {
     "name": "stdout",
     "output_type": "stream",
     "text": [
      "Location       0\n",
      "Tournament     0\n",
      "Date           0\n",
      "Series         0\n",
      "Court          0\n",
      "Surface        0\n",
      "Round          0\n",
      "Best of        0\n",
      "Winner         0\n",
      "Loser          0\n",
      "WRank         16\n",
      "LRank         98\n",
      "dtype: int64\n"
     ]
    }
   ],
   "source": [
    "data = clean_data.convert_to_numeric(df, [\"WRank\", \"LRank\"])\n",
    "data = data.assign(\n",
    "    Date=pd.to_datetime(data.Date, format=\"%d/%m/%Y\")\n",
    ")\n",
    "data = clean_data.drop_nas(data, COLUMNS)"
   ]
  },
  {
   "cell_type": "code",
   "execution_count": 6,
   "metadata": {},
   "outputs": [
    {
     "data": {
      "text/html": [
       "<div>\n",
       "<table border=\"1\" class=\"dataframe\">\n",
       "  <thead>\n",
       "    <tr style=\"text-align: right;\">\n",
       "      <th></th>\n",
       "      <th>Location</th>\n",
       "      <th>Tournament</th>\n",
       "      <th>Date</th>\n",
       "      <th>Series</th>\n",
       "      <th>Court</th>\n",
       "      <th>Surface</th>\n",
       "      <th>Round</th>\n",
       "      <th>Best of</th>\n",
       "      <th>Winner</th>\n",
       "      <th>Loser</th>\n",
       "      <th>WRank</th>\n",
       "      <th>LRank</th>\n",
       "      <th>W1</th>\n",
       "      <th>L1</th>\n",
       "      <th>W2</th>\n",
       "      <th>L2</th>\n",
       "      <th>W3</th>\n",
       "      <th>L3</th>\n",
       "      <th>W4</th>\n",
       "      <th>L4</th>\n",
       "    </tr>\n",
       "  </thead>\n",
       "  <tbody>\n",
       "    <tr>\n",
       "      <th>0</th>\n",
       "      <td>Adelaide</td>\n",
       "      <td>Australian Hardcourt Championships</td>\n",
       "      <td>2000-01-03</td>\n",
       "      <td>International</td>\n",
       "      <td>Outdoor</td>\n",
       "      <td>Hard</td>\n",
       "      <td>1st Round</td>\n",
       "      <td>3</td>\n",
       "      <td>Dosedel S.</td>\n",
       "      <td>Ljubicic I.</td>\n",
       "      <td>63.0</td>\n",
       "      <td>77.0</td>\n",
       "      <td>6.0</td>\n",
       "      <td>4.0</td>\n",
       "      <td>6.0</td>\n",
       "      <td>2.0</td>\n",
       "      <td>NaN</td>\n",
       "      <td>NaN</td>\n",
       "      <td>NaN</td>\n",
       "      <td>NaN</td>\n",
       "    </tr>\n",
       "    <tr>\n",
       "      <th>1</th>\n",
       "      <td>Adelaide</td>\n",
       "      <td>Australian Hardcourt Championships</td>\n",
       "      <td>2000-01-03</td>\n",
       "      <td>International</td>\n",
       "      <td>Outdoor</td>\n",
       "      <td>Hard</td>\n",
       "      <td>1st Round</td>\n",
       "      <td>3</td>\n",
       "      <td>Enqvist T.</td>\n",
       "      <td>Clement A.</td>\n",
       "      <td>5.0</td>\n",
       "      <td>56.0</td>\n",
       "      <td>6.0</td>\n",
       "      <td>3.0</td>\n",
       "      <td>6.0</td>\n",
       "      <td>3.0</td>\n",
       "      <td>NaN</td>\n",
       "      <td>NaN</td>\n",
       "      <td>NaN</td>\n",
       "      <td>NaN</td>\n",
       "    </tr>\n",
       "    <tr>\n",
       "      <th>2</th>\n",
       "      <td>Adelaide</td>\n",
       "      <td>Australian Hardcourt Championships</td>\n",
       "      <td>2000-01-03</td>\n",
       "      <td>International</td>\n",
       "      <td>Outdoor</td>\n",
       "      <td>Hard</td>\n",
       "      <td>1st Round</td>\n",
       "      <td>3</td>\n",
       "      <td>Escude N.</td>\n",
       "      <td>Baccanello P.</td>\n",
       "      <td>40.0</td>\n",
       "      <td>655.0</td>\n",
       "      <td>6.0</td>\n",
       "      <td>7.0</td>\n",
       "      <td>7.0</td>\n",
       "      <td>5.0</td>\n",
       "      <td>6.0</td>\n",
       "      <td>3.0</td>\n",
       "      <td>NaN</td>\n",
       "      <td>NaN</td>\n",
       "    </tr>\n",
       "    <tr>\n",
       "      <th>3</th>\n",
       "      <td>Adelaide</td>\n",
       "      <td>Australian Hardcourt Championships</td>\n",
       "      <td>2000-01-03</td>\n",
       "      <td>International</td>\n",
       "      <td>Outdoor</td>\n",
       "      <td>Hard</td>\n",
       "      <td>1st Round</td>\n",
       "      <td>3</td>\n",
       "      <td>Federer R.</td>\n",
       "      <td>Knippschild J.</td>\n",
       "      <td>65.0</td>\n",
       "      <td>87.0</td>\n",
       "      <td>6.0</td>\n",
       "      <td>1.0</td>\n",
       "      <td>6.0</td>\n",
       "      <td>4.0</td>\n",
       "      <td>NaN</td>\n",
       "      <td>NaN</td>\n",
       "      <td>NaN</td>\n",
       "      <td>NaN</td>\n",
       "    </tr>\n",
       "    <tr>\n",
       "      <th>4</th>\n",
       "      <td>Adelaide</td>\n",
       "      <td>Australian Hardcourt Championships</td>\n",
       "      <td>2000-01-03</td>\n",
       "      <td>International</td>\n",
       "      <td>Outdoor</td>\n",
       "      <td>Hard</td>\n",
       "      <td>1st Round</td>\n",
       "      <td>3</td>\n",
       "      <td>Fromberg R.</td>\n",
       "      <td>Woodbridge T.</td>\n",
       "      <td>81.0</td>\n",
       "      <td>198.0</td>\n",
       "      <td>7.0</td>\n",
       "      <td>6.0</td>\n",
       "      <td>5.0</td>\n",
       "      <td>7.0</td>\n",
       "      <td>6.0</td>\n",
       "      <td>4.0</td>\n",
       "      <td>NaN</td>\n",
       "      <td>NaN</td>\n",
       "    </tr>\n",
       "  </tbody>\n",
       "</table>\n",
       "</div>"
      ],
      "text/plain": [
       "   Location                          Tournament       Date         Series  \\\n",
       "0  Adelaide  Australian Hardcourt Championships 2000-01-03  International   \n",
       "1  Adelaide  Australian Hardcourt Championships 2000-01-03  International   \n",
       "2  Adelaide  Australian Hardcourt Championships 2000-01-03  International   \n",
       "3  Adelaide  Australian Hardcourt Championships 2000-01-03  International   \n",
       "4  Adelaide  Australian Hardcourt Championships 2000-01-03  International   \n",
       "\n",
       "     Court Surface      Round  Best of       Winner           Loser  WRank  \\\n",
       "0  Outdoor    Hard  1st Round        3   Dosedel S.     Ljubicic I.   63.0   \n",
       "1  Outdoor    Hard  1st Round        3   Enqvist T.      Clement A.    5.0   \n",
       "2  Outdoor    Hard  1st Round        3    Escude N.   Baccanello P.   40.0   \n",
       "3  Outdoor    Hard  1st Round        3   Federer R.  Knippschild J.   65.0   \n",
       "4  Outdoor    Hard  1st Round        3  Fromberg R.   Woodbridge T.   81.0   \n",
       "\n",
       "   LRank   W1   L1   W2   L2   W3   L3  W4  L4  \n",
       "0   77.0  6.0  4.0  6.0  2.0  NaN  NaN NaN NaN  \n",
       "1   56.0  6.0  3.0  6.0  3.0  NaN  NaN NaN NaN  \n",
       "2  655.0  6.0  7.0  7.0  5.0  6.0  3.0 NaN NaN  \n",
       "3   87.0  6.0  1.0  6.0  4.0  NaN  NaN NaN NaN  \n",
       "4  198.0  7.0  6.0  5.0  7.0  6.0  4.0 NaN NaN  "
      ]
     },
     "execution_count": 6,
     "metadata": {},
     "output_type": "execute_result"
    }
   ],
   "source": [
    "data.iloc[:,:20].head()"
   ]
  },
  {
   "cell_type": "code",
   "execution_count": 7,
   "metadata": {},
   "outputs": [
    {
     "data": {
      "text/html": [
       "<div>\n",
       "<table border=\"1\" class=\"dataframe\">\n",
       "  <thead>\n",
       "    <tr style=\"text-align: right;\">\n",
       "      <th></th>\n",
       "      <th>W5</th>\n",
       "      <th>L5</th>\n",
       "      <th>Wsets</th>\n",
       "      <th>Lsets</th>\n",
       "    </tr>\n",
       "  </thead>\n",
       "  <tbody>\n",
       "    <tr>\n",
       "      <th>0</th>\n",
       "      <td>NaN</td>\n",
       "      <td>NaN</td>\n",
       "      <td>2.0</td>\n",
       "      <td>0.0</td>\n",
       "    </tr>\n",
       "    <tr>\n",
       "      <th>1</th>\n",
       "      <td>NaN</td>\n",
       "      <td>NaN</td>\n",
       "      <td>2.0</td>\n",
       "      <td>0.0</td>\n",
       "    </tr>\n",
       "    <tr>\n",
       "      <th>2</th>\n",
       "      <td>NaN</td>\n",
       "      <td>NaN</td>\n",
       "      <td>2.0</td>\n",
       "      <td>1.0</td>\n",
       "    </tr>\n",
       "    <tr>\n",
       "      <th>3</th>\n",
       "      <td>NaN</td>\n",
       "      <td>NaN</td>\n",
       "      <td>2.0</td>\n",
       "      <td>0.0</td>\n",
       "    </tr>\n",
       "    <tr>\n",
       "      <th>4</th>\n",
       "      <td>NaN</td>\n",
       "      <td>NaN</td>\n",
       "      <td>2.0</td>\n",
       "      <td>1.0</td>\n",
       "    </tr>\n",
       "  </tbody>\n",
       "</table>\n",
       "</div>"
      ],
      "text/plain": [
       "   W5  L5  Wsets  Lsets\n",
       "0 NaN NaN    2.0    0.0\n",
       "1 NaN NaN    2.0    0.0\n",
       "2 NaN NaN    2.0    1.0\n",
       "3 NaN NaN    2.0    0.0\n",
       "4 NaN NaN    2.0    1.0"
      ]
     },
     "execution_count": 7,
     "metadata": {},
     "output_type": "execute_result"
    }
   ],
   "source": [
    "data.iloc[:,20:].head()"
   ]
  },
  {
   "cell_type": "code",
   "execution_count": 8,
   "metadata": {},
   "outputs": [
    {
     "data": {
      "text/plain": [
       "1st Round        21584\n",
       "2nd Round        12819\n",
       "Quarterfinals     4382\n",
       "3rd Round         3320\n",
       "Semifinals        2225\n",
       "The Final         1111\n",
       "4th Round          784\n",
       "Round Robin        312\n",
       "0th Round            1\n",
       "Name: Round, dtype: int64"
      ]
     },
     "execution_count": 8,
     "metadata": {},
     "output_type": "execute_result"
    }
   ],
   "source": [
    "data.Round.value_counts()"
   ]
  },
  {
   "cell_type": "code",
   "execution_count": 9,
   "metadata": {},
   "outputs": [
    {
     "data": {
      "text/plain": [
       "(Location              object\n",
       " Tournament            object\n",
       " Date          datetime64[ns]\n",
       " Series                object\n",
       " Court                 object\n",
       " Surface               object\n",
       " Round                 object\n",
       " Best of                int64\n",
       " Winner                object\n",
       " Loser                 object\n",
       " WRank                float64\n",
       " LRank                float64\n",
       " W1                   float64\n",
       " L1                   float64\n",
       " W2                   float64\n",
       " L2                   float64\n",
       " W3                   float64\n",
       " L3                   float64\n",
       " W4                   float64\n",
       " L4                   float64\n",
       " W5                   float64\n",
       " L5                   float64\n",
       " Wsets                float64\n",
       " Lsets                float64\n",
       " dtype: object, (46538, 24))"
      ]
     },
     "execution_count": 9,
     "metadata": {},
     "output_type": "execute_result"
    }
   ],
   "source": [
    "data.dtypes, data.shape"
   ]
  },
  {
   "cell_type": "code",
   "execution_count": 10,
   "metadata": {},
   "outputs": [
    {
     "data": {
      "text/plain": [
       "1st Round        21584\n",
       "2nd Round        12819\n",
       "Quarterfinals     4382\n",
       "3rd Round         3320\n",
       "Semifinals        2225\n",
       "The Final         1111\n",
       "4th Round          784\n",
       "Round Robin        312\n",
       "0th Round            1\n",
       "Name: Round, dtype: int64"
      ]
     },
     "execution_count": 10,
     "metadata": {},
     "output_type": "execute_result"
    }
   ],
   "source": [
    "data.Round.value_counts()"
   ]
  },
  {
   "cell_type": "markdown",
   "metadata": {},
   "source": [
    "# 2/ Labelling players 1 and 2 (input: data Dataframe)"
   ]
  },
  {
   "cell_type": "markdown",
   "metadata": {},
   "source": [
    "* The player specific columns are basically grouped into two groups: the various columns about the Winner and the various columns about the Loser\n",
    "* We need to somehow pick, for each match a \"Player1\" and a \"Player2\", otherwise, otherwise all the observations would all belong to a single class! (ie the Winner always wins of course :P )"
   ]
  },
  {
   "cell_type": "markdown",
   "metadata": {},
   "source": [
    "## Does the better ranked player always win?"
   ]
  },
  {
   "cell_type": "code",
   "execution_count": 11,
   "metadata": {},
   "outputs": [
    {
     "data": {
      "text/plain": [
       "0.6568395719626972"
      ]
     },
     "execution_count": 11,
     "metadata": {},
     "output_type": "execute_result"
    }
   ],
   "source": [
    "matches_where_better_wins = data[data.WRank < data.LRank].shape[0]\n",
    "matches_where_better_wins / data.shape[0]"
   ]
  },
  {
   "cell_type": "markdown",
   "metadata": {},
   "source": [
    "## They do about 65% of the time !!"
   ]
  },
  {
   "cell_type": "markdown",
   "metadata": {},
   "source": [
    "#### So if we pick the better player as \"Player1\", we know that Player1 only wins 65% of the time. If we try to predict whether Player1 wins, we have 65% of \"True\" and \"35%\" of \"False\""
   ]
  },
  {
   "cell_type": "code",
   "execution_count": 12,
   "metadata": {},
   "outputs": [
    {
     "name": "stdout",
     "output_type": "stream",
     "text": [
      "(46538, 16)\n"
     ]
    },
    {
     "data": {
      "text/html": [
       "<div>\n",
       "<table border=\"1\" class=\"dataframe\">\n",
       "  <thead>\n",
       "    <tr style=\"text-align: right;\">\n",
       "      <th></th>\n",
       "      <th>P1_Name</th>\n",
       "      <th>P1_Rank</th>\n",
       "      <th>P1_1</th>\n",
       "      <th>P1_2</th>\n",
       "      <th>P1_3</th>\n",
       "      <th>P1_4</th>\n",
       "      <th>P1_5</th>\n",
       "      <th>P1_Sets</th>\n",
       "      <th>P2_Name</th>\n",
       "      <th>P2_Rank</th>\n",
       "      <th>P2_1</th>\n",
       "      <th>P2_2</th>\n",
       "      <th>P2_3</th>\n",
       "      <th>P2_4</th>\n",
       "      <th>P2_5</th>\n",
       "      <th>P2_Sets</th>\n",
       "    </tr>\n",
       "  </thead>\n",
       "  <tbody>\n",
       "    <tr>\n",
       "      <th>0</th>\n",
       "      <td>Dosedel S.</td>\n",
       "      <td>63.0</td>\n",
       "      <td>6.0</td>\n",
       "      <td>6.0</td>\n",
       "      <td>NaN</td>\n",
       "      <td>NaN</td>\n",
       "      <td>NaN</td>\n",
       "      <td>2.0</td>\n",
       "      <td>Ljubicic I.</td>\n",
       "      <td>77.0</td>\n",
       "      <td>4.0</td>\n",
       "      <td>2.0</td>\n",
       "      <td>NaN</td>\n",
       "      <td>NaN</td>\n",
       "      <td>NaN</td>\n",
       "      <td>0.0</td>\n",
       "    </tr>\n",
       "    <tr>\n",
       "      <th>1</th>\n",
       "      <td>Enqvist T.</td>\n",
       "      <td>5.0</td>\n",
       "      <td>6.0</td>\n",
       "      <td>6.0</td>\n",
       "      <td>NaN</td>\n",
       "      <td>NaN</td>\n",
       "      <td>NaN</td>\n",
       "      <td>2.0</td>\n",
       "      <td>Clement A.</td>\n",
       "      <td>56.0</td>\n",
       "      <td>3.0</td>\n",
       "      <td>3.0</td>\n",
       "      <td>NaN</td>\n",
       "      <td>NaN</td>\n",
       "      <td>NaN</td>\n",
       "      <td>0.0</td>\n",
       "    </tr>\n",
       "    <tr>\n",
       "      <th>2</th>\n",
       "      <td>Escude N.</td>\n",
       "      <td>40.0</td>\n",
       "      <td>6.0</td>\n",
       "      <td>7.0</td>\n",
       "      <td>6.0</td>\n",
       "      <td>NaN</td>\n",
       "      <td>NaN</td>\n",
       "      <td>2.0</td>\n",
       "      <td>Baccanello P.</td>\n",
       "      <td>655.0</td>\n",
       "      <td>7.0</td>\n",
       "      <td>5.0</td>\n",
       "      <td>3.0</td>\n",
       "      <td>NaN</td>\n",
       "      <td>NaN</td>\n",
       "      <td>1.0</td>\n",
       "    </tr>\n",
       "    <tr>\n",
       "      <th>3</th>\n",
       "      <td>Federer R.</td>\n",
       "      <td>65.0</td>\n",
       "      <td>6.0</td>\n",
       "      <td>6.0</td>\n",
       "      <td>NaN</td>\n",
       "      <td>NaN</td>\n",
       "      <td>NaN</td>\n",
       "      <td>2.0</td>\n",
       "      <td>Knippschild J.</td>\n",
       "      <td>87.0</td>\n",
       "      <td>1.0</td>\n",
       "      <td>4.0</td>\n",
       "      <td>NaN</td>\n",
       "      <td>NaN</td>\n",
       "      <td>NaN</td>\n",
       "      <td>0.0</td>\n",
       "    </tr>\n",
       "    <tr>\n",
       "      <th>4</th>\n",
       "      <td>Fromberg R.</td>\n",
       "      <td>81.0</td>\n",
       "      <td>7.0</td>\n",
       "      <td>5.0</td>\n",
       "      <td>6.0</td>\n",
       "      <td>NaN</td>\n",
       "      <td>NaN</td>\n",
       "      <td>2.0</td>\n",
       "      <td>Woodbridge T.</td>\n",
       "      <td>198.0</td>\n",
       "      <td>6.0</td>\n",
       "      <td>7.0</td>\n",
       "      <td>4.0</td>\n",
       "      <td>NaN</td>\n",
       "      <td>NaN</td>\n",
       "      <td>1.0</td>\n",
       "    </tr>\n",
       "  </tbody>\n",
       "</table>\n",
       "</div>"
      ],
      "text/plain": [
       "       P1_Name  P1_Rank  P1_1  P1_2  P1_3  P1_4  P1_5  P1_Sets  \\\n",
       "0   Dosedel S.     63.0   6.0   6.0   NaN   NaN   NaN      2.0   \n",
       "1   Enqvist T.      5.0   6.0   6.0   NaN   NaN   NaN      2.0   \n",
       "2    Escude N.     40.0   6.0   7.0   6.0   NaN   NaN      2.0   \n",
       "3   Federer R.     65.0   6.0   6.0   NaN   NaN   NaN      2.0   \n",
       "4  Fromberg R.     81.0   7.0   5.0   6.0   NaN   NaN      2.0   \n",
       "\n",
       "          P2_Name  P2_Rank  P2_1  P2_2  P2_3  P2_4  P2_5  P2_Sets  \n",
       "0     Ljubicic I.     77.0   4.0   2.0   NaN   NaN   NaN      0.0  \n",
       "1      Clement A.     56.0   3.0   3.0   NaN   NaN   NaN      0.0  \n",
       "2   Baccanello P.    655.0   7.0   5.0   3.0   NaN   NaN      1.0  \n",
       "3  Knippschild J.     87.0   1.0   4.0   NaN   NaN   NaN      0.0  \n",
       "4   Woodbridge T.    198.0   6.0   7.0   4.0   NaN   NaN      1.0  "
      ]
     },
     "execution_count": 12,
     "metadata": {},
     "output_type": "execute_result"
    }
   ],
   "source": [
    "from tennis_predictor import transform_data\n",
    "P1_P2 = transform_data.number_players(data, lambda x: x.WRank < x.LRank)\n",
    "print(P1_P2.shape)\n",
    "P1_P2.head()"
   ]
  },
  {
   "cell_type": "markdown",
   "metadata": {},
   "source": [
    "#### Let's now concatenate those new columns with the other columns that we care about (the first 8 columns in data, we don't the other Winner/Loser columns as we just copied/renamed them)"
   ]
  },
  {
   "cell_type": "code",
   "execution_count": 13,
   "metadata": {},
   "outputs": [
    {
     "name": "stdout",
     "output_type": "stream",
     "text": [
      "(46538, 26)\n"
     ]
    },
    {
     "data": {
      "text/html": [
       "<div>\n",
       "<table border=\"1\" class=\"dataframe\">\n",
       "  <thead>\n",
       "    <tr style=\"text-align: right;\">\n",
       "      <th></th>\n",
       "      <th>Location</th>\n",
       "      <th>Tournament</th>\n",
       "      <th>Date</th>\n",
       "      <th>Series</th>\n",
       "      <th>Court</th>\n",
       "      <th>Surface</th>\n",
       "      <th>Round</th>\n",
       "      <th>Best of</th>\n",
       "      <th>Winner</th>\n",
       "      <th>Loser</th>\n",
       "      <th>...</th>\n",
       "      <th>P1_5</th>\n",
       "      <th>P1_Sets</th>\n",
       "      <th>P2_Name</th>\n",
       "      <th>P2_Rank</th>\n",
       "      <th>P2_1</th>\n",
       "      <th>P2_2</th>\n",
       "      <th>P2_3</th>\n",
       "      <th>P2_4</th>\n",
       "      <th>P2_5</th>\n",
       "      <th>P2_Sets</th>\n",
       "    </tr>\n",
       "  </thead>\n",
       "  <tbody>\n",
       "    <tr>\n",
       "      <th>0</th>\n",
       "      <td>Adelaide</td>\n",
       "      <td>Australian Hardcourt Championships</td>\n",
       "      <td>2000-01-03</td>\n",
       "      <td>International</td>\n",
       "      <td>Outdoor</td>\n",
       "      <td>Hard</td>\n",
       "      <td>1st Round</td>\n",
       "      <td>3</td>\n",
       "      <td>Dosedel S.</td>\n",
       "      <td>Ljubicic I.</td>\n",
       "      <td>...</td>\n",
       "      <td>NaN</td>\n",
       "      <td>2.0</td>\n",
       "      <td>Ljubicic I.</td>\n",
       "      <td>77.0</td>\n",
       "      <td>4.0</td>\n",
       "      <td>2.0</td>\n",
       "      <td>NaN</td>\n",
       "      <td>NaN</td>\n",
       "      <td>NaN</td>\n",
       "      <td>0.0</td>\n",
       "    </tr>\n",
       "    <tr>\n",
       "      <th>1</th>\n",
       "      <td>Adelaide</td>\n",
       "      <td>Australian Hardcourt Championships</td>\n",
       "      <td>2000-01-03</td>\n",
       "      <td>International</td>\n",
       "      <td>Outdoor</td>\n",
       "      <td>Hard</td>\n",
       "      <td>1st Round</td>\n",
       "      <td>3</td>\n",
       "      <td>Enqvist T.</td>\n",
       "      <td>Clement A.</td>\n",
       "      <td>...</td>\n",
       "      <td>NaN</td>\n",
       "      <td>2.0</td>\n",
       "      <td>Clement A.</td>\n",
       "      <td>56.0</td>\n",
       "      <td>3.0</td>\n",
       "      <td>3.0</td>\n",
       "      <td>NaN</td>\n",
       "      <td>NaN</td>\n",
       "      <td>NaN</td>\n",
       "      <td>0.0</td>\n",
       "    </tr>\n",
       "    <tr>\n",
       "      <th>2</th>\n",
       "      <td>Adelaide</td>\n",
       "      <td>Australian Hardcourt Championships</td>\n",
       "      <td>2000-01-03</td>\n",
       "      <td>International</td>\n",
       "      <td>Outdoor</td>\n",
       "      <td>Hard</td>\n",
       "      <td>1st Round</td>\n",
       "      <td>3</td>\n",
       "      <td>Escude N.</td>\n",
       "      <td>Baccanello P.</td>\n",
       "      <td>...</td>\n",
       "      <td>NaN</td>\n",
       "      <td>2.0</td>\n",
       "      <td>Baccanello P.</td>\n",
       "      <td>655.0</td>\n",
       "      <td>7.0</td>\n",
       "      <td>5.0</td>\n",
       "      <td>3.0</td>\n",
       "      <td>NaN</td>\n",
       "      <td>NaN</td>\n",
       "      <td>1.0</td>\n",
       "    </tr>\n",
       "    <tr>\n",
       "      <th>3</th>\n",
       "      <td>Adelaide</td>\n",
       "      <td>Australian Hardcourt Championships</td>\n",
       "      <td>2000-01-03</td>\n",
       "      <td>International</td>\n",
       "      <td>Outdoor</td>\n",
       "      <td>Hard</td>\n",
       "      <td>1st Round</td>\n",
       "      <td>3</td>\n",
       "      <td>Federer R.</td>\n",
       "      <td>Knippschild J.</td>\n",
       "      <td>...</td>\n",
       "      <td>NaN</td>\n",
       "      <td>2.0</td>\n",
       "      <td>Knippschild J.</td>\n",
       "      <td>87.0</td>\n",
       "      <td>1.0</td>\n",
       "      <td>4.0</td>\n",
       "      <td>NaN</td>\n",
       "      <td>NaN</td>\n",
       "      <td>NaN</td>\n",
       "      <td>0.0</td>\n",
       "    </tr>\n",
       "    <tr>\n",
       "      <th>4</th>\n",
       "      <td>Adelaide</td>\n",
       "      <td>Australian Hardcourt Championships</td>\n",
       "      <td>2000-01-03</td>\n",
       "      <td>International</td>\n",
       "      <td>Outdoor</td>\n",
       "      <td>Hard</td>\n",
       "      <td>1st Round</td>\n",
       "      <td>3</td>\n",
       "      <td>Fromberg R.</td>\n",
       "      <td>Woodbridge T.</td>\n",
       "      <td>...</td>\n",
       "      <td>NaN</td>\n",
       "      <td>2.0</td>\n",
       "      <td>Woodbridge T.</td>\n",
       "      <td>198.0</td>\n",
       "      <td>6.0</td>\n",
       "      <td>7.0</td>\n",
       "      <td>4.0</td>\n",
       "      <td>NaN</td>\n",
       "      <td>NaN</td>\n",
       "      <td>1.0</td>\n",
       "    </tr>\n",
       "  </tbody>\n",
       "</table>\n",
       "<p>5 rows × 26 columns</p>\n",
       "</div>"
      ],
      "text/plain": [
       "   Location                          Tournament       Date         Series  \\\n",
       "0  Adelaide  Australian Hardcourt Championships 2000-01-03  International   \n",
       "1  Adelaide  Australian Hardcourt Championships 2000-01-03  International   \n",
       "2  Adelaide  Australian Hardcourt Championships 2000-01-03  International   \n",
       "3  Adelaide  Australian Hardcourt Championships 2000-01-03  International   \n",
       "4  Adelaide  Australian Hardcourt Championships 2000-01-03  International   \n",
       "\n",
       "     Court Surface      Round  Best of       Winner           Loser   ...     \\\n",
       "0  Outdoor    Hard  1st Round        3   Dosedel S.     Ljubicic I.   ...      \n",
       "1  Outdoor    Hard  1st Round        3   Enqvist T.      Clement A.   ...      \n",
       "2  Outdoor    Hard  1st Round        3    Escude N.   Baccanello P.   ...      \n",
       "3  Outdoor    Hard  1st Round        3   Federer R.  Knippschild J.   ...      \n",
       "4  Outdoor    Hard  1st Round        3  Fromberg R.   Woodbridge T.   ...      \n",
       "\n",
       "  P1_5  P1_Sets         P2_Name  P2_Rank  P2_1  P2_2  P2_3  P2_4 P2_5  P2_Sets  \n",
       "0  NaN      2.0     Ljubicic I.     77.0   4.0   2.0   NaN   NaN  NaN      0.0  \n",
       "1  NaN      2.0      Clement A.     56.0   3.0   3.0   NaN   NaN  NaN      0.0  \n",
       "2  NaN      2.0   Baccanello P.    655.0   7.0   5.0   3.0   NaN  NaN      1.0  \n",
       "3  NaN      2.0  Knippschild J.     87.0   1.0   4.0   NaN   NaN  NaN      0.0  \n",
       "4  NaN      2.0   Woodbridge T.    198.0   6.0   7.0   4.0   NaN  NaN      1.0  \n",
       "\n",
       "[5 rows x 26 columns]"
      ]
     },
     "execution_count": 13,
     "metadata": {},
     "output_type": "execute_result"
    }
   ],
   "source": [
    "data_with_P1_P2 = data.iloc[:,:10].join(P1_P2, how=\"inner\")\n",
    "print(data_with_P1_P2.shape)\n",
    "data_with_P1_P2.head()"
   ]
  },
  {
   "cell_type": "markdown",
   "metadata": {},
   "source": [
    "####  Let's add the target"
   ]
  },
  {
   "cell_type": "code",
   "execution_count": 14,
   "metadata": {
    "collapsed": true
   },
   "outputs": [],
   "source": [
    "data_with_P1_P2 = data_with_P1_P2.assign(\n",
    "    Player1Wins=lambda x: x.P1_Name ==  x.Winner\n",
    ")"
   ]
  },
  {
   "cell_type": "code",
   "execution_count": 15,
   "metadata": {},
   "outputs": [
    {
     "name": "stdout",
     "output_type": "stream",
     "text": [
      "Index(['Location', 'Tournament', 'Date', 'Series', 'Court', 'Surface', 'Round',\n",
      "       'Best of', 'P1_Name', 'P1_Rank', 'P1_1', 'P1_2', 'P1_3', 'P1_4', 'P1_5',\n",
      "       'P1_Sets', 'P2_Name', 'P2_Rank', 'P2_1', 'P2_2', 'P2_3', 'P2_4', 'P2_5',\n",
      "       'P2_Sets', 'Player1Wins'],\n",
      "      dtype='object')\n"
     ]
    },
    {
     "data": {
      "text/plain": [
       "0.65683957196269716"
      ]
     },
     "execution_count": 15,
     "metadata": {},
     "output_type": "execute_result"
    }
   ],
   "source": [
    "if {\"Winner\", \"Loser\"}.intersection(data_with_P1_P2.columns):  # So that we can rerun this cell :)\n",
    "    data_with_P1_P2 = data_with_P1_P2.drop([\"Winner\", \"Loser\"], axis=1)\n",
    "print(data_with_P1_P2.columns)\n",
    "data_with_P1_P2.Player1Wins.mean()"
   ]
  },
  {
   "cell_type": "markdown",
   "metadata": {},
   "source": [
    "# 3/ Basic EDA (input: data_with_P1_P2)"
   ]
  },
  {
   "cell_type": "markdown",
   "metadata": {},
   "source": [
    "At this point I haven't decided which features exactly I'm going to use:\n",
    "* derived features (that would represent the players history up to the day of the match we'd try to predict), **excluding the ranks**\n",
    "* the player's ranks augmented with the features above"
   ]
  },
  {
   "cell_type": "raw",
   "metadata": {},
   "source": [
    "In a first step, we can try to predict the winner using only features we already have at this point"
   ]
  },
  {
   "cell_type": "code",
   "execution_count": 16,
   "metadata": {},
   "outputs": [
    {
     "data": {
      "text/html": [
       "<div>\n",
       "<table border=\"1\" class=\"dataframe\">\n",
       "  <thead>\n",
       "    <tr style=\"text-align: right;\">\n",
       "      <th></th>\n",
       "      <th>Player1Wins</th>\n",
       "      <th>P1_Rank</th>\n",
       "      <th>P2_Rank</th>\n",
       "      <th>RankDiff</th>\n",
       "      <th>Best of</th>\n",
       "    </tr>\n",
       "  </thead>\n",
       "  <tbody>\n",
       "    <tr>\n",
       "      <th>Player1Wins</th>\n",
       "      <td>1.000000</td>\n",
       "      <td>-0.120933</td>\n",
       "      <td>0.052750</td>\n",
       "      <td>0.088316</td>\n",
       "      <td>0.063309</td>\n",
       "    </tr>\n",
       "    <tr>\n",
       "      <th>P1_Rank</th>\n",
       "      <td>-0.120933</td>\n",
       "      <td>1.000000</td>\n",
       "      <td>0.356869</td>\n",
       "      <td>0.113219</td>\n",
       "      <td>-0.091759</td>\n",
       "    </tr>\n",
       "    <tr>\n",
       "      <th>P2_Rank</th>\n",
       "      <td>0.052750</td>\n",
       "      <td>0.356869</td>\n",
       "      <td>1.000000</td>\n",
       "      <td>0.968552</td>\n",
       "      <td>-0.027539</td>\n",
       "    </tr>\n",
       "    <tr>\n",
       "      <th>RankDiff</th>\n",
       "      <td>0.088316</td>\n",
       "      <td>0.113219</td>\n",
       "      <td>0.968552</td>\n",
       "      <td>1.000000</td>\n",
       "      <td>-0.004851</td>\n",
       "    </tr>\n",
       "    <tr>\n",
       "      <th>Best of</th>\n",
       "      <td>0.063309</td>\n",
       "      <td>-0.091759</td>\n",
       "      <td>-0.027539</td>\n",
       "      <td>-0.004851</td>\n",
       "      <td>1.000000</td>\n",
       "    </tr>\n",
       "  </tbody>\n",
       "</table>\n",
       "</div>"
      ],
      "text/plain": [
       "             Player1Wins   P1_Rank   P2_Rank  RankDiff   Best of\n",
       "Player1Wins     1.000000 -0.120933  0.052750  0.088316  0.063309\n",
       "P1_Rank        -0.120933  1.000000  0.356869  0.113219 -0.091759\n",
       "P2_Rank         0.052750  0.356869  1.000000  0.968552 -0.027539\n",
       "RankDiff        0.088316  0.113219  0.968552  1.000000 -0.004851\n",
       "Best of         0.063309 -0.091759 -0.027539 -0.004851  1.000000"
      ]
     },
     "execution_count": 16,
     "metadata": {},
     "output_type": "execute_result"
    }
   ],
   "source": [
    "eda_df = data_with_P1_P2.assign(RankDiff= lambda x: x.P2_Rank - x.P1_Rank)\n",
    "corr_cols = [\n",
    "    \"Player1Wins\", \"P1_Rank\", \"P2_Rank\", \"RankDiff\", \"Best of\"\n",
    "]\n",
    "eda_df[corr_cols].corr()"
   ]
  },
  {
   "cell_type": "code",
   "execution_count": 17,
   "metadata": {
    "collapsed": true
   },
   "outputs": [],
   "source": [
    "from sklearn.linear_model import LogisticRegression"
   ]
  },
  {
   "cell_type": "code",
   "execution_count": 18,
   "metadata": {},
   "outputs": [
    {
     "data": {
      "text/plain": [
       "0.65505608320082509"
      ]
     },
     "execution_count": 18,
     "metadata": {},
     "output_type": "execute_result"
    }
   ],
   "source": [
    "lr = LogisticRegression()\n",
    "\n",
    "X = eda_df[[\"P1_Rank\", \"P2_Rank\", \"RankDiff\", \"Best of\"]]\n",
    "Y = eda_df.Player1Wins\n",
    "lr.fit(X, Y)\n",
    "lr.score(X, Y)"
   ]
  },
  {
   "cell_type": "markdown",
   "metadata": {},
   "source": [
    "# 4/ Adding features derived from past history of the players (input: eda_df)"
   ]
  },
  {
   "cell_type": "markdown",
   "metadata": {},
   "source": [
    "## For every point in time, we want to compute statistics about players **up until that point in time**"
   ]
  },
  {
   "cell_type": "markdown",
   "metadata": {},
   "source": [
    "### Let's get a list of all the players"
   ]
  },
  {
   "cell_type": "code",
   "execution_count": 86,
   "metadata": {},
   "outputs": [
    {
     "data": {
      "text/plain": [
       "(31,)"
      ]
     },
     "execution_count": 86,
     "metadata": {},
     "output_type": "execute_result"
    }
   ],
   "source": [
    "all_players = pd.concat([eda_df.P1_Name, eda_df.P2_Name]).unique()\n",
    "if QUICK_MODE:\n",
    "    all_players = np.random.choice(all_players, int(len(all_players) / 50))\n",
    "    all_players = np.append(all_players, [\"Federer R.\", \"Nadal R.\", \"Djokovic N.\", \"Murray A.\"])\n",
    "all_players.shape"
   ]
  },
  {
   "cell_type": "code",
   "execution_count": 87,
   "metadata": {},
   "outputs": [
    {
     "data": {
      "text/plain": [
       "1st Round        21584\n",
       "2nd Round        12819\n",
       "Quarterfinals     4382\n",
       "3rd Round         3320\n",
       "Semifinals        2225\n",
       "The Final         1111\n",
       "4th Round          784\n",
       "Round Robin        312\n",
       "0th Round            1\n",
       "Name: Round, dtype: int64"
      ]
     },
     "execution_count": 87,
     "metadata": {},
     "output_type": "execute_result"
    }
   ],
   "source": [
    "from tennis_predictor import features_engineering\n",
    "importlib.reload(features_engineering)\n",
    "eda_df.Round.value_counts()"
   ]
  },
  {
   "cell_type": "markdown",
   "metadata": {},
   "source": [
    "### 4.A - Let's compute basic boolean features (extra columns) using the same index, ie tennis match resolution"
   ]
  },
  {
   "cell_type": "code",
   "execution_count": 88,
   "metadata": {
    "collapsed": true
   },
   "outputs": [],
   "source": [
    "players_stats = features_engineering.compute_games_played_and_won(eda_df, all_players)\n",
    "players_stats = features_engineering.compute_win_round_type(players_stats, all_players)"
   ]
  },
  {
   "cell_type": "code",
   "execution_count": 89,
   "metadata": {},
   "outputs": [
    {
     "data": {
      "text/html": [
       "<div>\n",
       "<table border=\"1\" class=\"dataframe\">\n",
       "  <thead>\n",
       "    <tr style=\"text-align: right;\">\n",
       "      <th></th>\n",
       "      <th>Location</th>\n",
       "      <th>Tournament</th>\n",
       "      <th>Date</th>\n",
       "      <th>Series</th>\n",
       "      <th>Court</th>\n",
       "      <th>Surface</th>\n",
       "      <th>Round</th>\n",
       "      <th>Best of</th>\n",
       "      <th>P1_Name</th>\n",
       "      <th>P1_Rank</th>\n",
       "      <th>...</th>\n",
       "      <th>Djokovic N.__Won_4th Round</th>\n",
       "      <th>Djokovic N.__Won_Round Robin</th>\n",
       "      <th>Murray A.__Won_1st Round</th>\n",
       "      <th>Murray A.__Won_2nd Round</th>\n",
       "      <th>Murray A.__Won_Quarterfinals</th>\n",
       "      <th>Murray A.__Won_3rd Round</th>\n",
       "      <th>Murray A.__Won_Semifinals</th>\n",
       "      <th>Murray A.__Won_The Final</th>\n",
       "      <th>Murray A.__Won_4th Round</th>\n",
       "      <th>Murray A.__Won_Round Robin</th>\n",
       "    </tr>\n",
       "  </thead>\n",
       "  <tbody>\n",
       "    <tr>\n",
       "      <th>0</th>\n",
       "      <td>Adelaide</td>\n",
       "      <td>Australian Hardcourt Championships</td>\n",
       "      <td>2000-01-03</td>\n",
       "      <td>International</td>\n",
       "      <td>Outdoor</td>\n",
       "      <td>Hard</td>\n",
       "      <td>1st Round</td>\n",
       "      <td>3</td>\n",
       "      <td>Dosedel S.</td>\n",
       "      <td>63.0</td>\n",
       "      <td>...</td>\n",
       "      <td>0</td>\n",
       "      <td>0</td>\n",
       "      <td>0</td>\n",
       "      <td>0</td>\n",
       "      <td>0</td>\n",
       "      <td>0</td>\n",
       "      <td>0</td>\n",
       "      <td>0</td>\n",
       "      <td>0</td>\n",
       "      <td>0</td>\n",
       "    </tr>\n",
       "    <tr>\n",
       "      <th>1</th>\n",
       "      <td>Adelaide</td>\n",
       "      <td>Australian Hardcourt Championships</td>\n",
       "      <td>2000-01-03</td>\n",
       "      <td>International</td>\n",
       "      <td>Outdoor</td>\n",
       "      <td>Hard</td>\n",
       "      <td>1st Round</td>\n",
       "      <td>3</td>\n",
       "      <td>Enqvist T.</td>\n",
       "      <td>5.0</td>\n",
       "      <td>...</td>\n",
       "      <td>0</td>\n",
       "      <td>0</td>\n",
       "      <td>0</td>\n",
       "      <td>0</td>\n",
       "      <td>0</td>\n",
       "      <td>0</td>\n",
       "      <td>0</td>\n",
       "      <td>0</td>\n",
       "      <td>0</td>\n",
       "      <td>0</td>\n",
       "    </tr>\n",
       "    <tr>\n",
       "      <th>2</th>\n",
       "      <td>Adelaide</td>\n",
       "      <td>Australian Hardcourt Championships</td>\n",
       "      <td>2000-01-03</td>\n",
       "      <td>International</td>\n",
       "      <td>Outdoor</td>\n",
       "      <td>Hard</td>\n",
       "      <td>1st Round</td>\n",
       "      <td>3</td>\n",
       "      <td>Escude N.</td>\n",
       "      <td>40.0</td>\n",
       "      <td>...</td>\n",
       "      <td>0</td>\n",
       "      <td>0</td>\n",
       "      <td>0</td>\n",
       "      <td>0</td>\n",
       "      <td>0</td>\n",
       "      <td>0</td>\n",
       "      <td>0</td>\n",
       "      <td>0</td>\n",
       "      <td>0</td>\n",
       "      <td>0</td>\n",
       "    </tr>\n",
       "    <tr>\n",
       "      <th>3</th>\n",
       "      <td>Adelaide</td>\n",
       "      <td>Australian Hardcourt Championships</td>\n",
       "      <td>2000-01-03</td>\n",
       "      <td>International</td>\n",
       "      <td>Outdoor</td>\n",
       "      <td>Hard</td>\n",
       "      <td>1st Round</td>\n",
       "      <td>3</td>\n",
       "      <td>Federer R.</td>\n",
       "      <td>65.0</td>\n",
       "      <td>...</td>\n",
       "      <td>0</td>\n",
       "      <td>0</td>\n",
       "      <td>0</td>\n",
       "      <td>0</td>\n",
       "      <td>0</td>\n",
       "      <td>0</td>\n",
       "      <td>0</td>\n",
       "      <td>0</td>\n",
       "      <td>0</td>\n",
       "      <td>0</td>\n",
       "    </tr>\n",
       "    <tr>\n",
       "      <th>4</th>\n",
       "      <td>Adelaide</td>\n",
       "      <td>Australian Hardcourt Championships</td>\n",
       "      <td>2000-01-03</td>\n",
       "      <td>International</td>\n",
       "      <td>Outdoor</td>\n",
       "      <td>Hard</td>\n",
       "      <td>1st Round</td>\n",
       "      <td>3</td>\n",
       "      <td>Fromberg R.</td>\n",
       "      <td>81.0</td>\n",
       "      <td>...</td>\n",
       "      <td>0</td>\n",
       "      <td>0</td>\n",
       "      <td>0</td>\n",
       "      <td>0</td>\n",
       "      <td>0</td>\n",
       "      <td>0</td>\n",
       "      <td>0</td>\n",
       "      <td>0</td>\n",
       "      <td>0</td>\n",
       "      <td>0</td>\n",
       "    </tr>\n",
       "  </tbody>\n",
       "</table>\n",
       "<p>5 rows × 336 columns</p>\n",
       "</div>"
      ],
      "text/plain": [
       "   Location                          Tournament       Date         Series  \\\n",
       "0  Adelaide  Australian Hardcourt Championships 2000-01-03  International   \n",
       "1  Adelaide  Australian Hardcourt Championships 2000-01-03  International   \n",
       "2  Adelaide  Australian Hardcourt Championships 2000-01-03  International   \n",
       "3  Adelaide  Australian Hardcourt Championships 2000-01-03  International   \n",
       "4  Adelaide  Australian Hardcourt Championships 2000-01-03  International   \n",
       "\n",
       "     Court Surface      Round  Best of      P1_Name  P1_Rank  \\\n",
       "0  Outdoor    Hard  1st Round        3   Dosedel S.     63.0   \n",
       "1  Outdoor    Hard  1st Round        3   Enqvist T.      5.0   \n",
       "2  Outdoor    Hard  1st Round        3    Escude N.     40.0   \n",
       "3  Outdoor    Hard  1st Round        3   Federer R.     65.0   \n",
       "4  Outdoor    Hard  1st Round        3  Fromberg R.     81.0   \n",
       "\n",
       "              ...              Djokovic N.__Won_4th Round  \\\n",
       "0             ...                                       0   \n",
       "1             ...                                       0   \n",
       "2             ...                                       0   \n",
       "3             ...                                       0   \n",
       "4             ...                                       0   \n",
       "\n",
       "   Djokovic N.__Won_Round Robin  Murray A.__Won_1st Round  \\\n",
       "0                             0                         0   \n",
       "1                             0                         0   \n",
       "2                             0                         0   \n",
       "3                             0                         0   \n",
       "4                             0                         0   \n",
       "\n",
       "   Murray A.__Won_2nd Round  Murray A.__Won_Quarterfinals  \\\n",
       "0                         0                             0   \n",
       "1                         0                             0   \n",
       "2                         0                             0   \n",
       "3                         0                             0   \n",
       "4                         0                             0   \n",
       "\n",
       "   Murray A.__Won_3rd Round Murray A.__Won_Semifinals  \\\n",
       "0                         0                         0   \n",
       "1                         0                         0   \n",
       "2                         0                         0   \n",
       "3                         0                         0   \n",
       "4                         0                         0   \n",
       "\n",
       "   Murray A.__Won_The Final  Murray A.__Won_4th Round  \\\n",
       "0                         0                         0   \n",
       "1                         0                         0   \n",
       "2                         0                         0   \n",
       "3                         0                         0   \n",
       "4                         0                         0   \n",
       "\n",
       "   Murray A.__Won_Round Robin  \n",
       "0                           0  \n",
       "1                           0  \n",
       "2                           0  \n",
       "3                           0  \n",
       "4                           0  \n",
       "\n",
       "[5 rows x 336 columns]"
      ]
     },
     "execution_count": 89,
     "metadata": {},
     "output_type": "execute_result"
    }
   ],
   "source": [
    "players_stats.head()"
   ]
  },
  {
   "cell_type": "code",
   "execution_count": 90,
   "metadata": {
    "collapsed": true
   },
   "outputs": [],
   "source": [
    "## Let's double check the data for Rafael Nadal"
   ]
  },
  {
   "cell_type": "code",
   "execution_count": 91,
   "metadata": {},
   "outputs": [
    {
     "data": {
      "text/html": [
       "<div>\n",
       "<table border=\"1\" class=\"dataframe\">\n",
       "  <thead>\n",
       "    <tr style=\"text-align: right;\">\n",
       "      <th></th>\n",
       "      <th>Date</th>\n",
       "      <th>Nadal R.__Played</th>\n",
       "      <th>Nadal R.__Won</th>\n",
       "      <th>Nadal R.__Won_1st Round</th>\n",
       "      <th>Nadal R.__Won_2nd Round</th>\n",
       "      <th>Nadal R.__Won_Quarterfinals</th>\n",
       "      <th>Nadal R.__Won_3rd Round</th>\n",
       "      <th>Nadal R.__Won_Semifinals</th>\n",
       "      <th>Nadal R.__Won_The Final</th>\n",
       "      <th>Nadal R.__Won_4th Round</th>\n",
       "      <th>Nadal R.__Won_Round Robin</th>\n",
       "    </tr>\n",
       "  </thead>\n",
       "  <tbody>\n",
       "    <tr>\n",
       "      <th>15800</th>\n",
       "      <td>2005-05-23</td>\n",
       "      <td>1</td>\n",
       "      <td>1</td>\n",
       "      <td>1</td>\n",
       "      <td>0</td>\n",
       "      <td>0</td>\n",
       "      <td>0</td>\n",
       "      <td>0</td>\n",
       "      <td>0</td>\n",
       "      <td>0</td>\n",
       "      <td>0</td>\n",
       "    </tr>\n",
       "    <tr>\n",
       "      <th>15868</th>\n",
       "      <td>2005-05-25</td>\n",
       "      <td>1</td>\n",
       "      <td>1</td>\n",
       "      <td>0</td>\n",
       "      <td>1</td>\n",
       "      <td>0</td>\n",
       "      <td>0</td>\n",
       "      <td>0</td>\n",
       "      <td>0</td>\n",
       "      <td>0</td>\n",
       "      <td>0</td>\n",
       "    </tr>\n",
       "    <tr>\n",
       "      <th>15894</th>\n",
       "      <td>2005-05-27</td>\n",
       "      <td>1</td>\n",
       "      <td>1</td>\n",
       "      <td>0</td>\n",
       "      <td>0</td>\n",
       "      <td>0</td>\n",
       "      <td>1</td>\n",
       "      <td>0</td>\n",
       "      <td>0</td>\n",
       "      <td>0</td>\n",
       "      <td>0</td>\n",
       "    </tr>\n",
       "    <tr>\n",
       "      <th>15910</th>\n",
       "      <td>2005-05-30</td>\n",
       "      <td>1</td>\n",
       "      <td>1</td>\n",
       "      <td>0</td>\n",
       "      <td>0</td>\n",
       "      <td>0</td>\n",
       "      <td>0</td>\n",
       "      <td>0</td>\n",
       "      <td>0</td>\n",
       "      <td>1</td>\n",
       "      <td>0</td>\n",
       "    </tr>\n",
       "    <tr>\n",
       "      <th>15913</th>\n",
       "      <td>2005-05-31</td>\n",
       "      <td>1</td>\n",
       "      <td>1</td>\n",
       "      <td>0</td>\n",
       "      <td>0</td>\n",
       "      <td>1</td>\n",
       "      <td>0</td>\n",
       "      <td>0</td>\n",
       "      <td>0</td>\n",
       "      <td>0</td>\n",
       "      <td>0</td>\n",
       "    </tr>\n",
       "    <tr>\n",
       "      <th>15917</th>\n",
       "      <td>2005-06-03</td>\n",
       "      <td>1</td>\n",
       "      <td>1</td>\n",
       "      <td>0</td>\n",
       "      <td>0</td>\n",
       "      <td>0</td>\n",
       "      <td>0</td>\n",
       "      <td>1</td>\n",
       "      <td>0</td>\n",
       "      <td>0</td>\n",
       "      <td>0</td>\n",
       "    </tr>\n",
       "    <tr>\n",
       "      <th>15918</th>\n",
       "      <td>2005-06-05</td>\n",
       "      <td>1</td>\n",
       "      <td>1</td>\n",
       "      <td>0</td>\n",
       "      <td>0</td>\n",
       "      <td>0</td>\n",
       "      <td>0</td>\n",
       "      <td>0</td>\n",
       "      <td>1</td>\n",
       "      <td>0</td>\n",
       "      <td>0</td>\n",
       "    </tr>\n",
       "  </tbody>\n",
       "</table>\n",
       "</div>"
      ],
      "text/plain": [
       "            Date  Nadal R.__Played  Nadal R.__Won  Nadal R.__Won_1st Round  \\\n",
       "15800 2005-05-23                 1              1                        1   \n",
       "15868 2005-05-25                 1              1                        0   \n",
       "15894 2005-05-27                 1              1                        0   \n",
       "15910 2005-05-30                 1              1                        0   \n",
       "15913 2005-05-31                 1              1                        0   \n",
       "15917 2005-06-03                 1              1                        0   \n",
       "15918 2005-06-05                 1              1                        0   \n",
       "\n",
       "       Nadal R.__Won_2nd Round  Nadal R.__Won_Quarterfinals  \\\n",
       "15800                        0                            0   \n",
       "15868                        1                            0   \n",
       "15894                        0                            0   \n",
       "15910                        0                            0   \n",
       "15913                        0                            1   \n",
       "15917                        0                            0   \n",
       "15918                        0                            0   \n",
       "\n",
       "       Nadal R.__Won_3rd Round  Nadal R.__Won_Semifinals  \\\n",
       "15800                        0                         0   \n",
       "15868                        0                         0   \n",
       "15894                        1                         0   \n",
       "15910                        0                         0   \n",
       "15913                        0                         0   \n",
       "15917                        0                         1   \n",
       "15918                        0                         0   \n",
       "\n",
       "       Nadal R.__Won_The Final  Nadal R.__Won_4th Round  \\\n",
       "15800                        0                        0   \n",
       "15868                        0                        0   \n",
       "15894                        0                        0   \n",
       "15910                        0                        1   \n",
       "15913                        0                        0   \n",
       "15917                        0                        0   \n",
       "15918                        1                        0   \n",
       "\n",
       "       Nadal R.__Won_Round Robin  \n",
       "15800                          0  \n",
       "15868                          0  \n",
       "15894                          0  \n",
       "15910                          0  \n",
       "15913                          0  \n",
       "15917                          0  \n",
       "15918                          0  "
      ]
     },
     "execution_count": 91,
     "metadata": {},
     "output_type": "execute_result"
    }
   ],
   "source": [
    "nadal_stats_columns = [c for c in players_stats.columns if \"Nadal\" in c]\n",
    "nadal_stats = players_stats[players_stats[\"Nadal R.__Played\"] & (players_stats.Tournament == \"French Open\")][[\"Date\"] + nadal_stats_columns]\n",
    "nadal_stats.head(7)"
   ]
  },
  {
   "cell_type": "code",
   "execution_count": 92,
   "metadata": {},
   "outputs": [
    {
     "data": {
      "text/plain": [
       "Nadal R.__Played               75.0\n",
       "Nadal R.__Won                  72.0\n",
       "Nadal R.__Won_1st Round        12.0\n",
       "Nadal R.__Won_2nd Round        11.0\n",
       "Nadal R.__Won_Quarterfinals     9.0\n",
       "Nadal R.__Won_3rd Round        12.0\n",
       "Nadal R.__Won_Semifinals        9.0\n",
       "Nadal R.__Won_The Final         9.0\n",
       "Nadal R.__Won_4th Round        10.0\n",
       "Nadal R.__Won_Round Robin       0.0\n",
       "dtype: float64"
      ]
     },
     "execution_count": 92,
     "metadata": {},
     "output_type": "execute_result"
    }
   ],
   "source": [
    "nadal_stats.resample(\"D\", on=\"Date\").sum().sum()\n",
    "## Looks good!! As of this dataset last update, Nadal won the French Open nine times (ie he won 9 finals)"
   ]
  },
  {
   "cell_type": "markdown",
   "metadata": {},
   "source": [
    "### 4.B - Let's resample with daily frequencies"
   ]
  },
  {
   "cell_type": "markdown",
   "metadata": {},
   "source": [
    "This shouldn't conceptually change anything if we assume that players play only once per day maximum"
   ]
  },
  {
   "cell_type": "code",
   "execution_count": 93,
   "metadata": {
    "collapsed": true
   },
   "outputs": [],
   "source": [
    "stats_columns = [c for c in players_stats.columns if \"__\" in c]"
   ]
  },
  {
   "cell_type": "markdown",
   "metadata": {},
   "source": [
    "Players can actually play more than once a day, but let's ignore this for now, the final features will be some kind of rolling window so this is fine actually"
   ]
  },
  {
   "cell_type": "code",
   "execution_count": 94,
   "metadata": {},
   "outputs": [
    {
     "data": {
      "text/html": [
       "<div>\n",
       "<table border=\"1\" class=\"dataframe\">\n",
       "  <thead>\n",
       "    <tr style=\"text-align: right;\">\n",
       "      <th></th>\n",
       "      <th>Saville L.__Played</th>\n",
       "      <th>Whitehouse W.__Played</th>\n",
       "      <th>Krstin P.__Played</th>\n",
       "      <th>Kim K__Played</th>\n",
       "      <th>Prpic F.__Played</th>\n",
       "      <th>Greul S.__Played</th>\n",
       "      <th>Trifu G.__Played</th>\n",
       "      <th>Goellner M.K.__Played</th>\n",
       "      <th>Gonzalez F.__Played</th>\n",
       "      <th>Ehrat S.__Played</th>\n",
       "      <th>...</th>\n",
       "      <th>Djokovic N.__Won_4th Round</th>\n",
       "      <th>Djokovic N.__Won_Round Robin</th>\n",
       "      <th>Murray A.__Won_1st Round</th>\n",
       "      <th>Murray A.__Won_2nd Round</th>\n",
       "      <th>Murray A.__Won_Quarterfinals</th>\n",
       "      <th>Murray A.__Won_3rd Round</th>\n",
       "      <th>Murray A.__Won_Semifinals</th>\n",
       "      <th>Murray A.__Won_The Final</th>\n",
       "      <th>Murray A.__Won_4th Round</th>\n",
       "      <th>Murray A.__Won_Round Robin</th>\n",
       "    </tr>\n",
       "    <tr>\n",
       "      <th>Date</th>\n",
       "      <th></th>\n",
       "      <th></th>\n",
       "      <th></th>\n",
       "      <th></th>\n",
       "      <th></th>\n",
       "      <th></th>\n",
       "      <th></th>\n",
       "      <th></th>\n",
       "      <th></th>\n",
       "      <th></th>\n",
       "      <th></th>\n",
       "      <th></th>\n",
       "      <th></th>\n",
       "      <th></th>\n",
       "      <th></th>\n",
       "      <th></th>\n",
       "      <th></th>\n",
       "      <th></th>\n",
       "      <th></th>\n",
       "      <th></th>\n",
       "      <th></th>\n",
       "    </tr>\n",
       "  </thead>\n",
       "  <tbody>\n",
       "    <tr>\n",
       "      <th>2000-01-03</th>\n",
       "      <td>0.0</td>\n",
       "      <td>0.0</td>\n",
       "      <td>0.0</td>\n",
       "      <td>0.0</td>\n",
       "      <td>0.0</td>\n",
       "      <td>0.0</td>\n",
       "      <td>0.0</td>\n",
       "      <td>0.0</td>\n",
       "      <td>0.0</td>\n",
       "      <td>0.0</td>\n",
       "      <td>...</td>\n",
       "      <td>0.0</td>\n",
       "      <td>0.0</td>\n",
       "      <td>0.0</td>\n",
       "      <td>0.0</td>\n",
       "      <td>0.0</td>\n",
       "      <td>0.0</td>\n",
       "      <td>0.0</td>\n",
       "      <td>0.0</td>\n",
       "      <td>0.0</td>\n",
       "      <td>0.0</td>\n",
       "    </tr>\n",
       "    <tr>\n",
       "      <th>2000-01-04</th>\n",
       "      <td>0.0</td>\n",
       "      <td>0.0</td>\n",
       "      <td>0.0</td>\n",
       "      <td>0.0</td>\n",
       "      <td>0.0</td>\n",
       "      <td>0.0</td>\n",
       "      <td>0.0</td>\n",
       "      <td>0.0</td>\n",
       "      <td>0.0</td>\n",
       "      <td>0.0</td>\n",
       "      <td>...</td>\n",
       "      <td>0.0</td>\n",
       "      <td>0.0</td>\n",
       "      <td>0.0</td>\n",
       "      <td>0.0</td>\n",
       "      <td>0.0</td>\n",
       "      <td>0.0</td>\n",
       "      <td>0.0</td>\n",
       "      <td>0.0</td>\n",
       "      <td>0.0</td>\n",
       "      <td>0.0</td>\n",
       "    </tr>\n",
       "    <tr>\n",
       "      <th>2000-01-05</th>\n",
       "      <td>0.0</td>\n",
       "      <td>0.0</td>\n",
       "      <td>0.0</td>\n",
       "      <td>0.0</td>\n",
       "      <td>0.0</td>\n",
       "      <td>0.0</td>\n",
       "      <td>0.0</td>\n",
       "      <td>0.0</td>\n",
       "      <td>0.0</td>\n",
       "      <td>0.0</td>\n",
       "      <td>...</td>\n",
       "      <td>0.0</td>\n",
       "      <td>0.0</td>\n",
       "      <td>0.0</td>\n",
       "      <td>0.0</td>\n",
       "      <td>0.0</td>\n",
       "      <td>0.0</td>\n",
       "      <td>0.0</td>\n",
       "      <td>0.0</td>\n",
       "      <td>0.0</td>\n",
       "      <td>0.0</td>\n",
       "    </tr>\n",
       "    <tr>\n",
       "      <th>2000-01-06</th>\n",
       "      <td>0.0</td>\n",
       "      <td>0.0</td>\n",
       "      <td>0.0</td>\n",
       "      <td>0.0</td>\n",
       "      <td>0.0</td>\n",
       "      <td>0.0</td>\n",
       "      <td>0.0</td>\n",
       "      <td>0.0</td>\n",
       "      <td>0.0</td>\n",
       "      <td>0.0</td>\n",
       "      <td>...</td>\n",
       "      <td>0.0</td>\n",
       "      <td>0.0</td>\n",
       "      <td>0.0</td>\n",
       "      <td>0.0</td>\n",
       "      <td>0.0</td>\n",
       "      <td>0.0</td>\n",
       "      <td>0.0</td>\n",
       "      <td>0.0</td>\n",
       "      <td>0.0</td>\n",
       "      <td>0.0</td>\n",
       "    </tr>\n",
       "    <tr>\n",
       "      <th>2000-01-07</th>\n",
       "      <td>0.0</td>\n",
       "      <td>0.0</td>\n",
       "      <td>0.0</td>\n",
       "      <td>0.0</td>\n",
       "      <td>0.0</td>\n",
       "      <td>0.0</td>\n",
       "      <td>0.0</td>\n",
       "      <td>0.0</td>\n",
       "      <td>0.0</td>\n",
       "      <td>0.0</td>\n",
       "      <td>...</td>\n",
       "      <td>0.0</td>\n",
       "      <td>0.0</td>\n",
       "      <td>0.0</td>\n",
       "      <td>0.0</td>\n",
       "      <td>0.0</td>\n",
       "      <td>0.0</td>\n",
       "      <td>0.0</td>\n",
       "      <td>0.0</td>\n",
       "      <td>0.0</td>\n",
       "      <td>0.0</td>\n",
       "    </tr>\n",
       "  </tbody>\n",
       "</table>\n",
       "<p>5 rows × 310 columns</p>\n",
       "</div>"
      ],
      "text/plain": [
       "            Saville L.__Played  Whitehouse W.__Played  Krstin P.__Played  \\\n",
       "Date                                                                       \n",
       "2000-01-03                 0.0                    0.0                0.0   \n",
       "2000-01-04                 0.0                    0.0                0.0   \n",
       "2000-01-05                 0.0                    0.0                0.0   \n",
       "2000-01-06                 0.0                    0.0                0.0   \n",
       "2000-01-07                 0.0                    0.0                0.0   \n",
       "\n",
       "            Kim K__Played  Prpic F.__Played  Greul S.__Played  \\\n",
       "Date                                                            \n",
       "2000-01-03            0.0               0.0               0.0   \n",
       "2000-01-04            0.0               0.0               0.0   \n",
       "2000-01-05            0.0               0.0               0.0   \n",
       "2000-01-06            0.0               0.0               0.0   \n",
       "2000-01-07            0.0               0.0               0.0   \n",
       "\n",
       "            Trifu G.__Played  Goellner M.K.__Played  Gonzalez F.__Played  \\\n",
       "Date                                                                       \n",
       "2000-01-03               0.0                    0.0                  0.0   \n",
       "2000-01-04               0.0                    0.0                  0.0   \n",
       "2000-01-05               0.0                    0.0                  0.0   \n",
       "2000-01-06               0.0                    0.0                  0.0   \n",
       "2000-01-07               0.0                    0.0                  0.0   \n",
       "\n",
       "            Ehrat S.__Played             ...              \\\n",
       "Date                                     ...               \n",
       "2000-01-03               0.0             ...               \n",
       "2000-01-04               0.0             ...               \n",
       "2000-01-05               0.0             ...               \n",
       "2000-01-06               0.0             ...               \n",
       "2000-01-07               0.0             ...               \n",
       "\n",
       "            Djokovic N.__Won_4th Round  Djokovic N.__Won_Round Robin  \\\n",
       "Date                                                                   \n",
       "2000-01-03                         0.0                           0.0   \n",
       "2000-01-04                         0.0                           0.0   \n",
       "2000-01-05                         0.0                           0.0   \n",
       "2000-01-06                         0.0                           0.0   \n",
       "2000-01-07                         0.0                           0.0   \n",
       "\n",
       "            Murray A.__Won_1st Round  Murray A.__Won_2nd Round  \\\n",
       "Date                                                             \n",
       "2000-01-03                       0.0                       0.0   \n",
       "2000-01-04                       0.0                       0.0   \n",
       "2000-01-05                       0.0                       0.0   \n",
       "2000-01-06                       0.0                       0.0   \n",
       "2000-01-07                       0.0                       0.0   \n",
       "\n",
       "            Murray A.__Won_Quarterfinals  Murray A.__Won_3rd Round  \\\n",
       "Date                                                                 \n",
       "2000-01-03                           0.0                       0.0   \n",
       "2000-01-04                           0.0                       0.0   \n",
       "2000-01-05                           0.0                       0.0   \n",
       "2000-01-06                           0.0                       0.0   \n",
       "2000-01-07                           0.0                       0.0   \n",
       "\n",
       "            Murray A.__Won_Semifinals  Murray A.__Won_The Final  \\\n",
       "Date                                                              \n",
       "2000-01-03                        0.0                       0.0   \n",
       "2000-01-04                        0.0                       0.0   \n",
       "2000-01-05                        0.0                       0.0   \n",
       "2000-01-06                        0.0                       0.0   \n",
       "2000-01-07                        0.0                       0.0   \n",
       "\n",
       "            Murray A.__Won_4th Round  Murray A.__Won_Round Robin  \n",
       "Date                                                              \n",
       "2000-01-03                       0.0                         0.0  \n",
       "2000-01-04                       0.0                         0.0  \n",
       "2000-01-05                       0.0                         0.0  \n",
       "2000-01-06                       0.0                         0.0  \n",
       "2000-01-07                       0.0                         0.0  \n",
       "\n",
       "[5 rows x 310 columns]"
      ]
     },
     "execution_count": 94,
     "metadata": {},
     "output_type": "execute_result"
    }
   ],
   "source": [
    "resampled_stats = players_stats[[\"Date\"] + stats_columns].resample(\"D\", on=\"Date\").sum()\n",
    "resampled_stats = resampled_stats.fillna(0)  # We don't have matches every single day of the year, so we're going to have NAs as a result of the resample\n",
    "resampled_stats.head()"
   ]
  },
  {
   "cell_type": "markdown",
   "metadata": {},
   "source": [
    "#### Looking at the totals of tournament wins since the beginning of time"
   ]
  },
  {
   "cell_type": "code",
   "execution_count": 97,
   "metadata": {},
   "outputs": [
    {
     "data": {
      "text/plain": [
       "<matplotlib.axes._subplots.AxesSubplot at 0x12d32f2b0>"
      ]
     },
     "execution_count": 97,
     "metadata": {},
     "output_type": "execute_result"
    },
    {
     "data": {
      "image/png": "[encoded data removed]",
      "text/plain": [
       "<matplotlib.figure.Figure at 0x1258a9eb8>"
      ]
     },
     "metadata": {},
     "output_type": "display_data"
    }
   ],
   "source": [
    "expanding_stats = resampled_stats.expanding().sum()\n",
    "players = [\"Nadal R.\", \"Federer R.\", \"Djokovic N.\", \"Murray A.\"]\n",
    "expanding_stats[[p + \"__Won_The Final\" for p in players]].plot()"
   ]
  },
  {
   "cell_type": "markdown",
   "metadata": {},
   "source": [
    "#### Looking at the \"dynamic\" (1Y half life exponential weighted average)"
   ]
  },
  {
   "cell_type": "code",
   "execution_count": 99,
   "metadata": {},
   "outputs": [
    {
     "data": {
      "text/plain": [
       "<matplotlib.axes._subplots.AxesSubplot at 0x124162518>"
      ]
     },
     "execution_count": 99,
     "metadata": {},
     "output_type": "execute_result"
    },
    {
     "data": {
      "image/png": "[encoded data removed]",
      "text/plain": [
       "<matplotlib.figure.Figure at 0x12407d8d0>"
      ]
     },
     "metadata": {},
     "output_type": "display_data"
    }
   ],
   "source": [
    "rolling_1Y_stats = resampled_stats.ewm(halflife=365).mean()\n",
    "rolling_1Y_stats[[p + \"__Won_The Final\" for p in players]].plot()"
   ]
  }
 ],
 "metadata": {
  "kernelspec": {
   "display_name": "Python 3",
   "language": "python",
   "name": "python3"
  },
  "language_info": {
   "codemirror_mode": {
    "name": "ipython",
    "version": 3
   },
   "file_extension": ".py",
   "mimetype": "text/x-python",
   "name": "python",
   "nbconvert_exporter": "python",
   "pygments_lexer": "ipython3",
   "version": "3.6.1"
  }
 },
 "nbformat": 4,
 "nbformat_minor": 2
}
