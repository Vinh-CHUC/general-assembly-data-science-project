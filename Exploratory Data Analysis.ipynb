{
 "cells": [
  {
   "cell_type": "markdown",
   "metadata": {
    "collapsed": true
   },
   "source": [
    "# 1/ Cleaning data (converting types and removing NAs)"
   ]
  },
  {
   "cell_type": "code",
   "execution_count": 145,
   "metadata": {
    "collapsed": true
   },
   "outputs": [],
   "source": [
    "import pandas as pd, numpy as np\n",
    "from tennis_predictor import clean_data"
   ]
  },
  {
   "cell_type": "code",
   "execution_count": 146,
   "metadata": {
    "collapsed": false
   },
   "outputs": [],
   "source": [
    "df = pd.read_csv(\"data.csv\", low_memory=False)\n",
    "COLUMNS = [\n",
    "    \"Location\", \"Tournament\", \"Date\",\n",
    "    \"Series\",\n",
    "    \"Court\", \"Surface\",\n",
    "    \"Round\", \"Best of\",\n",
    "    \"Winner\", \"Loser\", \"WRank\", \"LRank\",\n",
    "]\n",
    "GAME_STATS_COLS = [\n",
    "    \"W1\", \"L1\", \"W2\", \"L2\", \"W3\", \"L3\", \"W4\", \"L4\", \"W5\", \"L5\",\n",
    "    \"Wsets\", \"Lsets\"\n",
    "]\n",
    "df = df[COLUMNS + GAME_STATS_COLS]"
   ]
  },
  {
   "cell_type": "code",
   "execution_count": 147,
   "metadata": {
    "collapsed": false
   },
   "outputs": [
    {
     "data": {
      "text/plain": [
       "Location                 Memphis\n",
       "Tournament       Kroger St. Jude\n",
       "Date                  14/02/2000\n",
       "Series        International Gold\n",
       "Court                     Indoor\n",
       "Surface                     Hard\n",
       "Round                  1st Round\n",
       "Best of                        3\n",
       "Winner                 Mamiit C.\n",
       "Loser                  Jensen L.\n",
       "WRank                        135\n",
       "LRank                         NR\n",
       "W1                             7\n",
       "L1                             5\n",
       "W2                             6\n",
       "L2                             2\n",
       "W3                           NaN\n",
       "L3                           NaN\n",
       "W4                           NaN\n",
       "L4                           NaN\n",
       "W5                           NaN\n",
       "L5                           NaN\n",
       "Wsets                          2\n",
       "Lsets                          0\n",
       "Name: 377, dtype: object"
      ]
     },
     "execution_count": 147,
     "metadata": {},
     "output_type": "execute_result"
    }
   ],
   "source": [
    "df.iloc[377]"
   ]
  },
  {
   "cell_type": "code",
   "execution_count": 163,
   "metadata": {
    "collapsed": false
   },
   "outputs": [
    {
     "name": "stdout",
     "output_type": "stream",
     "text": [
      "Location       0\n",
      "Tournament     0\n",
      "Date           0\n",
      "Series         0\n",
      "Court          0\n",
      "Surface        0\n",
      "Round          0\n",
      "Best of        0\n",
      "Winner         0\n",
      "Loser          0\n",
      "WRank         16\n",
      "LRank         98\n",
      "dtype: int64\n"
     ]
    }
   ],
   "source": [
    "data = clean_data.convert_to_numeric(df, [\"WRank\", \"LRank\"])\n",
    "data = data.assign(\n",
    "    Date=pd.to_datetime(data.Date, format=\"%d/%m/%Y\")\n",
    ")\n",
    "data = clean_data.drop_nas(data, COLUMNS)"
   ]
  },
  {
   "cell_type": "code",
   "execution_count": 149,
   "metadata": {
    "collapsed": false
   },
   "outputs": [
    {
     "data": {
      "text/html": [
       "<div>\n",
       "<table border=\"1\" class=\"dataframe\">\n",
       "  <thead>\n",
       "    <tr style=\"text-align: right;\">\n",
       "      <th></th>\n",
       "      <th>Location</th>\n",
       "      <th>Tournament</th>\n",
       "      <th>Date</th>\n",
       "      <th>Series</th>\n",
       "      <th>Court</th>\n",
       "      <th>Surface</th>\n",
       "      <th>Round</th>\n",
       "      <th>Best of</th>\n",
       "      <th>Winner</th>\n",
       "      <th>Loser</th>\n",
       "      <th>WRank</th>\n",
       "      <th>LRank</th>\n",
       "      <th>W1</th>\n",
       "      <th>L1</th>\n",
       "      <th>W2</th>\n",
       "      <th>L2</th>\n",
       "      <th>W3</th>\n",
       "      <th>L3</th>\n",
       "      <th>W4</th>\n",
       "      <th>L4</th>\n",
       "    </tr>\n",
       "  </thead>\n",
       "  <tbody>\n",
       "    <tr>\n",
       "      <th>0</th>\n",
       "      <td>Adelaide</td>\n",
       "      <td>Australian Hardcourt Championships</td>\n",
       "      <td>2000-01-03</td>\n",
       "      <td>International</td>\n",
       "      <td>Outdoor</td>\n",
       "      <td>Hard</td>\n",
       "      <td>1st Round</td>\n",
       "      <td>3</td>\n",
       "      <td>Dosedel S.</td>\n",
       "      <td>Ljubicic I.</td>\n",
       "      <td>63.0</td>\n",
       "      <td>77.0</td>\n",
       "      <td>6.0</td>\n",
       "      <td>4.0</td>\n",
       "      <td>6.0</td>\n",
       "      <td>2.0</td>\n",
       "      <td>NaN</td>\n",
       "      <td>NaN</td>\n",
       "      <td>NaN</td>\n",
       "      <td>NaN</td>\n",
       "    </tr>\n",
       "    <tr>\n",
       "      <th>1</th>\n",
       "      <td>Adelaide</td>\n",
       "      <td>Australian Hardcourt Championships</td>\n",
       "      <td>2000-01-03</td>\n",
       "      <td>International</td>\n",
       "      <td>Outdoor</td>\n",
       "      <td>Hard</td>\n",
       "      <td>1st Round</td>\n",
       "      <td>3</td>\n",
       "      <td>Enqvist T.</td>\n",
       "      <td>Clement A.</td>\n",
       "      <td>5.0</td>\n",
       "      <td>56.0</td>\n",
       "      <td>6.0</td>\n",
       "      <td>3.0</td>\n",
       "      <td>6.0</td>\n",
       "      <td>3.0</td>\n",
       "      <td>NaN</td>\n",
       "      <td>NaN</td>\n",
       "      <td>NaN</td>\n",
       "      <td>NaN</td>\n",
       "    </tr>\n",
       "    <tr>\n",
       "      <th>2</th>\n",
       "      <td>Adelaide</td>\n",
       "      <td>Australian Hardcourt Championships</td>\n",
       "      <td>2000-01-03</td>\n",
       "      <td>International</td>\n",
       "      <td>Outdoor</td>\n",
       "      <td>Hard</td>\n",
       "      <td>1st Round</td>\n",
       "      <td>3</td>\n",
       "      <td>Escude N.</td>\n",
       "      <td>Baccanello P.</td>\n",
       "      <td>40.0</td>\n",
       "      <td>655.0</td>\n",
       "      <td>6.0</td>\n",
       "      <td>7.0</td>\n",
       "      <td>7.0</td>\n",
       "      <td>5.0</td>\n",
       "      <td>6.0</td>\n",
       "      <td>3.0</td>\n",
       "      <td>NaN</td>\n",
       "      <td>NaN</td>\n",
       "    </tr>\n",
       "    <tr>\n",
       "      <th>3</th>\n",
       "      <td>Adelaide</td>\n",
       "      <td>Australian Hardcourt Championships</td>\n",
       "      <td>2000-01-03</td>\n",
       "      <td>International</td>\n",
       "      <td>Outdoor</td>\n",
       "      <td>Hard</td>\n",
       "      <td>1st Round</td>\n",
       "      <td>3</td>\n",
       "      <td>Federer R.</td>\n",
       "      <td>Knippschild J.</td>\n",
       "      <td>65.0</td>\n",
       "      <td>87.0</td>\n",
       "      <td>6.0</td>\n",
       "      <td>1.0</td>\n",
       "      <td>6.0</td>\n",
       "      <td>4.0</td>\n",
       "      <td>NaN</td>\n",
       "      <td>NaN</td>\n",
       "      <td>NaN</td>\n",
       "      <td>NaN</td>\n",
       "    </tr>\n",
       "    <tr>\n",
       "      <th>4</th>\n",
       "      <td>Adelaide</td>\n",
       "      <td>Australian Hardcourt Championships</td>\n",
       "      <td>2000-01-03</td>\n",
       "      <td>International</td>\n",
       "      <td>Outdoor</td>\n",
       "      <td>Hard</td>\n",
       "      <td>1st Round</td>\n",
       "      <td>3</td>\n",
       "      <td>Fromberg R.</td>\n",
       "      <td>Woodbridge T.</td>\n",
       "      <td>81.0</td>\n",
       "      <td>198.0</td>\n",
       "      <td>7.0</td>\n",
       "      <td>6.0</td>\n",
       "      <td>5.0</td>\n",
       "      <td>7.0</td>\n",
       "      <td>6.0</td>\n",
       "      <td>4.0</td>\n",
       "      <td>NaN</td>\n",
       "      <td>NaN</td>\n",
       "    </tr>\n",
       "  </tbody>\n",
       "</table>\n",
       "</div>"
      ],
      "text/plain": [
       "   Location                          Tournament       Date         Series  \\\n",
       "0  Adelaide  Australian Hardcourt Championships 2000-01-03  International   \n",
       "1  Adelaide  Australian Hardcourt Championships 2000-01-03  International   \n",
       "2  Adelaide  Australian Hardcourt Championships 2000-01-03  International   \n",
       "3  Adelaide  Australian Hardcourt Championships 2000-01-03  International   \n",
       "4  Adelaide  Australian Hardcourt Championships 2000-01-03  International   \n",
       "\n",
       "     Court Surface      Round  Best of       Winner           Loser  WRank  \\\n",
       "0  Outdoor    Hard  1st Round        3   Dosedel S.     Ljubicic I.   63.0   \n",
       "1  Outdoor    Hard  1st Round        3   Enqvist T.      Clement A.    5.0   \n",
       "2  Outdoor    Hard  1st Round        3    Escude N.   Baccanello P.   40.0   \n",
       "3  Outdoor    Hard  1st Round        3   Federer R.  Knippschild J.   65.0   \n",
       "4  Outdoor    Hard  1st Round        3  Fromberg R.   Woodbridge T.   81.0   \n",
       "\n",
       "   LRank   W1   L1   W2   L2   W3   L3  W4  L4  \n",
       "0   77.0  6.0  4.0  6.0  2.0  NaN  NaN NaN NaN  \n",
       "1   56.0  6.0  3.0  6.0  3.0  NaN  NaN NaN NaN  \n",
       "2  655.0  6.0  7.0  7.0  5.0  6.0  3.0 NaN NaN  \n",
       "3   87.0  6.0  1.0  6.0  4.0  NaN  NaN NaN NaN  \n",
       "4  198.0  7.0  6.0  5.0  7.0  6.0  4.0 NaN NaN  "
      ]
     },
     "execution_count": 149,
     "metadata": {},
     "output_type": "execute_result"
    }
   ],
   "source": [
    "data.iloc[:,:20].head()"
   ]
  },
  {
   "cell_type": "code",
   "execution_count": 150,
   "metadata": {
    "collapsed": false
   },
   "outputs": [
    {
     "data": {
      "text/html": [
       "<div>\n",
       "<table border=\"1\" class=\"dataframe\">\n",
       "  <thead>\n",
       "    <tr style=\"text-align: right;\">\n",
       "      <th></th>\n",
       "      <th>W5</th>\n",
       "      <th>L5</th>\n",
       "      <th>Wsets</th>\n",
       "      <th>Lsets</th>\n",
       "    </tr>\n",
       "  </thead>\n",
       "  <tbody>\n",
       "    <tr>\n",
       "      <th>0</th>\n",
       "      <td>NaN</td>\n",
       "      <td>NaN</td>\n",
       "      <td>2.0</td>\n",
       "      <td>0.0</td>\n",
       "    </tr>\n",
       "    <tr>\n",
       "      <th>1</th>\n",
       "      <td>NaN</td>\n",
       "      <td>NaN</td>\n",
       "      <td>2.0</td>\n",
       "      <td>0.0</td>\n",
       "    </tr>\n",
       "    <tr>\n",
       "      <th>2</th>\n",
       "      <td>NaN</td>\n",
       "      <td>NaN</td>\n",
       "      <td>2.0</td>\n",
       "      <td>1.0</td>\n",
       "    </tr>\n",
       "    <tr>\n",
       "      <th>3</th>\n",
       "      <td>NaN</td>\n",
       "      <td>NaN</td>\n",
       "      <td>2.0</td>\n",
       "      <td>0.0</td>\n",
       "    </tr>\n",
       "    <tr>\n",
       "      <th>4</th>\n",
       "      <td>NaN</td>\n",
       "      <td>NaN</td>\n",
       "      <td>2.0</td>\n",
       "      <td>1.0</td>\n",
       "    </tr>\n",
       "  </tbody>\n",
       "</table>\n",
       "</div>"
      ],
      "text/plain": [
       "   W5  L5  Wsets  Lsets\n",
       "0 NaN NaN    2.0    0.0\n",
       "1 NaN NaN    2.0    0.0\n",
       "2 NaN NaN    2.0    1.0\n",
       "3 NaN NaN    2.0    0.0\n",
       "4 NaN NaN    2.0    1.0"
      ]
     },
     "execution_count": 150,
     "metadata": {},
     "output_type": "execute_result"
    }
   ],
   "source": [
    "data.iloc[:,20:].head()"
   ]
  },
  {
   "cell_type": "code",
   "execution_count": 151,
   "metadata": {
    "collapsed": false
   },
   "outputs": [
    {
     "data": {
      "text/plain": [
       "(Location              object\n",
       " Tournament            object\n",
       " Date          datetime64[ns]\n",
       " Series                object\n",
       " Court                 object\n",
       " Surface               object\n",
       " Round                 object\n",
       " Best of                int64\n",
       " Winner                object\n",
       " Loser                 object\n",
       " WRank                float64\n",
       " LRank                float64\n",
       " W1                   float64\n",
       " L1                   float64\n",
       " W2                   float64\n",
       " L2                   float64\n",
       " W3                   float64\n",
       " L3                   float64\n",
       " W4                   float64\n",
       " L4                   float64\n",
       " W5                   float64\n",
       " L5                   float64\n",
       " Wsets                float64\n",
       " Lsets                float64\n",
       " dtype: object, (46538, 24))"
      ]
     },
     "execution_count": 151,
     "metadata": {},
     "output_type": "execute_result"
    }
   ],
   "source": [
    "data.dtypes, data.shape"
   ]
  },
  {
   "cell_type": "markdown",
   "metadata": {},
   "source": [
    "# 2/ Labelling players 1 and 2 (input: data Dataframe)"
   ]
  },
  {
   "cell_type": "markdown",
   "metadata": {},
   "source": [
    "* The player specific columns are basically grouped into two groups: the various columns about the Winner and the various columns about the Loser\n",
    "* We need to somehow pick, for each match a \"Player1\" and a \"Player2\", otherwise, otherwise all the observations would all belong to a single class! (ie the Winner always wins of course :P )"
   ]
  },
  {
   "cell_type": "markdown",
   "metadata": {},
   "source": [
    "## Does the better ranked player always win?"
   ]
  },
  {
   "cell_type": "code",
   "execution_count": 152,
   "metadata": {
    "collapsed": false
   },
   "outputs": [
    {
     "data": {
      "text/plain": [
       "0.6568395719626972"
      ]
     },
     "execution_count": 152,
     "metadata": {},
     "output_type": "execute_result"
    }
   ],
   "source": [
    "matches_where_better_wins = data[data.WRank < data.LRank].shape[0]\n",
    "matches_where_better_wins / data.shape[0]"
   ]
  },
  {
   "cell_type": "markdown",
   "metadata": {},
   "source": [
    "## They do about 65% of the time !!"
   ]
  },
  {
   "cell_type": "markdown",
   "metadata": {},
   "source": [
    "#### So if we pick the better player as \"Player1\", we know that Player1 only wins 65% of the time. If we try to predict whether Player1 wins, we have 65% of \"True\" and \"35%\" of \"False\""
   ]
  },
  {
   "cell_type": "code",
   "execution_count": 153,
   "metadata": {
    "collapsed": false
   },
   "outputs": [
    {
     "name": "stdout",
     "output_type": "stream",
     "text": [
      "(46538, 16)\n"
     ]
    },
    {
     "data": {
      "text/html": [
       "<div>\n",
       "<table border=\"1\" class=\"dataframe\">\n",
       "  <thead>\n",
       "    <tr style=\"text-align: right;\">\n",
       "      <th></th>\n",
       "      <th>P1_Name</th>\n",
       "      <th>P1_Rank</th>\n",
       "      <th>P1_1</th>\n",
       "      <th>P1_2</th>\n",
       "      <th>P1_3</th>\n",
       "      <th>P1_4</th>\n",
       "      <th>P1_5</th>\n",
       "      <th>P1_Sets</th>\n",
       "      <th>P2_Name</th>\n",
       "      <th>P2_Rank</th>\n",
       "      <th>P2_1</th>\n",
       "      <th>P2_2</th>\n",
       "      <th>P2_3</th>\n",
       "      <th>P2_4</th>\n",
       "      <th>P2_5</th>\n",
       "      <th>P2_Sets</th>\n",
       "    </tr>\n",
       "  </thead>\n",
       "  <tbody>\n",
       "    <tr>\n",
       "      <th>0</th>\n",
       "      <td>Dosedel S.</td>\n",
       "      <td>63.0</td>\n",
       "      <td>6.0</td>\n",
       "      <td>6.0</td>\n",
       "      <td>NaN</td>\n",
       "      <td>NaN</td>\n",
       "      <td>NaN</td>\n",
       "      <td>2.0</td>\n",
       "      <td>Ljubicic I.</td>\n",
       "      <td>77.0</td>\n",
       "      <td>4.0</td>\n",
       "      <td>2.0</td>\n",
       "      <td>NaN</td>\n",
       "      <td>NaN</td>\n",
       "      <td>NaN</td>\n",
       "      <td>0.0</td>\n",
       "    </tr>\n",
       "    <tr>\n",
       "      <th>1</th>\n",
       "      <td>Enqvist T.</td>\n",
       "      <td>5.0</td>\n",
       "      <td>6.0</td>\n",
       "      <td>6.0</td>\n",
       "      <td>NaN</td>\n",
       "      <td>NaN</td>\n",
       "      <td>NaN</td>\n",
       "      <td>2.0</td>\n",
       "      <td>Clement A.</td>\n",
       "      <td>56.0</td>\n",
       "      <td>3.0</td>\n",
       "      <td>3.0</td>\n",
       "      <td>NaN</td>\n",
       "      <td>NaN</td>\n",
       "      <td>NaN</td>\n",
       "      <td>0.0</td>\n",
       "    </tr>\n",
       "    <tr>\n",
       "      <th>2</th>\n",
       "      <td>Escude N.</td>\n",
       "      <td>40.0</td>\n",
       "      <td>6.0</td>\n",
       "      <td>7.0</td>\n",
       "      <td>6.0</td>\n",
       "      <td>NaN</td>\n",
       "      <td>NaN</td>\n",
       "      <td>2.0</td>\n",
       "      <td>Baccanello P.</td>\n",
       "      <td>655.0</td>\n",
       "      <td>7.0</td>\n",
       "      <td>5.0</td>\n",
       "      <td>3.0</td>\n",
       "      <td>NaN</td>\n",
       "      <td>NaN</td>\n",
       "      <td>1.0</td>\n",
       "    </tr>\n",
       "    <tr>\n",
       "      <th>3</th>\n",
       "      <td>Federer R.</td>\n",
       "      <td>65.0</td>\n",
       "      <td>6.0</td>\n",
       "      <td>6.0</td>\n",
       "      <td>NaN</td>\n",
       "      <td>NaN</td>\n",
       "      <td>NaN</td>\n",
       "      <td>2.0</td>\n",
       "      <td>Knippschild J.</td>\n",
       "      <td>87.0</td>\n",
       "      <td>1.0</td>\n",
       "      <td>4.0</td>\n",
       "      <td>NaN</td>\n",
       "      <td>NaN</td>\n",
       "      <td>NaN</td>\n",
       "      <td>0.0</td>\n",
       "    </tr>\n",
       "    <tr>\n",
       "      <th>4</th>\n",
       "      <td>Fromberg R.</td>\n",
       "      <td>81.0</td>\n",
       "      <td>7.0</td>\n",
       "      <td>5.0</td>\n",
       "      <td>6.0</td>\n",
       "      <td>NaN</td>\n",
       "      <td>NaN</td>\n",
       "      <td>2.0</td>\n",
       "      <td>Woodbridge T.</td>\n",
       "      <td>198.0</td>\n",
       "      <td>6.0</td>\n",
       "      <td>7.0</td>\n",
       "      <td>4.0</td>\n",
       "      <td>NaN</td>\n",
       "      <td>NaN</td>\n",
       "      <td>1.0</td>\n",
       "    </tr>\n",
       "  </tbody>\n",
       "</table>\n",
       "</div>"
      ],
      "text/plain": [
       "       P1_Name  P1_Rank  P1_1  P1_2  P1_3  P1_4  P1_5  P1_Sets  \\\n",
       "0   Dosedel S.     63.0   6.0   6.0   NaN   NaN   NaN      2.0   \n",
       "1   Enqvist T.      5.0   6.0   6.0   NaN   NaN   NaN      2.0   \n",
       "2    Escude N.     40.0   6.0   7.0   6.0   NaN   NaN      2.0   \n",
       "3   Federer R.     65.0   6.0   6.0   NaN   NaN   NaN      2.0   \n",
       "4  Fromberg R.     81.0   7.0   5.0   6.0   NaN   NaN      2.0   \n",
       "\n",
       "          P2_Name  P2_Rank  P2_1  P2_2  P2_3  P2_4  P2_5  P2_Sets  \n",
       "0     Ljubicic I.     77.0   4.0   2.0   NaN   NaN   NaN      0.0  \n",
       "1      Clement A.     56.0   3.0   3.0   NaN   NaN   NaN      0.0  \n",
       "2   Baccanello P.    655.0   7.0   5.0   3.0   NaN   NaN      1.0  \n",
       "3  Knippschild J.     87.0   1.0   4.0   NaN   NaN   NaN      0.0  \n",
       "4   Woodbridge T.    198.0   6.0   7.0   4.0   NaN   NaN      1.0  "
      ]
     },
     "execution_count": 153,
     "metadata": {},
     "output_type": "execute_result"
    }
   ],
   "source": [
    "from tennis_predictor import transform_data\n",
    "P1_P2 = transform_data.number_players(data, lambda x: x.WRank < x.LRank)\n",
    "print(P1_P2.shape)\n",
    "P1_P2.head()"
   ]
  },
  {
   "cell_type": "markdown",
   "metadata": {},
   "source": [
    "#### Let's now concatenate those new columns with the other columns that we care about (the first 8 columns in data, we don't the other Winner/Loser columns as we just copied/renamed them)"
   ]
  },
  {
   "cell_type": "code",
   "execution_count": 154,
   "metadata": {
    "collapsed": false
   },
   "outputs": [
    {
     "name": "stdout",
     "output_type": "stream",
     "text": [
      "(46538, 26)\n"
     ]
    },
    {
     "data": {
      "text/html": [
       "<div>\n",
       "<table border=\"1\" class=\"dataframe\">\n",
       "  <thead>\n",
       "    <tr style=\"text-align: right;\">\n",
       "      <th></th>\n",
       "      <th>Location</th>\n",
       "      <th>Tournament</th>\n",
       "      <th>Date</th>\n",
       "      <th>Series</th>\n",
       "      <th>Court</th>\n",
       "      <th>Surface</th>\n",
       "      <th>Round</th>\n",
       "      <th>Best of</th>\n",
       "      <th>Winner</th>\n",
       "      <th>Loser</th>\n",
       "      <th>...</th>\n",
       "      <th>P1_5</th>\n",
       "      <th>P1_Sets</th>\n",
       "      <th>P2_Name</th>\n",
       "      <th>P2_Rank</th>\n",
       "      <th>P2_1</th>\n",
       "      <th>P2_2</th>\n",
       "      <th>P2_3</th>\n",
       "      <th>P2_4</th>\n",
       "      <th>P2_5</th>\n",
       "      <th>P2_Sets</th>\n",
       "    </tr>\n",
       "  </thead>\n",
       "  <tbody>\n",
       "    <tr>\n",
       "      <th>0</th>\n",
       "      <td>Adelaide</td>\n",
       "      <td>Australian Hardcourt Championships</td>\n",
       "      <td>2000-01-03</td>\n",
       "      <td>International</td>\n",
       "      <td>Outdoor</td>\n",
       "      <td>Hard</td>\n",
       "      <td>1st Round</td>\n",
       "      <td>3</td>\n",
       "      <td>Dosedel S.</td>\n",
       "      <td>Ljubicic I.</td>\n",
       "      <td>...</td>\n",
       "      <td>NaN</td>\n",
       "      <td>2.0</td>\n",
       "      <td>Ljubicic I.</td>\n",
       "      <td>77.0</td>\n",
       "      <td>4.0</td>\n",
       "      <td>2.0</td>\n",
       "      <td>NaN</td>\n",
       "      <td>NaN</td>\n",
       "      <td>NaN</td>\n",
       "      <td>0.0</td>\n",
       "    </tr>\n",
       "    <tr>\n",
       "      <th>1</th>\n",
       "      <td>Adelaide</td>\n",
       "      <td>Australian Hardcourt Championships</td>\n",
       "      <td>2000-01-03</td>\n",
       "      <td>International</td>\n",
       "      <td>Outdoor</td>\n",
       "      <td>Hard</td>\n",
       "      <td>1st Round</td>\n",
       "      <td>3</td>\n",
       "      <td>Enqvist T.</td>\n",
       "      <td>Clement A.</td>\n",
       "      <td>...</td>\n",
       "      <td>NaN</td>\n",
       "      <td>2.0</td>\n",
       "      <td>Clement A.</td>\n",
       "      <td>56.0</td>\n",
       "      <td>3.0</td>\n",
       "      <td>3.0</td>\n",
       "      <td>NaN</td>\n",
       "      <td>NaN</td>\n",
       "      <td>NaN</td>\n",
       "      <td>0.0</td>\n",
       "    </tr>\n",
       "    <tr>\n",
       "      <th>2</th>\n",
       "      <td>Adelaide</td>\n",
       "      <td>Australian Hardcourt Championships</td>\n",
       "      <td>2000-01-03</td>\n",
       "      <td>International</td>\n",
       "      <td>Outdoor</td>\n",
       "      <td>Hard</td>\n",
       "      <td>1st Round</td>\n",
       "      <td>3</td>\n",
       "      <td>Escude N.</td>\n",
       "      <td>Baccanello P.</td>\n",
       "      <td>...</td>\n",
       "      <td>NaN</td>\n",
       "      <td>2.0</td>\n",
       "      <td>Baccanello P.</td>\n",
       "      <td>655.0</td>\n",
       "      <td>7.0</td>\n",
       "      <td>5.0</td>\n",
       "      <td>3.0</td>\n",
       "      <td>NaN</td>\n",
       "      <td>NaN</td>\n",
       "      <td>1.0</td>\n",
       "    </tr>\n",
       "    <tr>\n",
       "      <th>3</th>\n",
       "      <td>Adelaide</td>\n",
       "      <td>Australian Hardcourt Championships</td>\n",
       "      <td>2000-01-03</td>\n",
       "      <td>International</td>\n",
       "      <td>Outdoor</td>\n",
       "      <td>Hard</td>\n",
       "      <td>1st Round</td>\n",
       "      <td>3</td>\n",
       "      <td>Federer R.</td>\n",
       "      <td>Knippschild J.</td>\n",
       "      <td>...</td>\n",
       "      <td>NaN</td>\n",
       "      <td>2.0</td>\n",
       "      <td>Knippschild J.</td>\n",
       "      <td>87.0</td>\n",
       "      <td>1.0</td>\n",
       "      <td>4.0</td>\n",
       "      <td>NaN</td>\n",
       "      <td>NaN</td>\n",
       "      <td>NaN</td>\n",
       "      <td>0.0</td>\n",
       "    </tr>\n",
       "    <tr>\n",
       "      <th>4</th>\n",
       "      <td>Adelaide</td>\n",
       "      <td>Australian Hardcourt Championships</td>\n",
       "      <td>2000-01-03</td>\n",
       "      <td>International</td>\n",
       "      <td>Outdoor</td>\n",
       "      <td>Hard</td>\n",
       "      <td>1st Round</td>\n",
       "      <td>3</td>\n",
       "      <td>Fromberg R.</td>\n",
       "      <td>Woodbridge T.</td>\n",
       "      <td>...</td>\n",
       "      <td>NaN</td>\n",
       "      <td>2.0</td>\n",
       "      <td>Woodbridge T.</td>\n",
       "      <td>198.0</td>\n",
       "      <td>6.0</td>\n",
       "      <td>7.0</td>\n",
       "      <td>4.0</td>\n",
       "      <td>NaN</td>\n",
       "      <td>NaN</td>\n",
       "      <td>1.0</td>\n",
       "    </tr>\n",
       "  </tbody>\n",
       "</table>\n",
       "<p>5 rows × 26 columns</p>\n",
       "</div>"
      ],
      "text/plain": [
       "   Location                          Tournament       Date         Series  \\\n",
       "0  Adelaide  Australian Hardcourt Championships 2000-01-03  International   \n",
       "1  Adelaide  Australian Hardcourt Championships 2000-01-03  International   \n",
       "2  Adelaide  Australian Hardcourt Championships 2000-01-03  International   \n",
       "3  Adelaide  Australian Hardcourt Championships 2000-01-03  International   \n",
       "4  Adelaide  Australian Hardcourt Championships 2000-01-03  International   \n",
       "\n",
       "     Court Surface      Round  Best of       Winner           Loser   ...     \\\n",
       "0  Outdoor    Hard  1st Round        3   Dosedel S.     Ljubicic I.   ...      \n",
       "1  Outdoor    Hard  1st Round        3   Enqvist T.      Clement A.   ...      \n",
       "2  Outdoor    Hard  1st Round        3    Escude N.   Baccanello P.   ...      \n",
       "3  Outdoor    Hard  1st Round        3   Federer R.  Knippschild J.   ...      \n",
       "4  Outdoor    Hard  1st Round        3  Fromberg R.   Woodbridge T.   ...      \n",
       "\n",
       "  P1_5  P1_Sets         P2_Name  P2_Rank  P2_1  P2_2  P2_3  P2_4 P2_5  P2_Sets  \n",
       "0  NaN      2.0     Ljubicic I.     77.0   4.0   2.0   NaN   NaN  NaN      0.0  \n",
       "1  NaN      2.0      Clement A.     56.0   3.0   3.0   NaN   NaN  NaN      0.0  \n",
       "2  NaN      2.0   Baccanello P.    655.0   7.0   5.0   3.0   NaN  NaN      1.0  \n",
       "3  NaN      2.0  Knippschild J.     87.0   1.0   4.0   NaN   NaN  NaN      0.0  \n",
       "4  NaN      2.0   Woodbridge T.    198.0   6.0   7.0   4.0   NaN  NaN      1.0  \n",
       "\n",
       "[5 rows x 26 columns]"
      ]
     },
     "execution_count": 154,
     "metadata": {},
     "output_type": "execute_result"
    }
   ],
   "source": [
    "data_with_P1_P2 = data.iloc[:,:10].join(P1_P2, how=\"inner\")\n",
    "print(data_with_P1_P2.shape)\n",
    "data_with_P1_P2.head()"
   ]
  },
  {
   "cell_type": "markdown",
   "metadata": {},
   "source": [
    "####  Let's add the target"
   ]
  },
  {
   "cell_type": "code",
   "execution_count": 155,
   "metadata": {
    "collapsed": false
   },
   "outputs": [],
   "source": [
    "data_with_P1_P2 = data_with_P1_P2.assign(\n",
    "    Player1Wins=lambda x: x.P1_Name ==  x.Winner\n",
    ")"
   ]
  },
  {
   "cell_type": "code",
   "execution_count": 156,
   "metadata": {
    "collapsed": false
   },
   "outputs": [
    {
     "name": "stdout",
     "output_type": "stream",
     "text": [
      "Index(['Location', 'Tournament', 'Date', 'Series', 'Court', 'Surface', 'Round',\n",
      "       'Best of', 'P1_Name', 'P1_Rank', 'P1_1', 'P1_2', 'P1_3', 'P1_4', 'P1_5',\n",
      "       'P1_Sets', 'P2_Name', 'P2_Rank', 'P2_1', 'P2_2', 'P2_3', 'P2_4', 'P2_5',\n",
      "       'P2_Sets', 'Player1Wins'],\n",
      "      dtype='object')\n"
     ]
    },
    {
     "data": {
      "text/plain": [
       "0.65683957196269716"
      ]
     },
     "execution_count": 156,
     "metadata": {},
     "output_type": "execute_result"
    }
   ],
   "source": [
    "if {\"Winner\", \"Loser\"}.intersection(data_with_P1_P2.columns):  # So that we can rerun this cell :)\n",
    "    data_with_P1_P2 = data_with_P1_P2.drop([\"Winner\", \"Loser\"], axis=1)\n",
    "print(data_with_P1_P2.columns)\n",
    "data_with_P1_P2.Player1Wins.mean()"
   ]
  },
  {
   "cell_type": "markdown",
   "metadata": {},
   "source": [
    "# 3/ Basic EDA (input: data_with_P1_P2)"
   ]
  },
  {
   "cell_type": "markdown",
   "metadata": {},
   "source": [
    "At this point I haven't decided which features exactly I'm going to use:\n",
    "* derived features (that would represent the players history up to the day of the match we'd try to predict), **excluding the ranks**\n",
    "* the player's ranks augmented with the features above"
   ]
  },
  {
   "cell_type": "raw",
   "metadata": {},
   "source": [
    "In a first step, we can try to predict the winner using only features we already have at this point"
   ]
  },
  {
   "cell_type": "code",
   "execution_count": 157,
   "metadata": {
    "collapsed": false
   },
   "outputs": [
    {
     "data": {
      "text/html": [
       "<div>\n",
       "<table border=\"1\" class=\"dataframe\">\n",
       "  <thead>\n",
       "    <tr style=\"text-align: right;\">\n",
       "      <th></th>\n",
       "      <th>Player1Wins</th>\n",
       "      <th>P1_Rank</th>\n",
       "      <th>P2_Rank</th>\n",
       "      <th>RankDiff</th>\n",
       "      <th>Best of</th>\n",
       "    </tr>\n",
       "  </thead>\n",
       "  <tbody>\n",
       "    <tr>\n",
       "      <th>Player1Wins</th>\n",
       "      <td>1.000000</td>\n",
       "      <td>-0.120933</td>\n",
       "      <td>0.052750</td>\n",
       "      <td>0.088316</td>\n",
       "      <td>0.063309</td>\n",
       "    </tr>\n",
       "    <tr>\n",
       "      <th>P1_Rank</th>\n",
       "      <td>-0.120933</td>\n",
       "      <td>1.000000</td>\n",
       "      <td>0.356869</td>\n",
       "      <td>0.113219</td>\n",
       "      <td>-0.091759</td>\n",
       "    </tr>\n",
       "    <tr>\n",
       "      <th>P2_Rank</th>\n",
       "      <td>0.052750</td>\n",
       "      <td>0.356869</td>\n",
       "      <td>1.000000</td>\n",
       "      <td>0.968552</td>\n",
       "      <td>-0.027539</td>\n",
       "    </tr>\n",
       "    <tr>\n",
       "      <th>RankDiff</th>\n",
       "      <td>0.088316</td>\n",
       "      <td>0.113219</td>\n",
       "      <td>0.968552</td>\n",
       "      <td>1.000000</td>\n",
       "      <td>-0.004851</td>\n",
       "    </tr>\n",
       "    <tr>\n",
       "      <th>Best of</th>\n",
       "      <td>0.063309</td>\n",
       "      <td>-0.091759</td>\n",
       "      <td>-0.027539</td>\n",
       "      <td>-0.004851</td>\n",
       "      <td>1.000000</td>\n",
       "    </tr>\n",
       "  </tbody>\n",
       "</table>\n",
       "</div>"
      ],
      "text/plain": [
       "             Player1Wins   P1_Rank   P2_Rank  RankDiff   Best of\n",
       "Player1Wins     1.000000 -0.120933  0.052750  0.088316  0.063309\n",
       "P1_Rank        -0.120933  1.000000  0.356869  0.113219 -0.091759\n",
       "P2_Rank         0.052750  0.356869  1.000000  0.968552 -0.027539\n",
       "RankDiff        0.088316  0.113219  0.968552  1.000000 -0.004851\n",
       "Best of         0.063309 -0.091759 -0.027539 -0.004851  1.000000"
      ]
     },
     "execution_count": 157,
     "metadata": {},
     "output_type": "execute_result"
    }
   ],
   "source": [
    "eda_df = data_with_P1_P2.assign(RankDiff= lambda x: x.P2_Rank - x.P1_Rank)\n",
    "corr_cols = [\n",
    "    \"Player1Wins\", \"P1_Rank\", \"P2_Rank\", \"RankDiff\", \"Best of\"\n",
    "]\n",
    "eda_df[corr_cols].corr()"
   ]
  },
  {
   "cell_type": "code",
   "execution_count": 158,
   "metadata": {
    "collapsed": true
   },
   "outputs": [],
   "source": [
    "from sklearn.linear_model import LogisticRegression"
   ]
  },
  {
   "cell_type": "code",
   "execution_count": 159,
   "metadata": {
    "collapsed": false
   },
   "outputs": [
    {
     "data": {
      "text/plain": [
       "0.65505608320082509"
      ]
     },
     "execution_count": 159,
     "metadata": {},
     "output_type": "execute_result"
    }
   ],
   "source": [
    "lr = LogisticRegression()\n",
    "\n",
    "X = eda_df[[\"P1_Rank\", \"P2_Rank\", \"RankDiff\", \"Best of\"]]\n",
    "Y = eda_df.Player1Wins\n",
    "lr.fit(X, Y)\n",
    "lr.score(X, Y)"
   ]
  },
  {
   "cell_type": "markdown",
   "metadata": {},
   "source": [
    "# 4/ Adding features derived from past history of the players (input: eda_df)"
   ]
  },
  {
   "cell_type": "markdown",
   "metadata": {},
   "source": [
    "## For every point in time, we want to compute statistics about players **up until that point in time**"
   ]
  },
  {
   "cell_type": "markdown",
   "metadata": {},
   "source": [
    "### Let's compute those statistics only starting from 2005, so that the players have enough history"
   ]
  },
  {
   "cell_type": "markdown",
   "metadata": {},
   "source": [
    "### Games played"
   ]
  },
  {
   "cell_type": "code",
   "execution_count": 185,
   "metadata": {
    "collapsed": false
   },
   "outputs": [
    {
     "data": {
      "text/plain": [
       "(14518   2005-01-03\n",
       " 14519   2005-01-03\n",
       " 14520   2005-01-03\n",
       " 14521   2005-01-03\n",
       " 14522   2005-01-03\n",
       " Name: Date, dtype: datetime64[ns], (32057,))"
      ]
     },
     "execution_count": 185,
     "metadata": {},
     "output_type": "execute_result"
    }
   ],
   "source": [
    "date_points = eda_df[eda_df.Date > \"2005-01-01\"].Date\n",
    "date_points.head(), date_points.shape"
   ]
  },
  {
   "cell_type": "code",
   "execution_count": 201,
   "metadata": {
    "collapsed": false
   },
   "outputs": [
    {
     "data": {
      "text/plain": [
       "(1355,)"
      ]
     },
     "execution_count": 201,
     "metadata": {},
     "output_type": "execute_result"
    }
   ],
   "source": [
    "all_players = pd.concat([eda_df.P1_Name, eda_df.P2_Name]).unique()\n",
    "all_players.shape"
   ]
  },
  {
   "cell_type": "code",
   "execution_count": 209,
   "metadata": {
    "collapsed": false
   },
   "outputs": [],
   "source": [
    "def games_played(df, all_players):\n",
    "    temp_df = df.copy()\n",
    "    for p in all_players:\n",
    "        temp_df[p + \"_Played\"] = (temp_df.P1_Name == p) | (temp_df.P2_Name == p)\n",
    "        \n",
    "    for p in all_players:\n",
    "        temp_df[p + \"_Won\"] =  (\n",
    "            (temp_df[p + \"_Played\"]) &  (\n",
    "                ((temp_df.P1_Name == p) & (temp_df.Player1Wins)) |\n",
    "                ((temp_df.P2_Name == p) & (~temp_df.Player1Wins))\n",
    "            )\n",
    "        )\n",
    "         \n",
    "    return temp_df"
   ]
  },
  {
   "cell_type": "code",
   "execution_count": 212,
   "metadata": {
    "collapsed": false
   },
   "outputs": [],
   "source": [
    "player_stats = games_played(eda_df, all_players)"
   ]
  },
  {
   "cell_type": "code",
   "execution_count": 215,
   "metadata": {
    "collapsed": false
   },
   "outputs": [
    {
     "data": {
      "text/plain": [
       "(1234, 1016)"
      ]
     },
     "execution_count": 215,
     "metadata": {},
     "output_type": "execute_result"
    }
   ],
   "source": [
    "player_stats[\"Federer R._Played\"].sum(), player_stats[\"Federer R._Won\"].sum()"
   ]
  },
  {
   "cell_type": "code",
   "execution_count": 217,
   "metadata": {
    "collapsed": false
   },
   "outputs": [
    {
     "data": {
      "text/plain": [
       "(950, 779)"
      ]
     },
     "execution_count": 217,
     "metadata": {},
     "output_type": "execute_result"
    }
   ],
   "source": [
    "\n",
    "player_stats[\"Nadal R._Played\"].sum(), player_stats[\"Nadal R._Won\"].sum()"
   ]
  },
  {
   "cell_type": "code",
   "execution_count": 225,
   "metadata": {
    "collapsed": false
   },
   "outputs": [
    {
     "data": {
      "text/html": [
       "<div>\n",
       "<table border=\"1\" class=\"dataframe\">\n",
       "  <thead>\n",
       "    <tr style=\"text-align: right;\">\n",
       "      <th></th>\n",
       "      <th>A</th>\n",
       "      <th>B</th>\n",
       "    </tr>\n",
       "  </thead>\n",
       "  <tbody>\n",
       "    <tr>\n",
       "      <th>0</th>\n",
       "      <td>0</td>\n",
       "      <td>-1.000000</td>\n",
       "    </tr>\n",
       "    <tr>\n",
       "      <th>1</th>\n",
       "      <td>1</td>\n",
       "      <td>-0.979798</td>\n",
       "    </tr>\n",
       "    <tr>\n",
       "      <th>2</th>\n",
       "      <td>2</td>\n",
       "      <td>-0.959596</td>\n",
       "    </tr>\n",
       "    <tr>\n",
       "      <th>3</th>\n",
       "      <td>3</td>\n",
       "      <td>-0.939394</td>\n",
       "    </tr>\n",
       "    <tr>\n",
       "      <th>4</th>\n",
       "      <td>4</td>\n",
       "      <td>-0.919192</td>\n",
       "    </tr>\n",
       "  </tbody>\n",
       "</table>\n",
       "</div>"
      ],
      "text/plain": [
       "   A         B\n",
       "0  0 -1.000000\n",
       "1  1 -0.979798\n",
       "2  2 -0.959596\n",
       "3  3 -0.939394\n",
       "4  4 -0.919192"
      ]
     },
     "execution_count": 225,
     "metadata": {},
     "output_type": "execute_result"
    }
   ],
   "source": [
    "my_df = pd.DataFrame({\n",
    "    'A': np.arange(100),\n",
    "    'B': np.linspace(-1, 1, 100),\n",
    "})\n",
    "my_df.head()"
   ]
  },
  {
   "cell_type": "code",
   "execution_count": 236,
   "metadata": {
    "collapsed": false
   },
   "outputs": [
    {
     "data": {
      "text/html": [
       "<div>\n",
       "<table border=\"1\" class=\"dataframe\">\n",
       "  <thead>\n",
       "    <tr style=\"text-align: right;\">\n",
       "      <th></th>\n",
       "      <th>A</th>\n",
       "      <th>B</th>\n",
       "    </tr>\n",
       "  </thead>\n",
       "  <tbody>\n",
       "    <tr>\n",
       "      <th>0</th>\n",
       "      <td>NaN</td>\n",
       "      <td>NaN</td>\n",
       "    </tr>\n",
       "    <tr>\n",
       "      <th>1</th>\n",
       "      <td>NaN</td>\n",
       "      <td>NaN</td>\n",
       "    </tr>\n",
       "    <tr>\n",
       "      <th>2</th>\n",
       "      <td>NaN</td>\n",
       "      <td>NaN</td>\n",
       "    </tr>\n",
       "    <tr>\n",
       "      <th>3</th>\n",
       "      <td>NaN</td>\n",
       "      <td>NaN</td>\n",
       "    </tr>\n",
       "    <tr>\n",
       "      <th>4</th>\n",
       "      <td>NaN</td>\n",
       "      <td>NaN</td>\n",
       "    </tr>\n",
       "    <tr>\n",
       "      <th>5</th>\n",
       "      <td>NaN</td>\n",
       "      <td>NaN</td>\n",
       "    </tr>\n",
       "    <tr>\n",
       "      <th>6</th>\n",
       "      <td>NaN</td>\n",
       "      <td>NaN</td>\n",
       "    </tr>\n",
       "    <tr>\n",
       "      <th>7</th>\n",
       "      <td>NaN</td>\n",
       "      <td>NaN</td>\n",
       "    </tr>\n",
       "    <tr>\n",
       "      <th>8</th>\n",
       "      <td>NaN</td>\n",
       "      <td>NaN</td>\n",
       "    </tr>\n",
       "    <tr>\n",
       "      <th>9</th>\n",
       "      <td>NaN</td>\n",
       "      <td>NaN</td>\n",
       "    </tr>\n",
       "    <tr>\n",
       "      <th>10</th>\n",
       "      <td>NaN</td>\n",
       "      <td>NaN</td>\n",
       "    </tr>\n",
       "    <tr>\n",
       "      <th>11</th>\n",
       "      <td>66.0</td>\n",
       "      <td>-10.666667</td>\n",
       "    </tr>\n",
       "    <tr>\n",
       "      <th>12</th>\n",
       "      <td>78.0</td>\n",
       "      <td>-10.424242</td>\n",
       "    </tr>\n",
       "    <tr>\n",
       "      <th>13</th>\n",
       "      <td>90.0</td>\n",
       "      <td>-10.181818</td>\n",
       "    </tr>\n",
       "    <tr>\n",
       "      <th>14</th>\n",
       "      <td>102.0</td>\n",
       "      <td>-9.939394</td>\n",
       "    </tr>\n",
       "    <tr>\n",
       "      <th>15</th>\n",
       "      <td>114.0</td>\n",
       "      <td>-9.696970</td>\n",
       "    </tr>\n",
       "    <tr>\n",
       "      <th>16</th>\n",
       "      <td>126.0</td>\n",
       "      <td>-9.454545</td>\n",
       "    </tr>\n",
       "    <tr>\n",
       "      <th>17</th>\n",
       "      <td>138.0</td>\n",
       "      <td>-9.212121</td>\n",
       "    </tr>\n",
       "    <tr>\n",
       "      <th>18</th>\n",
       "      <td>150.0</td>\n",
       "      <td>-8.969697</td>\n",
       "    </tr>\n",
       "    <tr>\n",
       "      <th>19</th>\n",
       "      <td>162.0</td>\n",
       "      <td>-8.727273</td>\n",
       "    </tr>\n",
       "    <tr>\n",
       "      <th>20</th>\n",
       "      <td>174.0</td>\n",
       "      <td>-8.484848</td>\n",
       "    </tr>\n",
       "    <tr>\n",
       "      <th>21</th>\n",
       "      <td>186.0</td>\n",
       "      <td>-8.242424</td>\n",
       "    </tr>\n",
       "    <tr>\n",
       "      <th>22</th>\n",
       "      <td>198.0</td>\n",
       "      <td>-8.000000</td>\n",
       "    </tr>\n",
       "    <tr>\n",
       "      <th>23</th>\n",
       "      <td>210.0</td>\n",
       "      <td>-7.757576</td>\n",
       "    </tr>\n",
       "    <tr>\n",
       "      <th>24</th>\n",
       "      <td>222.0</td>\n",
       "      <td>-7.515152</td>\n",
       "    </tr>\n",
       "    <tr>\n",
       "      <th>25</th>\n",
       "      <td>234.0</td>\n",
       "      <td>-7.272727</td>\n",
       "    </tr>\n",
       "    <tr>\n",
       "      <th>26</th>\n",
       "      <td>246.0</td>\n",
       "      <td>-7.030303</td>\n",
       "    </tr>\n",
       "    <tr>\n",
       "      <th>27</th>\n",
       "      <td>258.0</td>\n",
       "      <td>-6.787879</td>\n",
       "    </tr>\n",
       "    <tr>\n",
       "      <th>28</th>\n",
       "      <td>270.0</td>\n",
       "      <td>-6.545455</td>\n",
       "    </tr>\n",
       "    <tr>\n",
       "      <th>29</th>\n",
       "      <td>282.0</td>\n",
       "      <td>-6.303030</td>\n",
       "    </tr>\n",
       "    <tr>\n",
       "      <th>...</th>\n",
       "      <td>...</td>\n",
       "      <td>...</td>\n",
       "    </tr>\n",
       "    <tr>\n",
       "      <th>70</th>\n",
       "      <td>774.0</td>\n",
       "      <td>3.636364</td>\n",
       "    </tr>\n",
       "    <tr>\n",
       "      <th>71</th>\n",
       "      <td>786.0</td>\n",
       "      <td>3.878788</td>\n",
       "    </tr>\n",
       "    <tr>\n",
       "      <th>72</th>\n",
       "      <td>798.0</td>\n",
       "      <td>4.121212</td>\n",
       "    </tr>\n",
       "    <tr>\n",
       "      <th>73</th>\n",
       "      <td>810.0</td>\n",
       "      <td>4.363636</td>\n",
       "    </tr>\n",
       "    <tr>\n",
       "      <th>74</th>\n",
       "      <td>822.0</td>\n",
       "      <td>4.606061</td>\n",
       "    </tr>\n",
       "    <tr>\n",
       "      <th>75</th>\n",
       "      <td>834.0</td>\n",
       "      <td>4.848485</td>\n",
       "    </tr>\n",
       "    <tr>\n",
       "      <th>76</th>\n",
       "      <td>846.0</td>\n",
       "      <td>5.090909</td>\n",
       "    </tr>\n",
       "    <tr>\n",
       "      <th>77</th>\n",
       "      <td>858.0</td>\n",
       "      <td>5.333333</td>\n",
       "    </tr>\n",
       "    <tr>\n",
       "      <th>78</th>\n",
       "      <td>870.0</td>\n",
       "      <td>5.575758</td>\n",
       "    </tr>\n",
       "    <tr>\n",
       "      <th>79</th>\n",
       "      <td>882.0</td>\n",
       "      <td>5.818182</td>\n",
       "    </tr>\n",
       "    <tr>\n",
       "      <th>80</th>\n",
       "      <td>894.0</td>\n",
       "      <td>6.060606</td>\n",
       "    </tr>\n",
       "    <tr>\n",
       "      <th>81</th>\n",
       "      <td>906.0</td>\n",
       "      <td>6.303030</td>\n",
       "    </tr>\n",
       "    <tr>\n",
       "      <th>82</th>\n",
       "      <td>918.0</td>\n",
       "      <td>6.545455</td>\n",
       "    </tr>\n",
       "    <tr>\n",
       "      <th>83</th>\n",
       "      <td>930.0</td>\n",
       "      <td>6.787879</td>\n",
       "    </tr>\n",
       "    <tr>\n",
       "      <th>84</th>\n",
       "      <td>942.0</td>\n",
       "      <td>7.030303</td>\n",
       "    </tr>\n",
       "    <tr>\n",
       "      <th>85</th>\n",
       "      <td>954.0</td>\n",
       "      <td>7.272727</td>\n",
       "    </tr>\n",
       "    <tr>\n",
       "      <th>86</th>\n",
       "      <td>966.0</td>\n",
       "      <td>7.515152</td>\n",
       "    </tr>\n",
       "    <tr>\n",
       "      <th>87</th>\n",
       "      <td>978.0</td>\n",
       "      <td>7.757576</td>\n",
       "    </tr>\n",
       "    <tr>\n",
       "      <th>88</th>\n",
       "      <td>990.0</td>\n",
       "      <td>8.000000</td>\n",
       "    </tr>\n",
       "    <tr>\n",
       "      <th>89</th>\n",
       "      <td>1002.0</td>\n",
       "      <td>8.242424</td>\n",
       "    </tr>\n",
       "    <tr>\n",
       "      <th>90</th>\n",
       "      <td>1014.0</td>\n",
       "      <td>8.484848</td>\n",
       "    </tr>\n",
       "    <tr>\n",
       "      <th>91</th>\n",
       "      <td>1026.0</td>\n",
       "      <td>8.727273</td>\n",
       "    </tr>\n",
       "    <tr>\n",
       "      <th>92</th>\n",
       "      <td>1038.0</td>\n",
       "      <td>8.969697</td>\n",
       "    </tr>\n",
       "    <tr>\n",
       "      <th>93</th>\n",
       "      <td>1050.0</td>\n",
       "      <td>9.212121</td>\n",
       "    </tr>\n",
       "    <tr>\n",
       "      <th>94</th>\n",
       "      <td>1062.0</td>\n",
       "      <td>9.454545</td>\n",
       "    </tr>\n",
       "    <tr>\n",
       "      <th>95</th>\n",
       "      <td>1074.0</td>\n",
       "      <td>9.696970</td>\n",
       "    </tr>\n",
       "    <tr>\n",
       "      <th>96</th>\n",
       "      <td>1086.0</td>\n",
       "      <td>9.939394</td>\n",
       "    </tr>\n",
       "    <tr>\n",
       "      <th>97</th>\n",
       "      <td>1098.0</td>\n",
       "      <td>10.181818</td>\n",
       "    </tr>\n",
       "    <tr>\n",
       "      <th>98</th>\n",
       "      <td>1110.0</td>\n",
       "      <td>10.424242</td>\n",
       "    </tr>\n",
       "    <tr>\n",
       "      <th>99</th>\n",
       "      <td>1122.0</td>\n",
       "      <td>10.666667</td>\n",
       "    </tr>\n",
       "  </tbody>\n",
       "</table>\n",
       "<p>100 rows × 2 columns</p>\n",
       "</div>"
      ],
      "text/plain": [
       "         A          B\n",
       "0      NaN        NaN\n",
       "1      NaN        NaN\n",
       "2      NaN        NaN\n",
       "3      NaN        NaN\n",
       "4      NaN        NaN\n",
       "5      NaN        NaN\n",
       "6      NaN        NaN\n",
       "7      NaN        NaN\n",
       "8      NaN        NaN\n",
       "9      NaN        NaN\n",
       "10     NaN        NaN\n",
       "11    66.0 -10.666667\n",
       "12    78.0 -10.424242\n",
       "13    90.0 -10.181818\n",
       "14   102.0  -9.939394\n",
       "15   114.0  -9.696970\n",
       "16   126.0  -9.454545\n",
       "17   138.0  -9.212121\n",
       "18   150.0  -8.969697\n",
       "19   162.0  -8.727273\n",
       "20   174.0  -8.484848\n",
       "21   186.0  -8.242424\n",
       "22   198.0  -8.000000\n",
       "23   210.0  -7.757576\n",
       "24   222.0  -7.515152\n",
       "25   234.0  -7.272727\n",
       "26   246.0  -7.030303\n",
       "27   258.0  -6.787879\n",
       "28   270.0  -6.545455\n",
       "29   282.0  -6.303030\n",
       "..     ...        ...\n",
       "70   774.0   3.636364\n",
       "71   786.0   3.878788\n",
       "72   798.0   4.121212\n",
       "73   810.0   4.363636\n",
       "74   822.0   4.606061\n",
       "75   834.0   4.848485\n",
       "76   846.0   5.090909\n",
       "77   858.0   5.333333\n",
       "78   870.0   5.575758\n",
       "79   882.0   5.818182\n",
       "80   894.0   6.060606\n",
       "81   906.0   6.303030\n",
       "82   918.0   6.545455\n",
       "83   930.0   6.787879\n",
       "84   942.0   7.030303\n",
       "85   954.0   7.272727\n",
       "86   966.0   7.515152\n",
       "87   978.0   7.757576\n",
       "88   990.0   8.000000\n",
       "89  1002.0   8.242424\n",
       "90  1014.0   8.484848\n",
       "91  1026.0   8.727273\n",
       "92  1038.0   8.969697\n",
       "93  1050.0   9.212121\n",
       "94  1062.0   9.454545\n",
       "95  1074.0   9.696970\n",
       "96  1086.0   9.939394\n",
       "97  1098.0  10.181818\n",
       "98  1110.0  10.424242\n",
       "99  1122.0  10.666667\n",
       "\n",
       "[100 rows x 2 columns]"
      ]
     },
     "execution_count": 236,
     "metadata": {},
     "output_type": "execute_result"
    }
   ],
   "source": [
    "my_df.rolling(12).apply(lambda x: sum(x))"
   ]
  }
 ],
 "metadata": {
  "kernelspec": {
   "display_name": "Python 3",
   "language": "python",
   "name": "python3"
  },
  "language_info": {
   "codemirror_mode": {
    "name": "ipython",
    "version": 3
   },
   "file_extension": ".py",
   "mimetype": "text/x-python",
   "name": "python",
   "nbconvert_exporter": "python",
   "pygments_lexer": "ipython3",
   "version": "3.6.1"
  }
 },
 "nbformat": 4,
 "nbformat_minor": 2
}
